{
 "cells": [
  {
   "cell_type": "markdown",
   "id": "c32f29b0-a875-4ff1-8038-c8aeaf8e8574",
   "metadata": {},
   "source": [
    "# Python perfectionnement"
   ]
  },
  {
   "cell_type": "code",
   "execution_count": 1,
   "id": "d7bfb50b-a229-4d7e-b129-975fcdba20d5",
   "metadata": {},
   "outputs": [],
   "source": [
    "# inclus dans python)\n",
    "import decimal, fractions\n",
    "import re\n",
    "import statistics \n",
    "# scientific python\n",
    "import pandas as pd\n",
    "import numpy as np\n",
    "import matplotlib.pyplot as plt\n"
   ]
  },
  {
   "cell_type": "code",
   "execution_count": 2,
   "id": "63343dcb-9b2d-424b-a1da-6c515bab7f53",
   "metadata": {},
   "outputs": [
    {
     "name": "stdout",
     "output_type": "stream",
     "text": [
      "coucou\n"
     ]
    }
   ],
   "source": [
    "print('coucou')"
   ]
  },
  {
   "cell_type": "markdown",
   "id": "c48878ec-fce7-4e49-98f2-18af1f85d0eb",
   "metadata": {},
   "source": [
    "## Données de Python"
   ]
  },
  {
   "cell_type": "markdown",
   "id": "7a5691aa-c47e-41e4-9f68-4e2495cc96c4",
   "metadata": {},
   "source": [
    "### Valeurs numériques"
   ]
  },
  {
   "cell_type": "markdown",
   "id": "ca8ffbf6-0ec6-4798-94f1-7713a4e030c6",
   "metadata": {},
   "source": [
    "#### Les entiers: int"
   ]
  },
  {
   "cell_type": "code",
   "execution_count": 3,
   "id": "d5cbc8a7-a05c-4e35-bb58-e59af55a1d20",
   "metadata": {},
   "outputs": [
    {
     "data": {
      "text/plain": [
       "5"
      ]
     },
     "execution_count": 3,
     "metadata": {},
     "output_type": "execute_result"
    }
   ],
   "source": [
    "nombrePersonnes = 5 \n",
    "nombrePersonnes"
   ]
  },
  {
   "cell_type": "code",
   "execution_count": 4,
   "id": "435b9d46-bb28-49c3-8c60-b74c6c0780f2",
   "metadata": {},
   "outputs": [
    {
     "data": {
      "text/plain": [
       "int"
      ]
     },
     "execution_count": 4,
     "metadata": {},
     "output_type": "execute_result"
    }
   ],
   "source": [
    "type(nombrePersonnes)"
   ]
  },
  {
   "cell_type": "code",
   "execution_count": 5,
   "id": "9ab187b5-7b93-437a-aad1-b2e5f52af926",
   "metadata": {},
   "outputs": [
    {
     "data": {
      "text/plain": [
       "12300000000000000000000000000000000000000000000000000000000000000000000000000000000000000000000000000000000000000000000000000000000000000000000000000000000000000000000000000000000000000000000000000000000000000000000000000000000000000000000000000000000000000000000000000000000000000000000000000000000000000000000002"
      ]
     },
     "execution_count": 5,
     "metadata": {},
     "output_type": "execute_result"
    }
   ],
   "source": [
    "compteur = 12300000000000000000000000000000000000000000000000000000000000000000000000000000000000000000000000000000000000000000000000000000000000000000000000000000000000000000000000000000000000000000000000000000000000000000000000000000000000000000000000000000000000000000000000000000000000000000000000000000000000000000000001\n",
    "compteur + 1"
   ]
  },
  {
   "cell_type": "markdown",
   "id": "2fa218ef-5589-4ccb-b0ce-9d12512d3ab5",
   "metadata": {},
   "source": [
    "#### Les nombres flottants: float (IEEE754)\n",
    "64 bits (ou 32 si architecture 32 bits)"
   ]
  },
  {
   "cell_type": "code",
   "execution_count": 6,
   "id": "5fe4a9e3-91ff-4186-a940-5261471fdf5f",
   "metadata": {},
   "outputs": [
    {
     "data": {
      "text/plain": [
       "(0.1, 2.5e+300, 1.25e-300)"
      ]
     },
     "execution_count": 6,
     "metadata": {},
     "output_type": "execute_result"
    }
   ],
   "source": [
    "price = 0.1\n",
    "bigDistance = 2.5E300\n",
    "smallDistance = 1.25E-300\n",
    "price, bigDistance, smallDistance"
   ]
  },
  {
   "cell_type": "code",
   "execution_count": 7,
   "id": "3f512ca0-f04e-499d-9c13-4e171051dd73",
   "metadata": {},
   "outputs": [
    {
     "data": {
      "text/plain": [
       "inf"
      ]
     },
     "execution_count": 7,
     "metadata": {},
     "output_type": "execute_result"
    }
   ],
   "source": [
    "# bigDistance**2 # OverflowError\n",
    "infDistance = bigDistance*1E10\n",
    "infDistance"
   ]
  },
  {
   "cell_type": "code",
   "execution_count": 8,
   "id": "7a6ca88d-8571-4c1c-851b-8667e27ce4d1",
   "metadata": {},
   "outputs": [
    {
     "data": {
      "text/plain": [
       "inf"
      ]
     },
     "execution_count": 8,
     "metadata": {},
     "output_type": "execute_result"
    }
   ],
   "source": [
    "infDistance * 3"
   ]
  },
  {
   "cell_type": "code",
   "execution_count": 9,
   "id": "d7bdab36-c115-4388-b2d2-e27944e9ae83",
   "metadata": {},
   "outputs": [
    {
     "data": {
      "text/plain": [
       "-inf"
      ]
     },
     "execution_count": 9,
     "metadata": {},
     "output_type": "execute_result"
    }
   ],
   "source": [
    "infDistance * -1"
   ]
  },
  {
   "cell_type": "code",
   "execution_count": 10,
   "id": "7c8e709e-166f-4883-bdaf-69f6d8a948e7",
   "metadata": {},
   "outputs": [
    {
     "data": {
      "text/plain": [
       "nan"
      ]
     },
     "execution_count": 10,
     "metadata": {},
     "output_type": "execute_result"
    }
   ],
   "source": [
    "infDistance / infDistance"
   ]
  },
  {
   "cell_type": "markdown",
   "id": "ed228190-ba05-4bd9-9d58-556fed8303ce",
   "metadata": {},
   "source": [
    "#### autres types numériques\n",
    "- complex\n",
    "- decimal\n",
    "- fractions"
   ]
  },
  {
   "cell_type": "code",
   "execution_count": 11,
   "id": "2769970d-f2e0-4535-b554-fc0a6df05786",
   "metadata": {},
   "outputs": [
    {
     "name": "stdout",
     "output_type": "stream",
     "text": [
      "(1+3j) <class 'complex'>\n"
     ]
    }
   ],
   "source": [
    "n = 1 + 3j\n",
    "print(n, type(n))"
   ]
  },
  {
   "cell_type": "code",
   "execution_count": 12,
   "id": "5e188968-f204-46f5-8fd1-5da8ba72bfc6",
   "metadata": {},
   "outputs": [
    {
     "data": {
      "text/plain": [
       "(-1+0j)"
      ]
     },
     "execution_count": 12,
     "metadata": {},
     "output_type": "execute_result"
    }
   ],
   "source": [
    "1j**2"
   ]
  },
  {
   "cell_type": "code",
   "execution_count": 13,
   "id": "e64ddd68-89ac-42de-8f32-8216fe6e8f87",
   "metadata": {},
   "outputs": [
    {
     "data": {
      "text/plain": [
       "(0.1, 0.2, 0.30000000000000004)"
      ]
     },
     "execution_count": 13,
     "metadata": {},
     "output_type": "execute_result"
    }
   ],
   "source": [
    "price, 2*price, 3*price"
   ]
  },
  {
   "cell_type": "code",
   "execution_count": 14,
   "id": "ce86818f-12a2-4bef-94f5-20294b91c327",
   "metadata": {},
   "outputs": [
    {
     "data": {
      "text/plain": [
       "(Decimal('0.1'), Decimal('0.2'), Decimal('0.3'))"
      ]
     },
     "execution_count": 14,
     "metadata": {},
     "output_type": "execute_result"
    }
   ],
   "source": [
    "priceD = decimal.Decimal('0.1')\n",
    "priceD, 2*priceD, 3*priceD"
   ]
  },
  {
   "cell_type": "code",
   "execution_count": 15,
   "id": "955f43b7-d3ce-4660-9f3a-2a95b3f3e5fb",
   "metadata": {},
   "outputs": [
    {
     "name": "stdout",
     "output_type": "stream",
     "text": [
      "0.1\n"
     ]
    }
   ],
   "source": [
    "print(priceD)"
   ]
  },
  {
   "cell_type": "code",
   "execution_count": 16,
   "id": "701c1a71-1686-402a-99a3-3b99c37557de",
   "metadata": {},
   "outputs": [
    {
     "data": {
      "text/plain": [
       "(Fraction(1, 3), Fraction(1, 1))"
      ]
     },
     "execution_count": 16,
     "metadata": {},
     "output_type": "execute_result"
    }
   ],
   "source": [
    "f = fractions.Fraction(1, 3)\n",
    "f, 3*f"
   ]
  },
  {
   "cell_type": "markdown",
   "id": "63b83c83-a2c7-4afd-bef9-a6ba87b930b5",
   "metadata": {},
   "source": [
    "### Texte: str (unicode)\n",
    "quotes: ' \" ''' \"\"\" avec despréfixes optionnels: f, r, b, (u)"
   ]
  },
  {
   "cell_type": "code",
   "execution_count": 17,
   "id": "ee110e5d-11ae-422b-a130-23d153204a0f",
   "metadata": {},
   "outputs": [
    {
     "name": "stdout",
     "output_type": "stream",
     "text": [
      "Toulouse Pau aujourd'hui\n"
     ]
    },
    {
     "data": {
      "text/plain": [
       "\"aujourd'hui\""
      ]
     },
     "execution_count": 17,
     "metadata": {},
     "output_type": "execute_result"
    }
   ],
   "source": [
    "city1 = 'Toulouse'\n",
    "city2 = \"Pau\"\n",
    "word = \"aujourd'hui\"\n",
    "print(city1, city2, word)\n",
    "word"
   ]
  },
  {
   "cell_type": "code",
   "execution_count": 18,
   "id": "8c9b3399-bee4-4d71-9951-7fa41391f9a2",
   "metadata": {},
   "outputs": [
    {
     "data": {
      "text/plain": [
       "'Toulouse'"
      ]
     },
     "execution_count": 18,
     "metadata": {},
     "output_type": "execute_result"
    }
   ],
   "source": [
    "city1"
   ]
  },
  {
   "cell_type": "code",
   "execution_count": 19,
   "id": "b49a35bb-5a05-434e-9374-c1692a615e0f",
   "metadata": {},
   "outputs": [
    {
     "name": "stdout",
     "output_type": "stream",
     "text": [
      "il dit: \"aujourd'hui\"\n"
     ]
    },
    {
     "data": {
      "text/plain": [
       "'il dit: \"aujourd\\'hui\"'"
      ]
     },
     "execution_count": 19,
     "metadata": {},
     "output_type": "execute_result"
    }
   ],
   "source": [
    "sentence = \"il dit: \\\"aujourd'hui\\\"\"\n",
    "print(sentence)\n",
    "sentence"
   ]
  },
  {
   "cell_type": "code",
   "execution_count": 20,
   "id": "90dda091-0005-4952-b450-aef8689a98b7",
   "metadata": {},
   "outputs": [],
   "source": [
    "sql = \"\"\"SELECT \n",
    "    year,\n",
    "    count(id) as nb\n",
    "FROM movie\n",
    "WHERE title like ?\n",
    "GROUP BY year\n",
    "ORDER nb desc\n",
    "\"\"\""
   ]
  },
  {
   "cell_type": "code",
   "execution_count": 21,
   "id": "1ae9ee17-ab43-49b5-bc4f-9a64c5b5aed0",
   "metadata": {},
   "outputs": [
    {
     "name": "stdout",
     "output_type": "stream",
     "text": [
      "😛\n"
     ]
    }
   ],
   "source": [
    "emoji = '😛'\n",
    "print(emoji)"
   ]
  },
  {
   "cell_type": "code",
   "execution_count": 22,
   "id": "217ce7a3-f0aa-4da8-aeba-af846653f333",
   "metadata": {},
   "outputs": [
    {
     "name": "stdout",
     "output_type": "stream",
     "text": [
      "東京\n"
     ]
    }
   ],
   "source": [
    "city3 = '東京'\n",
    "print(city3)"
   ]
  },
  {
   "cell_type": "code",
   "execution_count": 23,
   "id": "1fa1274c-365a-4724-adae-6f4f32fb243a",
   "metadata": {},
   "outputs": [
    {
     "data": {
      "text/plain": [
       "b'\\xf0\\x9f\\x98\\x9b'"
      ]
     },
     "execution_count": 23,
     "metadata": {},
     "output_type": "execute_result"
    }
   ],
   "source": [
    "emoji.encode('UTF-8')"
   ]
  },
  {
   "cell_type": "code",
   "execution_count": 24,
   "id": "610246e0-817d-43d1-9be2-e63182af1f6b",
   "metadata": {},
   "outputs": [
    {
     "data": {
      "text/plain": [
       "b'emoji \\xf0\\x9f\\x98\\x9b'"
      ]
     },
     "execution_count": 24,
     "metadata": {},
     "output_type": "execute_result"
    }
   ],
   "source": [
    "'emoji 😛'.encode('UTF-8')"
   ]
  },
  {
   "cell_type": "code",
   "execution_count": 25,
   "id": "9606131b-66c8-485a-a305-55b83dac6359",
   "metadata": {},
   "outputs": [
    {
     "data": {
      "text/plain": [
       "'😜'"
      ]
     },
     "execution_count": 25,
     "metadata": {},
     "output_type": "execute_result"
    }
   ],
   "source": [
    "'\\U0001F61C'"
   ]
  },
  {
   "cell_type": "code",
   "execution_count": 26,
   "id": "642fe20b-eee5-4696-84fb-8fe8e9779f21",
   "metadata": {},
   "outputs": [
    {
     "data": {
      "text/plain": [
       "'😜'"
      ]
     },
     "execution_count": 26,
     "metadata": {},
     "output_type": "execute_result"
    }
   ],
   "source": [
    "'\\N{FACE WITH STUCK-OUT TONGUE AND WINKING EYE}'"
   ]
  },
  {
   "cell_type": "code",
   "execution_count": 27,
   "id": "ebb20c1d-3c71-43a0-8eac-b276f02b6a2a",
   "metadata": {},
   "outputs": [
    {
     "data": {
      "text/plain": [
       "'city = Toulouse'"
      ]
     },
     "execution_count": 27,
     "metadata": {},
     "output_type": "execute_result"
    }
   ],
   "source": [
    "f\"city = {city1}\""
   ]
  },
  {
   "cell_type": "code",
   "execution_count": 28,
   "id": "dca4fbf4-0474-4465-903b-48a06a6311d4",
   "metadata": {},
   "outputs": [
    {
     "data": {
      "text/plain": [
       "'distance Toulouse-Pau: 188.565'"
      ]
     },
     "execution_count": 28,
     "metadata": {},
     "output_type": "execute_result"
    }
   ],
   "source": [
    "distance = 188.5645\n",
    "f\"distance {city1}-{city2}: {distance:0.3f}\""
   ]
  },
  {
   "cell_type": "code",
   "execution_count": 29,
   "id": "a4134370-a50a-4442-8be0-4ae9d044dbae",
   "metadata": {},
   "outputs": [
    {
     "data": {
      "text/plain": [
       "'TOULOUSE'"
      ]
     },
     "execution_count": 29,
     "metadata": {},
     "output_type": "execute_result"
    }
   ],
   "source": [
    "city1.upper()"
   ]
  },
  {
   "cell_type": "markdown",
   "id": "39fa138f-0a0e-4fb6-b26e-1dbeb2066464",
   "metadata": {},
   "source": [
    "### Booléens: bool"
   ]
  },
  {
   "cell_type": "code",
   "execution_count": 30,
   "id": "971962b2-becd-4183-b022-9de077e332de",
   "metadata": {},
   "outputs": [
    {
     "data": {
      "text/plain": [
       "(True, False)"
      ]
     },
     "execution_count": 30,
     "metadata": {},
     "output_type": "execute_result"
    }
   ],
   "source": [
    "True, False"
   ]
  },
  {
   "cell_type": "code",
   "execution_count": 31,
   "id": "338b7297-9b80-4199-ba45-783657281b14",
   "metadata": {},
   "outputs": [
    {
     "data": {
      "text/plain": [
       "(True, True)"
      ]
     },
     "execution_count": 31,
     "metadata": {},
     "output_type": "execute_result"
    }
   ],
   "source": [
    "bool(emoji), bool(12)"
   ]
  },
  {
   "cell_type": "code",
   "execution_count": 32,
   "id": "acb141ef-b56e-4e2f-ba73-50bc015aa7c6",
   "metadata": {},
   "outputs": [
    {
     "data": {
      "text/plain": [
       "(False, False, False)"
      ]
     },
     "execution_count": 32,
     "metadata": {},
     "output_type": "execute_result"
    }
   ],
   "source": [
    "bool(0), bool(''), bool(None)"
   ]
  },
  {
   "cell_type": "markdown",
   "id": "2ad29aa2-b1eb-4fd4-b629-c0524d643f08",
   "metadata": {},
   "source": [
    "### Collections: list, tuple, dict, set"
   ]
  },
  {
   "cell_type": "code",
   "execution_count": 33,
   "id": "fde87fef-6dc8-44e6-8ace-04c59d186ef5",
   "metadata": {},
   "outputs": [
    {
     "data": {
      "text/plain": [
       "['Toulouse', 'Pau', 'Bordeaux', 'Paris', 'Lyon', 'Marseille']"
      ]
     },
     "execution_count": 33,
     "metadata": {},
     "output_type": "execute_result"
    }
   ],
   "source": [
    "# list example\n",
    "cities = [ city1, city2, \"Bordeaux\", \"Paris\", \"Lyon\" ]\n",
    "cities.append('Marseille')\n",
    "cities"
   ]
  },
  {
   "cell_type": "code",
   "execution_count": 34,
   "id": "57527e2a-dc30-48df-912e-10969537f81e",
   "metadata": {},
   "outputs": [
    {
     "data": {
      "text/plain": [
       "('Toulouse', 470000, '31000')"
      ]
     },
     "execution_count": 34,
     "metadata": {},
     "output_type": "execute_result"
    }
   ],
   "source": [
    "# tuple example\n",
    "cityT = (\"Toulouse\", 470_000, \"31000\")\n",
    "cityT"
   ]
  },
  {
   "cell_type": "code",
   "execution_count": 35,
   "id": "632885ac-ece3-43e0-b608-d0d0af255a08",
   "metadata": {},
   "outputs": [
    {
     "data": {
      "text/plain": [
       "{'nom': 'Toulouse', 'population': 470000, 'code_postal': '31000'}"
      ]
     },
     "execution_count": 35,
     "metadata": {},
     "output_type": "execute_result"
    }
   ],
   "source": [
    "# dict example\n",
    "cityD = {\n",
    "    \"nom\": \"Toulouse\", \n",
    "    \"population\": 470_000, \n",
    "    \"code_postal\": \"31000\"\n",
    "}\n",
    "cityD"
   ]
  },
  {
   "cell_type": "code",
   "execution_count": 36,
   "id": "cc7c283a-d7ca-4dea-939b-1c2add7bd3eb",
   "metadata": {},
   "outputs": [
    {
     "data": {
      "text/plain": [
       "{'nom': 'Toulouse',\n",
       " 'population': 470000,\n",
       " 'code_postal': '31000',\n",
       " 'langue': 'Oc'}"
      ]
     },
     "execution_count": 36,
     "metadata": {},
     "output_type": "execute_result"
    }
   ],
   "source": [
    "cityD['langue'] = 'Oc'\n",
    "cityD"
   ]
  },
  {
   "cell_type": "code",
   "execution_count": 37,
   "id": "8541765c-12e1-48a3-bfc6-764268f3dd33",
   "metadata": {},
   "outputs": [
    {
     "data": {
      "text/plain": [
       "{3, 12, 45, 67}"
      ]
     },
     "execution_count": 37,
     "metadata": {},
     "output_type": "execute_result"
    }
   ],
   "source": [
    "numbers = { 12, 3, 45, 3, 67, 3 }\n",
    "numbers"
   ]
  },
  {
   "cell_type": "code",
   "execution_count": 38,
   "id": "0d15c4b8-73f2-4d1c-800c-bd25df0dd62a",
   "metadata": {},
   "outputs": [
    {
     "data": {
      "text/plain": [
       "{3, 12, 13, 45, 67}"
      ]
     },
     "execution_count": 38,
     "metadata": {},
     "output_type": "execute_result"
    }
   ],
   "source": [
    "numbers.add(12)\n",
    "numbers.add(13)\n",
    "numbers"
   ]
  },
  {
   "cell_type": "code",
   "execution_count": 39,
   "id": "108baa2f-f093-41c8-9b46-07552a80c8b0",
   "metadata": {},
   "outputs": [
    {
     "name": "stdout",
     "output_type": "stream",
     "text": [
      "[] 0\n"
     ]
    }
   ],
   "source": [
    "emptyList = [] # or list()\n",
    "print(emptyList, len(emptyList))"
   ]
  },
  {
   "cell_type": "code",
   "execution_count": 40,
   "id": "65584a28-fb4c-4c96-ab3f-6e7e5111cb14",
   "metadata": {},
   "outputs": [
    {
     "name": "stdout",
     "output_type": "stream",
     "text": [
      "() 0\n"
     ]
    }
   ],
   "source": [
    "emptyTuple = () # or tuple()\n",
    "print(emptyTuple, len(emptyTuple))"
   ]
  },
  {
   "cell_type": "code",
   "execution_count": 41,
   "id": "46c0466d-5237-4770-a916-0dc0112991e4",
   "metadata": {},
   "outputs": [
    {
     "name": "stdout",
     "output_type": "stream",
     "text": [
      "{} 0 <class 'dict'>\n"
     ]
    }
   ],
   "source": [
    "emptyDict = {}  # ord dict()\n",
    "print(emptyDict, len(emptyDict), type(emptyDict))"
   ]
  },
  {
   "cell_type": "code",
   "execution_count": 42,
   "id": "55f68f46-d9ac-470b-9f74-0ca0a299cdee",
   "metadata": {},
   "outputs": [
    {
     "name": "stdout",
     "output_type": "stream",
     "text": [
      "set() 0 <class 'set'>\n"
     ]
    }
   ],
   "source": [
    "emptySet = set()\n",
    "print(emptySet, len(emptySet), type(emptySet))"
   ]
  },
  {
   "cell_type": "markdown",
   "id": "fe222fe2-55c9-43ee-9162-b5404bb2fbb3",
   "metadata": {},
   "source": [
    "### Exercice: définir une liste de villes en tant que dictionnaires (nom, population, code_postal)"
   ]
  },
  {
   "cell_type": "code",
   "execution_count": 43,
   "id": "fc104266-6afb-42fc-884e-1a0e1925f373",
   "metadata": {},
   "outputs": [
    {
     "data": {
      "text/plain": [
       "[{'nom': 'Toulouse', 'population': 470000, 'code_postal': '31000'},\n",
       " {'nom': 'Marseille', 'population': 880000, 'code_postal': '13000'},\n",
       " {'nom': 'Pau', 'population': 77000, 'code_postal': '64000'}]"
      ]
     },
     "execution_count": 43,
     "metadata": {},
     "output_type": "execute_result"
    }
   ],
   "source": [
    "cities = [\n",
    "    {\n",
    "        \"nom\": \"Toulouse\", \n",
    "        \"population\": 470_000, \n",
    "        \"code_postal\": \"31000\"\n",
    "    },\n",
    "        {\n",
    "        \"nom\": \"Marseille\", \n",
    "        \"population\": 880_000, \n",
    "        \"code_postal\": \"13000\"\n",
    "    },\n",
    "    {\n",
    "        \"nom\": \"Pau\", \n",
    "        \"population\": 77_000, \n",
    "        \"code_postal\": \"64000\"\n",
    "    },\n",
    "]\n",
    "cities"
   ]
  },
  {
   "cell_type": "code",
   "execution_count": 44,
   "id": "36948dce-e53b-455c-ae64-44691393c8a2",
   "metadata": {},
   "outputs": [
    {
     "data": {
      "text/html": [
       "<div>\n",
       "<style scoped>\n",
       "    .dataframe tbody tr th:only-of-type {\n",
       "        vertical-align: middle;\n",
       "    }\n",
       "\n",
       "    .dataframe tbody tr th {\n",
       "        vertical-align: top;\n",
       "    }\n",
       "\n",
       "    .dataframe thead th {\n",
       "        text-align: right;\n",
       "    }\n",
       "</style>\n",
       "<table border=\"1\" class=\"dataframe\">\n",
       "  <thead>\n",
       "    <tr style=\"text-align: right;\">\n",
       "      <th></th>\n",
       "      <th>nom</th>\n",
       "      <th>population</th>\n",
       "      <th>code_postal</th>\n",
       "    </tr>\n",
       "  </thead>\n",
       "  <tbody>\n",
       "    <tr>\n",
       "      <th>0</th>\n",
       "      <td>Toulouse</td>\n",
       "      <td>470000</td>\n",
       "      <td>31000</td>\n",
       "    </tr>\n",
       "    <tr>\n",
       "      <th>1</th>\n",
       "      <td>Marseille</td>\n",
       "      <td>880000</td>\n",
       "      <td>13000</td>\n",
       "    </tr>\n",
       "    <tr>\n",
       "      <th>2</th>\n",
       "      <td>Pau</td>\n",
       "      <td>77000</td>\n",
       "      <td>64000</td>\n",
       "    </tr>\n",
       "  </tbody>\n",
       "</table>\n",
       "</div>"
      ],
      "text/plain": [
       "         nom  population code_postal\n",
       "0   Toulouse      470000       31000\n",
       "1  Marseille      880000       13000\n",
       "2        Pau       77000       64000"
      ]
     },
     "execution_count": 44,
     "metadata": {},
     "output_type": "execute_result"
    }
   ],
   "source": [
    "dfCities = pd.DataFrame(cities)\n",
    "dfCities"
   ]
  },
  {
   "cell_type": "markdown",
   "id": "7cd34ff8-23db-46f0-92e8-fb77ac6f2a4c",
   "metadata": {},
   "source": [
    "## Opérateurs et fonctions intégrées (builtin)"
   ]
  },
  {
   "cell_type": "markdown",
   "id": "e4a1b0df-eb54-4cf8-b0e2-37b95eb88383",
   "metadata": {},
   "source": [
    "### builtin len"
   ]
  },
  {
   "cell_type": "code",
   "execution_count": 45,
   "id": "4c656d7d-44e7-4252-b1dd-86c6bc71b1c7",
   "metadata": {},
   "outputs": [
    {
     "data": {
      "text/plain": [
       "3"
      ]
     },
     "execution_count": 45,
     "metadata": {},
     "output_type": "execute_result"
    }
   ],
   "source": [
    "len(cities)"
   ]
  },
  {
   "cell_type": "code",
   "execution_count": 46,
   "id": "5064f0aa-9b8b-4d98-9c84-133ebe2b9a77",
   "metadata": {},
   "outputs": [],
   "source": [
    "#TypeError: object of type 'int/bool/...' has no len()\n",
    "\n",
    "# len(True)\n",
    "# len(12)"
   ]
  },
  {
   "cell_type": "code",
   "execution_count": 47,
   "id": "d5c2f64c-9310-4148-9c48-119cfd5291cf",
   "metadata": {},
   "outputs": [
    {
     "data": {
      "text/plain": [
       "3"
      ]
     },
     "execution_count": 47,
     "metadata": {},
     "output_type": "execute_result"
    }
   ],
   "source": [
    "cities.__len__()"
   ]
  },
  {
   "cell_type": "code",
   "execution_count": 48,
   "id": "1aa20fd6-03a3-451b-a2c3-1722f0b26d18",
   "metadata": {},
   "outputs": [
    {
     "data": {
      "text/plain": [
       "['__add__',\n",
       " '__class__',\n",
       " '__class_getitem__',\n",
       " '__contains__',\n",
       " '__delattr__',\n",
       " '__delitem__',\n",
       " '__dir__',\n",
       " '__doc__',\n",
       " '__eq__',\n",
       " '__format__',\n",
       " '__ge__',\n",
       " '__getattribute__',\n",
       " '__getitem__',\n",
       " '__getstate__',\n",
       " '__gt__',\n",
       " '__hash__',\n",
       " '__iadd__',\n",
       " '__imul__',\n",
       " '__init__',\n",
       " '__init_subclass__',\n",
       " '__iter__',\n",
       " '__le__',\n",
       " '__len__',\n",
       " '__lt__',\n",
       " '__mul__',\n",
       " '__ne__',\n",
       " '__new__',\n",
       " '__reduce__',\n",
       " '__reduce_ex__',\n",
       " '__repr__',\n",
       " '__reversed__',\n",
       " '__rmul__',\n",
       " '__setattr__',\n",
       " '__setitem__',\n",
       " '__sizeof__',\n",
       " '__str__',\n",
       " '__subclasshook__',\n",
       " 'append',\n",
       " 'clear',\n",
       " 'copy',\n",
       " 'count',\n",
       " 'extend',\n",
       " 'index',\n",
       " 'insert',\n",
       " 'pop',\n",
       " 'remove',\n",
       " 'reverse',\n",
       " 'sort']"
      ]
     },
     "execution_count": 48,
     "metadata": {},
     "output_type": "execute_result"
    }
   ],
   "source": [
    "dir(cities)"
   ]
  },
  {
   "cell_type": "code",
   "execution_count": 49,
   "id": "0a135ad5-f6f1-4a8b-95f4-be2814ea68fb",
   "metadata": {},
   "outputs": [
    {
     "data": {
      "text/plain": [
       "[1, 2, 3, 4, 5, 6]"
      ]
     },
     "execution_count": 49,
     "metadata": {},
     "output_type": "execute_result"
    }
   ],
   "source": [
    "[1, 2, 3] + [4,5,6] # list.__add__"
   ]
  },
  {
   "cell_type": "code",
   "execution_count": 50,
   "id": "42d37976-838a-4754-b8ec-b703894376ca",
   "metadata": {},
   "outputs": [
    {
     "data": {
      "text/plain": [
       "[1, 2, 3, 1, 2, 3, 1, 2, 3, 1, 2, 3]"
      ]
     },
     "execution_count": 50,
     "metadata": {},
     "output_type": "execute_result"
    }
   ],
   "source": [
    "# [1, 2, 3] * [4,5,6] TypeError: can't multiply sequence by non-int of type 'list'\n",
    "[1, 2, 3] * 4 # list.__mul__"
   ]
  },
  {
   "cell_type": "code",
   "execution_count": 51,
   "id": "28500750-7ce2-4b60-a0fe-a4ee762cb22b",
   "metadata": {},
   "outputs": [
    {
     "data": {
      "text/plain": [
       "[1, 2, 3, 1, 2, 3, 1, 2, 3, 1, 2, 3]"
      ]
     },
     "execution_count": 51,
     "metadata": {},
     "output_type": "execute_result"
    }
   ],
   "source": [
    "4 * [1, 2, 3] # int.__mul__ (NotImplmented) => list.__rmul__"
   ]
  },
  {
   "cell_type": "code",
   "execution_count": 52,
   "id": "67f545df-cf86-4b63-a26c-11117e454469",
   "metadata": {},
   "outputs": [
    {
     "data": {
      "text/plain": [
       "NotImplemented"
      ]
     },
     "execution_count": 52,
     "metadata": {},
     "output_type": "execute_result"
    }
   ],
   "source": [
    "(4).__mul__([1, 2, 3])"
   ]
  },
  {
   "cell_type": "code",
   "execution_count": 53,
   "id": "ac048a5e-cbdc-4387-ba10-75d02ac82fac",
   "metadata": {},
   "outputs": [
    {
     "data": {
      "text/plain": [
       "[1, 2, 3, 1, 2, 3, 1, 2, 3, 1, 2, 3]"
      ]
     },
     "execution_count": 53,
     "metadata": {},
     "output_type": "execute_result"
    }
   ],
   "source": [
    "[1, 2, 3].__rmul__(4)"
   ]
  },
  {
   "cell_type": "code",
   "execution_count": 54,
   "id": "47cd7d20-bf6c-4882-9e19-0b3e1143e0ab",
   "metadata": {},
   "outputs": [],
   "source": [
    "# TypeError: can only concatenate str (not \"int\") to str\n",
    "# 'Toulouse' + 4"
   ]
  },
  {
   "cell_type": "code",
   "execution_count": 55,
   "id": "897b2e6f-d822-4767-b827-0b612bdd0d07",
   "metadata": {},
   "outputs": [
    {
     "data": {
      "text/plain": [
       "['__abs__',\n",
       " '__add__',\n",
       " '__bool__',\n",
       " '__class__',\n",
       " '__complex__',\n",
       " '__delattr__',\n",
       " '__dir__',\n",
       " '__doc__',\n",
       " '__eq__',\n",
       " '__format__',\n",
       " '__ge__',\n",
       " '__getattribute__',\n",
       " '__getnewargs__',\n",
       " '__getstate__',\n",
       " '__gt__',\n",
       " '__hash__',\n",
       " '__init__',\n",
       " '__init_subclass__',\n",
       " '__le__',\n",
       " '__lt__',\n",
       " '__mul__',\n",
       " '__ne__',\n",
       " '__neg__',\n",
       " '__new__',\n",
       " '__pos__',\n",
       " '__pow__',\n",
       " '__radd__',\n",
       " '__reduce__',\n",
       " '__reduce_ex__',\n",
       " '__repr__',\n",
       " '__rmul__',\n",
       " '__rpow__',\n",
       " '__rsub__',\n",
       " '__rtruediv__',\n",
       " '__setattr__',\n",
       " '__sizeof__',\n",
       " '__str__',\n",
       " '__sub__',\n",
       " '__subclasshook__',\n",
       " '__truediv__',\n",
       " 'conjugate',\n",
       " 'imag',\n",
       " 'real']"
      ]
     },
     "execution_count": 55,
     "metadata": {},
     "output_type": "execute_result"
    }
   ],
   "source": [
    "dir(complex)"
   ]
  },
  {
   "cell_type": "markdown",
   "id": "d81793fb-c348-41bb-bb60-9f6ed72333f8",
   "metadata": {},
   "source": [
    "Correspondance opérateur <-> méthode\n",
    "```\n",
    "+ (__add__, __radd__)\n",
    "+= (__iadd__)\n",
    "```"
   ]
  },
  {
   "cell_type": "code",
   "execution_count": 56,
   "id": "049d19ce-fba4-4cd1-8fac-96035141916e",
   "metadata": {},
   "outputs": [
    {
     "name": "stdout",
     "output_type": "stream",
     "text": [
      "1353781097920\n",
      "1353781097920\n"
     ]
    },
    {
     "data": {
      "text/plain": [
       "[12, 15, 17, 999, 888]"
      ]
     },
     "execution_count": 56,
     "metadata": {},
     "output_type": "execute_result"
    }
   ],
   "source": [
    "numbers = [12, 15, 17]\n",
    "print(id(numbers))\n",
    "numbers += [999, 888]  # __iadd__(..) , i.e .extend(..)\n",
    "print(id(numbers))\n",
    "numbers"
   ]
  },
  {
   "cell_type": "code",
   "execution_count": 57,
   "id": "049b5151-57f9-4b5a-b2f9-a724a8e55263",
   "metadata": {
    "tags": []
   },
   "outputs": [
    {
     "data": {
      "text/plain": [
       "['__abs__',\n",
       " '__add__',\n",
       " '__and__',\n",
       " '__bool__',\n",
       " '__ceil__',\n",
       " '__class__',\n",
       " '__delattr__',\n",
       " '__dir__',\n",
       " '__divmod__',\n",
       " '__doc__',\n",
       " '__eq__',\n",
       " '__float__',\n",
       " '__floor__',\n",
       " '__floordiv__',\n",
       " '__format__',\n",
       " '__ge__',\n",
       " '__getattribute__',\n",
       " '__getnewargs__',\n",
       " '__getstate__',\n",
       " '__gt__',\n",
       " '__hash__',\n",
       " '__index__',\n",
       " '__init__',\n",
       " '__init_subclass__',\n",
       " '__int__',\n",
       " '__invert__',\n",
       " '__le__',\n",
       " '__lshift__',\n",
       " '__lt__',\n",
       " '__mod__',\n",
       " '__mul__',\n",
       " '__ne__',\n",
       " '__neg__',\n",
       " '__new__',\n",
       " '__or__',\n",
       " '__pos__',\n",
       " '__pow__',\n",
       " '__radd__',\n",
       " '__rand__',\n",
       " '__rdivmod__',\n",
       " '__reduce__',\n",
       " '__reduce_ex__',\n",
       " '__repr__',\n",
       " '__rfloordiv__',\n",
       " '__rlshift__',\n",
       " '__rmod__',\n",
       " '__rmul__',\n",
       " '__ror__',\n",
       " '__round__',\n",
       " '__rpow__',\n",
       " '__rrshift__',\n",
       " '__rshift__',\n",
       " '__rsub__',\n",
       " '__rtruediv__',\n",
       " '__rxor__',\n",
       " '__setattr__',\n",
       " '__sizeof__',\n",
       " '__str__',\n",
       " '__sub__',\n",
       " '__subclasshook__',\n",
       " '__truediv__',\n",
       " '__trunc__',\n",
       " '__xor__',\n",
       " 'as_integer_ratio',\n",
       " 'bit_count',\n",
       " 'bit_length',\n",
       " 'conjugate',\n",
       " 'denominator',\n",
       " 'from_bytes',\n",
       " 'imag',\n",
       " 'is_integer',\n",
       " 'numerator',\n",
       " 'real',\n",
       " 'to_bytes']"
      ]
     },
     "execution_count": 57,
     "metadata": {},
     "output_type": "execute_result"
    }
   ],
   "source": [
    "dir(int)"
   ]
  },
  {
   "cell_type": "code",
   "execution_count": 58,
   "id": "7f6e2469-7a96-461c-af0f-97a45c737333",
   "metadata": {},
   "outputs": [
    {
     "name": "stdout",
     "output_type": "stream",
     "text": [
      "140711587117848\n",
      "140711587117944\n"
     ]
    },
    {
     "data": {
      "text/plain": [
       "15"
      ]
     },
     "execution_count": 58,
     "metadata": {},
     "output_type": "execute_result"
    }
   ],
   "source": [
    "x = 12\n",
    "print(id(x))\n",
    "x += 3\n",
    "print(id(x))\n",
    "x"
   ]
  },
  {
   "cell_type": "code",
   "execution_count": 59,
   "id": "46ceb84d-9c0c-4127-97b9-f1f67145e49d",
   "metadata": {},
   "outputs": [
    {
     "name": "stdout",
     "output_type": "stream",
     "text": [
      "1353782424304\n",
      "1353782662432\n"
     ]
    },
    {
     "data": {
      "text/plain": [
       "'Marseille, ville portuaire'"
      ]
     },
     "execution_count": 59,
     "metadata": {},
     "output_type": "execute_result"
    }
   ],
   "source": [
    "city = \"Marseille\"\n",
    "print(id(city))\n",
    "city += \", ville portuaire\"\n",
    "print(id(city))\n",
    "city"
   ]
  },
  {
   "cell_type": "code",
   "execution_count": 60,
   "id": "20ec6669-ee3b-42aa-ab63-f2545d1b4935",
   "metadata": {},
   "outputs": [
    {
     "data": {
      "text/html": [
       "<div>\n",
       "<style scoped>\n",
       "    .dataframe tbody tr th:only-of-type {\n",
       "        vertical-align: middle;\n",
       "    }\n",
       "\n",
       "    .dataframe tbody tr th {\n",
       "        vertical-align: top;\n",
       "    }\n",
       "\n",
       "    .dataframe thead th {\n",
       "        text-align: right;\n",
       "    }\n",
       "</style>\n",
       "<table border=\"1\" class=\"dataframe\">\n",
       "  <thead>\n",
       "    <tr style=\"text-align: right;\">\n",
       "      <th></th>\n",
       "      <th>nom</th>\n",
       "      <th>population</th>\n",
       "      <th>code_postal</th>\n",
       "    </tr>\n",
       "  </thead>\n",
       "  <tbody>\n",
       "    <tr>\n",
       "      <th>0</th>\n",
       "      <td>Toulouse</td>\n",
       "      <td>470000</td>\n",
       "      <td>31000</td>\n",
       "    </tr>\n",
       "    <tr>\n",
       "      <th>1</th>\n",
       "      <td>Marseille</td>\n",
       "      <td>880000</td>\n",
       "      <td>13000</td>\n",
       "    </tr>\n",
       "    <tr>\n",
       "      <th>2</th>\n",
       "      <td>Pau</td>\n",
       "      <td>77000</td>\n",
       "      <td>64000</td>\n",
       "    </tr>\n",
       "  </tbody>\n",
       "</table>\n",
       "</div>"
      ],
      "text/plain": [
       "         nom  population code_postal\n",
       "0   Toulouse      470000       31000\n",
       "1  Marseille      880000       13000\n",
       "2        Pau       77000       64000"
      ]
     },
     "execution_count": 60,
     "metadata": {},
     "output_type": "execute_result"
    }
   ],
   "source": [
    "dfCities"
   ]
  },
  {
   "cell_type": "code",
   "execution_count": 61,
   "id": "85e99c2f-501d-40bd-91cf-fe016166821f",
   "metadata": {},
   "outputs": [],
   "source": [
    "dfCities['population'] += 10"
   ]
  },
  {
   "cell_type": "code",
   "execution_count": 62,
   "id": "e4e96425-84d1-4021-b079-0c81fac3160f",
   "metadata": {},
   "outputs": [
    {
     "data": {
      "text/html": [
       "<div>\n",
       "<style scoped>\n",
       "    .dataframe tbody tr th:only-of-type {\n",
       "        vertical-align: middle;\n",
       "    }\n",
       "\n",
       "    .dataframe tbody tr th {\n",
       "        vertical-align: top;\n",
       "    }\n",
       "\n",
       "    .dataframe thead th {\n",
       "        text-align: right;\n",
       "    }\n",
       "</style>\n",
       "<table border=\"1\" class=\"dataframe\">\n",
       "  <thead>\n",
       "    <tr style=\"text-align: right;\">\n",
       "      <th></th>\n",
       "      <th>nom</th>\n",
       "      <th>population</th>\n",
       "      <th>code_postal</th>\n",
       "    </tr>\n",
       "  </thead>\n",
       "  <tbody>\n",
       "    <tr>\n",
       "      <th>0</th>\n",
       "      <td>Toulouse</td>\n",
       "      <td>470010</td>\n",
       "      <td>31000</td>\n",
       "    </tr>\n",
       "    <tr>\n",
       "      <th>1</th>\n",
       "      <td>Marseille</td>\n",
       "      <td>880010</td>\n",
       "      <td>13000</td>\n",
       "    </tr>\n",
       "    <tr>\n",
       "      <th>2</th>\n",
       "      <td>Pau</td>\n",
       "      <td>77010</td>\n",
       "      <td>64000</td>\n",
       "    </tr>\n",
       "  </tbody>\n",
       "</table>\n",
       "</div>"
      ],
      "text/plain": [
       "         nom  population code_postal\n",
       "0   Toulouse      470010       31000\n",
       "1  Marseille      880010       13000\n",
       "2        Pau       77010       64000"
      ]
     },
     "execution_count": 62,
     "metadata": {},
     "output_type": "execute_result"
    }
   ],
   "source": [
    "dfCities"
   ]
  },
  {
   "cell_type": "markdown",
   "id": "d625bbc5-cfc5-401d-9a8e-83085a76e91f",
   "metadata": {},
   "source": [
    "### cas de la division"
   ]
  },
  {
   "cell_type": "code",
   "execution_count": 63,
   "id": "be82d2bd-0c73-4fb8-887d-2d18732b2cb7",
   "metadata": {},
   "outputs": [
    {
     "data": {
      "text/plain": [
       "2.3333333333333335"
      ]
     },
     "execution_count": 63,
     "metadata": {},
     "output_type": "execute_result"
    }
   ],
   "source": [
    "7 / 3  # __truediv__"
   ]
  },
  {
   "cell_type": "code",
   "execution_count": 64,
   "id": "59f35bf7-3788-4975-aa99-1e21d83effe5",
   "metadata": {},
   "outputs": [
    {
     "data": {
      "text/plain": [
       "2"
      ]
     },
     "execution_count": 64,
     "metadata": {},
     "output_type": "execute_result"
    }
   ],
   "source": [
    "7 // 3  # __floordiv__"
   ]
  },
  {
   "cell_type": "code",
   "execution_count": 65,
   "id": "8dd3b5b2-c731-4969-b791-aca63670bb99",
   "metadata": {},
   "outputs": [
    {
     "data": {
      "text/plain": [
       "1"
      ]
     },
     "execution_count": 65,
     "metadata": {},
     "output_type": "execute_result"
    }
   ],
   "source": [
    "7 % 3 # __mod__"
   ]
  },
  {
   "cell_type": "code",
   "execution_count": 66,
   "id": "55fd349d-a238-46f9-969e-c31afdbe80f7",
   "metadata": {},
   "outputs": [
    {
     "data": {
      "text/plain": [
       "(2, 1)"
      ]
     },
     "execution_count": 66,
     "metadata": {},
     "output_type": "execute_result"
    }
   ],
   "source": [
    "divmod(7,3)  # __divmod__"
   ]
  },
  {
   "cell_type": "code",
   "execution_count": 67,
   "id": "d67f2a00-dedb-48c6-822a-546195bd6e8c",
   "metadata": {
    "tags": []
   },
   "outputs": [
    {
     "data": {
      "text/plain": [
       "['__abs__',\n",
       " '__add__',\n",
       " '__and__',\n",
       " '__bool__',\n",
       " '__ceil__',\n",
       " '__class__',\n",
       " '__delattr__',\n",
       " '__dir__',\n",
       " '__divmod__',\n",
       " '__doc__',\n",
       " '__eq__',\n",
       " '__float__',\n",
       " '__floor__',\n",
       " '__floordiv__',\n",
       " '__format__',\n",
       " '__ge__',\n",
       " '__getattribute__',\n",
       " '__getnewargs__',\n",
       " '__getstate__',\n",
       " '__gt__',\n",
       " '__hash__',\n",
       " '__index__',\n",
       " '__init__',\n",
       " '__init_subclass__',\n",
       " '__int__',\n",
       " '__invert__',\n",
       " '__le__',\n",
       " '__lshift__',\n",
       " '__lt__',\n",
       " '__mod__',\n",
       " '__mul__',\n",
       " '__ne__',\n",
       " '__neg__',\n",
       " '__new__',\n",
       " '__or__',\n",
       " '__pos__',\n",
       " '__pow__',\n",
       " '__radd__',\n",
       " '__rand__',\n",
       " '__rdivmod__',\n",
       " '__reduce__',\n",
       " '__reduce_ex__',\n",
       " '__repr__',\n",
       " '__rfloordiv__',\n",
       " '__rlshift__',\n",
       " '__rmod__',\n",
       " '__rmul__',\n",
       " '__ror__',\n",
       " '__round__',\n",
       " '__rpow__',\n",
       " '__rrshift__',\n",
       " '__rshift__',\n",
       " '__rsub__',\n",
       " '__rtruediv__',\n",
       " '__rxor__',\n",
       " '__setattr__',\n",
       " '__sizeof__',\n",
       " '__str__',\n",
       " '__sub__',\n",
       " '__subclasshook__',\n",
       " '__truediv__',\n",
       " '__trunc__',\n",
       " '__xor__',\n",
       " 'as_integer_ratio',\n",
       " 'bit_count',\n",
       " 'bit_length',\n",
       " 'conjugate',\n",
       " 'denominator',\n",
       " 'from_bytes',\n",
       " 'imag',\n",
       " 'is_integer',\n",
       " 'numerator',\n",
       " 'real',\n",
       " 'to_bytes']"
      ]
     },
     "execution_count": 67,
     "metadata": {},
     "output_type": "execute_result"
    }
   ],
   "source": [
    "dir(int) # filter toutes les méthodes __???__ contenant 'div' ou 'mod'"
   ]
  },
  {
   "cell_type": "code",
   "execution_count": 68,
   "id": "2cabb161-208f-43ce-9c45-11336a8a9684",
   "metadata": {},
   "outputs": [
    {
     "data": {
      "text/plain": [
       "['__divmod__',\n",
       " '__floordiv__',\n",
       " '__mod__',\n",
       " '__rdivmod__',\n",
       " '__rfloordiv__',\n",
       " '__rmod__',\n",
       " '__rtruediv__',\n",
       " '__truediv__']"
      ]
     },
     "execution_count": 68,
     "metadata": {},
     "output_type": "execute_result"
    }
   ],
   "source": [
    "# list comprehension\n",
    "[ m for m in dir(int) if re.fullmatch(r'__.*(div|mod).*__', m) ]"
   ]
  },
  {
   "cell_type": "code",
   "execution_count": 69,
   "id": "ce769285-35ac-411c-832a-38cfb5f94836",
   "metadata": {},
   "outputs": [
    {
     "data": {
      "text/plain": [
       "['__divmod__',\n",
       " '__floordiv__',\n",
       " '__mod__',\n",
       " '__rdivmod__',\n",
       " '__rfloordiv__',\n",
       " '__rmod__',\n",
       " '__rtruediv__',\n",
       " '__truediv__']"
      ]
     },
     "execution_count": 69,
     "metadata": {},
     "output_type": "execute_result"
    }
   ],
   "source": [
    "[ m for m in dir(int) if m.startswith('__')  and m.endswith('__') and ('div' in m or 'mod' in m) ]"
   ]
  },
  {
   "cell_type": "code",
   "execution_count": 70,
   "id": "c5e4d67b-80eb-48c8-89a4-08558ed71f44",
   "metadata": {},
   "outputs": [
    {
     "name": "stdout",
     "output_type": "stream",
     "text": [
      "__divmod__\n",
      "__floordiv__\n",
      "__mod__\n",
      "__rdivmod__\n",
      "__rfloordiv__\n",
      "__rmod__\n",
      "__rtruediv__\n",
      "__truediv__\n"
     ]
    }
   ],
   "source": [
    "for m in dir(int):\n",
    "    if ('div' in m or 'mod' in m) and m.startswith('__') and m.endswith('__'):\n",
    "        print(m)"
   ]
  },
  {
   "cell_type": "code",
   "execution_count": 71,
   "id": "1959b3bf-c4de-4141-8846-0f34f22d7e11",
   "metadata": {},
   "outputs": [
    {
     "data": {
      "text/plain": [
       "(True, False)"
      ]
     },
     "execution_count": 71,
     "metadata": {},
     "output_type": "execute_result"
    }
   ],
   "source": [
    "valeurs1 = [1, 2, 3]\n",
    "valeurs2 = [1, 2, 3]\n",
    "valeurs1 == valeurs2, valeurs1 is valeurs2"
   ]
  },
  {
   "cell_type": "markdown",
   "id": "9e193fff-76d5-4b2a-8d73-98491c63eb44",
   "metadata": {},
   "source": [
    "### cas du produit matriciel"
   ]
  },
  {
   "cell_type": "code",
   "execution_count": 72,
   "id": "6f64d7ae-ebb1-4fe0-9db3-aad0f49c1990",
   "metadata": {},
   "outputs": [
    {
     "name": "stdout",
     "output_type": "stream",
     "text": [
      "[[1 2]\n",
      " [3 4]]\n",
      "[[ 2 -1]\n",
      " [-1  3]]\n"
     ]
    }
   ],
   "source": [
    "m1 = np.array(\n",
    "    [[1, 2],\n",
    "     [3, 4]]\n",
    ")\n",
    "m2 = np.array(\n",
    "    [[2, -1],\n",
    "     [-1, 3]]\n",
    ")\n",
    "print(m1)\n",
    "print(m2)"
   ]
  },
  {
   "cell_type": "code",
   "execution_count": 73,
   "id": "f806df82-3f8f-4349-a43d-1f30d4a551a6",
   "metadata": {},
   "outputs": [
    {
     "data": {
      "text/plain": [
       "array([[ 2, -2],\n",
       "       [-3, 12]])"
      ]
     },
     "execution_count": 73,
     "metadata": {},
     "output_type": "execute_result"
    }
   ],
   "source": [
    "m1 * m2"
   ]
  },
  {
   "cell_type": "code",
   "execution_count": 74,
   "id": "557dca08-bea3-4a49-b2d2-7515599c7f86",
   "metadata": {},
   "outputs": [
    {
     "data": {
      "text/plain": [
       "array([[0, 5],\n",
       "       [2, 9]])"
      ]
     },
     "execution_count": 74,
     "metadata": {},
     "output_type": "execute_result"
    }
   ],
   "source": [
    "m1 @ m2"
   ]
  },
  {
   "cell_type": "code",
   "execution_count": 75,
   "id": "8e682d40-bc03-4159-a407-e8e38ea4d144",
   "metadata": {},
   "outputs": [
    {
     "data": {
      "text/plain": [
       "array([[0, 5],\n",
       "       [2, 9]])"
      ]
     },
     "execution_count": 75,
     "metadata": {},
     "output_type": "execute_result"
    }
   ],
   "source": [
    "np.matmul(m1,m2)"
   ]
  },
  {
   "cell_type": "code",
   "execution_count": 76,
   "id": "d2b165b5-15d6-469c-a6de-75c3363c6544",
   "metadata": {},
   "outputs": [
    {
     "data": {
      "text/plain": [
       "array([[0, 5],\n",
       "       [2, 9]])"
      ]
     },
     "execution_count": 76,
     "metadata": {},
     "output_type": "execute_result"
    }
   ],
   "source": [
    "m1.dot(m2)"
   ]
  },
  {
   "cell_type": "markdown",
   "id": "083fab93-52db-4805-85a3-dc224c5256e5",
   "metadata": {},
   "source": [
    "### cas des filtres de pandas (et numpy)\n",
    "bitwise => elementwise pour | (or), & (and), ~ (not), ^ (xor)"
   ]
  },
  {
   "cell_type": "code",
   "execution_count": 77,
   "id": "c064ec71-06ef-40d1-9ab6-575b62a65946",
   "metadata": {},
   "outputs": [
    {
     "name": "stdout",
     "output_type": "stream",
     "text": [
      "<class 'pandas.core.frame.DataFrame'>\n",
      "RangeIndex: 39145 entries, 0 to 39144\n",
      "Data columns (total 10 columns):\n",
      " #   Column               Non-Null Count  Dtype  \n",
      "---  ------               --------------  -----  \n",
      " 0   insee_code           39145 non-null  object \n",
      " 1   city_code            39145 non-null  object \n",
      " 2   zip_code             39145 non-null  int64  \n",
      " 3   label                39145 non-null  object \n",
      " 4   latitude             38934 non-null  float64\n",
      " 5   longitude            38934 non-null  float64\n",
      " 6   department_name      39145 non-null  object \n",
      " 7   department_number    39145 non-null  object \n",
      " 8   region_name          39145 non-null  object \n",
      " 9   region_geojson_name  39145 non-null  object \n",
      "dtypes: float64(2), int64(1), object(7)\n",
      "memory usage: 3.0+ MB\n"
     ]
    }
   ],
   "source": [
    "dfCitiesFr = pd.read_csv('https://www.data.gouv.fr/fr/datasets/r/51606633-fb13-4820-b795-9a2a575a72f1')\n",
    "dfCitiesFr.info()"
   ]
  },
  {
   "cell_type": "code",
   "execution_count": 78,
   "id": "f6208aef-755c-4c41-beec-3c922d40fc7c",
   "metadata": {},
   "outputs": [
    {
     "data": {
      "text/html": [
       "<div>\n",
       "<style scoped>\n",
       "    .dataframe tbody tr th:only-of-type {\n",
       "        vertical-align: middle;\n",
       "    }\n",
       "\n",
       "    .dataframe tbody tr th {\n",
       "        vertical-align: top;\n",
       "    }\n",
       "\n",
       "    .dataframe thead th {\n",
       "        text-align: right;\n",
       "    }\n",
       "</style>\n",
       "<table border=\"1\" class=\"dataframe\">\n",
       "  <thead>\n",
       "    <tr style=\"text-align: right;\">\n",
       "      <th></th>\n",
       "      <th>insee_code</th>\n",
       "      <th>city_code</th>\n",
       "      <th>zip_code</th>\n",
       "      <th>label</th>\n",
       "      <th>latitude</th>\n",
       "      <th>longitude</th>\n",
       "      <th>department_name</th>\n",
       "      <th>department_number</th>\n",
       "      <th>region_name</th>\n",
       "      <th>region_geojson_name</th>\n",
       "    </tr>\n",
       "  </thead>\n",
       "  <tbody>\n",
       "    <tr>\n",
       "      <th>0</th>\n",
       "      <td>25620</td>\n",
       "      <td>ville du pont</td>\n",
       "      <td>25650</td>\n",
       "      <td>ville du pont</td>\n",
       "      <td>46.999873</td>\n",
       "      <td>6.498147</td>\n",
       "      <td>doubs</td>\n",
       "      <td>25</td>\n",
       "      <td>bourgogne-franche-comté</td>\n",
       "      <td>Bourgogne-Franche-Comté</td>\n",
       "    </tr>\n",
       "    <tr>\n",
       "      <th>1</th>\n",
       "      <td>25624</td>\n",
       "      <td>villers grelot</td>\n",
       "      <td>25640</td>\n",
       "      <td>villers grelot</td>\n",
       "      <td>47.361512</td>\n",
       "      <td>6.235167</td>\n",
       "      <td>doubs</td>\n",
       "      <td>25</td>\n",
       "      <td>bourgogne-franche-comté</td>\n",
       "      <td>Bourgogne-Franche-Comté</td>\n",
       "    </tr>\n",
       "    <tr>\n",
       "      <th>2</th>\n",
       "      <td>25615</td>\n",
       "      <td>villars les blamont</td>\n",
       "      <td>25310</td>\n",
       "      <td>villars les blamont</td>\n",
       "      <td>47.368384</td>\n",
       "      <td>6.871415</td>\n",
       "      <td>doubs</td>\n",
       "      <td>25</td>\n",
       "      <td>bourgogne-franche-comté</td>\n",
       "      <td>Bourgogne-Franche-Comté</td>\n",
       "    </tr>\n",
       "    <tr>\n",
       "      <th>3</th>\n",
       "      <td>25619</td>\n",
       "      <td>les villedieu</td>\n",
       "      <td>25240</td>\n",
       "      <td>les villedieu</td>\n",
       "      <td>46.713906</td>\n",
       "      <td>6.265831</td>\n",
       "      <td>doubs</td>\n",
       "      <td>25</td>\n",
       "      <td>bourgogne-franche-comté</td>\n",
       "      <td>Bourgogne-Franche-Comté</td>\n",
       "    </tr>\n",
       "    <tr>\n",
       "      <th>4</th>\n",
       "      <td>25622</td>\n",
       "      <td>villers buzon</td>\n",
       "      <td>25170</td>\n",
       "      <td>villers buzon</td>\n",
       "      <td>47.228558</td>\n",
       "      <td>5.852187</td>\n",
       "      <td>doubs</td>\n",
       "      <td>25</td>\n",
       "      <td>bourgogne-franche-comté</td>\n",
       "      <td>Bourgogne-Franche-Comté</td>\n",
       "    </tr>\n",
       "    <tr>\n",
       "      <th>...</th>\n",
       "      <td>...</td>\n",
       "      <td>...</td>\n",
       "      <td>...</td>\n",
       "      <td>...</td>\n",
       "      <td>...</td>\n",
       "      <td>...</td>\n",
       "      <td>...</td>\n",
       "      <td>...</td>\n",
       "      <td>...</td>\n",
       "      <td>...</td>\n",
       "    </tr>\n",
       "    <tr>\n",
       "      <th>39140</th>\n",
       "      <td>98829</td>\n",
       "      <td>thio</td>\n",
       "      <td>98829</td>\n",
       "      <td>thio</td>\n",
       "      <td>NaN</td>\n",
       "      <td>NaN</td>\n",
       "      <td>nouvelle-calédonie</td>\n",
       "      <td>988</td>\n",
       "      <td>nouvelle-calédonie</td>\n",
       "      <td>Nouvelle Calédonie</td>\n",
       "    </tr>\n",
       "    <tr>\n",
       "      <th>39141</th>\n",
       "      <td>98831</td>\n",
       "      <td>voh</td>\n",
       "      <td>98833</td>\n",
       "      <td>voh</td>\n",
       "      <td>NaN</td>\n",
       "      <td>NaN</td>\n",
       "      <td>nouvelle-calédonie</td>\n",
       "      <td>988</td>\n",
       "      <td>nouvelle-calédonie</td>\n",
       "      <td>Nouvelle Calédonie</td>\n",
       "    </tr>\n",
       "    <tr>\n",
       "      <th>39142</th>\n",
       "      <td>98832</td>\n",
       "      <td>yate</td>\n",
       "      <td>98834</td>\n",
       "      <td>yate</td>\n",
       "      <td>NaN</td>\n",
       "      <td>NaN</td>\n",
       "      <td>nouvelle-calédonie</td>\n",
       "      <td>988</td>\n",
       "      <td>nouvelle-calédonie</td>\n",
       "      <td>Nouvelle Calédonie</td>\n",
       "    </tr>\n",
       "    <tr>\n",
       "      <th>39143</th>\n",
       "      <td>98612</td>\n",
       "      <td>sigave</td>\n",
       "      <td>98620</td>\n",
       "      <td>sigave</td>\n",
       "      <td>-14.270411</td>\n",
       "      <td>-178.155263</td>\n",
       "      <td>wallis-et-futuna</td>\n",
       "      <td>986</td>\n",
       "      <td>wallis-et-futuna</td>\n",
       "      <td>Wallis-et-Futuna</td>\n",
       "    </tr>\n",
       "    <tr>\n",
       "      <th>39144</th>\n",
       "      <td>98613</td>\n",
       "      <td>uvea</td>\n",
       "      <td>98600</td>\n",
       "      <td>uvea</td>\n",
       "      <td>-13.281863</td>\n",
       "      <td>-176.161928</td>\n",
       "      <td>wallis-et-futuna</td>\n",
       "      <td>986</td>\n",
       "      <td>wallis-et-futuna</td>\n",
       "      <td>Wallis-et-Futuna</td>\n",
       "    </tr>\n",
       "  </tbody>\n",
       "</table>\n",
       "<p>39145 rows × 10 columns</p>\n",
       "</div>"
      ],
      "text/plain": [
       "      insee_code            city_code  zip_code                label  \\\n",
       "0          25620        ville du pont     25650        ville du pont   \n",
       "1          25624       villers grelot     25640       villers grelot   \n",
       "2          25615  villars les blamont     25310  villars les blamont   \n",
       "3          25619        les villedieu     25240        les villedieu   \n",
       "4          25622        villers buzon     25170        villers buzon   \n",
       "...          ...                  ...       ...                  ...   \n",
       "39140      98829                 thio     98829                 thio   \n",
       "39141      98831                  voh     98833                  voh   \n",
       "39142      98832                 yate     98834                 yate   \n",
       "39143      98612               sigave     98620               sigave   \n",
       "39144      98613                 uvea     98600                 uvea   \n",
       "\n",
       "        latitude   longitude     department_name department_number  \\\n",
       "0      46.999873    6.498147               doubs                25   \n",
       "1      47.361512    6.235167               doubs                25   \n",
       "2      47.368384    6.871415               doubs                25   \n",
       "3      46.713906    6.265831               doubs                25   \n",
       "4      47.228558    5.852187               doubs                25   \n",
       "...          ...         ...                 ...               ...   \n",
       "39140        NaN         NaN  nouvelle-calédonie               988   \n",
       "39141        NaN         NaN  nouvelle-calédonie               988   \n",
       "39142        NaN         NaN  nouvelle-calédonie               988   \n",
       "39143 -14.270411 -178.155263    wallis-et-futuna               986   \n",
       "39144 -13.281863 -176.161928    wallis-et-futuna               986   \n",
       "\n",
       "                   region_name      region_geojson_name  \n",
       "0      bourgogne-franche-comté  Bourgogne-Franche-Comté  \n",
       "1      bourgogne-franche-comté  Bourgogne-Franche-Comté  \n",
       "2      bourgogne-franche-comté  Bourgogne-Franche-Comté  \n",
       "3      bourgogne-franche-comté  Bourgogne-Franche-Comté  \n",
       "4      bourgogne-franche-comté  Bourgogne-Franche-Comté  \n",
       "...                        ...                      ...  \n",
       "39140       nouvelle-calédonie       Nouvelle Calédonie  \n",
       "39141       nouvelle-calédonie       Nouvelle Calédonie  \n",
       "39142       nouvelle-calédonie       Nouvelle Calédonie  \n",
       "39143         wallis-et-futuna         Wallis-et-Futuna  \n",
       "39144         wallis-et-futuna         Wallis-et-Futuna  \n",
       "\n",
       "[39145 rows x 10 columns]"
      ]
     },
     "execution_count": 78,
     "metadata": {},
     "output_type": "execute_result"
    }
   ],
   "source": [
    "dfCitiesFr"
   ]
  },
  {
   "cell_type": "code",
   "execution_count": 79,
   "id": "d7704526-a18e-4d7a-96f6-416332d05641",
   "metadata": {},
   "outputs": [
    {
     "data": {
      "text/html": [
       "<div>\n",
       "<style scoped>\n",
       "    .dataframe tbody tr th:only-of-type {\n",
       "        vertical-align: middle;\n",
       "    }\n",
       "\n",
       "    .dataframe tbody tr th {\n",
       "        vertical-align: top;\n",
       "    }\n",
       "\n",
       "    .dataframe thead th {\n",
       "        text-align: right;\n",
       "    }\n",
       "</style>\n",
       "<table border=\"1\" class=\"dataframe\">\n",
       "  <thead>\n",
       "    <tr style=\"text-align: right;\">\n",
       "      <th></th>\n",
       "      <th>insee_code</th>\n",
       "      <th>city_code</th>\n",
       "      <th>zip_code</th>\n",
       "      <th>label</th>\n",
       "      <th>latitude</th>\n",
       "      <th>longitude</th>\n",
       "      <th>department_name</th>\n",
       "      <th>department_number</th>\n",
       "      <th>region_name</th>\n",
       "      <th>region_geojson_name</th>\n",
       "    </tr>\n",
       "  </thead>\n",
       "  <tbody>\n",
       "    <tr>\n",
       "      <th>17642</th>\n",
       "      <td>64138</td>\n",
       "      <td>bordes</td>\n",
       "      <td>64510</td>\n",
       "      <td>bordes</td>\n",
       "      <td>43.243525</td>\n",
       "      <td>-0.273609</td>\n",
       "      <td>pyrénées-atlantiques</td>\n",
       "      <td>64</td>\n",
       "      <td>nouvelle-aquitaine</td>\n",
       "      <td>Nouvelle-Aquitaine</td>\n",
       "    </tr>\n",
       "    <tr>\n",
       "      <th>23499</th>\n",
       "      <td>65101</td>\n",
       "      <td>bordes</td>\n",
       "      <td>65190</td>\n",
       "      <td>bordes</td>\n",
       "      <td>43.196985</td>\n",
       "      <td>0.214207</td>\n",
       "      <td>hautes-pyrénées</td>\n",
       "      <td>65</td>\n",
       "      <td>occitanie</td>\n",
       "      <td>Occitanie</td>\n",
       "    </tr>\n",
       "  </tbody>\n",
       "</table>\n",
       "</div>"
      ],
      "text/plain": [
       "      insee_code city_code  zip_code   label   latitude  longitude  \\\n",
       "17642      64138    bordes     64510  bordes  43.243525  -0.273609   \n",
       "23499      65101    bordes     65190  bordes  43.196985   0.214207   \n",
       "\n",
       "            department_name department_number         region_name  \\\n",
       "17642  pyrénées-atlantiques                64  nouvelle-aquitaine   \n",
       "23499       hautes-pyrénées                65           occitanie   \n",
       "\n",
       "      region_geojson_name  \n",
       "17642  Nouvelle-Aquitaine  \n",
       "23499           Occitanie  "
      ]
     },
     "execution_count": 79,
     "metadata": {},
     "output_type": "execute_result"
    }
   ],
   "source": [
    "dfCitiesFr[dfCitiesFr.label == 'bordes']"
   ]
  },
  {
   "cell_type": "code",
   "execution_count": 80,
   "id": "bee45e70-ed1f-46be-9a31-9d15aee3a419",
   "metadata": {},
   "outputs": [
    {
     "data": {
      "text/html": [
       "<div>\n",
       "<style scoped>\n",
       "    .dataframe tbody tr th:only-of-type {\n",
       "        vertical-align: middle;\n",
       "    }\n",
       "\n",
       "    .dataframe tbody tr th {\n",
       "        vertical-align: top;\n",
       "    }\n",
       "\n",
       "    .dataframe thead th {\n",
       "        text-align: right;\n",
       "    }\n",
       "</style>\n",
       "<table border=\"1\" class=\"dataframe\">\n",
       "  <thead>\n",
       "    <tr style=\"text-align: right;\">\n",
       "      <th></th>\n",
       "      <th>insee_code</th>\n",
       "      <th>city_code</th>\n",
       "      <th>zip_code</th>\n",
       "      <th>label</th>\n",
       "      <th>latitude</th>\n",
       "      <th>longitude</th>\n",
       "      <th>department_name</th>\n",
       "      <th>department_number</th>\n",
       "      <th>region_name</th>\n",
       "      <th>region_geojson_name</th>\n",
       "    </tr>\n",
       "  </thead>\n",
       "  <tbody>\n",
       "    <tr>\n",
       "      <th>17642</th>\n",
       "      <td>64138</td>\n",
       "      <td>bordes</td>\n",
       "      <td>64510</td>\n",
       "      <td>bordes</td>\n",
       "      <td>43.243525</td>\n",
       "      <td>-0.273609</td>\n",
       "      <td>pyrénées-atlantiques</td>\n",
       "      <td>64</td>\n",
       "      <td>nouvelle-aquitaine</td>\n",
       "      <td>Nouvelle-Aquitaine</td>\n",
       "    </tr>\n",
       "  </tbody>\n",
       "</table>\n",
       "</div>"
      ],
      "text/plain": [
       "      insee_code city_code  zip_code   label   latitude  longitude  \\\n",
       "17642      64138    bordes     64510  bordes  43.243525  -0.273609   \n",
       "\n",
       "            department_name department_number         region_name  \\\n",
       "17642  pyrénées-atlantiques                64  nouvelle-aquitaine   \n",
       "\n",
       "      region_geojson_name  \n",
       "17642  Nouvelle-Aquitaine  "
      ]
     },
     "execution_count": 80,
     "metadata": {},
     "output_type": "execute_result"
    }
   ],
   "source": [
    "dfCitiesFr[\n",
    "    (dfCitiesFr.label == 'bordes') \n",
    "    & (dfCitiesFr.department_number == '64')\n",
    "]"
   ]
  },
  {
   "cell_type": "code",
   "execution_count": 81,
   "id": "ecd88424-ca48-4a37-b206-537e3764f005",
   "metadata": {},
   "outputs": [
    {
     "data": {
      "text/plain": [
       "0        False\n",
       "1        False\n",
       "2        False\n",
       "3        False\n",
       "4        False\n",
       "         ...  \n",
       "39140    False\n",
       "39141    False\n",
       "39142    False\n",
       "39143    False\n",
       "39144    False\n",
       "Name: label, Length: 39145, dtype: bool"
      ]
     },
     "execution_count": 81,
     "metadata": {},
     "output_type": "execute_result"
    }
   ],
   "source": [
    "dfCitiesFr.label == 'bordes'"
   ]
  },
  {
   "cell_type": "code",
   "execution_count": 82,
   "id": "2c613604-47eb-4cd7-aca9-11d6486714fb",
   "metadata": {},
   "outputs": [
    {
     "data": {
      "text/plain": [
       "0        False\n",
       "1        False\n",
       "2        False\n",
       "3        False\n",
       "4        False\n",
       "         ...  \n",
       "39140    False\n",
       "39141    False\n",
       "39142    False\n",
       "39143    False\n",
       "39144    False\n",
       "Name: department_number, Length: 39145, dtype: bool"
      ]
     },
     "execution_count": 82,
     "metadata": {},
     "output_type": "execute_result"
    }
   ],
   "source": [
    "dfCitiesFr.department_number == '64'"
   ]
  },
  {
   "cell_type": "code",
   "execution_count": 83,
   "id": "b3d76135-ec97-4480-9eaa-5437df9330de",
   "metadata": {},
   "outputs": [
    {
     "data": {
      "text/html": [
       "<div>\n",
       "<style scoped>\n",
       "    .dataframe tbody tr th:only-of-type {\n",
       "        vertical-align: middle;\n",
       "    }\n",
       "\n",
       "    .dataframe tbody tr th {\n",
       "        vertical-align: top;\n",
       "    }\n",
       "\n",
       "    .dataframe thead th {\n",
       "        text-align: right;\n",
       "    }\n",
       "</style>\n",
       "<table border=\"1\" class=\"dataframe\">\n",
       "  <thead>\n",
       "    <tr style=\"text-align: right;\">\n",
       "      <th></th>\n",
       "      <th>insee_code</th>\n",
       "      <th>city_code</th>\n",
       "      <th>zip_code</th>\n",
       "      <th>label</th>\n",
       "      <th>latitude</th>\n",
       "      <th>longitude</th>\n",
       "      <th>department_name</th>\n",
       "      <th>department_number</th>\n",
       "      <th>region_name</th>\n",
       "      <th>region_geojson_name</th>\n",
       "    </tr>\n",
       "  </thead>\n",
       "  <tbody>\n",
       "    <tr>\n",
       "      <th>38931</th>\n",
       "      <td>98711</td>\n",
       "      <td>anaa</td>\n",
       "      <td>98786</td>\n",
       "      <td>hitianau</td>\n",
       "      <td>NaN</td>\n",
       "      <td>NaN</td>\n",
       "      <td>polynésie-française</td>\n",
       "      <td>987</td>\n",
       "      <td>polynésie-française</td>\n",
       "      <td>Polynésie française</td>\n",
       "    </tr>\n",
       "    <tr>\n",
       "      <th>38932</th>\n",
       "      <td>98712</td>\n",
       "      <td>arue</td>\n",
       "      <td>98701</td>\n",
       "      <td>arue</td>\n",
       "      <td>NaN</td>\n",
       "      <td>NaN</td>\n",
       "      <td>polynésie-française</td>\n",
       "      <td>987</td>\n",
       "      <td>polynésie-française</td>\n",
       "      <td>Polynésie française</td>\n",
       "    </tr>\n",
       "    <tr>\n",
       "      <th>38933</th>\n",
       "      <td>98713</td>\n",
       "      <td>arutua</td>\n",
       "      <td>98761</td>\n",
       "      <td>rautini</td>\n",
       "      <td>NaN</td>\n",
       "      <td>NaN</td>\n",
       "      <td>polynésie-française</td>\n",
       "      <td>987</td>\n",
       "      <td>polynésie-française</td>\n",
       "      <td>Polynésie française</td>\n",
       "    </tr>\n",
       "    <tr>\n",
       "      <th>38934</th>\n",
       "      <td>98713</td>\n",
       "      <td>arutua</td>\n",
       "      <td>98762</td>\n",
       "      <td>niutahi</td>\n",
       "      <td>NaN</td>\n",
       "      <td>NaN</td>\n",
       "      <td>polynésie-française</td>\n",
       "      <td>987</td>\n",
       "      <td>polynésie-française</td>\n",
       "      <td>Polynésie française</td>\n",
       "    </tr>\n",
       "    <tr>\n",
       "      <th>38935</th>\n",
       "      <td>98714</td>\n",
       "      <td>bora bora</td>\n",
       "      <td>98730</td>\n",
       "      <td>anau</td>\n",
       "      <td>NaN</td>\n",
       "      <td>NaN</td>\n",
       "      <td>polynésie-française</td>\n",
       "      <td>987</td>\n",
       "      <td>polynésie-française</td>\n",
       "      <td>Polynésie française</td>\n",
       "    </tr>\n",
       "    <tr>\n",
       "      <th>...</th>\n",
       "      <td>...</td>\n",
       "      <td>...</td>\n",
       "      <td>...</td>\n",
       "      <td>...</td>\n",
       "      <td>...</td>\n",
       "      <td>...</td>\n",
       "      <td>...</td>\n",
       "      <td>...</td>\n",
       "      <td>...</td>\n",
       "      <td>...</td>\n",
       "    </tr>\n",
       "    <tr>\n",
       "      <th>39138</th>\n",
       "      <td>98815</td>\n",
       "      <td>mare</td>\n",
       "      <td>98878</td>\n",
       "      <td>la roche</td>\n",
       "      <td>NaN</td>\n",
       "      <td>NaN</td>\n",
       "      <td>nouvelle-calédonie</td>\n",
       "      <td>988</td>\n",
       "      <td>nouvelle-calédonie</td>\n",
       "      <td>Nouvelle Calédonie</td>\n",
       "    </tr>\n",
       "    <tr>\n",
       "      <th>39139</th>\n",
       "      <td>98822</td>\n",
       "      <td>poindimie</td>\n",
       "      <td>98822</td>\n",
       "      <td>poindimie</td>\n",
       "      <td>NaN</td>\n",
       "      <td>NaN</td>\n",
       "      <td>nouvelle-calédonie</td>\n",
       "      <td>988</td>\n",
       "      <td>nouvelle-calédonie</td>\n",
       "      <td>Nouvelle Calédonie</td>\n",
       "    </tr>\n",
       "    <tr>\n",
       "      <th>39140</th>\n",
       "      <td>98829</td>\n",
       "      <td>thio</td>\n",
       "      <td>98829</td>\n",
       "      <td>thio</td>\n",
       "      <td>NaN</td>\n",
       "      <td>NaN</td>\n",
       "      <td>nouvelle-calédonie</td>\n",
       "      <td>988</td>\n",
       "      <td>nouvelle-calédonie</td>\n",
       "      <td>Nouvelle Calédonie</td>\n",
       "    </tr>\n",
       "    <tr>\n",
       "      <th>39141</th>\n",
       "      <td>98831</td>\n",
       "      <td>voh</td>\n",
       "      <td>98833</td>\n",
       "      <td>voh</td>\n",
       "      <td>NaN</td>\n",
       "      <td>NaN</td>\n",
       "      <td>nouvelle-calédonie</td>\n",
       "      <td>988</td>\n",
       "      <td>nouvelle-calédonie</td>\n",
       "      <td>Nouvelle Calédonie</td>\n",
       "    </tr>\n",
       "    <tr>\n",
       "      <th>39142</th>\n",
       "      <td>98832</td>\n",
       "      <td>yate</td>\n",
       "      <td>98834</td>\n",
       "      <td>yate</td>\n",
       "      <td>NaN</td>\n",
       "      <td>NaN</td>\n",
       "      <td>nouvelle-calédonie</td>\n",
       "      <td>988</td>\n",
       "      <td>nouvelle-calédonie</td>\n",
       "      <td>Nouvelle Calédonie</td>\n",
       "    </tr>\n",
       "  </tbody>\n",
       "</table>\n",
       "<p>211 rows × 10 columns</p>\n",
       "</div>"
      ],
      "text/plain": [
       "      insee_code  city_code  zip_code      label  latitude  longitude  \\\n",
       "38931      98711       anaa     98786   hitianau       NaN        NaN   \n",
       "38932      98712       arue     98701       arue       NaN        NaN   \n",
       "38933      98713     arutua     98761    rautini       NaN        NaN   \n",
       "38934      98713     arutua     98762    niutahi       NaN        NaN   \n",
       "38935      98714  bora bora     98730       anau       NaN        NaN   \n",
       "...          ...        ...       ...        ...       ...        ...   \n",
       "39138      98815       mare     98878   la roche       NaN        NaN   \n",
       "39139      98822  poindimie     98822  poindimie       NaN        NaN   \n",
       "39140      98829       thio     98829       thio       NaN        NaN   \n",
       "39141      98831        voh     98833        voh       NaN        NaN   \n",
       "39142      98832       yate     98834       yate       NaN        NaN   \n",
       "\n",
       "           department_name department_number          region_name  \\\n",
       "38931  polynésie-française               987  polynésie-française   \n",
       "38932  polynésie-française               987  polynésie-française   \n",
       "38933  polynésie-française               987  polynésie-française   \n",
       "38934  polynésie-française               987  polynésie-française   \n",
       "38935  polynésie-française               987  polynésie-française   \n",
       "...                    ...               ...                  ...   \n",
       "39138   nouvelle-calédonie               988   nouvelle-calédonie   \n",
       "39139   nouvelle-calédonie               988   nouvelle-calédonie   \n",
       "39140   nouvelle-calédonie               988   nouvelle-calédonie   \n",
       "39141   nouvelle-calédonie               988   nouvelle-calédonie   \n",
       "39142   nouvelle-calédonie               988   nouvelle-calédonie   \n",
       "\n",
       "       region_geojson_name  \n",
       "38931  Polynésie française  \n",
       "38932  Polynésie française  \n",
       "38933  Polynésie française  \n",
       "38934  Polynésie française  \n",
       "38935  Polynésie française  \n",
       "...                    ...  \n",
       "39138   Nouvelle Calédonie  \n",
       "39139   Nouvelle Calédonie  \n",
       "39140   Nouvelle Calédonie  \n",
       "39141   Nouvelle Calédonie  \n",
       "39142   Nouvelle Calédonie  \n",
       "\n",
       "[211 rows x 10 columns]"
      ]
     },
     "execution_count": 83,
     "metadata": {},
     "output_type": "execute_result"
    }
   ],
   "source": [
    "dfCitiesWithoutCoords = dfCitiesFr[dfCitiesFr.latitude.isna()]\n",
    "dfCitiesWithoutCoords"
   ]
  },
  {
   "cell_type": "code",
   "execution_count": 84,
   "id": "ed15e135-6c38-4099-972e-a3555bbc811a",
   "metadata": {},
   "outputs": [
    {
     "data": {
      "text/plain": [
       "array(['polynésie-française', 'nouvelle-calédonie'], dtype=object)"
      ]
     },
     "execution_count": 84,
     "metadata": {},
     "output_type": "execute_result"
    }
   ],
   "source": [
    "dfCitiesWithoutCoords.department_name.unique()"
   ]
  },
  {
   "cell_type": "code",
   "execution_count": 85,
   "id": "72a2a905-378c-4cc3-b324-1ab5e62371d2",
   "metadata": {},
   "outputs": [
    {
     "data": {
      "text/plain": [
       "2"
      ]
     },
     "execution_count": 85,
     "metadata": {},
     "output_type": "execute_result"
    }
   ],
   "source": [
    "dfCitiesWithoutCoords.department_name.nunique()"
   ]
  },
  {
   "cell_type": "code",
   "execution_count": 86,
   "id": "1a9d9e6f-8655-41cd-9c9d-edd8d2d325bd",
   "metadata": {},
   "outputs": [
    {
     "data": {
      "text/html": [
       "<div>\n",
       "<style scoped>\n",
       "    .dataframe tbody tr th:only-of-type {\n",
       "        vertical-align: middle;\n",
       "    }\n",
       "\n",
       "    .dataframe tbody tr th {\n",
       "        vertical-align: top;\n",
       "    }\n",
       "\n",
       "    .dataframe thead th {\n",
       "        text-align: right;\n",
       "    }\n",
       "</style>\n",
       "<table border=\"1\" class=\"dataframe\">\n",
       "  <thead>\n",
       "    <tr style=\"text-align: right;\">\n",
       "      <th></th>\n",
       "      <th>insee_code</th>\n",
       "      <th>city_code</th>\n",
       "      <th>zip_code</th>\n",
       "      <th>label</th>\n",
       "      <th>latitude</th>\n",
       "      <th>longitude</th>\n",
       "      <th>department_name</th>\n",
       "      <th>department_number</th>\n",
       "      <th>region_name</th>\n",
       "      <th>region_geojson_name</th>\n",
       "    </tr>\n",
       "  </thead>\n",
       "  <tbody>\n",
       "    <tr>\n",
       "      <th>0</th>\n",
       "      <td>25620</td>\n",
       "      <td>ville du pont</td>\n",
       "      <td>25650</td>\n",
       "      <td>ville du pont</td>\n",
       "      <td>46.999873</td>\n",
       "      <td>6.498147</td>\n",
       "      <td>doubs</td>\n",
       "      <td>25</td>\n",
       "      <td>bourgogne-franche-comté</td>\n",
       "      <td>Bourgogne-Franche-Comté</td>\n",
       "    </tr>\n",
       "    <tr>\n",
       "      <th>1</th>\n",
       "      <td>25624</td>\n",
       "      <td>villers grelot</td>\n",
       "      <td>25640</td>\n",
       "      <td>villers grelot</td>\n",
       "      <td>47.361512</td>\n",
       "      <td>6.235167</td>\n",
       "      <td>doubs</td>\n",
       "      <td>25</td>\n",
       "      <td>bourgogne-franche-comté</td>\n",
       "      <td>Bourgogne-Franche-Comté</td>\n",
       "    </tr>\n",
       "    <tr>\n",
       "      <th>2</th>\n",
       "      <td>25615</td>\n",
       "      <td>villars les blamont</td>\n",
       "      <td>25310</td>\n",
       "      <td>villars les blamont</td>\n",
       "      <td>47.368384</td>\n",
       "      <td>6.871415</td>\n",
       "      <td>doubs</td>\n",
       "      <td>25</td>\n",
       "      <td>bourgogne-franche-comté</td>\n",
       "      <td>Bourgogne-Franche-Comté</td>\n",
       "    </tr>\n",
       "    <tr>\n",
       "      <th>3</th>\n",
       "      <td>25619</td>\n",
       "      <td>les villedieu</td>\n",
       "      <td>25240</td>\n",
       "      <td>les villedieu</td>\n",
       "      <td>46.713906</td>\n",
       "      <td>6.265831</td>\n",
       "      <td>doubs</td>\n",
       "      <td>25</td>\n",
       "      <td>bourgogne-franche-comté</td>\n",
       "      <td>Bourgogne-Franche-Comté</td>\n",
       "    </tr>\n",
       "    <tr>\n",
       "      <th>4</th>\n",
       "      <td>25622</td>\n",
       "      <td>villers buzon</td>\n",
       "      <td>25170</td>\n",
       "      <td>villers buzon</td>\n",
       "      <td>47.228558</td>\n",
       "      <td>5.852187</td>\n",
       "      <td>doubs</td>\n",
       "      <td>25</td>\n",
       "      <td>bourgogne-franche-comté</td>\n",
       "      <td>Bourgogne-Franche-Comté</td>\n",
       "    </tr>\n",
       "    <tr>\n",
       "      <th>...</th>\n",
       "      <td>...</td>\n",
       "      <td>...</td>\n",
       "      <td>...</td>\n",
       "      <td>...</td>\n",
       "      <td>...</td>\n",
       "      <td>...</td>\n",
       "      <td>...</td>\n",
       "      <td>...</td>\n",
       "      <td>...</td>\n",
       "      <td>...</td>\n",
       "    </tr>\n",
       "    <tr>\n",
       "      <th>38929</th>\n",
       "      <td>97613</td>\n",
       "      <td>m tsangamouji</td>\n",
       "      <td>97650</td>\n",
       "      <td>m tsangamouji</td>\n",
       "      <td>-12.751168</td>\n",
       "      <td>45.086393</td>\n",
       "      <td>mayotte</td>\n",
       "      <td>976</td>\n",
       "      <td>mayotte</td>\n",
       "      <td>Mayotte</td>\n",
       "    </tr>\n",
       "    <tr>\n",
       "      <th>38930</th>\n",
       "      <td>97614</td>\n",
       "      <td>ouangani</td>\n",
       "      <td>97670</td>\n",
       "      <td>ouangani</td>\n",
       "      <td>-12.837567</td>\n",
       "      <td>45.138321</td>\n",
       "      <td>mayotte</td>\n",
       "      <td>976</td>\n",
       "      <td>mayotte</td>\n",
       "      <td>Mayotte</td>\n",
       "    </tr>\n",
       "    <tr>\n",
       "      <th>39104</th>\n",
       "      <td>98901</td>\n",
       "      <td>ile de clipperton</td>\n",
       "      <td>98799</td>\n",
       "      <td>ile de clipperton</td>\n",
       "      <td>10.297389</td>\n",
       "      <td>-109.221264</td>\n",
       "      <td>polynésie-française</td>\n",
       "      <td>987</td>\n",
       "      <td>polynésie-française</td>\n",
       "      <td>Polynésie française</td>\n",
       "    </tr>\n",
       "    <tr>\n",
       "      <th>39143</th>\n",
       "      <td>98612</td>\n",
       "      <td>sigave</td>\n",
       "      <td>98620</td>\n",
       "      <td>sigave</td>\n",
       "      <td>-14.270411</td>\n",
       "      <td>-178.155263</td>\n",
       "      <td>wallis-et-futuna</td>\n",
       "      <td>986</td>\n",
       "      <td>wallis-et-futuna</td>\n",
       "      <td>Wallis-et-Futuna</td>\n",
       "    </tr>\n",
       "    <tr>\n",
       "      <th>39144</th>\n",
       "      <td>98613</td>\n",
       "      <td>uvea</td>\n",
       "      <td>98600</td>\n",
       "      <td>uvea</td>\n",
       "      <td>-13.281863</td>\n",
       "      <td>-176.161928</td>\n",
       "      <td>wallis-et-futuna</td>\n",
       "      <td>986</td>\n",
       "      <td>wallis-et-futuna</td>\n",
       "      <td>Wallis-et-Futuna</td>\n",
       "    </tr>\n",
       "  </tbody>\n",
       "</table>\n",
       "<p>38934 rows × 10 columns</p>\n",
       "</div>"
      ],
      "text/plain": [
       "      insee_code            city_code  zip_code                label  \\\n",
       "0          25620        ville du pont     25650        ville du pont   \n",
       "1          25624       villers grelot     25640       villers grelot   \n",
       "2          25615  villars les blamont     25310  villars les blamont   \n",
       "3          25619        les villedieu     25240        les villedieu   \n",
       "4          25622        villers buzon     25170        villers buzon   \n",
       "...          ...                  ...       ...                  ...   \n",
       "38929      97613        m tsangamouji     97650        m tsangamouji   \n",
       "38930      97614             ouangani     97670             ouangani   \n",
       "39104      98901    ile de clipperton     98799    ile de clipperton   \n",
       "39143      98612               sigave     98620               sigave   \n",
       "39144      98613                 uvea     98600                 uvea   \n",
       "\n",
       "        latitude   longitude      department_name department_number  \\\n",
       "0      46.999873    6.498147                doubs                25   \n",
       "1      47.361512    6.235167                doubs                25   \n",
       "2      47.368384    6.871415                doubs                25   \n",
       "3      46.713906    6.265831                doubs                25   \n",
       "4      47.228558    5.852187                doubs                25   \n",
       "...          ...         ...                  ...               ...   \n",
       "38929 -12.751168   45.086393              mayotte               976   \n",
       "38930 -12.837567   45.138321              mayotte               976   \n",
       "39104  10.297389 -109.221264  polynésie-française               987   \n",
       "39143 -14.270411 -178.155263     wallis-et-futuna               986   \n",
       "39144 -13.281863 -176.161928     wallis-et-futuna               986   \n",
       "\n",
       "                   region_name      region_geojson_name  \n",
       "0      bourgogne-franche-comté  Bourgogne-Franche-Comté  \n",
       "1      bourgogne-franche-comté  Bourgogne-Franche-Comté  \n",
       "2      bourgogne-franche-comté  Bourgogne-Franche-Comté  \n",
       "3      bourgogne-franche-comté  Bourgogne-Franche-Comté  \n",
       "4      bourgogne-franche-comté  Bourgogne-Franche-Comté  \n",
       "...                        ...                      ...  \n",
       "38929                  mayotte                  Mayotte  \n",
       "38930                  mayotte                  Mayotte  \n",
       "39104      polynésie-française      Polynésie française  \n",
       "39143         wallis-et-futuna         Wallis-et-Futuna  \n",
       "39144         wallis-et-futuna         Wallis-et-Futuna  \n",
       "\n",
       "[38934 rows x 10 columns]"
      ]
     },
     "execution_count": 86,
     "metadata": {},
     "output_type": "execute_result"
    }
   ],
   "source": [
    "dfCitiesWithCoords = dfCitiesFr[~dfCitiesFr.latitude.isna()]  # ou directement 'notna'\n",
    "dfCitiesWithCoords"
   ]
  },
  {
   "cell_type": "code",
   "execution_count": 87,
   "id": "35a83230-adba-4885-a806-cc329e982a10",
   "metadata": {},
   "outputs": [
    {
     "data": {
      "text/plain": [
       "46.694541953733136"
      ]
     },
     "execution_count": 87,
     "metadata": {},
     "output_type": "execute_result"
    }
   ],
   "source": [
    "dfCitiesFr.latitude.mean() # Series.mean()"
   ]
  },
  {
   "cell_type": "code",
   "execution_count": 88,
   "id": "71cdf100-e0d3-463e-9313-d3ec7ac91926",
   "metadata": {},
   "outputs": [
    {
     "data": {
      "text/plain": [
       "(46.694541953733136, 46.694541953733136)"
      ]
     },
     "execution_count": 88,
     "metadata": {},
     "output_type": "execute_result"
    }
   ],
   "source": [
    "np.mean(dfCitiesFr.latitude), np.nanmean(dfCitiesFr.latitude) # numpy.mean sur la pandas.Series"
   ]
  },
  {
   "cell_type": "code",
   "execution_count": 89,
   "id": "c9c5f700-fa5f-4ac5-9956-69b0d545d5be",
   "metadata": {},
   "outputs": [
    {
     "data": {
      "text/plain": [
       "(nan, 46.694541953733136)"
      ]
     },
     "execution_count": 89,
     "metadata": {},
     "output_type": "execute_result"
    }
   ],
   "source": [
    "np.mean(dfCitiesFr.latitude.values), np.nanmean(dfCitiesFr.latitude.values) # numpy.mean on raw data (ndarray)"
   ]
  },
  {
   "cell_type": "code",
   "execution_count": 90,
   "id": "e654df02-0e15-4ab5-8253-24c2c8acb66b",
   "metadata": {},
   "outputs": [
    {
     "data": {
      "text/plain": [
       "nan"
      ]
     },
     "execution_count": 90,
     "metadata": {},
     "output_type": "execute_result"
    }
   ],
   "source": [
    "statistics.mean(dfCitiesFr.latitude.values)"
   ]
  },
  {
   "cell_type": "code",
   "execution_count": 91,
   "id": "54ea7a19-4bd8-4ee2-bc0f-211aea8d071a",
   "metadata": {},
   "outputs": [
    {
     "data": {
      "text/plain": [
       "array([ 46.9998734 ,  47.36151209,  47.36838372, ...,          nan,\n",
       "       -14.2704112 , -13.28186254])"
      ]
     },
     "execution_count": 91,
     "metadata": {},
     "output_type": "execute_result"
    }
   ],
   "source": [
    "dfCitiesFr.latitude.values"
   ]
  },
  {
   "cell_type": "code",
   "execution_count": 92,
   "id": "323ddb57-0ce8-4999-8369-09ee3253702f",
   "metadata": {},
   "outputs": [
    {
     "data": {
      "text/plain": [
       "numpy.ndarray"
      ]
     },
     "execution_count": 92,
     "metadata": {},
     "output_type": "execute_result"
    }
   ],
   "source": [
    "type(dfCitiesFr.latitude.values)"
   ]
  },
  {
   "cell_type": "markdown",
   "id": "8d196168-9587-480b-8dcc-48b376f7a576",
   "metadata": {},
   "source": [
    "## getitem, setitem, slice, subscriptable object"
   ]
  },
  {
   "cell_type": "markdown",
   "id": "8a573306-4067-466e-8662-9c3b890b4083",
   "metadata": {},
   "source": [
    "### str"
   ]
  },
  {
   "cell_type": "code",
   "execution_count": 93,
   "id": "cefccd27-5a40-432b-b31c-1e76610658c4",
   "metadata": {},
   "outputs": [
    {
     "data": {
      "text/plain": [
       "('T', 'e', 'e', 'T')"
      ]
     },
     "execution_count": 93,
     "metadata": {},
     "output_type": "execute_result"
    }
   ],
   "source": [
    "city = \"Toulouse\"\n",
    "city[0], city[7], city[-1], city[-8]   #, city[8] => IndexError: string index out of range"
   ]
  },
  {
   "cell_type": "code",
   "execution_count": 94,
   "id": "51ba878a-7ef5-4cd5-9a9b-7ec04525d91f",
   "metadata": {},
   "outputs": [],
   "source": [
    "# TypeError: 'str' object does not support item assignment\n",
    "# city[0] = 'Z'"
   ]
  },
  {
   "cell_type": "markdown",
   "id": "d0da66bc-a36b-4cd9-9021-2773ca2d059f",
   "metadata": {},
   "source": [
    "### list"
   ]
  },
  {
   "cell_type": "code",
   "execution_count": 95,
   "id": "9069df75-8442-4ef6-bed0-b405ff1ae26a",
   "metadata": {},
   "outputs": [
    {
     "data": {
      "text/plain": [
       "[44, 22, 33]"
      ]
     },
     "execution_count": 95,
     "metadata": {},
     "output_type": "execute_result"
    }
   ],
   "source": [
    "numbers = [11, 22, 33]\n",
    "numbers[0] = 44\n",
    "numbers"
   ]
  },
  {
   "cell_type": "markdown",
   "id": "89a80eab-ffbe-4f35-95f2-373afac5ebf2",
   "metadata": {},
   "source": [
    "### dict"
   ]
  },
  {
   "cell_type": "code",
   "execution_count": 96,
   "id": "1bf3066d-49e1-4b9a-ab5b-e21cb7e3a8fd",
   "metadata": {},
   "outputs": [
    {
     "data": {
      "text/plain": [
       "'T'"
      ]
     },
     "execution_count": 96,
     "metadata": {},
     "output_type": "execute_result"
    }
   ],
   "source": [
    "cityT = (\"Toulouse\", 470_000, \"31000\")\n",
    "city[0]"
   ]
  },
  {
   "cell_type": "code",
   "execution_count": 97,
   "id": "21317e91-6550-4820-af5d-1ee3ab473e53",
   "metadata": {},
   "outputs": [
    {
     "name": "stdout",
     "output_type": "stream",
     "text": [
      "Toulouse 470000 31000\n"
     ]
    }
   ],
   "source": [
    "name, pop, zipcode = cityT\n",
    "print(name, pop, zipcode)"
   ]
  },
  {
   "cell_type": "code",
   "execution_count": 98,
   "id": "08743e04-054a-4ccf-b68e-d837b59f410f",
   "metadata": {},
   "outputs": [],
   "source": [
    "name, pop,_ = cityT"
   ]
  },
  {
   "cell_type": "code",
   "execution_count": 99,
   "id": "ecf4cadd-705e-4a93-8044-698564a9db8c",
   "metadata": {},
   "outputs": [
    {
     "data": {
      "text/plain": [
       "(9.99447096232123, 3.004999655200169, (1000000,))"
      ]
     },
     "execution_count": 99,
     "metadata": {},
     "output_type": "execute_result"
    }
   ],
   "source": [
    "data = np.random.normal(10, 3, 1_000_000)\n",
    "data.mean(), data.std(), data.shape"
   ]
  },
  {
   "cell_type": "code",
   "execution_count": 100,
   "id": "77a3c56f-a105-488d-a929-2dacfa3f340b",
   "metadata": {},
   "outputs": [
    {
     "data": {
      "text/plain": [
       "(13.050561776002276, 8.76705599180255, 9.843518558537681)"
      ]
     },
     "execution_count": 100,
     "metadata": {},
     "output_type": "execute_result"
    }
   ],
   "source": [
    "data[0], data[500_000], data[-1]"
   ]
  },
  {
   "cell_type": "code",
   "execution_count": 101,
   "id": "92a534e1-ef3a-4c10-8d2b-6fbccc51f5b3",
   "metadata": {},
   "outputs": [
    {
     "data": {
      "text/plain": [
       "'Toulouse'"
      ]
     },
     "execution_count": 101,
     "metadata": {},
     "output_type": "execute_result"
    }
   ],
   "source": [
    "cityD = {\n",
    "    \"nom\": \"Toulouse\", \n",
    "    \"population\": 470_000, \n",
    "    \"code_postal\": \"31000\"\n",
    "}\n",
    "cityD[\"nom\"]"
   ]
  },
  {
   "cell_type": "code",
   "execution_count": 102,
   "id": "03155352-69ea-4d65-bc18-aad3fdad4c40",
   "metadata": {},
   "outputs": [
    {
     "data": {
      "text/plain": [
       "False"
      ]
     },
     "execution_count": 102,
     "metadata": {},
     "output_type": "execute_result"
    }
   ],
   "source": [
    "'name' in cityD"
   ]
  },
  {
   "cell_type": "code",
   "execution_count": 103,
   "id": "0091326e-4f93-4672-a6e8-63bdd82122b0",
   "metadata": {},
   "outputs": [],
   "source": [
    "try:\n",
    "    cityD[\"name\"]\n",
    "except: # all exceptions\n",
    "    pass"
   ]
  },
  {
   "cell_type": "code",
   "execution_count": 104,
   "id": "0aeeefad-acc1-4731-942e-a89d6bbb0998",
   "metadata": {},
   "outputs": [
    {
     "name": "stdout",
     "output_type": "stream",
     "text": [
      "KeyError exception happend: 'name'\n"
     ]
    }
   ],
   "source": [
    "try:\n",
    "    cityD[\"name\"]\n",
    "except KeyError as e: # one precise exception\n",
    "    print(\"KeyError exception happend:\", e)\n",
    "    # print(dir(e))"
   ]
  },
  {
   "cell_type": "code",
   "execution_count": 105,
   "id": "ff1e19b8-53e3-46a4-a998-d6114c937322",
   "metadata": {},
   "outputs": [],
   "source": [
    "try:\n",
    "    cityD[\"name\"]\n",
    "except KeyError: # one precise exception\n",
    "    pass"
   ]
  },
  {
   "cell_type": "markdown",
   "id": "65d92322-a3c2-4756-bd16-13ab83ecc34c",
   "metadata": {},
   "source": [
    "### DataFrame"
   ]
  },
  {
   "cell_type": "code",
   "execution_count": 106,
   "id": "61a392d2-496d-493a-8ddd-05cb59e034ee",
   "metadata": {},
   "outputs": [
    {
     "data": {
      "text/plain": [
       "0              ville du pont\n",
       "1             villers grelot\n",
       "2        villars les blamont\n",
       "3              les villedieu\n",
       "4              villers buzon\n",
       "                ...         \n",
       "39140                   thio\n",
       "39141                    voh\n",
       "39142                   yate\n",
       "39143                 sigave\n",
       "39144                   uvea\n",
       "Name: label, Length: 39145, dtype: object"
      ]
     },
     "execution_count": 106,
     "metadata": {},
     "output_type": "execute_result"
    }
   ],
   "source": [
    "# colonne\n",
    "dfCitiesFr['label']"
   ]
  },
  {
   "cell_type": "code",
   "execution_count": 107,
   "id": "0ece2415-f2ab-48ec-a86e-dadb7ab3d2bf",
   "metadata": {},
   "outputs": [
    {
     "data": {
      "text/plain": [
       "insee_code                               25615\n",
       "city_code                  villars les blamont\n",
       "zip_code                                 25310\n",
       "label                      villars les blamont\n",
       "latitude                             47.368384\n",
       "longitude                             6.871415\n",
       "department_name                          doubs\n",
       "department_number                           25\n",
       "region_name            bourgogne-franche-comté\n",
       "region_geojson_name    Bourgogne-Franche-Comté\n",
       "Name: 2, dtype: object"
      ]
     },
     "execution_count": 107,
     "metadata": {},
     "output_type": "execute_result"
    }
   ],
   "source": [
    "dfCitiesFr.loc[2]"
   ]
  },
  {
   "cell_type": "code",
   "execution_count": 108,
   "id": "e5ab55af-082c-4c40-9b71-bb4721888071",
   "metadata": {},
   "outputs": [
    {
     "data": {
      "text/plain": [
       "insee_code                               25615\n",
       "city_code                  villars les blamont\n",
       "zip_code                                 25310\n",
       "label                      villars les blamont\n",
       "latitude                             47.368384\n",
       "longitude                             6.871415\n",
       "department_name                          doubs\n",
       "department_number                           25\n",
       "region_name            bourgogne-franche-comté\n",
       "region_geojson_name    Bourgogne-Franche-Comté\n",
       "Name: 2, dtype: object"
      ]
     },
     "execution_count": 108,
     "metadata": {},
     "output_type": "execute_result"
    }
   ],
   "source": [
    "dfCitiesFr.iloc[2]"
   ]
  },
  {
   "cell_type": "code",
   "execution_count": 109,
   "id": "16f5ff88-4901-4e06-b6e5-472220f8ef69",
   "metadata": {},
   "outputs": [
    {
     "data": {
      "text/html": [
       "<div>\n",
       "<style scoped>\n",
       "    .dataframe tbody tr th:only-of-type {\n",
       "        vertical-align: middle;\n",
       "    }\n",
       "\n",
       "    .dataframe tbody tr th {\n",
       "        vertical-align: top;\n",
       "    }\n",
       "\n",
       "    .dataframe thead th {\n",
       "        text-align: right;\n",
       "    }\n",
       "</style>\n",
       "<table border=\"1\" class=\"dataframe\">\n",
       "  <thead>\n",
       "    <tr style=\"text-align: right;\">\n",
       "      <th></th>\n",
       "      <th>insee_code</th>\n",
       "      <th>city_code</th>\n",
       "      <th>zip_code</th>\n",
       "      <th>label</th>\n",
       "      <th>latitude</th>\n",
       "      <th>longitude</th>\n",
       "      <th>department_name</th>\n",
       "      <th>department_number</th>\n",
       "      <th>region_name</th>\n",
       "      <th>region_geojson_name</th>\n",
       "    </tr>\n",
       "  </thead>\n",
       "  <tbody>\n",
       "    <tr>\n",
       "      <th>5528</th>\n",
       "      <td>01004</td>\n",
       "      <td>amberieu en bugey</td>\n",
       "      <td>1500</td>\n",
       "      <td>amberieu en bugey</td>\n",
       "      <td>45.961049</td>\n",
       "      <td>5.372275</td>\n",
       "      <td>ain</td>\n",
       "      <td>01</td>\n",
       "      <td>auvergne-rhône-alpes</td>\n",
       "      <td>Auvergne-Rhône-Alpes</td>\n",
       "    </tr>\n",
       "    <tr>\n",
       "      <th>20381</th>\n",
       "      <td>01005</td>\n",
       "      <td>amberieux en dombes</td>\n",
       "      <td>1330</td>\n",
       "      <td>amberieux en dombes</td>\n",
       "      <td>45.996164</td>\n",
       "      <td>4.911967</td>\n",
       "      <td>ain</td>\n",
       "      <td>01</td>\n",
       "      <td>auvergne-rhône-alpes</td>\n",
       "      <td>Auvergne-Rhône-Alpes</td>\n",
       "    </tr>\n",
       "    <tr>\n",
       "      <th>20382</th>\n",
       "      <td>01006</td>\n",
       "      <td>ambleon</td>\n",
       "      <td>1300</td>\n",
       "      <td>ambleon</td>\n",
       "      <td>45.749886</td>\n",
       "      <td>5.594585</td>\n",
       "      <td>ain</td>\n",
       "      <td>01</td>\n",
       "      <td>auvergne-rhône-alpes</td>\n",
       "      <td>Auvergne-Rhône-Alpes</td>\n",
       "    </tr>\n",
       "    <tr>\n",
       "      <th>4640</th>\n",
       "      <td>01007</td>\n",
       "      <td>ambronay</td>\n",
       "      <td>1500</td>\n",
       "      <td>ambronay</td>\n",
       "      <td>46.005691</td>\n",
       "      <td>5.357749</td>\n",
       "      <td>ain</td>\n",
       "      <td>01</td>\n",
       "      <td>auvergne-rhône-alpes</td>\n",
       "      <td>Auvergne-Rhône-Alpes</td>\n",
       "    </tr>\n",
       "    <tr>\n",
       "      <th>4605</th>\n",
       "      <td>01008</td>\n",
       "      <td>ambutrix</td>\n",
       "      <td>1500</td>\n",
       "      <td>ambutrix</td>\n",
       "      <td>45.936683</td>\n",
       "      <td>5.332447</td>\n",
       "      <td>ain</td>\n",
       "      <td>01</td>\n",
       "      <td>auvergne-rhône-alpes</td>\n",
       "      <td>Auvergne-Rhône-Alpes</td>\n",
       "    </tr>\n",
       "    <tr>\n",
       "      <th>...</th>\n",
       "      <td>...</td>\n",
       "      <td>...</td>\n",
       "      <td>...</td>\n",
       "      <td>...</td>\n",
       "      <td>...</td>\n",
       "      <td>...</td>\n",
       "      <td>...</td>\n",
       "      <td>...</td>\n",
       "      <td>...</td>\n",
       "      <td>...</td>\n",
       "    </tr>\n",
       "    <tr>\n",
       "      <th>39123</th>\n",
       "      <td>98830</td>\n",
       "      <td>touho</td>\n",
       "      <td>98831</td>\n",
       "      <td>touho</td>\n",
       "      <td>NaN</td>\n",
       "      <td>NaN</td>\n",
       "      <td>nouvelle-calédonie</td>\n",
       "      <td>988</td>\n",
       "      <td>nouvelle-calédonie</td>\n",
       "      <td>Nouvelle Calédonie</td>\n",
       "    </tr>\n",
       "    <tr>\n",
       "      <th>39118</th>\n",
       "      <td>98809</td>\n",
       "      <td>l ile des pins</td>\n",
       "      <td>98832</td>\n",
       "      <td>vao</td>\n",
       "      <td>NaN</td>\n",
       "      <td>NaN</td>\n",
       "      <td>nouvelle-calédonie</td>\n",
       "      <td>988</td>\n",
       "      <td>nouvelle-calédonie</td>\n",
       "      <td>Nouvelle Calédonie</td>\n",
       "    </tr>\n",
       "    <tr>\n",
       "      <th>39141</th>\n",
       "      <td>98831</td>\n",
       "      <td>voh</td>\n",
       "      <td>98833</td>\n",
       "      <td>voh</td>\n",
       "      <td>NaN</td>\n",
       "      <td>NaN</td>\n",
       "      <td>nouvelle-calédonie</td>\n",
       "      <td>988</td>\n",
       "      <td>nouvelle-calédonie</td>\n",
       "      <td>Nouvelle Calédonie</td>\n",
       "    </tr>\n",
       "    <tr>\n",
       "      <th>39107</th>\n",
       "      <td>98814</td>\n",
       "      <td>lifou</td>\n",
       "      <td>98820</td>\n",
       "      <td>we</td>\n",
       "      <td>NaN</td>\n",
       "      <td>NaN</td>\n",
       "      <td>nouvelle-calédonie</td>\n",
       "      <td>988</td>\n",
       "      <td>nouvelle-calédonie</td>\n",
       "      <td>Nouvelle Calédonie</td>\n",
       "    </tr>\n",
       "    <tr>\n",
       "      <th>39142</th>\n",
       "      <td>98832</td>\n",
       "      <td>yate</td>\n",
       "      <td>98834</td>\n",
       "      <td>yate</td>\n",
       "      <td>NaN</td>\n",
       "      <td>NaN</td>\n",
       "      <td>nouvelle-calédonie</td>\n",
       "      <td>988</td>\n",
       "      <td>nouvelle-calédonie</td>\n",
       "      <td>Nouvelle Calédonie</td>\n",
       "    </tr>\n",
       "  </tbody>\n",
       "</table>\n",
       "<p>39145 rows × 10 columns</p>\n",
       "</div>"
      ],
      "text/plain": [
       "      insee_code            city_code  zip_code                label  \\\n",
       "5528       01004    amberieu en bugey      1500    amberieu en bugey   \n",
       "20381      01005  amberieux en dombes      1330  amberieux en dombes   \n",
       "20382      01006              ambleon      1300              ambleon   \n",
       "4640       01007             ambronay      1500             ambronay   \n",
       "4605       01008             ambutrix      1500             ambutrix   \n",
       "...          ...                  ...       ...                  ...   \n",
       "39123      98830                touho     98831                touho   \n",
       "39118      98809       l ile des pins     98832                  vao   \n",
       "39141      98831                  voh     98833                  voh   \n",
       "39107      98814                lifou     98820                   we   \n",
       "39142      98832                 yate     98834                 yate   \n",
       "\n",
       "        latitude  longitude     department_name department_number  \\\n",
       "5528   45.961049   5.372275                 ain                01   \n",
       "20381  45.996164   4.911967                 ain                01   \n",
       "20382  45.749886   5.594585                 ain                01   \n",
       "4640   46.005691   5.357749                 ain                01   \n",
       "4605   45.936683   5.332447                 ain                01   \n",
       "...          ...        ...                 ...               ...   \n",
       "39123        NaN        NaN  nouvelle-calédonie               988   \n",
       "39118        NaN        NaN  nouvelle-calédonie               988   \n",
       "39141        NaN        NaN  nouvelle-calédonie               988   \n",
       "39107        NaN        NaN  nouvelle-calédonie               988   \n",
       "39142        NaN        NaN  nouvelle-calédonie               988   \n",
       "\n",
       "                region_name   region_geojson_name  \n",
       "5528   auvergne-rhône-alpes  Auvergne-Rhône-Alpes  \n",
       "20381  auvergne-rhône-alpes  Auvergne-Rhône-Alpes  \n",
       "20382  auvergne-rhône-alpes  Auvergne-Rhône-Alpes  \n",
       "4640   auvergne-rhône-alpes  Auvergne-Rhône-Alpes  \n",
       "4605   auvergne-rhône-alpes  Auvergne-Rhône-Alpes  \n",
       "...                     ...                   ...  \n",
       "39123    nouvelle-calédonie    Nouvelle Calédonie  \n",
       "39118    nouvelle-calédonie    Nouvelle Calédonie  \n",
       "39141    nouvelle-calédonie    Nouvelle Calédonie  \n",
       "39107    nouvelle-calédonie    Nouvelle Calédonie  \n",
       "39142    nouvelle-calédonie    Nouvelle Calédonie  \n",
       "\n",
       "[39145 rows x 10 columns]"
      ]
     },
     "execution_count": 109,
     "metadata": {},
     "output_type": "execute_result"
    }
   ],
   "source": [
    "dfCitiesFrSorted = dfCitiesFr.sort_values(['department_number', 'label'])\n",
    "dfCitiesFrSorted"
   ]
  },
  {
   "cell_type": "code",
   "execution_count": 110,
   "id": "19c3e46b-a484-4386-ad56-3567724c73f4",
   "metadata": {},
   "outputs": [
    {
     "data": {
      "text/plain": [
       "insee_code                               25615\n",
       "city_code                  villars les blamont\n",
       "zip_code                                 25310\n",
       "label                      villars les blamont\n",
       "latitude                             47.368384\n",
       "longitude                             6.871415\n",
       "department_name                          doubs\n",
       "department_number                           25\n",
       "region_name            bourgogne-franche-comté\n",
       "region_geojson_name    Bourgogne-Franche-Comté\n",
       "Name: 2, dtype: object"
      ]
     },
     "execution_count": 110,
     "metadata": {},
     "output_type": "execute_result"
    }
   ],
   "source": [
    "dfCitiesFrSorted.loc[2]"
   ]
  },
  {
   "cell_type": "code",
   "execution_count": 111,
   "id": "339f91b9-a357-4139-a157-fbbf51e08ef9",
   "metadata": {},
   "outputs": [
    {
     "data": {
      "text/plain": [
       "insee_code                            01006\n",
       "city_code                           ambleon\n",
       "zip_code                               1300\n",
       "label                               ambleon\n",
       "latitude                          45.749886\n",
       "longitude                          5.594585\n",
       "department_name                         ain\n",
       "department_number                        01\n",
       "region_name            auvergne-rhône-alpes\n",
       "region_geojson_name    Auvergne-Rhône-Alpes\n",
       "Name: 20382, dtype: object"
      ]
     },
     "execution_count": 111,
     "metadata": {},
     "output_type": "execute_result"
    }
   ],
   "source": [
    "dfCitiesFrSorted.iloc[2]"
   ]
  },
  {
   "cell_type": "code",
   "execution_count": 112,
   "id": "e22e72d1-c55d-4cef-a328-0a66c7db5fe5",
   "metadata": {},
   "outputs": [
    {
     "data": {
      "text/plain": [
       "insee_code                        98613\n",
       "city_code                          uvea\n",
       "zip_code                          98600\n",
       "label                              uvea\n",
       "latitude                     -13.281863\n",
       "longitude                   -176.161928\n",
       "department_name        wallis-et-futuna\n",
       "department_number                   986\n",
       "region_name            wallis-et-futuna\n",
       "region_geojson_name    Wallis-et-Futuna\n",
       "Name: 39144, dtype: object"
      ]
     },
     "execution_count": 112,
     "metadata": {},
     "output_type": "execute_result"
    }
   ],
   "source": [
    "dfCitiesFr.iloc[-1]"
   ]
  },
  {
   "cell_type": "code",
   "execution_count": 113,
   "id": "4c55d449-6512-4f24-a3b6-61df55358e7e",
   "metadata": {},
   "outputs": [
    {
     "data": {
      "text/plain": [
       "insee_code                          98832\n",
       "city_code                            yate\n",
       "zip_code                            98834\n",
       "label                                yate\n",
       "latitude                              NaN\n",
       "longitude                             NaN\n",
       "department_name        nouvelle-calédonie\n",
       "department_number                     988\n",
       "region_name            nouvelle-calédonie\n",
       "region_geojson_name    Nouvelle Calédonie\n",
       "Name: 39142, dtype: object"
      ]
     },
     "execution_count": 113,
     "metadata": {},
     "output_type": "execute_result"
    }
   ],
   "source": [
    "dfCitiesFrSorted.iloc[-1]"
   ]
  },
  {
   "cell_type": "markdown",
   "id": "6896c5c3-339f-40da-8dec-c5a43e695f4e",
   "metadata": {},
   "source": [
    "### ndarray"
   ]
  },
  {
   "cell_type": "code",
   "execution_count": 114,
   "id": "da55ffcd-9ce5-4780-96f8-a2fc718a9384",
   "metadata": {},
   "outputs": [
    {
     "data": {
      "text/plain": [
       "<BarContainer object of 1000 artists>"
      ]
     },
     "execution_count": 114,
     "metadata": {},
     "output_type": "execute_result"
    },
    {
     "data": {
      "image/png": "[encoded data removed]",
      "text/plain": [
       "<Figure size 640x480 with 1 Axes>"
      ]
     },
     "metadata": {},
     "output_type": "display_data"
    }
   ],
   "source": [
    "_,_,g = plt.hist(data, bins=1000)\n",
    "g"
   ]
  },
  {
   "cell_type": "markdown",
   "id": "2538968b-f710-4c53-aef5-cee7da9099b1",
   "metadata": {},
   "source": [
    "### Slices"
   ]
  },
  {
   "cell_type": "code",
   "execution_count": 115,
   "id": "3dd3ddf1-cc55-42a1-8543-c0421b2f5203",
   "metadata": {},
   "outputs": [
    {
     "name": "stdout",
     "output_type": "stream",
     "text": [
      "Tou\n",
      "Tou\n"
     ]
    }
   ],
   "source": [
    "# 3 premières lettres\n",
    "print(city[0:3])\n",
    "print(city[:3])"
   ]
  },
  {
   "cell_type": "code",
   "execution_count": 116,
   "id": "5cf40ce8-e8a3-4b2f-b115-5a4350f4df93",
   "metadata": {},
   "outputs": [
    {
     "name": "stdout",
     "output_type": "stream",
     "text": [
      "lou\n",
      "se\n",
      "Toulouse\n"
     ]
    }
   ],
   "source": [
    "# autres slices\n",
    "print(city[3:6])\n",
    "print(city[6:])\n",
    "print(city[:])"
   ]
  },
  {
   "cell_type": "code",
   "execution_count": 117,
   "id": "05864abf-aba3-4556-ae92-75e13991c0cd",
   "metadata": {},
   "outputs": [
    {
     "data": {
      "text/plain": [
       "'use'"
      ]
     },
     "execution_count": 117,
     "metadata": {},
     "output_type": "execute_result"
    }
   ],
   "source": [
    "# 3 dernières lettres\n",
    "city[-3:]"
   ]
  },
  {
   "cell_type": "code",
   "execution_count": 118,
   "id": "14713cfb-e6d9-4c81-a553-4d2aa8031966",
   "metadata": {},
   "outputs": [
    {
     "data": {
      "text/plain": [
       "'esuoluoT'"
      ]
     },
     "execution_count": 118,
     "metadata": {},
     "output_type": "execute_result"
    }
   ],
   "source": [
    "# mot à l'envers\n",
    "city[::-1]"
   ]
  },
  {
   "cell_type": "markdown",
   "id": "6796169c-b80c-477e-9483-248c66a38775",
   "metadata": {},
   "source": [
    "#### ndarray from numpy"
   ]
  },
  {
   "cell_type": "code",
   "execution_count": 119,
   "id": "a91fe527-4497-47eb-874c-bd5872d3fdc5",
   "metadata": {},
   "outputs": [
    {
     "data": {
      "text/plain": [
       "array([13.05056178, 10.18115098, 15.40287808, ...,  6.78172644,\n",
       "        9.24579907,  9.84351856])"
      ]
     },
     "execution_count": 119,
     "metadata": {},
     "output_type": "execute_result"
    }
   ],
   "source": [
    "data"
   ]
  },
  {
   "cell_type": "code",
   "execution_count": 120,
   "id": "4da655c9-fa48-47e8-9206-bcaf60d4e13a",
   "metadata": {},
   "outputs": [
    {
     "data": {
      "text/plain": [
       "numpy.ndarray"
      ]
     },
     "execution_count": 120,
     "metadata": {},
     "output_type": "execute_result"
    }
   ],
   "source": [
    "type(data)"
   ]
  },
  {
   "cell_type": "code",
   "execution_count": 121,
   "id": "3f92763d-e703-4a2d-9215-9a04f1aa87ab",
   "metadata": {},
   "outputs": [
    {
     "data": {
      "text/plain": [
       "array([13.05056178, 10.18115098, 15.40287808, 13.63252307, 12.02484871,\n",
       "       11.90664741,  7.01920103, 10.51650534,  6.78508406,  7.98089542,\n",
       "        7.33086678, 13.70882263,  9.6262505 , 12.63623389, 10.95338293,\n",
       "        7.25522814, 17.23447682,  9.99349138, 13.45058506, 10.33724573])"
      ]
     },
     "execution_count": 121,
     "metadata": {},
     "output_type": "execute_result"
    }
   ],
   "source": [
    "data[:20]"
   ]
  },
  {
   "cell_type": "code",
   "execution_count": 122,
   "id": "b2cb5520-546f-4ebc-a5d5-7ce48b201b64",
   "metadata": {},
   "outputs": [],
   "source": [
    "# prendre un échantillon tous les 10 valeurs et tracer l'histogramme"
   ]
  },
  {
   "cell_type": "code",
   "execution_count": 123,
   "id": "d36d4a77-6705-4884-a9ca-70c372536b75",
   "metadata": {},
   "outputs": [
    {
     "name": "stdout",
     "output_type": "stream",
     "text": [
      "100000\n",
      "(100000,)\n"
     ]
    }
   ],
   "source": [
    "echantillon = data[::10]\n",
    "print(len(echantillon))\n",
    "print(echantillon.shape)"
   ]
  },
  {
   "cell_type": "code",
   "execution_count": 124,
   "id": "6ef51db3-d8d3-461d-a38f-f8554a6230af",
   "metadata": {},
   "outputs": [
    {
     "data": {
      "image/png": "[encoded data removed]",
      "text/plain": [
       "<Figure size 640x480 with 1 Axes>"
      ]
     },
     "metadata": {},
     "output_type": "display_data"
    }
   ],
   "source": [
    "_ = plt.hist(echantillon, bins=300)"
   ]
  },
  {
   "cell_type": "code",
   "execution_count": 125,
   "id": "5bf25f80-3f86-43ec-8d68-7357cb1f8c96",
   "metadata": {},
   "outputs": [
    {
     "data": {
      "text/plain": [
       "  C_CONTIGUOUS : False\n",
       "  F_CONTIGUOUS : False\n",
       "  OWNDATA : False\n",
       "  WRITEABLE : True\n",
       "  ALIGNED : True\n",
       "  WRITEBACKIFCOPY : False"
      ]
     },
     "execution_count": 125,
     "metadata": {},
     "output_type": "execute_result"
    }
   ],
   "source": [
    "echantillon.flags # echantillon n'est pas une copie, c'est une vue"
   ]
  },
  {
   "cell_type": "code",
   "execution_count": 126,
   "id": "85a1f24f-b8f1-4c38-8cb7-d558040468f9",
   "metadata": {},
   "outputs": [
    {
     "data": {
      "text/plain": [
       "array([13.05056178,  9.9       ,  7.90032549, ...,  5.8086339 ,\n",
       "        6.97409017, 11.31791931])"
      ]
     },
     "execution_count": 126,
     "metadata": {},
     "output_type": "execute_result"
    }
   ],
   "source": [
    "echantillon[1] = 9.9\n",
    "echantillon"
   ]
  },
  {
   "cell_type": "code",
   "execution_count": 127,
   "id": "b0e4fff5-9be0-4690-810c-5d51d429b732",
   "metadata": {},
   "outputs": [
    {
     "data": {
      "text/plain": [
       "array([13.05056178, 10.18115098, 15.40287808, 13.63252307, 12.02484871,\n",
       "       11.90664741,  7.01920103, 10.51650534,  6.78508406,  7.98089542,\n",
       "        9.9       ])"
      ]
     },
     "execution_count": 127,
     "metadata": {},
     "output_type": "execute_result"
    }
   ],
   "source": [
    "data[:11]"
   ]
  },
  {
   "cell_type": "code",
   "execution_count": 128,
   "id": "72ca3364-74ee-4478-8d82-498026b0f422",
   "metadata": {},
   "outputs": [
    {
     "name": "stdout",
     "output_type": "stream",
     "text": [
      "(1000, 1000)\n",
      "  C_CONTIGUOUS : True\n",
      "  F_CONTIGUOUS : False\n",
      "  OWNDATA : False\n",
      "  WRITEABLE : True\n",
      "  ALIGNED : True\n",
      "  WRITEBACKIFCOPY : False\n",
      "\n"
     ]
    }
   ],
   "source": [
    "data2d = data.reshape((1000,1000))\n",
    "print(data2d.shape)\n",
    "print(data2d.flags)"
   ]
  },
  {
   "cell_type": "code",
   "execution_count": 129,
   "id": "3e76e951-d9b3-400e-acc2-6f719165d76e",
   "metadata": {},
   "outputs": [
    {
     "data": {
      "text/plain": [
       "12.865895976465008"
      ]
     },
     "execution_count": 129,
     "metadata": {},
     "output_type": "execute_result"
    }
   ],
   "source": [
    "data2d[3,4]"
   ]
  },
  {
   "cell_type": "code",
   "execution_count": 130,
   "id": "0b0e4d9f-a826-4a0a-a84d-ec56f04115ed",
   "metadata": {},
   "outputs": [],
   "source": [
    "assert data2d[3,4] == data2d[3][4]"
   ]
  },
  {
   "cell_type": "code",
   "execution_count": 131,
   "id": "3a87d764-1b51-4323-b950-08a544b37a44",
   "metadata": {
    "tags": []
   },
   "outputs": [
    {
     "data": {
      "text/plain": [
       "array([ 8.47091004e+00,  3.99008867e+00,  1.13500864e+01,  8.71292359e+00,\n",
       "        1.28658960e+01,  1.48914894e+01,  8.32943200e+00,  1.13190352e+01,\n",
       "        8.52685674e+00,  7.56840255e+00,  5.75594101e+00,  1.01697557e+01,\n",
       "        1.60159578e+01,  6.31444134e+00,  1.18942203e+01,  1.00259578e+01,\n",
       "        8.54804545e+00,  1.24257933e+01,  9.68724968e+00,  1.10237886e+01,\n",
       "        1.35224045e+01,  1.26355162e+01,  9.13664250e+00,  9.48610988e+00,\n",
       "        4.51831035e+00,  6.46832711e+00,  1.63644637e+01,  8.52455932e+00,\n",
       "        1.01031924e+01,  4.79196245e+00,  9.07915989e+00,  9.30193953e+00,\n",
       "        1.29533753e+01,  1.18133281e+01,  1.43495823e+01,  1.94685319e+01,\n",
       "        9.73829584e+00,  5.11758147e+00,  4.99941569e+00,  2.10231314e+00,\n",
       "        9.31528314e+00,  8.42072619e+00,  9.77683458e+00,  8.73767738e+00,\n",
       "        8.19441160e+00,  5.90394018e+00,  7.07314404e+00,  1.71736322e+01,\n",
       "        1.06938162e+01,  1.14360886e+01,  1.32079040e+01,  5.70911928e+00,\n",
       "        1.00734921e+01,  8.97359956e+00,  9.71098396e+00,  1.44978044e+01,\n",
       "        9.47148010e+00,  1.34435520e+01,  6.52128334e+00,  5.41603511e+00,\n",
       "        1.01506781e+01,  1.65174003e+00,  1.10649215e+01,  1.11165462e+01,\n",
       "        9.28119401e+00,  1.30714769e+01,  6.83103143e+00,  4.40408032e+00,\n",
       "        9.37232742e+00,  8.12153786e+00,  5.12282936e+00,  1.43000709e+01,\n",
       "        1.54131983e+01,  7.20466913e+00,  1.14522818e+01,  1.18424312e+01,\n",
       "        8.98397903e+00,  1.18432510e+01,  1.20132451e+01,  1.05506081e+01,\n",
       "        1.34971886e+01,  4.38298279e+00,  1.71619236e+01,  5.52142315e+00,\n",
       "        1.36678914e+01,  8.22543161e+00,  8.97672424e+00,  7.23399616e+00,\n",
       "        5.24369673e+00,  1.22470052e+01,  9.69422251e+00,  6.29856346e+00,\n",
       "        1.15214160e+01,  1.59726864e+01,  8.91787531e+00,  8.25709962e+00,\n",
       "        5.36528275e+00,  7.15581521e+00,  5.73070078e+00,  6.83375812e+00,\n",
       "        1.06967146e+01,  3.96072383e+00,  1.29125307e+01,  6.61706193e+00,\n",
       "        1.01363918e+01,  6.63418864e+00,  9.08693021e+00,  4.76337799e+00,\n",
       "        1.30794119e+01,  8.80195114e+00,  7.59691730e+00,  7.31445111e+00,\n",
       "        1.19671351e+01,  1.34015463e+01,  1.56177856e+01,  9.56938128e+00,\n",
       "        1.11255270e+01,  1.14188675e+01,  1.63209619e+01,  1.34225944e+01,\n",
       "        1.36436374e+01,  1.34196342e+01,  6.55973428e+00,  1.35763830e+01,\n",
       "        9.96246472e+00,  1.05639258e+01,  1.06331913e+01,  1.22185469e+01,\n",
       "        9.42068008e+00,  1.04620574e+01,  1.28940154e+01,  8.26728115e+00,\n",
       "        7.17424923e+00,  1.19263169e+01,  1.28149495e+01,  3.44206319e+00,\n",
       "        1.13776015e+01,  1.04090919e+01,  1.14024699e+01,  7.53444146e+00,\n",
       "        1.46625342e+01,  6.55690925e+00,  1.13117233e+01,  1.27668326e+01,\n",
       "        7.25499579e+00,  1.00693548e+01,  6.15899833e+00,  1.30397890e+01,\n",
       "        9.89659219e+00,  1.09367488e+01,  1.29724192e+01,  1.10797820e+01,\n",
       "        1.11313347e+01,  5.59790093e+00,  9.82145297e+00,  1.46028658e+01,\n",
       "        3.26436973e+00,  5.75318129e+00,  1.13603088e+01,  1.13153494e+01,\n",
       "        1.01845886e+01,  8.52519452e+00,  1.14287680e+01,  7.52365665e+00,\n",
       "        3.17538620e+00,  1.41994140e+01,  1.10754282e+01,  1.16917198e+01,\n",
       "        1.13504469e+01,  1.54231402e+01,  1.27253552e+01,  1.18469907e+01,\n",
       "        1.41575803e+01,  1.37063572e+01,  6.63530685e+00,  8.81145966e+00,\n",
       "        1.26441888e+01,  8.56358539e+00,  6.21836275e+00,  1.25506048e+01,\n",
       "        5.68777248e+00,  9.41648262e+00,  9.31801986e+00,  1.05607049e+01,\n",
       "        8.28544461e+00,  5.64701266e+00,  4.71146670e+00,  1.37731814e+01,\n",
       "        9.74255194e+00,  6.52690327e+00,  1.02972720e+01,  9.10213859e+00,\n",
       "        8.67425859e+00,  1.55272535e+01,  8.20443932e+00,  9.97766594e+00,\n",
       "        8.16873073e+00,  8.47625842e+00,  7.84981717e+00,  1.02644993e+01,\n",
       "        2.51699827e+00,  1.85531909e+01,  6.45778835e+00,  6.66495721e+00,\n",
       "        8.67182627e+00,  6.78884525e+00,  1.70160165e+01,  1.15210244e+01,\n",
       "        3.60490947e+00,  1.51612264e+01,  7.47081206e+00,  7.10617187e+00,\n",
       "        2.99536659e+00,  1.21520815e+01,  1.09266188e+01,  1.15627944e+01,\n",
       "        9.68283387e+00,  1.21284746e+01,  1.26022308e+01,  8.06692413e+00,\n",
       "        7.22003617e+00,  1.44007064e+01,  1.14294948e+01,  2.16883618e+00,\n",
       "        3.71551905e+00,  1.37908615e+01,  1.27242432e+01,  1.65956603e+01,\n",
       "        5.89895855e+00,  4.63026491e+00,  1.20363804e+01,  9.49231259e+00,\n",
       "        8.68214814e+00,  1.06354932e+01,  5.28851932e+00,  5.98124369e+00,\n",
       "        1.56674503e+01,  1.14208655e+01,  1.31281072e+01,  9.88531695e+00,\n",
       "        1.43773521e+01,  9.76310105e+00,  1.22868377e+01,  1.25147594e+01,\n",
       "        1.20624768e+01,  1.10305572e+01,  9.92121876e+00,  7.82319988e+00,\n",
       "        6.16882318e+00,  7.96765661e+00,  1.13664955e+01,  5.08883103e+00,\n",
       "        1.12892273e+01,  8.58586800e+00,  7.81232133e+00,  7.50992340e+00,\n",
       "        9.02000409e+00,  7.48896061e+00,  9.00054357e+00,  1.00667153e+01,\n",
       "        1.27288126e+01,  1.17588333e+01,  1.25628406e+01,  6.98115264e+00,\n",
       "        7.47780578e+00,  1.06279871e+01,  5.24571812e+00,  1.29142771e+01,\n",
       "        8.87064671e+00,  1.17396078e+01,  1.23026327e+01,  1.03933778e+01,\n",
       "        9.02792486e+00,  1.09831704e+01,  8.52182651e+00,  9.99357979e+00,\n",
       "        1.01188642e+01,  1.13653137e+01,  1.33389664e+01,  1.64380667e+01,\n",
       "        1.88913624e+01,  7.16077511e+00,  7.26178653e+00,  1.26422503e+01,\n",
       "        7.23036044e+00,  1.06150269e+01,  1.09671240e+01,  1.37281846e+01,\n",
       "        1.09765925e+01,  1.17709760e+01,  6.96987910e+00,  6.14745355e+00,\n",
       "        1.26528542e+01,  1.06463432e+01,  6.76181175e+00,  8.77882888e+00,\n",
       "        7.70751621e+00,  8.44291583e+00,  7.30437774e+00,  8.06925518e+00,\n",
       "        8.62532032e+00,  1.08859702e+01,  7.79862491e+00,  1.02906772e+01,\n",
       "        1.13271118e+01,  1.07757444e+01,  4.84568760e+00,  1.23910981e+01,\n",
       "        8.46490298e+00,  9.63863892e+00,  1.20637468e+01,  1.12002061e+01,\n",
       "        9.95534353e+00,  9.25032945e+00,  8.19266120e+00,  1.00447792e+01,\n",
       "        6.58874159e+00,  1.15457276e+01,  1.07513617e+01,  7.86823347e+00,\n",
       "        1.01723840e+01,  6.47528938e+00,  9.09938124e+00,  1.44165714e+01,\n",
       "        6.14806459e+00,  5.19988343e+00,  1.21992018e+01,  1.20947084e+01,\n",
       "        8.11471727e+00,  1.14485873e+01,  9.94642428e+00,  3.56358569e+00,\n",
       "        7.56919934e+00,  8.50047409e+00,  1.29149925e+01,  9.63225988e+00,\n",
       "        1.25515926e+01,  1.11778112e+01,  9.99968842e+00,  1.60138183e+01,\n",
       "        1.35044250e+01,  1.16511276e+01,  1.10133671e+01,  1.13193963e+01,\n",
       "        4.78457084e+00,  1.55216692e+01,  7.71506505e+00,  7.48297340e+00,\n",
       "        1.45794980e+01,  1.05067664e+01,  1.37115028e+01,  1.01119688e+01,\n",
       "        1.23453019e+01,  1.11518233e+01,  1.25447984e+01,  6.09887569e+00,\n",
       "        7.20969653e+00,  6.99376318e+00,  1.19748699e+01,  7.51739336e+00,\n",
       "        7.14103011e+00,  4.37034664e+00,  1.27748948e+01,  5.75830409e+00,\n",
       "        6.54669730e+00,  7.57745955e+00,  6.59659775e+00,  2.55871784e+00,\n",
       "        5.69793929e+00,  6.49433420e+00,  1.00572466e+01,  5.19132961e+00,\n",
       "        6.29737990e+00,  1.24979445e+01,  5.40198410e+00,  1.66179045e+01,\n",
       "        1.00369254e+01,  9.92648675e+00,  8.62414923e+00,  1.13025153e+01,\n",
       "        1.59115954e+01,  1.26000764e+01,  9.71630721e+00,  1.56659645e+01,\n",
       "        1.04182990e+01,  7.05980406e+00,  5.82706399e+00,  1.26393882e+01,\n",
       "        7.32394604e+00,  4.95317649e+00,  7.79235398e+00,  1.08858373e+01,\n",
       "        1.07855518e+01,  1.15792095e+01,  1.26772824e+01,  3.49253931e+00,\n",
       "        1.03966787e+01,  6.31352811e+00,  1.12391375e+01,  1.67128478e+01,\n",
       "        1.08344368e+01,  1.35454206e+01,  1.04352527e+01,  7.97277053e+00,\n",
       "        1.09672567e+01,  3.82933452e+00,  9.40671396e+00,  9.75517191e+00,\n",
       "        1.07702797e+01,  7.19355644e+00,  6.08991323e+00,  1.49945963e+01,\n",
       "        1.65441826e+01,  1.15278711e+01,  1.12471597e+01,  1.81673945e+01,\n",
       "        1.25931761e+01,  1.17042352e+01,  1.05842202e+01,  1.05320489e+01,\n",
       "        5.21806480e+00,  6.15812467e+00,  5.78087167e+00,  6.02461595e+00,\n",
       "        1.19759483e+01,  9.96999448e+00,  6.57787717e+00,  5.74877112e+00,\n",
       "        9.56876478e+00,  6.19044066e+00,  1.20026118e+01,  9.99293297e+00,\n",
       "        1.41565127e+01,  7.83566879e+00,  1.38800068e+01,  8.81398417e+00,\n",
       "        1.30694894e+01,  7.44603980e+00,  8.17124498e+00,  1.06002700e+01,\n",
       "        1.29312282e+01,  7.92901477e+00,  9.80372941e+00,  1.01792346e+01,\n",
       "        1.41912540e+01,  1.06631193e+01,  1.15353912e+01,  1.11705304e+01,\n",
       "        1.29771181e+01,  1.14145148e+01,  5.65164681e+00,  1.27613356e+01,\n",
       "        8.25873801e+00,  4.90360557e+00,  1.01006734e+01,  1.27021533e+01,\n",
       "        5.55295833e+00,  9.83056375e+00,  5.73775048e+00,  1.55726163e+01,\n",
       "        7.01899481e+00,  1.19398334e+01,  4.46783375e+00,  9.12861489e+00,\n",
       "        1.37866144e+01,  8.87449497e+00,  5.79334440e+00,  9.69728193e+00,\n",
       "        6.26847739e+00,  1.20650993e+01,  1.19535862e+01,  1.53357218e+01,\n",
       "        5.85083592e+00,  1.16826827e+01,  9.58947413e+00,  7.16170507e+00,\n",
       "        1.41864811e+01,  8.41152393e+00,  1.03740010e+01,  1.51674188e+01,\n",
       "        8.92636538e+00,  8.41383110e+00,  7.07806235e+00,  1.01335307e+01,\n",
       "        1.04691537e+01,  1.77291046e+01,  1.27743457e+01,  8.75604645e+00,\n",
       "        6.57114737e+00,  8.71914887e+00,  1.20617408e+01,  7.49463493e+00,\n",
       "        1.00360640e+01,  9.38158891e+00,  4.17403343e+00,  9.08679224e+00,\n",
       "        1.60363959e+01,  1.33585181e+01,  6.82447823e+00,  7.67441802e+00,\n",
       "        7.57302298e+00,  8.75296682e+00,  9.25743895e+00,  1.01927085e+01,\n",
       "        8.04406519e+00,  8.06867163e+00,  1.05804435e+01,  7.01454816e+00,\n",
       "        7.60509424e+00,  1.24110781e+01,  1.27078060e+01,  6.99932132e+00,\n",
       "        1.21848022e+01,  1.13935333e+01,  6.97123033e+00,  7.41776614e+00,\n",
       "        6.47489305e+00,  1.00468241e+01,  1.04822517e+01,  1.28020477e+01,\n",
       "        1.50658773e+01,  1.29984497e+01,  1.30397727e+01,  1.24848255e+01,\n",
       "        9.27436912e+00,  8.03982526e+00,  1.41951535e+01,  7.81121543e+00,\n",
       "        1.39170895e+01,  4.15644923e+00,  7.97141274e+00,  7.74733409e+00,\n",
       "        9.13857750e+00,  1.68655823e+01,  7.30895424e+00,  8.58641308e+00,\n",
       "        1.28919662e+01,  1.36777311e+01,  1.27787268e+01,  1.10443738e+01,\n",
       "        4.82324793e+00,  9.25515047e+00,  9.53198968e+00,  1.08976118e+01,\n",
       "        8.13760751e+00,  1.40637796e+01,  1.04126315e+01,  1.34164183e+01,\n",
       "        9.34735827e+00,  1.37889427e+01,  1.22466707e+01,  6.96935077e+00,\n",
       "        1.01860237e+01,  5.69856906e+00,  1.09427829e+01,  1.29302861e+01,\n",
       "        7.74442406e+00,  1.03512282e+01,  9.29247700e+00,  1.44380202e+01,\n",
       "        1.40566881e+01,  1.05694013e+01,  1.04018418e+01,  1.16040985e+01,\n",
       "        1.00377260e+01,  1.13862958e+01,  7.65685773e+00,  1.10275382e+01,\n",
       "        1.15082090e+01,  1.20659860e+01,  6.37056397e+00,  1.30099038e+01,\n",
       "        1.47250578e+01,  1.42487367e+01,  8.94937500e+00,  8.30076546e+00,\n",
       "        1.05147924e+01,  1.12890112e+01,  8.36351627e+00,  1.30961157e+01,\n",
       "        2.63474755e+00,  1.10498841e+01,  1.36355502e+01,  8.00772609e-01,\n",
       "        1.43996533e+01,  1.34141923e+01,  5.56273175e+00,  1.01696313e+01,\n",
       "        1.20536575e+01,  7.77485992e+00,  9.61616019e+00,  4.02527081e+00,\n",
       "        1.05399911e+01,  7.75109563e+00,  1.25760651e+01,  1.18398723e+01,\n",
       "        8.66523591e+00,  9.43336039e+00,  7.78756459e+00,  1.45596545e+01,\n",
       "        8.73437626e+00,  1.35475233e+01,  6.71283176e+00,  1.19671873e+01,\n",
       "        1.23743906e+01,  1.21928802e+01,  8.68963912e+00,  6.57027286e+00,\n",
       "        9.83111632e+00,  8.60674164e+00,  6.79535552e+00,  1.12735699e+01,\n",
       "        1.44538176e+01,  1.17660119e+01,  1.65252276e+01,  1.35799186e+01,\n",
       "        1.04344011e+01,  7.41521342e+00,  9.20320420e+00,  1.50203813e+01,\n",
       "        1.61119524e+00,  9.49863108e+00,  1.29306643e+01,  1.45155301e+01,\n",
       "        1.27296344e+01,  1.44694525e+01,  1.23234755e+01,  8.47452407e+00,\n",
       "        7.89157625e+00,  1.09553239e+01,  1.46847035e+01,  4.85450570e+00,\n",
       "        1.33797902e+01,  1.46417008e+01,  8.27507967e+00,  8.89787952e+00,\n",
       "        1.12828551e+01,  1.84286616e+01,  1.18920547e+01,  1.03260097e+01,\n",
       "        1.43574460e+01,  1.19851139e+01,  4.88263674e+00,  8.78559299e+00,\n",
       "        3.44536312e+00,  1.14724387e+01,  1.33993196e+01,  1.37942004e+01,\n",
       "        9.63760930e+00,  1.17611195e+01,  8.26133423e+00,  1.41590069e+01,\n",
       "        1.30879794e+01,  1.19997480e+01,  9.97752184e+00,  1.29350896e+01,\n",
       "        8.29427708e+00,  1.31252162e+01,  1.42463965e+01,  9.71525913e+00,\n",
       "        9.00389253e+00,  1.00270916e+01,  7.59645122e+00,  1.51969279e+01,\n",
       "        8.27831856e+00,  9.94167583e+00,  1.65577622e+01,  8.87202943e+00,\n",
       "        1.35605326e+01,  9.70586156e+00,  7.58793116e+00,  1.01267210e+01,\n",
       "        1.26877119e+01,  1.13341697e+01,  7.81065531e+00,  1.02600860e+01,\n",
       "        9.82474960e+00,  7.41610067e+00,  9.85295533e+00,  8.39710463e+00,\n",
       "        7.05908495e+00,  1.48580294e+01,  8.97524866e+00,  6.17238893e+00,\n",
       "        3.67644173e+00,  1.40817001e+01,  3.58517780e+00,  1.09239406e+01,\n",
       "        8.07889645e+00,  6.33161084e+00,  8.36753874e+00,  1.04541667e+01,\n",
       "        4.89571545e+00,  8.08467168e+00,  1.15975074e+01,  1.05927082e+01,\n",
       "        1.04036456e+01,  1.42298760e+01,  1.35714895e+01,  1.02488956e+01,\n",
       "        8.31321868e+00,  1.62717079e+01,  1.40423291e+01,  1.01906027e+01,\n",
       "        1.14751884e+01,  1.41676862e+01,  8.16059835e+00,  5.66512746e+00,\n",
       "        9.93894240e+00,  7.13661505e+00,  9.53573234e+00,  9.45433234e+00,\n",
       "        1.17457598e+01,  7.46737026e+00,  7.44019228e+00,  1.22371808e+01,\n",
       "        9.47065337e+00,  1.03218683e+01,  7.00900606e+00,  8.82219788e+00,\n",
       "        7.04965329e+00,  1.32972651e+01,  8.70725145e+00,  1.25006245e+01,\n",
       "        7.35243467e+00,  2.95473996e+00,  8.54216005e+00,  3.90466979e+00,\n",
       "        1.23904056e+01,  9.97523861e+00,  9.11707763e+00,  1.20131052e+01,\n",
       "        1.26849086e+01,  1.27148211e+01,  8.35920222e+00,  1.47859831e+01,\n",
       "        4.97703047e+00,  1.31068485e+01,  1.15073986e+01,  7.28262889e+00,\n",
       "        1.04847371e+01,  1.07591673e+01,  8.84116123e+00,  9.10648796e+00,\n",
       "        7.78160428e+00,  7.55210978e+00,  1.37845085e+01,  8.41157933e+00,\n",
       "        6.28525269e+00,  8.80920392e+00,  7.53997567e+00,  7.01082899e+00,\n",
       "        6.44101847e+00,  9.00077271e+00,  1.05277422e+01,  1.02410325e+01,\n",
       "        9.13465815e+00,  1.11786888e+01,  1.28761917e+01,  1.41348976e+01,\n",
       "        9.16127620e+00,  6.94651422e+00,  6.54935084e+00,  7.69215734e+00,\n",
       "        1.23306929e+01,  1.22722137e+01,  9.83555373e+00,  3.89308902e+00,\n",
       "        1.28945085e+01,  8.67901093e+00,  1.17535522e+01,  8.69775385e+00,\n",
       "        7.18694294e+00,  9.63137431e+00,  8.38934714e+00,  9.22325040e+00,\n",
       "        9.62751112e+00,  1.16891142e+01,  1.26981350e+01,  7.91650013e+00,\n",
       "        9.77213547e+00,  9.76667884e+00,  1.17920069e+01,  1.13401044e+01,\n",
       "        1.19773512e+01,  3.65626442e+00,  1.25348144e+01,  7.92521320e+00,\n",
       "        9.07829696e+00,  1.36404969e+01,  8.16384026e+00,  1.00847942e+01,\n",
       "        8.71286476e+00,  8.06402075e+00,  1.04355508e+01,  7.51945870e+00,\n",
       "        1.10378213e+01,  7.07736412e+00,  1.53680298e+01,  8.50161540e+00,\n",
       "        1.26284038e+01,  1.15309737e+01,  7.97237359e+00,  9.34701848e+00,\n",
       "        7.44242655e+00,  9.08936193e+00,  1.23423888e+01,  1.14139413e+01,\n",
       "        7.87145914e+00,  1.01637966e+01,  5.36170395e+00,  1.10682468e+01,\n",
       "        9.59071320e+00,  8.11878095e+00,  1.04445799e+01,  5.29842980e+00,\n",
       "        5.86671539e+00,  3.89496265e+00,  9.59474970e+00,  6.66414860e+00,\n",
       "        9.17406685e+00,  1.15096181e+01,  1.07510583e+01,  6.70872433e+00,\n",
       "        8.58257242e+00,  4.47157499e+00,  1.03570726e+01,  1.68209952e+01,\n",
       "        8.36093837e+00,  1.45986250e+01,  6.32542692e+00,  1.59548968e+01,\n",
       "       -4.62107753e-02,  8.82004076e+00,  6.05941460e+00,  1.34662242e+01,\n",
       "        1.61656784e+01,  9.91156157e+00,  9.14406324e+00,  9.99750462e+00,\n",
       "        6.76434322e+00,  1.04324100e+01,  7.60026156e+00,  1.29862215e+01,\n",
       "        1.16853373e+01,  7.44329595e+00,  1.23833439e+01,  1.02232389e+01,\n",
       "        2.89238261e+00,  1.28681601e+01,  3.56749797e+00,  9.97280404e+00,\n",
       "        1.63355382e+01,  6.04651608e+00,  9.57223408e+00,  8.64903158e+00,\n",
       "        1.10638619e+01,  1.08842290e+01,  1.01098663e+01,  6.71884418e+00,\n",
       "        1.03273163e+01,  9.82464887e+00,  9.61976322e+00,  1.12104379e+01,\n",
       "        1.30777576e+01,  6.86347683e+00,  7.21730823e+00,  1.05905377e+01,\n",
       "        1.32412097e+01,  8.84195788e+00,  1.14476278e+01,  1.37474771e+01,\n",
       "        7.59981568e+00,  1.20820200e+01,  1.05067966e+01,  1.68750102e+01,\n",
       "        6.65143416e+00,  1.32873913e+01,  6.96506865e+00,  9.93956574e+00,\n",
       "        3.99592806e+00,  1.01125587e+01,  6.89245504e+00,  8.93098823e+00,\n",
       "        8.23065364e+00,  1.28338140e+01,  1.26480563e+01,  1.56294284e+01,\n",
       "        7.22431563e+00,  1.46901956e+01,  1.15850591e+01,  1.32817516e+01,\n",
       "        6.24860142e+00,  8.65786238e+00,  9.08539634e+00,  1.04115155e+01,\n",
       "        9.20353310e+00,  6.49295685e+00,  8.89110357e+00,  5.64000602e+00,\n",
       "        1.10598401e+01,  7.81067242e+00,  1.51481038e+01,  1.35422204e+01,\n",
       "        1.08147950e+01,  1.20181169e+01,  1.06258187e+01,  1.36527029e+01,\n",
       "        9.49015390e+00,  1.07420434e+01,  1.01997827e+01,  4.06901183e+00,\n",
       "        1.11844989e+01,  1.58605541e+01,  8.11474333e+00,  1.16491102e+01,\n",
       "        1.20208715e+01,  9.80205244e+00,  8.15342859e+00,  1.14125078e+01,\n",
       "        6.85909368e+00,  6.81245722e+00,  1.03704185e+01,  1.17368847e+01,\n",
       "        1.14138335e+01,  1.27438592e+01,  1.30876315e+01,  1.24112960e+01,\n",
       "        8.74248557e+00,  9.92610390e+00,  8.63308461e+00,  9.41857846e+00,\n",
       "        1.33665413e+01,  5.82666327e+00,  1.77163814e+01,  1.31990856e+01,\n",
       "        1.00872926e+01,  2.23739857e+00,  1.11613649e+01,  1.19745240e+01,\n",
       "        1.27885180e+01,  1.16093742e+01,  1.14106930e+01,  1.26341766e+01,\n",
       "        8.22308223e+00,  1.33442198e+01,  3.78460359e+00,  4.84110528e+00,\n",
       "        1.43097558e+01,  1.63027213e+01,  1.13125193e+01,  1.33237143e+01,\n",
       "        1.47568223e+01,  6.64540958e+00,  5.69719470e+00,  2.79412594e+00,\n",
       "        1.10250004e+01,  1.14448322e+01,  9.05205348e+00,  6.44267717e+00,\n",
       "        1.16532388e+01,  8.72807896e+00,  9.77073862e+00,  7.50298017e+00,\n",
       "        1.51565518e+01,  8.81793239e+00,  1.05479398e+01,  8.60410147e+00,\n",
       "        9.86200692e+00,  7.28635565e+00,  7.34225727e-03,  1.12940773e+01,\n",
       "        9.68426936e+00,  1.33067615e+01,  8.91821964e+00,  1.96252639e+00,\n",
       "        2.53797639e+00,  9.02767029e+00,  1.72834587e+01,  1.22844827e+01,\n",
       "        7.95897541e+00,  1.15184091e+01,  1.89511903e+01,  6.14698772e+00,\n",
       "        9.85701839e+00,  9.38315932e+00,  7.79082334e+00,  6.82705925e+00,\n",
       "        1.41855855e+00,  8.77984948e+00,  1.35604469e+01,  1.46346483e+01,\n",
       "        5.43756391e+00,  1.08890210e+01,  1.13103419e+01,  1.04907047e+01,\n",
       "        1.16007515e+01,  1.03940260e+01,  1.53447829e+01,  8.72497963e+00])"
      ]
     },
     "execution_count": 131,
     "metadata": {},
     "output_type": "execute_result"
    }
   ],
   "source": [
    "# row #3\n",
    "data2d[3]"
   ]
  },
  {
   "cell_type": "code",
   "execution_count": 132,
   "id": "2fb1c810-03f8-453e-ba7d-35086a45a54a",
   "metadata": {
    "tags": []
   },
   "outputs": [
    {
     "data": {
      "text/plain": [
       "array([13.63252307, 13.39659316,  8.7107207 ,  8.71292359, 12.34325021,\n",
       "       12.52894687, 11.45473533, 10.03132858,  6.06827192,  6.32034924,\n",
       "       15.57774539,  5.64868387,  8.94157199,  7.07700235,  6.22493222,\n",
       "        8.05824882,  7.09072046,  8.29960904, 16.44724226, 14.57648856,\n",
       "        9.39741354,  8.46163921,  6.52321075, 13.77727701,  7.18502514,\n",
       "        9.04751586,  9.23808069, 10.20596156, 12.83191947,  4.30998562,\n",
       "       10.42364924, 10.08526456,  6.44237254, 13.00631459, 12.96430983,\n",
       "        4.59476137,  9.53779931,  4.78918573, 12.49704729, 13.39061375,\n",
       "       17.59613323, 14.72257457,  7.51941058, 10.06498363, 13.72959462,\n",
       "        3.28789794, 10.99287607,  9.23350982,  9.39382208,  8.60936402,\n",
       "       10.49336577,  7.29123774, 13.04692536, 13.74252172,  8.00741389,\n",
       "       13.06930289,  3.3309153 , 16.50526634, 15.185118  ,  8.99549575,\n",
       "        6.28088947, 14.14679972, 10.85674805,  6.4079397 , 10.74224573,\n",
       "       14.05681013,  8.99391772,  8.58048552,  7.50043278, 13.07734103,\n",
       "        9.2451213 ,  7.82328614, 13.30246451,  6.87143544,  3.56449231,\n",
       "       10.49974531, 11.0747476 ,  5.4306944 , 12.8503616 , 12.23128641,\n",
       "        5.06402661,  6.93756131,  5.50188469, 10.28910537, 12.59716951,\n",
       "        9.96397261,  6.54880615,  9.98148147, 11.13628342,  8.5320878 ,\n",
       "        5.84334389, 10.23173418,  8.57773405, 11.15347605, 10.71969158,\n",
       "        3.08106784, 14.5732782 , 10.45145561,  9.87223729, 12.74747899,\n",
       "       13.76130116, 13.04111345,  9.51677215, 12.70159344,  7.26841558,\n",
       "       17.01902476,  8.19660853, 14.8799014 ,  7.32649368, 14.65375986,\n",
       "       14.50374493, 11.30961173, 10.90466815,  6.68530454,  7.34710047,\n",
       "        9.52858442, 14.69846011,  8.86768202, 13.95327703, 13.03104579,\n",
       "        9.73704826,  8.63557259,  6.4310503 ,  5.71420413,  8.43342275,\n",
       "        6.42390742, 10.09851984,  3.21170366,  9.67721243, 10.162465  ,\n",
       "        8.7317287 ,  7.17648141, 11.05711775, 12.01317493,  7.72954909,\n",
       "        8.61387301,  7.4449787 , 10.55045374, 12.43576163,  5.63437431,\n",
       "        7.5680753 , 12.06080447, 10.90298433,  5.09985984,  4.84703522,\n",
       "        5.92694737, 14.19405952, 14.48035949,  8.79545803,  8.82562381,\n",
       "        7.1993837 , 11.19431131, 10.3157873 ,  6.50071497,  6.62228873,\n",
       "        9.48186715, 13.0573204 ,  8.24862637, 10.2246671 ,  7.04269856,\n",
       "        9.6833745 , 10.1877316 ,  7.83934023,  9.39432822,  9.832699  ,\n",
       "       10.96399278, 10.35820979, 10.64305664, 10.01821421,  6.36176972,\n",
       "        9.91748869,  9.62908582,  8.63032706, 12.83490216,  6.37543669,\n",
       "       12.8009257 ,  8.68201856, 12.33754034, 13.42519507, 15.52030114,\n",
       "        9.30123632, 11.27314371, 12.76496161, 13.47754762, 10.37224356,\n",
       "       10.54768763, 17.44929013,  7.26435776, 13.97708915, 11.93665255,\n",
       "       11.93568691, 11.50338775, 15.49107078,  9.83928742, 11.68929952,\n",
       "       13.27664625,  3.79313678,  7.26997608,  9.65332805,  6.78201997,\n",
       "        9.18218394, 11.05726853, 12.4719157 ,  9.23451028,  9.03398   ,\n",
       "       11.09990697,  9.0155449 ,  8.38178376,  8.32819428, 11.99229372,\n",
       "       10.01207889, 11.45849651, 10.28382012, 15.7485932 ,  6.6519754 ,\n",
       "       13.99529505,  5.34373832,  5.84656221,  7.62418106, 11.33906661,\n",
       "       12.31082482, 10.86626008,  6.76455301, 14.31363449,  8.71472092,\n",
       "        8.70570407,  7.44621373, 11.00319966, 12.39012004, 14.71660297,\n",
       "        6.41063183,  9.15234018, 11.63762789, 11.5645638 , 10.35006937,\n",
       "       13.15017371,  7.16335111, 10.12195995,  6.00858476, 10.98816146,\n",
       "       13.07738464, 14.09318306,  6.30758591, 10.50137661, 10.13642422,\n",
       "        3.92218454, 12.37370085,  9.40059293, 10.74715405,  8.35403725,\n",
       "        3.78587649,  9.61867347,  9.8620389 , 10.90822672,  9.45392789,\n",
       "        8.62747266,  9.87172294, 14.38088977, 10.06778154,  8.68114306,\n",
       "       11.11200892, 10.68525312, 11.40440594, 14.4496085 ,  7.00128633,\n",
       "       12.70481275,  9.68183894, 16.72119747, 10.74166999,  5.77708598,\n",
       "       11.70181387, 11.47008013,  9.67356499,  5.98907796, 12.069346  ,\n",
       "        5.41139236,  5.83687662, 12.65769593,  3.9115745 , 11.83867832,\n",
       "       12.79841895, 11.06692525, 10.54545563,  6.3281033 , 12.45796246,\n",
       "       10.06356059,  8.86976121, 12.96936418,  7.55237797, 12.07265523,\n",
       "        9.02341294, 10.3385389 ,  8.18081171, 13.22672823, 10.8056113 ,\n",
       "        9.77857391,  9.95253758, 11.80911861, 14.4947652 ,  8.94133327,\n",
       "        3.21433916, 12.69720806,  8.19435725,  8.0907478 ,  7.39129111,\n",
       "        8.3600247 , 10.03607412, 16.22833729,  9.9780416 , 10.35075886,\n",
       "       12.36815975, 11.83427695, 12.81462761, 10.64922383, 11.27551761,\n",
       "        8.06594324, 10.78810143,  9.42220184, 13.52466519, 12.24606041,\n",
       "       12.09693347, 11.77128496,  4.5705325 , 10.66663957,  5.62020113,\n",
       "       14.3834532 ,  8.46984838,  6.44385113, 14.00778726, 15.01494121,\n",
       "       11.67430293, 13.87341989, 13.32559799,  5.62749588, 10.90048404,\n",
       "       13.49238883,  5.43997489, 11.92757671,  9.98087468, 11.45745484,\n",
       "        6.56857015,  9.32197571, 15.38725013,  4.61886835,  8.19864536,\n",
       "        8.97561038, 12.371691  ,  8.99608934, 11.73682689,  4.72778972,\n",
       "       10.9110025 ,  8.53847156,  7.99126021,  9.97676714, 10.07256776,\n",
       "       13.17389468, 12.31240668, 12.68322976,  7.22493333, 13.67978808,\n",
       "        7.61081466, 13.42272489, 13.55018183, 11.85221917, 13.14585261,\n",
       "        7.73797651, 10.6610245 ,  9.58389936,  4.52072157, 11.6211348 ,\n",
       "        8.65950882,  6.69554225, 12.02279112,  9.62296956, 10.32421893,\n",
       "       13.13693766,  9.66593239, 10.78718859,  6.07622968, 10.28422492,\n",
       "       11.02640884,  4.99621657,  6.0791924 ,  8.04346584,  4.13096359,\n",
       "       15.4577193 , 10.75847446,  5.94550053,  6.995163  ,  7.89929691,\n",
       "       11.9501831 , 13.03189181, 12.8499037 , 10.83957863, 11.21626916,\n",
       "       10.01567341,  5.69481023, 10.40227265,  9.75348194,  9.09220755,\n",
       "        5.60793351,  6.00478866, 11.3755906 , 10.83688904,  9.67168015,\n",
       "        8.53780036, 12.13967619, 14.62626056, 12.53316597, 10.52403859,\n",
       "        8.92607071, 10.49347315,  6.43276803,  7.63854775, 16.34339446,\n",
       "       17.04230457, 12.34720196, 10.60035982, 10.77119223,  8.79470368,\n",
       "       15.82475013, 16.75765385,  5.46890881,  5.53695663, 10.83307008,\n",
       "        6.82890878,  8.86836799,  8.85579087,  7.18937206,  7.78135803,\n",
       "        5.76231877, 10.62601905, 10.3715456 ,  6.08457053, 11.8430648 ,\n",
       "       12.18858986, 13.91509636,  8.22610252, 13.15331768, 10.32108311,\n",
       "        9.97405172, 13.48049343,  7.77132187,  9.16278857, 12.65446054,\n",
       "        9.21282752,  6.70754399,  7.35100348,  8.45387071, 13.94619582,\n",
       "       10.1348521 ,  6.08484821,  9.48235427, 14.71954762,  8.2301225 ,\n",
       "        7.35710504, 12.95949926,  6.43128775, 14.57468019, 11.08794916,\n",
       "        7.50036248, 14.61220212,  9.3383638 ,  9.73200653, 15.19552225,\n",
       "        8.99547389, 10.63539337, 13.3568801 , 10.48231954, 13.517932  ,\n",
       "       11.91110557,  4.75035061,  7.52153453, 11.56762449, 10.88375132,\n",
       "        2.59116402,  7.6775951 , 10.54783539, 10.13681819,  9.52445423,\n",
       "       10.51530469, 13.38787781,  5.57952218,  6.40618957,  7.62584392,\n",
       "       12.05411855,  3.71249197,  9.46816924,  6.81934572,  9.30712607,\n",
       "        9.03997904,  8.52429976,  7.05112387,  6.96396738, 16.60653705,\n",
       "       11.80219103,  9.93324743,  6.27911185, 10.5859203 , 16.91469228,\n",
       "        6.02302152,  8.19230896, 10.37690195, 11.16746776, 10.29442805,\n",
       "        6.27415066,  7.26643926, 14.63441552,  9.78245286, 11.52101366,\n",
       "        9.44250788,  9.56969639, 10.95447996,  8.88630559,  8.65229608,\n",
       "        8.80994679, 10.46514102,  6.54602509, 16.39857271,  7.97944571,\n",
       "       13.40072206,  6.5847744 ,  6.59063239,  8.8511085 , 10.2531646 ,\n",
       "        5.98262617, 11.60565399, 12.46926366, 12.79939421, 10.14983527,\n",
       "       11.0794739 ,  8.66036405, 16.18310299,  8.48023734,  9.69628055,\n",
       "        7.06798064,  8.68930181, 13.74476978,  8.66867722, 12.20878198,\n",
       "        2.79950151,  6.65969717, 11.78616326, 11.37656868,  9.55258734,\n",
       "       16.17319915, 10.74933612, 10.00976281,  5.03093148,  6.06105092,\n",
       "        7.2393223 ,  1.02621503,  2.57306297, 10.76651182, 11.08902388,\n",
       "        8.95549786,  7.40936648,  7.40283529,  6.81170549,  8.12132123,\n",
       "       14.60593769, 11.01337608, 10.14084632, 10.2648588 , 12.28518629,\n",
       "       12.33607712, 14.15863149, 12.29832871, 13.17131483, 11.95049597,\n",
       "       10.04451252,  9.32898645, 12.9342833 ,  9.28868481,  6.93857812,\n",
       "       14.36324853, 12.3478414 ,  7.94780596,  8.75718809, 14.79065847,\n",
       "        9.11407292, 13.71033922, 13.02770389,  7.12556791,  8.00401961,\n",
       "       10.81429013, 12.07581915,  5.76967758,  8.52604633, 10.3276834 ,\n",
       "       13.21890018, 11.33869079,  1.64930545,  7.71712553, 10.18696   ,\n",
       "       17.54910277, 10.5971218 ,  7.73667376, 17.73836661,  6.60035507,\n",
       "       11.61302234, 12.43544178, 12.43944748,  7.44908775,  9.58345555,\n",
       "        6.93957687,  7.45664716,  8.89951255,  9.20603566,  6.06001477,\n",
       "        6.02081822, 12.65211066, 11.42821154,  7.71219584,  5.87456224,\n",
       "       11.31541476, 12.95573312,  4.52135805, 10.13230256,  8.97201607,\n",
       "        9.91517137, 10.69018989,  9.44420064, 12.30219477, 13.41554001,\n",
       "        7.44716382,  7.32939878, 16.06330422, 11.16011513, 10.92362191,\n",
       "       11.68270282,  9.2220221 , 13.03342566,  4.95125431,  9.42286511,\n",
       "       10.89833824,  9.64637578, 12.13276918,  9.18240204,  9.98002091,\n",
       "        8.12099433,  6.13057735,  9.35108591, 11.91033668,  8.95734957,\n",
       "       12.67842462,  8.52232439,  9.52660787, 11.70078644, 12.84937224,\n",
       "        9.5931366 , 12.31300316, 12.9357969 , 12.05565782, 13.32934112,\n",
       "       13.16194327, 10.14882573,  8.91854219, 11.78113994,  7.12409766,\n",
       "       10.31409798, 13.51267344, 12.23310155, 11.20522862,  8.08404963,\n",
       "        7.39809964,  9.93796414, 12.23510339,  9.84547634, 11.35777645,\n",
       "        9.00595909, 10.64927402, 13.17955399, 18.82832033, 11.45968304,\n",
       "       10.21512112,  6.84661919,  9.53333287,  2.02400072, 10.19452461,\n",
       "        7.99504035, 10.78287263, 11.12507444, 11.08492733,  7.81587488,\n",
       "       12.08735999, 13.56730471,  6.79373396,  7.43744001,  6.93520568,\n",
       "       12.84800023, 13.38110698,  8.86225551, 11.90695798, 12.95129854,\n",
       "       10.02601941,  9.80050568, 11.04654511,  7.85991748,  9.82810194,\n",
       "       15.57338741, 10.25377766, 11.81839451, 11.56153167,  9.41362484,\n",
       "        7.48909508,  8.93259543, 10.4356938 , 10.11272035,  6.27489524,\n",
       "       12.01094176, 13.26935332, 12.4424049 ,  5.18422563,  9.32695479,\n",
       "        9.80636596, 11.05824336,  8.80808008,  8.4219534 ,  5.00474516,\n",
       "       12.34936   ,  9.74788391,  9.43422479, 13.36795523, 10.35515216,\n",
       "        9.76882302,  7.76658193, 11.31539998,  8.43769764, 10.44470995,\n",
       "       14.81553278, 10.01707702, 10.83006505, 12.52719491,  9.93515976,\n",
       "       12.38927554, 14.3449675 , 10.79627368,  8.90251867, 10.06292211,\n",
       "        9.35027227, 11.79408746, 14.99704198, 11.64700299,  6.10969879,\n",
       "       10.3461074 , 11.17610265,  2.5386662 , 10.28914868, 14.33101488,\n",
       "        1.83376308, 15.27525001,  9.24743246,  4.89532697, 13.43054191,\n",
       "       12.88950638,  7.15982803, 12.93351173,  9.20545607, 15.60429026,\n",
       "       11.99579468,  8.84052702,  6.51697829, 10.38939885,  6.08950656,\n",
       "        8.35719637, 10.03714405, 10.49711734,  4.70327991,  8.34585941,\n",
       "        8.87578298,  8.78604873, 13.96889684,  7.33358308, 15.57922359,\n",
       "        8.80987703,  3.44002889,  7.05294426, 12.24677948,  8.39486894,\n",
       "       13.47950574, 10.18304358,  7.95206849,  7.60773193, 12.45368013,\n",
       "       11.79670543, 11.22593056,  7.76595878,  7.12213145, 14.44278717,\n",
       "        8.2449994 , 15.74636219,  9.25492919,  8.18184006,  9.90857674,\n",
       "       11.42616875,  9.41284778,  7.09601828,  5.6693957 , 13.05832775,\n",
       "        2.09066216, 14.11700418,  9.12064656,  8.93348463,  8.18596749,\n",
       "       11.03716491,  8.10829503, 11.71241815, 13.34106577,  9.39380934,\n",
       "       15.6122001 ,  1.81924678, 13.50995996,  9.79645016,  9.74689104,\n",
       "        8.24729555,  8.64086815, 11.65593174, 10.56964794,  6.94019281,\n",
       "       10.81372366,  7.77752394, 10.70937679, 14.41971558,  9.22874763,\n",
       "        8.17480239, 12.06874684, 14.45773172,  9.22177646, 11.60241733,\n",
       "       11.76117194,  6.08722377,  6.16689751, 12.13717673,  9.08748595,\n",
       "        8.58216136, 11.66908547,  8.81096949,  7.84289546, 13.94959004,\n",
       "        5.28264624, 15.21885913, 15.39787958,  8.76789514, 11.04668286,\n",
       "        9.06821093, 12.43842921,  6.66447139,  5.41653088, 11.75754628,\n",
       "        4.23477769,  9.93243202, 10.35858323,  7.18813473,  8.95119249,\n",
       "        9.2134548 , 11.91937528,  6.95321921, 15.73046016,  8.25447531,\n",
       "        6.7745482 ,  8.87943926, 12.07872983, 10.79316789,  2.14521454,\n",
       "        8.32897668, 12.16731941, 12.9312151 ,  5.79062702, 11.14722531,\n",
       "       10.84108066, 12.48446265,  8.57867313, 10.91759507, 14.11859397,\n",
       "       12.0592666 , 12.91109989,  7.01901985,  9.15554105, 11.33476026,\n",
       "        7.40139927, 12.41089137,  9.03565112,  8.76411481,  7.33476937,\n",
       "       10.92153145, 11.68678683, 11.22371757,  7.70662326, 12.28008593,\n",
       "       10.39975843, 11.44168467,  9.48406223, 10.59035469, 11.90695198,\n",
       "       14.22163127, 11.46253907,  8.82481344, 10.75370486,  7.37830757,\n",
       "       10.63450142,  4.68508   , 12.26318532, 14.25550047, 12.5541851 ,\n",
       "        8.5128886 ,  6.9663015 ,  9.65677564, 13.03148055,  9.85621408,\n",
       "        8.65086756,  6.88903336, 16.15353634, 14.42235324, 12.40698197,\n",
       "        8.36759146,  9.70531041,  9.4840105 ,  9.74110244, 10.21480653,\n",
       "        8.71501139,  8.13344286, 12.33181553, 11.97283748,  9.11268257,\n",
       "       13.67478893, 11.71555309, 13.37831523, 10.15763754,  9.37485725,\n",
       "        9.34505887, 16.08253496, 12.3950521 ,  7.46453525, 13.809042  ,\n",
       "       10.96251163, 15.76438084,  6.44291385, 12.44574967, 14.60263294,\n",
       "        5.1002046 ,  2.98156098, 10.2210778 , 10.37753485, 10.53727037,\n",
       "        3.8308872 ,  3.11517897, 11.31184254, 11.49946032, 10.31629874,\n",
       "        4.98383556, 14.09683468,  4.61752784,  7.4423091 , 12.82000778,\n",
       "        6.13734446,  8.38558408, 10.80811854, 13.66490864, 12.55167812,\n",
       "        8.63716092,  8.92189902,  9.83925037,  9.07874332, 14.27501956,\n",
       "       10.06169879,  5.07997084,  8.05613058,  7.66810236,  8.78614207,\n",
       "       12.19403894, 13.11786984,  9.77130964, 15.18558169,  9.30996446,\n",
       "       15.10382274, 10.65368389,  9.93163526,  8.14948729,  4.58468113,\n",
       "        4.379244  , 11.38841786,  8.21028655, 18.56668035, 14.62883106,\n",
       "        9.86064682,  7.74747796, 11.92845143,  7.83872467, 13.0248894 ,\n",
       "        8.51876351,  8.33771281, 12.7886315 , 11.93511465,  9.12539422,\n",
       "        8.31170395, 11.21848044, 12.87986366, 12.44579267, 11.02826686])"
      ]
     },
     "execution_count": 132,
     "metadata": {},
     "output_type": "execute_result"
    }
   ],
   "source": [
    "# column #3\n",
    "data2d[:,3]"
   ]
  },
  {
   "cell_type": "code",
   "execution_count": 133,
   "id": "f62bce81-5fe6-4b6d-87a9-98aa8fc43036",
   "metadata": {
    "tags": []
   },
   "outputs": [
    {
     "data": {
      "text/plain": [
       "array([13.63252307, 13.39659316,  8.7107207 ,  8.71292359, 12.34325021,\n",
       "       12.52894687, 11.45473533, 10.03132858,  6.06827192,  6.32034924,\n",
       "       15.57774539,  5.64868387,  8.94157199,  7.07700235,  6.22493222,\n",
       "        8.05824882,  7.09072046,  8.29960904, 16.44724226, 14.57648856,\n",
       "        9.39741354,  8.46163921,  6.52321075, 13.77727701,  7.18502514,\n",
       "        9.04751586,  9.23808069, 10.20596156, 12.83191947,  4.30998562,\n",
       "       10.42364924, 10.08526456,  6.44237254, 13.00631459, 12.96430983,\n",
       "        4.59476137,  9.53779931,  4.78918573, 12.49704729, 13.39061375,\n",
       "       17.59613323, 14.72257457,  7.51941058, 10.06498363, 13.72959462,\n",
       "        3.28789794, 10.99287607,  9.23350982,  9.39382208,  8.60936402,\n",
       "       10.49336577,  7.29123774, 13.04692536, 13.74252172,  8.00741389,\n",
       "       13.06930289,  3.3309153 , 16.50526634, 15.185118  ,  8.99549575,\n",
       "        6.28088947, 14.14679972, 10.85674805,  6.4079397 , 10.74224573,\n",
       "       14.05681013,  8.99391772,  8.58048552,  7.50043278, 13.07734103,\n",
       "        9.2451213 ,  7.82328614, 13.30246451,  6.87143544,  3.56449231,\n",
       "       10.49974531, 11.0747476 ,  5.4306944 , 12.8503616 , 12.23128641,\n",
       "        5.06402661,  6.93756131,  5.50188469, 10.28910537, 12.59716951,\n",
       "        9.96397261,  6.54880615,  9.98148147, 11.13628342,  8.5320878 ,\n",
       "        5.84334389, 10.23173418,  8.57773405, 11.15347605, 10.71969158,\n",
       "        3.08106784, 14.5732782 , 10.45145561,  9.87223729, 12.74747899,\n",
       "       13.76130116, 13.04111345,  9.51677215, 12.70159344,  7.26841558,\n",
       "       17.01902476,  8.19660853, 14.8799014 ,  7.32649368, 14.65375986,\n",
       "       14.50374493, 11.30961173, 10.90466815,  6.68530454,  7.34710047,\n",
       "        9.52858442, 14.69846011,  8.86768202, 13.95327703, 13.03104579,\n",
       "        9.73704826,  8.63557259,  6.4310503 ,  5.71420413,  8.43342275,\n",
       "        6.42390742, 10.09851984,  3.21170366,  9.67721243, 10.162465  ,\n",
       "        8.7317287 ,  7.17648141, 11.05711775, 12.01317493,  7.72954909,\n",
       "        8.61387301,  7.4449787 , 10.55045374, 12.43576163,  5.63437431,\n",
       "        7.5680753 , 12.06080447, 10.90298433,  5.09985984,  4.84703522,\n",
       "        5.92694737, 14.19405952, 14.48035949,  8.79545803,  8.82562381,\n",
       "        7.1993837 , 11.19431131, 10.3157873 ,  6.50071497,  6.62228873,\n",
       "        9.48186715, 13.0573204 ,  8.24862637, 10.2246671 ,  7.04269856,\n",
       "        9.6833745 , 10.1877316 ,  7.83934023,  9.39432822,  9.832699  ,\n",
       "       10.96399278, 10.35820979, 10.64305664, 10.01821421,  6.36176972,\n",
       "        9.91748869,  9.62908582,  8.63032706, 12.83490216,  6.37543669,\n",
       "       12.8009257 ,  8.68201856, 12.33754034, 13.42519507, 15.52030114,\n",
       "        9.30123632, 11.27314371, 12.76496161, 13.47754762, 10.37224356,\n",
       "       10.54768763, 17.44929013,  7.26435776, 13.97708915, 11.93665255,\n",
       "       11.93568691, 11.50338775, 15.49107078,  9.83928742, 11.68929952,\n",
       "       13.27664625,  3.79313678,  7.26997608,  9.65332805,  6.78201997,\n",
       "        9.18218394, 11.05726853, 12.4719157 ,  9.23451028,  9.03398   ,\n",
       "       11.09990697,  9.0155449 ,  8.38178376,  8.32819428, 11.99229372,\n",
       "       10.01207889, 11.45849651, 10.28382012, 15.7485932 ,  6.6519754 ,\n",
       "       13.99529505,  5.34373832,  5.84656221,  7.62418106, 11.33906661,\n",
       "       12.31082482, 10.86626008,  6.76455301, 14.31363449,  8.71472092,\n",
       "        8.70570407,  7.44621373, 11.00319966, 12.39012004, 14.71660297,\n",
       "        6.41063183,  9.15234018, 11.63762789, 11.5645638 , 10.35006937,\n",
       "       13.15017371,  7.16335111, 10.12195995,  6.00858476, 10.98816146,\n",
       "       13.07738464, 14.09318306,  6.30758591, 10.50137661, 10.13642422,\n",
       "        3.92218454, 12.37370085,  9.40059293, 10.74715405,  8.35403725,\n",
       "        3.78587649,  9.61867347,  9.8620389 , 10.90822672,  9.45392789,\n",
       "        8.62747266,  9.87172294, 14.38088977, 10.06778154,  8.68114306,\n",
       "       11.11200892, 10.68525312, 11.40440594, 14.4496085 ,  7.00128633,\n",
       "       12.70481275,  9.68183894, 16.72119747, 10.74166999,  5.77708598,\n",
       "       11.70181387, 11.47008013,  9.67356499,  5.98907796, 12.069346  ,\n",
       "        5.41139236,  5.83687662, 12.65769593,  3.9115745 , 11.83867832,\n",
       "       12.79841895, 11.06692525, 10.54545563,  6.3281033 , 12.45796246,\n",
       "       10.06356059,  8.86976121, 12.96936418,  7.55237797, 12.07265523,\n",
       "        9.02341294, 10.3385389 ,  8.18081171, 13.22672823, 10.8056113 ,\n",
       "        9.77857391,  9.95253758, 11.80911861, 14.4947652 ,  8.94133327,\n",
       "        3.21433916, 12.69720806,  8.19435725,  8.0907478 ,  7.39129111,\n",
       "        8.3600247 , 10.03607412, 16.22833729,  9.9780416 , 10.35075886,\n",
       "       12.36815975, 11.83427695, 12.81462761, 10.64922383, 11.27551761,\n",
       "        8.06594324, 10.78810143,  9.42220184, 13.52466519, 12.24606041,\n",
       "       12.09693347, 11.77128496,  4.5705325 , 10.66663957,  5.62020113,\n",
       "       14.3834532 ,  8.46984838,  6.44385113, 14.00778726, 15.01494121,\n",
       "       11.67430293, 13.87341989, 13.32559799,  5.62749588, 10.90048404,\n",
       "       13.49238883,  5.43997489, 11.92757671,  9.98087468, 11.45745484,\n",
       "        6.56857015,  9.32197571, 15.38725013,  4.61886835,  8.19864536,\n",
       "        8.97561038, 12.371691  ,  8.99608934, 11.73682689,  4.72778972,\n",
       "       10.9110025 ,  8.53847156,  7.99126021,  9.97676714, 10.07256776,\n",
       "       13.17389468, 12.31240668, 12.68322976,  7.22493333, 13.67978808,\n",
       "        7.61081466, 13.42272489, 13.55018183, 11.85221917, 13.14585261,\n",
       "        7.73797651, 10.6610245 ,  9.58389936,  4.52072157, 11.6211348 ,\n",
       "        8.65950882,  6.69554225, 12.02279112,  9.62296956, 10.32421893,\n",
       "       13.13693766,  9.66593239, 10.78718859,  6.07622968, 10.28422492,\n",
       "       11.02640884,  4.99621657,  6.0791924 ,  8.04346584,  4.13096359,\n",
       "       15.4577193 , 10.75847446,  5.94550053,  6.995163  ,  7.89929691,\n",
       "       11.9501831 , 13.03189181, 12.8499037 , 10.83957863, 11.21626916,\n",
       "       10.01567341,  5.69481023, 10.40227265,  9.75348194,  9.09220755,\n",
       "        5.60793351,  6.00478866, 11.3755906 , 10.83688904,  9.67168015,\n",
       "        8.53780036, 12.13967619, 14.62626056, 12.53316597, 10.52403859,\n",
       "        8.92607071, 10.49347315,  6.43276803,  7.63854775, 16.34339446,\n",
       "       17.04230457, 12.34720196, 10.60035982, 10.77119223,  8.79470368,\n",
       "       15.82475013, 16.75765385,  5.46890881,  5.53695663, 10.83307008,\n",
       "        6.82890878,  8.86836799,  8.85579087,  7.18937206,  7.78135803,\n",
       "        5.76231877, 10.62601905, 10.3715456 ,  6.08457053, 11.8430648 ,\n",
       "       12.18858986, 13.91509636,  8.22610252, 13.15331768, 10.32108311,\n",
       "        9.97405172, 13.48049343,  7.77132187,  9.16278857, 12.65446054,\n",
       "        9.21282752,  6.70754399,  7.35100348,  8.45387071, 13.94619582,\n",
       "       10.1348521 ,  6.08484821,  9.48235427, 14.71954762,  8.2301225 ,\n",
       "        7.35710504, 12.95949926,  6.43128775, 14.57468019, 11.08794916,\n",
       "        7.50036248, 14.61220212,  9.3383638 ,  9.73200653, 15.19552225,\n",
       "        8.99547389, 10.63539337, 13.3568801 , 10.48231954, 13.517932  ,\n",
       "       11.91110557,  4.75035061,  7.52153453, 11.56762449, 10.88375132,\n",
       "        2.59116402,  7.6775951 , 10.54783539, 10.13681819,  9.52445423,\n",
       "       10.51530469, 13.38787781,  5.57952218,  6.40618957,  7.62584392,\n",
       "       12.05411855,  3.71249197,  9.46816924,  6.81934572,  9.30712607,\n",
       "        9.03997904,  8.52429976,  7.05112387,  6.96396738, 16.60653705,\n",
       "       11.80219103,  9.93324743,  6.27911185, 10.5859203 , 16.91469228,\n",
       "        6.02302152,  8.19230896, 10.37690195, 11.16746776, 10.29442805,\n",
       "        6.27415066,  7.26643926, 14.63441552,  9.78245286, 11.52101366,\n",
       "        9.44250788,  9.56969639, 10.95447996,  8.88630559,  8.65229608,\n",
       "        8.80994679, 10.46514102,  6.54602509, 16.39857271,  7.97944571,\n",
       "       13.40072206,  6.5847744 ,  6.59063239,  8.8511085 , 10.2531646 ,\n",
       "        5.98262617, 11.60565399, 12.46926366, 12.79939421, 10.14983527,\n",
       "       11.0794739 ,  8.66036405, 16.18310299,  8.48023734,  9.69628055,\n",
       "        7.06798064,  8.68930181, 13.74476978,  8.66867722, 12.20878198,\n",
       "        2.79950151,  6.65969717, 11.78616326, 11.37656868,  9.55258734,\n",
       "       16.17319915, 10.74933612, 10.00976281,  5.03093148,  6.06105092,\n",
       "        7.2393223 ,  1.02621503,  2.57306297, 10.76651182, 11.08902388,\n",
       "        8.95549786,  7.40936648,  7.40283529,  6.81170549,  8.12132123,\n",
       "       14.60593769, 11.01337608, 10.14084632, 10.2648588 , 12.28518629,\n",
       "       12.33607712, 14.15863149, 12.29832871, 13.17131483, 11.95049597,\n",
       "       10.04451252,  9.32898645, 12.9342833 ,  9.28868481,  6.93857812,\n",
       "       14.36324853, 12.3478414 ,  7.94780596,  8.75718809, 14.79065847,\n",
       "        9.11407292, 13.71033922, 13.02770389,  7.12556791,  8.00401961,\n",
       "       10.81429013, 12.07581915,  5.76967758,  8.52604633, 10.3276834 ,\n",
       "       13.21890018, 11.33869079,  1.64930545,  7.71712553, 10.18696   ,\n",
       "       17.54910277, 10.5971218 ,  7.73667376, 17.73836661,  6.60035507,\n",
       "       11.61302234, 12.43544178, 12.43944748,  7.44908775,  9.58345555,\n",
       "        6.93957687,  7.45664716,  8.89951255,  9.20603566,  6.06001477,\n",
       "        6.02081822, 12.65211066, 11.42821154,  7.71219584,  5.87456224,\n",
       "       11.31541476, 12.95573312,  4.52135805, 10.13230256,  8.97201607,\n",
       "        9.91517137, 10.69018989,  9.44420064, 12.30219477, 13.41554001,\n",
       "        7.44716382,  7.32939878, 16.06330422, 11.16011513, 10.92362191,\n",
       "       11.68270282,  9.2220221 , 13.03342566,  4.95125431,  9.42286511,\n",
       "       10.89833824,  9.64637578, 12.13276918,  9.18240204,  9.98002091,\n",
       "        8.12099433,  6.13057735,  9.35108591, 11.91033668,  8.95734957,\n",
       "       12.67842462,  8.52232439,  9.52660787, 11.70078644, 12.84937224,\n",
       "        9.5931366 , 12.31300316, 12.9357969 , 12.05565782, 13.32934112,\n",
       "       13.16194327, 10.14882573,  8.91854219, 11.78113994,  7.12409766,\n",
       "       10.31409798, 13.51267344, 12.23310155, 11.20522862,  8.08404963,\n",
       "        7.39809964,  9.93796414, 12.23510339,  9.84547634, 11.35777645,\n",
       "        9.00595909, 10.64927402, 13.17955399, 18.82832033, 11.45968304,\n",
       "       10.21512112,  6.84661919,  9.53333287,  2.02400072, 10.19452461,\n",
       "        7.99504035, 10.78287263, 11.12507444, 11.08492733,  7.81587488,\n",
       "       12.08735999, 13.56730471,  6.79373396,  7.43744001,  6.93520568,\n",
       "       12.84800023, 13.38110698,  8.86225551, 11.90695798, 12.95129854,\n",
       "       10.02601941,  9.80050568, 11.04654511,  7.85991748,  9.82810194,\n",
       "       15.57338741, 10.25377766, 11.81839451, 11.56153167,  9.41362484,\n",
       "        7.48909508,  8.93259543, 10.4356938 , 10.11272035,  6.27489524,\n",
       "       12.01094176, 13.26935332, 12.4424049 ,  5.18422563,  9.32695479,\n",
       "        9.80636596, 11.05824336,  8.80808008,  8.4219534 ,  5.00474516,\n",
       "       12.34936   ,  9.74788391,  9.43422479, 13.36795523, 10.35515216,\n",
       "        9.76882302,  7.76658193, 11.31539998,  8.43769764, 10.44470995,\n",
       "       14.81553278, 10.01707702, 10.83006505, 12.52719491,  9.93515976,\n",
       "       12.38927554, 14.3449675 , 10.79627368,  8.90251867, 10.06292211,\n",
       "        9.35027227, 11.79408746, 14.99704198, 11.64700299,  6.10969879,\n",
       "       10.3461074 , 11.17610265,  2.5386662 , 10.28914868, 14.33101488,\n",
       "        1.83376308, 15.27525001,  9.24743246,  4.89532697, 13.43054191,\n",
       "       12.88950638,  7.15982803, 12.93351173,  9.20545607, 15.60429026,\n",
       "       11.99579468,  8.84052702,  6.51697829, 10.38939885,  6.08950656,\n",
       "        8.35719637, 10.03714405, 10.49711734,  4.70327991,  8.34585941,\n",
       "        8.87578298,  8.78604873, 13.96889684,  7.33358308, 15.57922359,\n",
       "        8.80987703,  3.44002889,  7.05294426, 12.24677948,  8.39486894,\n",
       "       13.47950574, 10.18304358,  7.95206849,  7.60773193, 12.45368013,\n",
       "       11.79670543, 11.22593056,  7.76595878,  7.12213145, 14.44278717,\n",
       "        8.2449994 , 15.74636219,  9.25492919,  8.18184006,  9.90857674,\n",
       "       11.42616875,  9.41284778,  7.09601828,  5.6693957 , 13.05832775,\n",
       "        2.09066216, 14.11700418,  9.12064656,  8.93348463,  8.18596749,\n",
       "       11.03716491,  8.10829503, 11.71241815, 13.34106577,  9.39380934,\n",
       "       15.6122001 ,  1.81924678, 13.50995996,  9.79645016,  9.74689104,\n",
       "        8.24729555,  8.64086815, 11.65593174, 10.56964794,  6.94019281,\n",
       "       10.81372366,  7.77752394, 10.70937679, 14.41971558,  9.22874763,\n",
       "        8.17480239, 12.06874684, 14.45773172,  9.22177646, 11.60241733,\n",
       "       11.76117194,  6.08722377,  6.16689751, 12.13717673,  9.08748595,\n",
       "        8.58216136, 11.66908547,  8.81096949,  7.84289546, 13.94959004,\n",
       "        5.28264624, 15.21885913, 15.39787958,  8.76789514, 11.04668286,\n",
       "        9.06821093, 12.43842921,  6.66447139,  5.41653088, 11.75754628,\n",
       "        4.23477769,  9.93243202, 10.35858323,  7.18813473,  8.95119249,\n",
       "        9.2134548 , 11.91937528,  6.95321921, 15.73046016,  8.25447531,\n",
       "        6.7745482 ,  8.87943926, 12.07872983, 10.79316789,  2.14521454,\n",
       "        8.32897668, 12.16731941, 12.9312151 ,  5.79062702, 11.14722531,\n",
       "       10.84108066, 12.48446265,  8.57867313, 10.91759507, 14.11859397,\n",
       "       12.0592666 , 12.91109989,  7.01901985,  9.15554105, 11.33476026,\n",
       "        7.40139927, 12.41089137,  9.03565112,  8.76411481,  7.33476937,\n",
       "       10.92153145, 11.68678683, 11.22371757,  7.70662326, 12.28008593,\n",
       "       10.39975843, 11.44168467,  9.48406223, 10.59035469, 11.90695198,\n",
       "       14.22163127, 11.46253907,  8.82481344, 10.75370486,  7.37830757,\n",
       "       10.63450142,  4.68508   , 12.26318532, 14.25550047, 12.5541851 ,\n",
       "        8.5128886 ,  6.9663015 ,  9.65677564, 13.03148055,  9.85621408,\n",
       "        8.65086756,  6.88903336, 16.15353634, 14.42235324, 12.40698197,\n",
       "        8.36759146,  9.70531041,  9.4840105 ,  9.74110244, 10.21480653,\n",
       "        8.71501139,  8.13344286, 12.33181553, 11.97283748,  9.11268257,\n",
       "       13.67478893, 11.71555309, 13.37831523, 10.15763754,  9.37485725,\n",
       "        9.34505887, 16.08253496, 12.3950521 ,  7.46453525, 13.809042  ,\n",
       "       10.96251163, 15.76438084,  6.44291385, 12.44574967, 14.60263294,\n",
       "        5.1002046 ,  2.98156098, 10.2210778 , 10.37753485, 10.53727037,\n",
       "        3.8308872 ,  3.11517897, 11.31184254, 11.49946032, 10.31629874,\n",
       "        4.98383556, 14.09683468,  4.61752784,  7.4423091 , 12.82000778,\n",
       "        6.13734446,  8.38558408, 10.80811854, 13.66490864, 12.55167812,\n",
       "        8.63716092,  8.92189902,  9.83925037,  9.07874332, 14.27501956,\n",
       "       10.06169879,  5.07997084,  8.05613058,  7.66810236,  8.78614207,\n",
       "       12.19403894, 13.11786984,  9.77130964, 15.18558169,  9.30996446,\n",
       "       15.10382274, 10.65368389,  9.93163526,  8.14948729,  4.58468113,\n",
       "        4.379244  , 11.38841786,  8.21028655, 18.56668035, 14.62883106,\n",
       "        9.86064682,  7.74747796, 11.92845143,  7.83872467, 13.0248894 ,\n",
       "        8.51876351,  8.33771281, 12.7886315 , 11.93511465,  9.12539422,\n",
       "        8.31170395, 11.21848044, 12.87986366, 12.44579267, 11.02826686])"
      ]
     },
     "execution_count": 133,
     "metadata": {},
     "output_type": "execute_result"
    }
   ],
   "source": [
    "# row #3 of transposed matrix == column #3\n",
    "data2d.T[3]"
   ]
  },
  {
   "cell_type": "code",
   "execution_count": 134,
   "id": "a7716e9f-ee1c-4a02-80db-94eb1f9e9160",
   "metadata": {},
   "outputs": [
    {
     "name": "stdout",
     "output_type": "stream",
     "text": [
      "[[13.05056178 10.18115098 15.40287808 13.63252307 12.02484871 11.90664741\n",
      "   7.01920103 10.51650534  6.78508406  7.98089542]\n",
      " [ 7.89670623 15.86285681 10.26760485 13.39659316  6.49726506  9.762431\n",
      "  12.8099431  12.64054026  5.1948619   9.65406713]\n",
      " [13.56064754  9.78927066 12.34528873  8.7107207  12.53628767  6.70147499\n",
      "  13.52781601  9.11094352 10.28194124  7.87510462]\n",
      " [ 8.47091004  3.99008867 11.3500864   8.71292359 12.86589598 14.89148938\n",
      "   8.329432   11.31903522  8.52685674  7.56840255]\n",
      " [10.65131059 14.27469694 10.60418819 12.34325021  9.22480537  9.52247765\n",
      "   9.89997315  2.858067   12.44148779  4.76887278]\n",
      " [10.03020408 14.00853433 12.48131816 12.52894687 12.44297282 12.72640641\n",
      "  14.24147513  7.06302118 11.70540295  8.67148401]\n",
      " [12.05753838  8.5740292  12.09371012 11.45473533 11.58963592 10.91119701\n",
      "  14.30579803 13.12348348  8.38483008 15.2905144 ]\n",
      " [15.05332152 12.55304924 11.96540663 10.03132858 10.00660135  8.1684542\n",
      "  13.65947032 13.20994998 16.22704266 14.2918078 ]\n",
      " [ 9.35742525  9.43025362 11.33338879  6.06827192  6.9777048   6.40410434\n",
      "   5.82986959  6.4714073   9.22678904  6.81392048]\n",
      " [ 4.44330146  6.48922286  5.61644669  6.32034924 14.7275985   8.47740176\n",
      "   4.97757903  4.64650226 12.09595171 12.35049386]]\n"
     ]
    }
   ],
   "source": [
    "# echantillon: n=10, n 1ères lignes et colonnes\n",
    "n=10\n",
    "echantillon2d = data2d[:n,:n]\n",
    "print(echantillon2d)"
   ]
  },
  {
   "cell_type": "code",
   "execution_count": 135,
   "id": "d32d03b6-5954-473e-82f7-9e0c6050f5da",
   "metadata": {},
   "outputs": [
    {
     "data": {
      "text/plain": [
       "array([[ 4.44330146,  6.48922286,  5.61644669,  6.32034924, 14.7275985 ,\n",
       "         8.47740176,  4.97757903,  4.64650226, 12.09595171, 12.35049386],\n",
       "       [ 9.35742525,  9.43025362, 11.33338879,  6.06827192,  6.9777048 ,\n",
       "         6.40410434,  5.82986959,  6.4714073 ,  9.22678904,  6.81392048],\n",
       "       [15.05332152, 12.55304924, 11.96540663, 10.03132858, 10.00660135,\n",
       "         8.1684542 , 13.65947032, 13.20994998, 16.22704266, 14.2918078 ],\n",
       "       [12.05753838,  8.5740292 , 12.09371012, 11.45473533, 11.58963592,\n",
       "        10.91119701, 14.30579803, 13.12348348,  8.38483008, 15.2905144 ],\n",
       "       [10.03020408, 14.00853433, 12.48131816, 12.52894687, 12.44297282,\n",
       "        12.72640641, 14.24147513,  7.06302118, 11.70540295,  8.67148401],\n",
       "       [10.65131059, 14.27469694, 10.60418819, 12.34325021,  9.22480537,\n",
       "         9.52247765,  9.89997315,  2.858067  , 12.44148779,  4.76887278],\n",
       "       [ 8.47091004,  3.99008867, 11.3500864 ,  8.71292359, 12.86589598,\n",
       "        14.89148938,  8.329432  , 11.31903522,  8.52685674,  7.56840255],\n",
       "       [13.56064754,  9.78927066, 12.34528873,  8.7107207 , 12.53628767,\n",
       "         6.70147499, 13.52781601,  9.11094352, 10.28194124,  7.87510462],\n",
       "       [ 7.89670623, 15.86285681, 10.26760485, 13.39659316,  6.49726506,\n",
       "         9.762431  , 12.8099431 , 12.64054026,  5.1948619 ,  9.65406713],\n",
       "       [13.05056178, 10.18115098, 15.40287808, 13.63252307, 12.02484871,\n",
       "        11.90664741,  7.01920103, 10.51650534,  6.78508406,  7.98089542]])"
      ]
     },
     "execution_count": 135,
     "metadata": {},
     "output_type": "execute_result"
    }
   ],
   "source": [
    "# symétrique horizontale\n",
    "echantillon2d[::-1]"
   ]
  },
  {
   "cell_type": "code",
   "execution_count": 136,
   "id": "4610aacf-b303-41c2-99fb-a0514d43de23",
   "metadata": {},
   "outputs": [
    {
     "data": {
      "text/plain": [
       "array([[ 7.98089542,  6.78508406, 10.51650534,  7.01920103, 11.90664741,\n",
       "        12.02484871, 13.63252307, 15.40287808, 10.18115098, 13.05056178],\n",
       "       [ 9.65406713,  5.1948619 , 12.64054026, 12.8099431 ,  9.762431  ,\n",
       "         6.49726506, 13.39659316, 10.26760485, 15.86285681,  7.89670623],\n",
       "       [ 7.87510462, 10.28194124,  9.11094352, 13.52781601,  6.70147499,\n",
       "        12.53628767,  8.7107207 , 12.34528873,  9.78927066, 13.56064754],\n",
       "       [ 7.56840255,  8.52685674, 11.31903522,  8.329432  , 14.89148938,\n",
       "        12.86589598,  8.71292359, 11.3500864 ,  3.99008867,  8.47091004],\n",
       "       [ 4.76887278, 12.44148779,  2.858067  ,  9.89997315,  9.52247765,\n",
       "         9.22480537, 12.34325021, 10.60418819, 14.27469694, 10.65131059],\n",
       "       [ 8.67148401, 11.70540295,  7.06302118, 14.24147513, 12.72640641,\n",
       "        12.44297282, 12.52894687, 12.48131816, 14.00853433, 10.03020408],\n",
       "       [15.2905144 ,  8.38483008, 13.12348348, 14.30579803, 10.91119701,\n",
       "        11.58963592, 11.45473533, 12.09371012,  8.5740292 , 12.05753838],\n",
       "       [14.2918078 , 16.22704266, 13.20994998, 13.65947032,  8.1684542 ,\n",
       "        10.00660135, 10.03132858, 11.96540663, 12.55304924, 15.05332152],\n",
       "       [ 6.81392048,  9.22678904,  6.4714073 ,  5.82986959,  6.40410434,\n",
       "         6.9777048 ,  6.06827192, 11.33338879,  9.43025362,  9.35742525],\n",
       "       [12.35049386, 12.09595171,  4.64650226,  4.97757903,  8.47740176,\n",
       "        14.7275985 ,  6.32034924,  5.61644669,  6.48922286,  4.44330146]])"
      ]
     },
     "execution_count": 136,
     "metadata": {},
     "output_type": "execute_result"
    }
   ],
   "source": [
    "# symétrique verticale\n",
    "echantillon2d[:,::-1]"
   ]
  },
  {
   "cell_type": "markdown",
   "id": "1b472960-b170-4eac-b024-b5849a051c3a",
   "metadata": {},
   "source": [
    "#### pandas DataFrame and Series"
   ]
  },
  {
   "cell_type": "markdown",
   "id": "f5d14ffd-f291-44dd-9ef3-1dcdd85ab074",
   "metadata": {},
   "source": [
    "##### .iloc"
   ]
  },
  {
   "cell_type": "code",
   "execution_count": 137,
   "id": "073d7bde-6570-4710-872a-e0b910cf920c",
   "metadata": {},
   "outputs": [
    {
     "data": {
      "text/html": [
       "<div>\n",
       "<style scoped>\n",
       "    .dataframe tbody tr th:only-of-type {\n",
       "        vertical-align: middle;\n",
       "    }\n",
       "\n",
       "    .dataframe tbody tr th {\n",
       "        vertical-align: top;\n",
       "    }\n",
       "\n",
       "    .dataframe thead th {\n",
       "        text-align: right;\n",
       "    }\n",
       "</style>\n",
       "<table border=\"1\" class=\"dataframe\">\n",
       "  <thead>\n",
       "    <tr style=\"text-align: right;\">\n",
       "      <th></th>\n",
       "      <th>insee_code</th>\n",
       "      <th>city_code</th>\n",
       "      <th>zip_code</th>\n",
       "      <th>label</th>\n",
       "      <th>latitude</th>\n",
       "      <th>longitude</th>\n",
       "      <th>department_name</th>\n",
       "      <th>department_number</th>\n",
       "      <th>region_name</th>\n",
       "      <th>region_geojson_name</th>\n",
       "    </tr>\n",
       "  </thead>\n",
       "  <tbody>\n",
       "    <tr>\n",
       "      <th>0</th>\n",
       "      <td>25620</td>\n",
       "      <td>ville du pont</td>\n",
       "      <td>25650</td>\n",
       "      <td>ville du pont</td>\n",
       "      <td>46.999873</td>\n",
       "      <td>6.498147</td>\n",
       "      <td>doubs</td>\n",
       "      <td>25</td>\n",
       "      <td>bourgogne-franche-comté</td>\n",
       "      <td>Bourgogne-Franche-Comté</td>\n",
       "    </tr>\n",
       "    <tr>\n",
       "      <th>1</th>\n",
       "      <td>25624</td>\n",
       "      <td>villers grelot</td>\n",
       "      <td>25640</td>\n",
       "      <td>villers grelot</td>\n",
       "      <td>47.361512</td>\n",
       "      <td>6.235167</td>\n",
       "      <td>doubs</td>\n",
       "      <td>25</td>\n",
       "      <td>bourgogne-franche-comté</td>\n",
       "      <td>Bourgogne-Franche-Comté</td>\n",
       "    </tr>\n",
       "    <tr>\n",
       "      <th>2</th>\n",
       "      <td>25615</td>\n",
       "      <td>villars les blamont</td>\n",
       "      <td>25310</td>\n",
       "      <td>villars les blamont</td>\n",
       "      <td>47.368384</td>\n",
       "      <td>6.871415</td>\n",
       "      <td>doubs</td>\n",
       "      <td>25</td>\n",
       "      <td>bourgogne-franche-comté</td>\n",
       "      <td>Bourgogne-Franche-Comté</td>\n",
       "    </tr>\n",
       "    <tr>\n",
       "      <th>3</th>\n",
       "      <td>25619</td>\n",
       "      <td>les villedieu</td>\n",
       "      <td>25240</td>\n",
       "      <td>les villedieu</td>\n",
       "      <td>46.713906</td>\n",
       "      <td>6.265831</td>\n",
       "      <td>doubs</td>\n",
       "      <td>25</td>\n",
       "      <td>bourgogne-franche-comté</td>\n",
       "      <td>Bourgogne-Franche-Comté</td>\n",
       "    </tr>\n",
       "    <tr>\n",
       "      <th>4</th>\n",
       "      <td>25622</td>\n",
       "      <td>villers buzon</td>\n",
       "      <td>25170</td>\n",
       "      <td>villers buzon</td>\n",
       "      <td>47.228558</td>\n",
       "      <td>5.852187</td>\n",
       "      <td>doubs</td>\n",
       "      <td>25</td>\n",
       "      <td>bourgogne-franche-comté</td>\n",
       "      <td>Bourgogne-Franche-Comté</td>\n",
       "    </tr>\n",
       "    <tr>\n",
       "      <th>5</th>\n",
       "      <td>25625</td>\n",
       "      <td>villers la combe</td>\n",
       "      <td>25510</td>\n",
       "      <td>villers la combe</td>\n",
       "      <td>47.240810</td>\n",
       "      <td>6.473842</td>\n",
       "      <td>doubs</td>\n",
       "      <td>25</td>\n",
       "      <td>bourgogne-franche-comté</td>\n",
       "      <td>Bourgogne-Franche-Comté</td>\n",
       "    </tr>\n",
       "    <tr>\n",
       "      <th>6</th>\n",
       "      <td>25627</td>\n",
       "      <td>villers sous chalamont</td>\n",
       "      <td>25270</td>\n",
       "      <td>villers sous chalamont</td>\n",
       "      <td>46.901588</td>\n",
       "      <td>6.045328</td>\n",
       "      <td>doubs</td>\n",
       "      <td>25</td>\n",
       "      <td>bourgogne-franche-comté</td>\n",
       "      <td>Bourgogne-Franche-Comté</td>\n",
       "    </tr>\n",
       "    <tr>\n",
       "      <th>7</th>\n",
       "      <td>25632</td>\n",
       "      <td>voujeaucourt</td>\n",
       "      <td>25420</td>\n",
       "      <td>voujeaucourt</td>\n",
       "      <td>47.473553</td>\n",
       "      <td>6.782506</td>\n",
       "      <td>doubs</td>\n",
       "      <td>25</td>\n",
       "      <td>bourgogne-franche-comté</td>\n",
       "      <td>Bourgogne-Franche-Comté</td>\n",
       "    </tr>\n",
       "    <tr>\n",
       "      <th>8</th>\n",
       "      <td>02102</td>\n",
       "      <td>bouconville vauclair</td>\n",
       "      <td>2860</td>\n",
       "      <td>bouconville vauclair</td>\n",
       "      <td>49.460193</td>\n",
       "      <td>3.756685</td>\n",
       "      <td>aisne</td>\n",
       "      <td>02</td>\n",
       "      <td>hauts-de-france</td>\n",
       "      <td>Hauts-de-France</td>\n",
       "    </tr>\n",
       "    <tr>\n",
       "      <th>9</th>\n",
       "      <td>02105</td>\n",
       "      <td>bouresches</td>\n",
       "      <td>2400</td>\n",
       "      <td>bouresches</td>\n",
       "      <td>49.067056</td>\n",
       "      <td>3.316703</td>\n",
       "      <td>aisne</td>\n",
       "      <td>02</td>\n",
       "      <td>hauts-de-france</td>\n",
       "      <td>Hauts-de-France</td>\n",
       "    </tr>\n",
       "  </tbody>\n",
       "</table>\n",
       "</div>"
      ],
      "text/plain": [
       "  insee_code               city_code  zip_code                   label  \\\n",
       "0      25620           ville du pont     25650           ville du pont   \n",
       "1      25624          villers grelot     25640          villers grelot   \n",
       "2      25615     villars les blamont     25310     villars les blamont   \n",
       "3      25619           les villedieu     25240           les villedieu   \n",
       "4      25622           villers buzon     25170           villers buzon   \n",
       "5      25625        villers la combe     25510        villers la combe   \n",
       "6      25627  villers sous chalamont     25270  villers sous chalamont   \n",
       "7      25632            voujeaucourt     25420            voujeaucourt   \n",
       "8      02102    bouconville vauclair      2860    bouconville vauclair   \n",
       "9      02105              bouresches      2400              bouresches   \n",
       "\n",
       "    latitude  longitude department_name department_number  \\\n",
       "0  46.999873   6.498147           doubs                25   \n",
       "1  47.361512   6.235167           doubs                25   \n",
       "2  47.368384   6.871415           doubs                25   \n",
       "3  46.713906   6.265831           doubs                25   \n",
       "4  47.228558   5.852187           doubs                25   \n",
       "5  47.240810   6.473842           doubs                25   \n",
       "6  46.901588   6.045328           doubs                25   \n",
       "7  47.473553   6.782506           doubs                25   \n",
       "8  49.460193   3.756685           aisne                02   \n",
       "9  49.067056   3.316703           aisne                02   \n",
       "\n",
       "               region_name      region_geojson_name  \n",
       "0  bourgogne-franche-comté  Bourgogne-Franche-Comté  \n",
       "1  bourgogne-franche-comté  Bourgogne-Franche-Comté  \n",
       "2  bourgogne-franche-comté  Bourgogne-Franche-Comté  \n",
       "3  bourgogne-franche-comté  Bourgogne-Franche-Comté  \n",
       "4  bourgogne-franche-comté  Bourgogne-Franche-Comté  \n",
       "5  bourgogne-franche-comté  Bourgogne-Franche-Comté  \n",
       "6  bourgogne-franche-comté  Bourgogne-Franche-Comté  \n",
       "7  bourgogne-franche-comté  Bourgogne-Franche-Comté  \n",
       "8          hauts-de-france          Hauts-de-France  \n",
       "9          hauts-de-france          Hauts-de-France  "
      ]
     },
     "execution_count": 137,
     "metadata": {},
     "output_type": "execute_result"
    }
   ],
   "source": [
    "dfCitiesFr.iloc[:10]  # .head(10)"
   ]
  },
  {
   "cell_type": "code",
   "execution_count": 138,
   "id": "f4ade02b-5fcb-4641-920b-1eb493106ba1",
   "metadata": {},
   "outputs": [
    {
     "data": {
      "text/html": [
       "<div>\n",
       "<style scoped>\n",
       "    .dataframe tbody tr th:only-of-type {\n",
       "        vertical-align: middle;\n",
       "    }\n",
       "\n",
       "    .dataframe tbody tr th {\n",
       "        vertical-align: top;\n",
       "    }\n",
       "\n",
       "    .dataframe thead th {\n",
       "        text-align: right;\n",
       "    }\n",
       "</style>\n",
       "<table border=\"1\" class=\"dataframe\">\n",
       "  <thead>\n",
       "    <tr style=\"text-align: right;\">\n",
       "      <th></th>\n",
       "      <th>insee_code</th>\n",
       "      <th>city_code</th>\n",
       "      <th>zip_code</th>\n",
       "      <th>label</th>\n",
       "      <th>latitude</th>\n",
       "      <th>longitude</th>\n",
       "      <th>department_name</th>\n",
       "      <th>department_number</th>\n",
       "      <th>region_name</th>\n",
       "      <th>region_geojson_name</th>\n",
       "    </tr>\n",
       "  </thead>\n",
       "  <tbody>\n",
       "    <tr>\n",
       "      <th>39140</th>\n",
       "      <td>98829</td>\n",
       "      <td>thio</td>\n",
       "      <td>98829</td>\n",
       "      <td>thio</td>\n",
       "      <td>NaN</td>\n",
       "      <td>NaN</td>\n",
       "      <td>nouvelle-calédonie</td>\n",
       "      <td>988</td>\n",
       "      <td>nouvelle-calédonie</td>\n",
       "      <td>Nouvelle Calédonie</td>\n",
       "    </tr>\n",
       "    <tr>\n",
       "      <th>39141</th>\n",
       "      <td>98831</td>\n",
       "      <td>voh</td>\n",
       "      <td>98833</td>\n",
       "      <td>voh</td>\n",
       "      <td>NaN</td>\n",
       "      <td>NaN</td>\n",
       "      <td>nouvelle-calédonie</td>\n",
       "      <td>988</td>\n",
       "      <td>nouvelle-calédonie</td>\n",
       "      <td>Nouvelle Calédonie</td>\n",
       "    </tr>\n",
       "    <tr>\n",
       "      <th>39142</th>\n",
       "      <td>98832</td>\n",
       "      <td>yate</td>\n",
       "      <td>98834</td>\n",
       "      <td>yate</td>\n",
       "      <td>NaN</td>\n",
       "      <td>NaN</td>\n",
       "      <td>nouvelle-calédonie</td>\n",
       "      <td>988</td>\n",
       "      <td>nouvelle-calédonie</td>\n",
       "      <td>Nouvelle Calédonie</td>\n",
       "    </tr>\n",
       "    <tr>\n",
       "      <th>39143</th>\n",
       "      <td>98612</td>\n",
       "      <td>sigave</td>\n",
       "      <td>98620</td>\n",
       "      <td>sigave</td>\n",
       "      <td>-14.270411</td>\n",
       "      <td>-178.155263</td>\n",
       "      <td>wallis-et-futuna</td>\n",
       "      <td>986</td>\n",
       "      <td>wallis-et-futuna</td>\n",
       "      <td>Wallis-et-Futuna</td>\n",
       "    </tr>\n",
       "    <tr>\n",
       "      <th>39144</th>\n",
       "      <td>98613</td>\n",
       "      <td>uvea</td>\n",
       "      <td>98600</td>\n",
       "      <td>uvea</td>\n",
       "      <td>-13.281863</td>\n",
       "      <td>-176.161928</td>\n",
       "      <td>wallis-et-futuna</td>\n",
       "      <td>986</td>\n",
       "      <td>wallis-et-futuna</td>\n",
       "      <td>Wallis-et-Futuna</td>\n",
       "    </tr>\n",
       "  </tbody>\n",
       "</table>\n",
       "</div>"
      ],
      "text/plain": [
       "      insee_code city_code  zip_code   label   latitude   longitude  \\\n",
       "39140      98829      thio     98829    thio        NaN         NaN   \n",
       "39141      98831       voh     98833     voh        NaN         NaN   \n",
       "39142      98832      yate     98834    yate        NaN         NaN   \n",
       "39143      98612    sigave     98620  sigave -14.270411 -178.155263   \n",
       "39144      98613      uvea     98600    uvea -13.281863 -176.161928   \n",
       "\n",
       "          department_name department_number         region_name  \\\n",
       "39140  nouvelle-calédonie               988  nouvelle-calédonie   \n",
       "39141  nouvelle-calédonie               988  nouvelle-calédonie   \n",
       "39142  nouvelle-calédonie               988  nouvelle-calédonie   \n",
       "39143    wallis-et-futuna               986    wallis-et-futuna   \n",
       "39144    wallis-et-futuna               986    wallis-et-futuna   \n",
       "\n",
       "      region_geojson_name  \n",
       "39140  Nouvelle Calédonie  \n",
       "39141  Nouvelle Calédonie  \n",
       "39142  Nouvelle Calédonie  \n",
       "39143    Wallis-et-Futuna  \n",
       "39144    Wallis-et-Futuna  "
      ]
     },
     "execution_count": 138,
     "metadata": {},
     "output_type": "execute_result"
    }
   ],
   "source": [
    "dfCitiesFr.iloc[-5:] # .tail(5)"
   ]
  },
  {
   "cell_type": "code",
   "execution_count": 139,
   "id": "a785d2c0-f2f2-4ac8-a688-111d93345097",
   "metadata": {},
   "outputs": [
    {
     "data": {
      "text/html": [
       "<div>\n",
       "<style scoped>\n",
       "    .dataframe tbody tr th:only-of-type {\n",
       "        vertical-align: middle;\n",
       "    }\n",
       "\n",
       "    .dataframe tbody tr th {\n",
       "        vertical-align: top;\n",
       "    }\n",
       "\n",
       "    .dataframe thead th {\n",
       "        text-align: right;\n",
       "    }\n",
       "</style>\n",
       "<table border=\"1\" class=\"dataframe\">\n",
       "  <thead>\n",
       "    <tr style=\"text-align: right;\">\n",
       "      <th></th>\n",
       "      <th>zip_code</th>\n",
       "      <th>label</th>\n",
       "    </tr>\n",
       "  </thead>\n",
       "  <tbody>\n",
       "    <tr>\n",
       "      <th>0</th>\n",
       "      <td>25650</td>\n",
       "      <td>ville du pont</td>\n",
       "    </tr>\n",
       "    <tr>\n",
       "      <th>1</th>\n",
       "      <td>25640</td>\n",
       "      <td>villers grelot</td>\n",
       "    </tr>\n",
       "    <tr>\n",
       "      <th>2</th>\n",
       "      <td>25310</td>\n",
       "      <td>villars les blamont</td>\n",
       "    </tr>\n",
       "    <tr>\n",
       "      <th>3</th>\n",
       "      <td>25240</td>\n",
       "      <td>les villedieu</td>\n",
       "    </tr>\n",
       "    <tr>\n",
       "      <th>4</th>\n",
       "      <td>25170</td>\n",
       "      <td>villers buzon</td>\n",
       "    </tr>\n",
       "  </tbody>\n",
       "</table>\n",
       "</div>"
      ],
      "text/plain": [
       "   zip_code                label\n",
       "0     25650        ville du pont\n",
       "1     25640       villers grelot\n",
       "2     25310  villars les blamont\n",
       "3     25240        les villedieu\n",
       "4     25170        villers buzon"
      ]
     },
     "execution_count": 139,
     "metadata": {},
     "output_type": "execute_result"
    }
   ],
   "source": [
    "dfCitiesFr.iloc[:5, 2:4]"
   ]
  },
  {
   "cell_type": "markdown",
   "id": "73ac941f-2e2e-4ee0-bf52-584f5c05b70b",
   "metadata": {},
   "source": [
    "##### .loc (index str)"
   ]
  },
  {
   "cell_type": "code",
   "execution_count": 140,
   "id": "38495254-284b-4ca8-bf40-3af2b6c9d015",
   "metadata": {},
   "outputs": [
    {
     "data": {
      "text/html": [
       "<div>\n",
       "<style scoped>\n",
       "    .dataframe tbody tr th:only-of-type {\n",
       "        vertical-align: middle;\n",
       "    }\n",
       "\n",
       "    .dataframe tbody tr th {\n",
       "        vertical-align: top;\n",
       "    }\n",
       "\n",
       "    .dataframe thead th {\n",
       "        text-align: right;\n",
       "    }\n",
       "</style>\n",
       "<table border=\"1\" class=\"dataframe\">\n",
       "  <thead>\n",
       "    <tr style=\"text-align: right;\">\n",
       "      <th></th>\n",
       "      <th>city_code</th>\n",
       "      <th>zip_code</th>\n",
       "      <th>label</th>\n",
       "      <th>latitude</th>\n",
       "      <th>longitude</th>\n",
       "      <th>department_name</th>\n",
       "      <th>department_number</th>\n",
       "      <th>region_name</th>\n",
       "      <th>region_geojson_name</th>\n",
       "    </tr>\n",
       "    <tr>\n",
       "      <th>insee_code</th>\n",
       "      <th></th>\n",
       "      <th></th>\n",
       "      <th></th>\n",
       "      <th></th>\n",
       "      <th></th>\n",
       "      <th></th>\n",
       "      <th></th>\n",
       "      <th></th>\n",
       "      <th></th>\n",
       "    </tr>\n",
       "  </thead>\n",
       "  <tbody>\n",
       "    <tr>\n",
       "      <th>25620</th>\n",
       "      <td>ville du pont</td>\n",
       "      <td>25650</td>\n",
       "      <td>ville du pont</td>\n",
       "      <td>46.999873</td>\n",
       "      <td>6.498147</td>\n",
       "      <td>doubs</td>\n",
       "      <td>25</td>\n",
       "      <td>bourgogne-franche-comté</td>\n",
       "      <td>Bourgogne-Franche-Comté</td>\n",
       "    </tr>\n",
       "    <tr>\n",
       "      <th>25624</th>\n",
       "      <td>villers grelot</td>\n",
       "      <td>25640</td>\n",
       "      <td>villers grelot</td>\n",
       "      <td>47.361512</td>\n",
       "      <td>6.235167</td>\n",
       "      <td>doubs</td>\n",
       "      <td>25</td>\n",
       "      <td>bourgogne-franche-comté</td>\n",
       "      <td>Bourgogne-Franche-Comté</td>\n",
       "    </tr>\n",
       "  </tbody>\n",
       "</table>\n",
       "</div>"
      ],
      "text/plain": [
       "                 city_code  zip_code           label   latitude  longitude  \\\n",
       "insee_code                                                                   \n",
       "25620        ville du pont     25650   ville du pont  46.999873   6.498147   \n",
       "25624       villers grelot     25640  villers grelot  47.361512   6.235167   \n",
       "\n",
       "           department_name department_number              region_name  \\\n",
       "insee_code                                                              \n",
       "25620                doubs                25  bourgogne-franche-comté   \n",
       "25624                doubs                25  bourgogne-franche-comté   \n",
       "\n",
       "                region_geojson_name  \n",
       "insee_code                           \n",
       "25620       Bourgogne-Franche-Comté  \n",
       "25624       Bourgogne-Franche-Comté  "
      ]
     },
     "execution_count": 140,
     "metadata": {},
     "output_type": "execute_result"
    }
   ],
   "source": [
    "dfCitiesFrInsee = dfCitiesFr.set_index('insee_code')\n",
    "dfCitiesFrInsee.head(2)"
   ]
  },
  {
   "cell_type": "code",
   "execution_count": 141,
   "id": "07094b25-d708-44e3-9562-5fcca22c4f9f",
   "metadata": {},
   "outputs": [
    {
     "data": {
      "text/plain": [
       "city_code                       villers grelot\n",
       "zip_code                                 25640\n",
       "label                           villers grelot\n",
       "latitude                             47.361512\n",
       "longitude                             6.235167\n",
       "department_name                          doubs\n",
       "department_number                           25\n",
       "region_name            bourgogne-franche-comté\n",
       "region_geojson_name    Bourgogne-Franche-Comté\n",
       "Name: 25624, dtype: object"
      ]
     },
     "execution_count": 141,
     "metadata": {},
     "output_type": "execute_result"
    }
   ],
   "source": [
    "dfCitiesFrInsee.loc['25624']"
   ]
  },
  {
   "cell_type": "code",
   "execution_count": 142,
   "id": "55ae8701-8fee-4017-a138-fc8580e2cbfe",
   "metadata": {},
   "outputs": [
    {
     "data": {
      "text/plain": [
       "('01001', '98901')"
      ]
     },
     "execution_count": 142,
     "metadata": {},
     "output_type": "execute_result"
    }
   ],
   "source": [
    "dfCitiesFrInsee.index.min(), dfCitiesFrInsee.index.max()"
   ]
  },
  {
   "cell_type": "code",
   "execution_count": 143,
   "id": "d2312fbb-3603-410a-9d75-18bc757dbba6",
   "metadata": {},
   "outputs": [
    {
     "data": {
      "text/html": [
       "<div>\n",
       "<style scoped>\n",
       "    .dataframe tbody tr th:only-of-type {\n",
       "        vertical-align: middle;\n",
       "    }\n",
       "\n",
       "    .dataframe tbody tr th {\n",
       "        vertical-align: top;\n",
       "    }\n",
       "\n",
       "    .dataframe thead th {\n",
       "        text-align: right;\n",
       "    }\n",
       "</style>\n",
       "<table border=\"1\" class=\"dataframe\">\n",
       "  <thead>\n",
       "    <tr style=\"text-align: right;\">\n",
       "      <th></th>\n",
       "      <th>insee_code</th>\n",
       "      <th>city_code</th>\n",
       "      <th>zip_code</th>\n",
       "      <th>label</th>\n",
       "      <th>latitude</th>\n",
       "      <th>longitude</th>\n",
       "      <th>department_name</th>\n",
       "      <th>department_number</th>\n",
       "      <th>region_name</th>\n",
       "      <th>region_geojson_name</th>\n",
       "    </tr>\n",
       "  </thead>\n",
       "  <tbody>\n",
       "    <tr>\n",
       "      <th>21300</th>\n",
       "      <td>31008</td>\n",
       "      <td>anan</td>\n",
       "      <td>31230</td>\n",
       "      <td>anan</td>\n",
       "      <td>43.352336</td>\n",
       "      <td>0.811013</td>\n",
       "      <td>haute-garonne</td>\n",
       "      <td>31</td>\n",
       "      <td>occitanie</td>\n",
       "      <td>Occitanie</td>\n",
       "    </tr>\n",
       "    <tr>\n",
       "      <th>21301</th>\n",
       "      <td>31009</td>\n",
       "      <td>antichan de frontignes</td>\n",
       "      <td>31510</td>\n",
       "      <td>antichan de frontignes</td>\n",
       "      <td>42.969894</td>\n",
       "      <td>0.676237</td>\n",
       "      <td>haute-garonne</td>\n",
       "      <td>31</td>\n",
       "      <td>occitanie</td>\n",
       "      <td>Occitanie</td>\n",
       "    </tr>\n",
       "    <tr>\n",
       "      <th>21302</th>\n",
       "      <td>31010</td>\n",
       "      <td>antignac</td>\n",
       "      <td>31110</td>\n",
       "      <td>antignac</td>\n",
       "      <td>42.830562</td>\n",
       "      <td>0.588436</td>\n",
       "      <td>haute-garonne</td>\n",
       "      <td>31</td>\n",
       "      <td>occitanie</td>\n",
       "      <td>Occitanie</td>\n",
       "    </tr>\n",
       "    <tr>\n",
       "      <th>21303</th>\n",
       "      <td>31020</td>\n",
       "      <td>aspet</td>\n",
       "      <td>31160</td>\n",
       "      <td>aspet</td>\n",
       "      <td>43.011445</td>\n",
       "      <td>0.806105</td>\n",
       "      <td>haute-garonne</td>\n",
       "      <td>31</td>\n",
       "      <td>occitanie</td>\n",
       "      <td>Occitanie</td>\n",
       "    </tr>\n",
       "    <tr>\n",
       "      <th>21304</th>\n",
       "      <td>31022</td>\n",
       "      <td>aucamville</td>\n",
       "      <td>31140</td>\n",
       "      <td>aucamville</td>\n",
       "      <td>43.671099</td>\n",
       "      <td>1.423339</td>\n",
       "      <td>haute-garonne</td>\n",
       "      <td>31</td>\n",
       "      <td>occitanie</td>\n",
       "      <td>Occitanie</td>\n",
       "    </tr>\n",
       "    <tr>\n",
       "      <th>...</th>\n",
       "      <td>...</td>\n",
       "      <td>...</td>\n",
       "      <td>...</td>\n",
       "      <td>...</td>\n",
       "      <td>...</td>\n",
       "      <td>...</td>\n",
       "      <td>...</td>\n",
       "      <td>...</td>\n",
       "      <td>...</td>\n",
       "      <td>...</td>\n",
       "    </tr>\n",
       "    <tr>\n",
       "      <th>25503</th>\n",
       "      <td>31580</td>\n",
       "      <td>villate</td>\n",
       "      <td>31860</td>\n",
       "      <td>villate</td>\n",
       "      <td>43.468337</td>\n",
       "      <td>1.381867</td>\n",
       "      <td>haute-garonne</td>\n",
       "      <td>31</td>\n",
       "      <td>occitanie</td>\n",
       "      <td>Occitanie</td>\n",
       "    </tr>\n",
       "    <tr>\n",
       "      <th>25505</th>\n",
       "      <td>31586</td>\n",
       "      <td>villeneuve lecussan</td>\n",
       "      <td>31580</td>\n",
       "      <td>villeneuve lecussan</td>\n",
       "      <td>43.134111</td>\n",
       "      <td>0.485188</td>\n",
       "      <td>haute-garonne</td>\n",
       "      <td>31</td>\n",
       "      <td>occitanie</td>\n",
       "      <td>Occitanie</td>\n",
       "    </tr>\n",
       "    <tr>\n",
       "      <th>25507</th>\n",
       "      <td>31589</td>\n",
       "      <td>villenouvelle</td>\n",
       "      <td>31290</td>\n",
       "      <td>villenouvelle</td>\n",
       "      <td>43.437785</td>\n",
       "      <td>1.662807</td>\n",
       "      <td>haute-garonne</td>\n",
       "      <td>31</td>\n",
       "      <td>occitanie</td>\n",
       "      <td>Occitanie</td>\n",
       "    </tr>\n",
       "    <tr>\n",
       "      <th>25509</th>\n",
       "      <td>31591</td>\n",
       "      <td>escoulis</td>\n",
       "      <td>31260</td>\n",
       "      <td>escoulis</td>\n",
       "      <td>43.111423</td>\n",
       "      <td>1.030996</td>\n",
       "      <td>haute-garonne</td>\n",
       "      <td>31</td>\n",
       "      <td>occitanie</td>\n",
       "      <td>Occitanie</td>\n",
       "    </tr>\n",
       "    <tr>\n",
       "      <th>25511</th>\n",
       "      <td>31593</td>\n",
       "      <td>cazac</td>\n",
       "      <td>31230</td>\n",
       "      <td>cazac</td>\n",
       "      <td>43.347837</td>\n",
       "      <td>0.952405</td>\n",
       "      <td>haute-garonne</td>\n",
       "      <td>31</td>\n",
       "      <td>occitanie</td>\n",
       "      <td>Occitanie</td>\n",
       "    </tr>\n",
       "  </tbody>\n",
       "</table>\n",
       "<p>600 rows × 10 columns</p>\n",
       "</div>"
      ],
      "text/plain": [
       "      insee_code               city_code  zip_code                   label  \\\n",
       "21300      31008                    anan     31230                    anan   \n",
       "21301      31009  antichan de frontignes     31510  antichan de frontignes   \n",
       "21302      31010                antignac     31110                antignac   \n",
       "21303      31020                   aspet     31160                   aspet   \n",
       "21304      31022              aucamville     31140              aucamville   \n",
       "...          ...                     ...       ...                     ...   \n",
       "25503      31580                 villate     31860                 villate   \n",
       "25505      31586     villeneuve lecussan     31580     villeneuve lecussan   \n",
       "25507      31589           villenouvelle     31290           villenouvelle   \n",
       "25509      31591                escoulis     31260                escoulis   \n",
       "25511      31593                   cazac     31230                   cazac   \n",
       "\n",
       "        latitude  longitude department_name department_number region_name  \\\n",
       "21300  43.352336   0.811013   haute-garonne                31   occitanie   \n",
       "21301  42.969894   0.676237   haute-garonne                31   occitanie   \n",
       "21302  42.830562   0.588436   haute-garonne                31   occitanie   \n",
       "21303  43.011445   0.806105   haute-garonne                31   occitanie   \n",
       "21304  43.671099   1.423339   haute-garonne                31   occitanie   \n",
       "...          ...        ...             ...               ...         ...   \n",
       "25503  43.468337   1.381867   haute-garonne                31   occitanie   \n",
       "25505  43.134111   0.485188   haute-garonne                31   occitanie   \n",
       "25507  43.437785   1.662807   haute-garonne                31   occitanie   \n",
       "25509  43.111423   1.030996   haute-garonne                31   occitanie   \n",
       "25511  43.347837   0.952405   haute-garonne                31   occitanie   \n",
       "\n",
       "      region_geojson_name  \n",
       "21300           Occitanie  \n",
       "21301           Occitanie  \n",
       "21302           Occitanie  \n",
       "21303           Occitanie  \n",
       "21304           Occitanie  \n",
       "...                   ...  \n",
       "25503           Occitanie  \n",
       "25505           Occitanie  \n",
       "25507           Occitanie  \n",
       "25509           Occitanie  \n",
       "25511           Occitanie  \n",
       "\n",
       "[600 rows x 10 columns]"
      ]
     },
     "execution_count": 143,
     "metadata": {},
     "output_type": "execute_result"
    }
   ],
   "source": [
    "dfCitiesFr.loc[dfCitiesFr.insee_code.str.startswith('31')]"
   ]
  },
  {
   "cell_type": "code",
   "execution_count": 144,
   "id": "a9d57116-e783-4824-9b7e-8615dad9ff98",
   "metadata": {},
   "outputs": [
    {
     "data": {
      "text/plain": [
       "21300    31008\n",
       "21301    31009\n",
       "21302    31010\n",
       "21303    31020\n",
       "21304    31022\n",
       "         ...  \n",
       "25503    31580\n",
       "25505    31586\n",
       "25507    31589\n",
       "25509    31591\n",
       "25511    31593\n",
       "Name: insee_code, Length: 600, dtype: object"
      ]
     },
     "execution_count": 144,
     "metadata": {},
     "output_type": "execute_result"
    }
   ],
   "source": [
    "inseeCode31 = dfCitiesFr.loc[dfCitiesFr.insee_code.str.startswith('31'), 'insee_code']\n",
    "inseeCode31"
   ]
  },
  {
   "cell_type": "code",
   "execution_count": 145,
   "id": "1f01c69e-db8c-43ca-9094-867da0660f20",
   "metadata": {},
   "outputs": [
    {
     "data": {
      "text/plain": [
       "('31001', '31593')"
      ]
     },
     "execution_count": 145,
     "metadata": {},
     "output_type": "execute_result"
    }
   ],
   "source": [
    "inseeCode31.min(), inseeCode31.max()"
   ]
  },
  {
   "cell_type": "code",
   "execution_count": 146,
   "id": "4a76668e-7bd8-496c-9d68-2c2f44024667",
   "metadata": {},
   "outputs": [
    {
     "data": {
      "text/html": [
       "<div>\n",
       "<style scoped>\n",
       "    .dataframe tbody tr th:only-of-type {\n",
       "        vertical-align: middle;\n",
       "    }\n",
       "\n",
       "    .dataframe tbody tr th {\n",
       "        vertical-align: top;\n",
       "    }\n",
       "\n",
       "    .dataframe thead th {\n",
       "        text-align: right;\n",
       "    }\n",
       "</style>\n",
       "<table border=\"1\" class=\"dataframe\">\n",
       "  <thead>\n",
       "    <tr style=\"text-align: right;\">\n",
       "      <th></th>\n",
       "      <th>city_code</th>\n",
       "      <th>zip_code</th>\n",
       "      <th>label</th>\n",
       "      <th>latitude</th>\n",
       "      <th>longitude</th>\n",
       "      <th>department_name</th>\n",
       "      <th>department_number</th>\n",
       "      <th>region_name</th>\n",
       "      <th>region_geojson_name</th>\n",
       "    </tr>\n",
       "    <tr>\n",
       "      <th>insee_code</th>\n",
       "      <th></th>\n",
       "      <th></th>\n",
       "      <th></th>\n",
       "      <th></th>\n",
       "      <th></th>\n",
       "      <th></th>\n",
       "      <th></th>\n",
       "      <th></th>\n",
       "      <th></th>\n",
       "    </tr>\n",
       "  </thead>\n",
       "  <tbody>\n",
       "    <tr>\n",
       "      <th>31001</th>\n",
       "      <td>agassac</td>\n",
       "      <td>31230</td>\n",
       "      <td>agassac</td>\n",
       "      <td>43.372368</td>\n",
       "      <td>0.886031</td>\n",
       "      <td>haute-garonne</td>\n",
       "      <td>31</td>\n",
       "      <td>occitanie</td>\n",
       "      <td>Occitanie</td>\n",
       "    </tr>\n",
       "    <tr>\n",
       "      <th>12059</th>\n",
       "      <td>castanet</td>\n",
       "      <td>12240</td>\n",
       "      <td>castanet</td>\n",
       "      <td>44.292817</td>\n",
       "      <td>2.308062</td>\n",
       "      <td>aveyron</td>\n",
       "      <td>12</td>\n",
       "      <td>occitanie</td>\n",
       "      <td>Occitanie</td>\n",
       "    </tr>\n",
       "    <tr>\n",
       "      <th>31002</th>\n",
       "      <td>aignes</td>\n",
       "      <td>31550</td>\n",
       "      <td>aignes</td>\n",
       "      <td>43.334573</td>\n",
       "      <td>1.586507</td>\n",
       "      <td>haute-garonne</td>\n",
       "      <td>31</td>\n",
       "      <td>occitanie</td>\n",
       "      <td>Occitanie</td>\n",
       "    </tr>\n",
       "    <tr>\n",
       "      <th>12060</th>\n",
       "      <td>castelmary</td>\n",
       "      <td>12800</td>\n",
       "      <td>castelmary</td>\n",
       "      <td>44.172344</td>\n",
       "      <td>2.245011</td>\n",
       "      <td>aveyron</td>\n",
       "      <td>12</td>\n",
       "      <td>occitanie</td>\n",
       "      <td>Occitanie</td>\n",
       "    </tr>\n",
       "    <tr>\n",
       "      <th>31005</th>\n",
       "      <td>alan</td>\n",
       "      <td>31420</td>\n",
       "      <td>alan</td>\n",
       "      <td>43.219954</td>\n",
       "      <td>0.927183</td>\n",
       "      <td>haute-garonne</td>\n",
       "      <td>31</td>\n",
       "      <td>occitanie</td>\n",
       "      <td>Occitanie</td>\n",
       "    </tr>\n",
       "    <tr>\n",
       "      <th>...</th>\n",
       "      <td>...</td>\n",
       "      <td>...</td>\n",
       "      <td>...</td>\n",
       "      <td>...</td>\n",
       "      <td>...</td>\n",
       "      <td>...</td>\n",
       "      <td>...</td>\n",
       "      <td>...</td>\n",
       "      <td>...</td>\n",
       "    </tr>\n",
       "    <tr>\n",
       "      <th>31589</th>\n",
       "      <td>villenouvelle</td>\n",
       "      <td>31290</td>\n",
       "      <td>villenouvelle</td>\n",
       "      <td>43.437785</td>\n",
       "      <td>1.662807</td>\n",
       "      <td>haute-garonne</td>\n",
       "      <td>31</td>\n",
       "      <td>occitanie</td>\n",
       "      <td>Occitanie</td>\n",
       "    </tr>\n",
       "    <tr>\n",
       "      <th>32351</th>\n",
       "      <td>roques</td>\n",
       "      <td>32310</td>\n",
       "      <td>roques</td>\n",
       "      <td>43.841921</td>\n",
       "      <td>0.297489</td>\n",
       "      <td>gers</td>\n",
       "      <td>32</td>\n",
       "      <td>occitanie</td>\n",
       "      <td>Occitanie</td>\n",
       "    </tr>\n",
       "    <tr>\n",
       "      <th>31591</th>\n",
       "      <td>escoulis</td>\n",
       "      <td>31260</td>\n",
       "      <td>escoulis</td>\n",
       "      <td>43.111423</td>\n",
       "      <td>1.030996</td>\n",
       "      <td>haute-garonne</td>\n",
       "      <td>31</td>\n",
       "      <td>occitanie</td>\n",
       "      <td>Occitanie</td>\n",
       "    </tr>\n",
       "    <tr>\n",
       "      <th>32358</th>\n",
       "      <td>st antoine</td>\n",
       "      <td>32340</td>\n",
       "      <td>st antoine</td>\n",
       "      <td>44.040014</td>\n",
       "      <td>0.827492</td>\n",
       "      <td>gers</td>\n",
       "      <td>32</td>\n",
       "      <td>occitanie</td>\n",
       "      <td>Occitanie</td>\n",
       "    </tr>\n",
       "    <tr>\n",
       "      <th>31593</th>\n",
       "      <td>cazac</td>\n",
       "      <td>31230</td>\n",
       "      <td>cazac</td>\n",
       "      <td>43.347837</td>\n",
       "      <td>0.952405</td>\n",
       "      <td>haute-garonne</td>\n",
       "      <td>31</td>\n",
       "      <td>occitanie</td>\n",
       "      <td>Occitanie</td>\n",
       "    </tr>\n",
       "  </tbody>\n",
       "</table>\n",
       "<p>1265 rows × 9 columns</p>\n",
       "</div>"
      ],
      "text/plain": [
       "                city_code  zip_code          label   latitude  longitude  \\\n",
       "insee_code                                                                 \n",
       "31001             agassac     31230        agassac  43.372368   0.886031   \n",
       "12059            castanet     12240       castanet  44.292817   2.308062   \n",
       "31002              aignes     31550         aignes  43.334573   1.586507   \n",
       "12060          castelmary     12800     castelmary  44.172344   2.245011   \n",
       "31005                alan     31420           alan  43.219954   0.927183   \n",
       "...                   ...       ...            ...        ...        ...   \n",
       "31589       villenouvelle     31290  villenouvelle  43.437785   1.662807   \n",
       "32351              roques     32310         roques  43.841921   0.297489   \n",
       "31591            escoulis     31260       escoulis  43.111423   1.030996   \n",
       "32358          st antoine     32340     st antoine  44.040014   0.827492   \n",
       "31593               cazac     31230          cazac  43.347837   0.952405   \n",
       "\n",
       "           department_name department_number region_name region_geojson_name  \n",
       "insee_code                                                                    \n",
       "31001        haute-garonne                31   occitanie           Occitanie  \n",
       "12059              aveyron                12   occitanie           Occitanie  \n",
       "31002        haute-garonne                31   occitanie           Occitanie  \n",
       "12060              aveyron                12   occitanie           Occitanie  \n",
       "31005        haute-garonne                31   occitanie           Occitanie  \n",
       "...                    ...               ...         ...                 ...  \n",
       "31589        haute-garonne                31   occitanie           Occitanie  \n",
       "32351                 gers                32   occitanie           Occitanie  \n",
       "31591        haute-garonne                31   occitanie           Occitanie  \n",
       "32358                 gers                32   occitanie           Occitanie  \n",
       "31593        haute-garonne                31   occitanie           Occitanie  \n",
       "\n",
       "[1265 rows x 9 columns]"
      ]
     },
     "execution_count": 146,
     "metadata": {},
     "output_type": "execute_result"
    }
   ],
   "source": [
    "# NB: min and max values MUST exists in df (only for str type)\n",
    "dfCitiesFrInsee.loc['31001':'31593']"
   ]
  },
  {
   "cell_type": "code",
   "execution_count": 147,
   "id": "fde0e6b8-2f07-403e-868a-4b93fe0cc523",
   "metadata": {},
   "outputs": [
    {
     "data": {
      "text/plain": [
       "insee_code\n",
       "31001          agassac\n",
       "12059         castanet\n",
       "31002           aignes\n",
       "12060       castelmary\n",
       "31005             alan\n",
       "             ...      \n",
       "31589    villenouvelle\n",
       "32351           roques\n",
       "31591         escoulis\n",
       "32358       st antoine\n",
       "31593            cazac\n",
       "Name: label, Length: 1265, dtype: object"
      ]
     },
     "execution_count": 147,
     "metadata": {},
     "output_type": "execute_result"
    }
   ],
   "source": [
    "dfCitiesFrInsee.loc[\n",
    "    '31001':'31593',\n",
    "    'label'\n",
    "]"
   ]
  },
  {
   "cell_type": "code",
   "execution_count": 148,
   "id": "cccdaa8d-3501-4eda-869e-8c0a9eea3053",
   "metadata": {},
   "outputs": [
    {
     "data": {
      "text/html": [
       "<div>\n",
       "<style scoped>\n",
       "    .dataframe tbody tr th:only-of-type {\n",
       "        vertical-align: middle;\n",
       "    }\n",
       "\n",
       "    .dataframe tbody tr th {\n",
       "        vertical-align: top;\n",
       "    }\n",
       "\n",
       "    .dataframe thead th {\n",
       "        text-align: right;\n",
       "    }\n",
       "</style>\n",
       "<table border=\"1\" class=\"dataframe\">\n",
       "  <thead>\n",
       "    <tr style=\"text-align: right;\">\n",
       "      <th></th>\n",
       "      <th>label</th>\n",
       "      <th>zip_code</th>\n",
       "    </tr>\n",
       "    <tr>\n",
       "      <th>insee_code</th>\n",
       "      <th></th>\n",
       "      <th></th>\n",
       "    </tr>\n",
       "  </thead>\n",
       "  <tbody>\n",
       "    <tr>\n",
       "      <th>31001</th>\n",
       "      <td>agassac</td>\n",
       "      <td>31230</td>\n",
       "    </tr>\n",
       "    <tr>\n",
       "      <th>12059</th>\n",
       "      <td>castanet</td>\n",
       "      <td>12240</td>\n",
       "    </tr>\n",
       "    <tr>\n",
       "      <th>31002</th>\n",
       "      <td>aignes</td>\n",
       "      <td>31550</td>\n",
       "    </tr>\n",
       "    <tr>\n",
       "      <th>12060</th>\n",
       "      <td>castelmary</td>\n",
       "      <td>12800</td>\n",
       "    </tr>\n",
       "    <tr>\n",
       "      <th>31005</th>\n",
       "      <td>alan</td>\n",
       "      <td>31420</td>\n",
       "    </tr>\n",
       "    <tr>\n",
       "      <th>...</th>\n",
       "      <td>...</td>\n",
       "      <td>...</td>\n",
       "    </tr>\n",
       "    <tr>\n",
       "      <th>31589</th>\n",
       "      <td>villenouvelle</td>\n",
       "      <td>31290</td>\n",
       "    </tr>\n",
       "    <tr>\n",
       "      <th>32351</th>\n",
       "      <td>roques</td>\n",
       "      <td>32310</td>\n",
       "    </tr>\n",
       "    <tr>\n",
       "      <th>31591</th>\n",
       "      <td>escoulis</td>\n",
       "      <td>31260</td>\n",
       "    </tr>\n",
       "    <tr>\n",
       "      <th>32358</th>\n",
       "      <td>st antoine</td>\n",
       "      <td>32340</td>\n",
       "    </tr>\n",
       "    <tr>\n",
       "      <th>31593</th>\n",
       "      <td>cazac</td>\n",
       "      <td>31230</td>\n",
       "    </tr>\n",
       "  </tbody>\n",
       "</table>\n",
       "<p>1265 rows × 2 columns</p>\n",
       "</div>"
      ],
      "text/plain": [
       "                    label  zip_code\n",
       "insee_code                         \n",
       "31001             agassac     31230\n",
       "12059            castanet     12240\n",
       "31002              aignes     31550\n",
       "12060          castelmary     12800\n",
       "31005                alan     31420\n",
       "...                   ...       ...\n",
       "31589       villenouvelle     31290\n",
       "32351              roques     32310\n",
       "31591            escoulis     31260\n",
       "32358          st antoine     32340\n",
       "31593               cazac     31230\n",
       "\n",
       "[1265 rows x 2 columns]"
      ]
     },
     "execution_count": 148,
     "metadata": {},
     "output_type": "execute_result"
    }
   ],
   "source": [
    "dfCitiesFrInsee.loc[\n",
    "    '31001':'31593',\n",
    "    ['label', 'zip_code']\n",
    "]"
   ]
  },
  {
   "cell_type": "markdown",
   "id": "f7784591-b926-4feb-87d8-e749437cdd7d",
   "metadata": {},
   "source": [
    "##### .loc (numeric index)"
   ]
  },
  {
   "cell_type": "code",
   "execution_count": 155,
   "id": "d7b52649-1f58-48ba-84d5-c3fc6719fa4e",
   "metadata": {},
   "outputs": [
    {
     "data": {
      "text/html": [
       "<div>\n",
       "<style scoped>\n",
       "    .dataframe tbody tr th:only-of-type {\n",
       "        vertical-align: middle;\n",
       "    }\n",
       "\n",
       "    .dataframe tbody tr th {\n",
       "        vertical-align: top;\n",
       "    }\n",
       "\n",
       "    .dataframe thead th {\n",
       "        text-align: right;\n",
       "    }\n",
       "</style>\n",
       "<table border=\"1\" class=\"dataframe\">\n",
       "  <thead>\n",
       "    <tr style=\"text-align: right;\">\n",
       "      <th></th>\n",
       "      <th>insee_code</th>\n",
       "      <th>city_code</th>\n",
       "      <th>label</th>\n",
       "      <th>latitude</th>\n",
       "      <th>longitude</th>\n",
       "      <th>department_name</th>\n",
       "      <th>department_number</th>\n",
       "      <th>region_name</th>\n",
       "      <th>region_geojson_name</th>\n",
       "    </tr>\n",
       "    <tr>\n",
       "      <th>zip_code</th>\n",
       "      <th></th>\n",
       "      <th></th>\n",
       "      <th></th>\n",
       "      <th></th>\n",
       "      <th></th>\n",
       "      <th></th>\n",
       "      <th></th>\n",
       "      <th></th>\n",
       "      <th></th>\n",
       "    </tr>\n",
       "  </thead>\n",
       "  <tbody>\n",
       "    <tr>\n",
       "      <th>1000</th>\n",
       "      <td>01053</td>\n",
       "      <td>bourg en bresse</td>\n",
       "      <td>bourg en bresse</td>\n",
       "      <td>46.205014</td>\n",
       "      <td>5.245594</td>\n",
       "      <td>ain</td>\n",
       "      <td>01</td>\n",
       "      <td>auvergne-rhône-alpes</td>\n",
       "      <td>Auvergne-Rhône-Alpes</td>\n",
       "    </tr>\n",
       "    <tr>\n",
       "      <th>1000</th>\n",
       "      <td>01053</td>\n",
       "      <td>bourg en bresse</td>\n",
       "      <td>bourg en bresse</td>\n",
       "      <td>46.205014</td>\n",
       "      <td>5.245594</td>\n",
       "      <td>ain</td>\n",
       "      <td>01</td>\n",
       "      <td>auvergne-rhône-alpes</td>\n",
       "      <td>Auvergne-Rhône-Alpes</td>\n",
       "    </tr>\n",
       "  </tbody>\n",
       "</table>\n",
       "</div>"
      ],
      "text/plain": [
       "         insee_code        city_code            label   latitude  longitude  \\\n",
       "zip_code                                                                      \n",
       "1000          01053  bourg en bresse  bourg en bresse  46.205014   5.245594   \n",
       "1000          01053  bourg en bresse  bourg en bresse  46.205014   5.245594   \n",
       "\n",
       "         department_name department_number           region_name  \\\n",
       "zip_code                                                           \n",
       "1000                 ain                01  auvergne-rhône-alpes   \n",
       "1000                 ain                01  auvergne-rhône-alpes   \n",
       "\n",
       "           region_geojson_name  \n",
       "zip_code                        \n",
       "1000      Auvergne-Rhône-Alpes  \n",
       "1000      Auvergne-Rhône-Alpes  "
      ]
     },
     "execution_count": 155,
     "metadata": {},
     "output_type": "execute_result"
    }
   ],
   "source": [
    "dfCitiesFrZipcode = dfCitiesFr.astype({'zip_code':int}) \\\n",
    "        .set_index('zip_code') \\\n",
    "        .sort_index()\n",
    "dfCitiesFrZipcode.head(2)"
   ]
  },
  {
   "cell_type": "code",
   "execution_count": 157,
   "id": "6083996c-af08-422b-811b-8ce1804ca154",
   "metadata": {},
   "outputs": [
    {
     "data": {
      "text/html": [
       "<div>\n",
       "<style scoped>\n",
       "    .dataframe tbody tr th:only-of-type {\n",
       "        vertical-align: middle;\n",
       "    }\n",
       "\n",
       "    .dataframe tbody tr th {\n",
       "        vertical-align: top;\n",
       "    }\n",
       "\n",
       "    .dataframe thead th {\n",
       "        text-align: right;\n",
       "    }\n",
       "</style>\n",
       "<table border=\"1\" class=\"dataframe\">\n",
       "  <thead>\n",
       "    <tr style=\"text-align: right;\">\n",
       "      <th></th>\n",
       "      <th>insee_code</th>\n",
       "      <th>city_code</th>\n",
       "      <th>label</th>\n",
       "      <th>latitude</th>\n",
       "      <th>longitude</th>\n",
       "      <th>department_name</th>\n",
       "      <th>department_number</th>\n",
       "      <th>region_name</th>\n",
       "      <th>region_geojson_name</th>\n",
       "    </tr>\n",
       "    <tr>\n",
       "      <th>zip_code</th>\n",
       "      <th></th>\n",
       "      <th></th>\n",
       "      <th></th>\n",
       "      <th></th>\n",
       "      <th></th>\n",
       "      <th></th>\n",
       "      <th></th>\n",
       "      <th></th>\n",
       "      <th></th>\n",
       "    </tr>\n",
       "  </thead>\n",
       "  <tbody>\n",
       "    <tr>\n",
       "      <th>31000</th>\n",
       "      <td>31555</td>\n",
       "      <td>toulouse</td>\n",
       "      <td>toulouse</td>\n",
       "      <td>43.596038</td>\n",
       "      <td>1.432095</td>\n",
       "      <td>haute-garonne</td>\n",
       "      <td>31</td>\n",
       "      <td>occitanie</td>\n",
       "      <td>Occitanie</td>\n",
       "    </tr>\n",
       "    <tr>\n",
       "      <th>31100</th>\n",
       "      <td>31555</td>\n",
       "      <td>toulouse</td>\n",
       "      <td>toulouse</td>\n",
       "      <td>43.596038</td>\n",
       "      <td>1.432095</td>\n",
       "      <td>haute-garonne</td>\n",
       "      <td>31</td>\n",
       "      <td>occitanie</td>\n",
       "      <td>Occitanie</td>\n",
       "    </tr>\n",
       "    <tr>\n",
       "      <th>31110</th>\n",
       "      <td>31068</td>\n",
       "      <td>billiere</td>\n",
       "      <td>billiere</td>\n",
       "      <td>42.815901</td>\n",
       "      <td>0.529154</td>\n",
       "      <td>haute-garonne</td>\n",
       "      <td>31</td>\n",
       "      <td>occitanie</td>\n",
       "      <td>Occitanie</td>\n",
       "    </tr>\n",
       "    <tr>\n",
       "      <th>31110</th>\n",
       "      <td>31221</td>\n",
       "      <td>gouaux de larboust</td>\n",
       "      <td>gouaux de larboust</td>\n",
       "      <td>42.780795</td>\n",
       "      <td>0.477314</td>\n",
       "      <td>haute-garonne</td>\n",
       "      <td>31</td>\n",
       "      <td>occitanie</td>\n",
       "      <td>Occitanie</td>\n",
       "    </tr>\n",
       "    <tr>\n",
       "      <th>31110</th>\n",
       "      <td>31019</td>\n",
       "      <td>artigue</td>\n",
       "      <td>artigue</td>\n",
       "      <td>42.826174</td>\n",
       "      <td>0.640069</td>\n",
       "      <td>haute-garonne</td>\n",
       "      <td>31</td>\n",
       "      <td>occitanie</td>\n",
       "      <td>Occitanie</td>\n",
       "    </tr>\n",
       "    <tr>\n",
       "      <th>...</th>\n",
       "      <td>...</td>\n",
       "      <td>...</td>\n",
       "      <td>...</td>\n",
       "      <td>...</td>\n",
       "      <td>...</td>\n",
       "      <td>...</td>\n",
       "      <td>...</td>\n",
       "      <td>...</td>\n",
       "      <td>...</td>\n",
       "    </tr>\n",
       "    <tr>\n",
       "      <th>31860</th>\n",
       "      <td>31421</td>\n",
       "      <td>pins justaret</td>\n",
       "      <td>pins justaret</td>\n",
       "      <td>43.482246</td>\n",
       "      <td>1.391018</td>\n",
       "      <td>haute-garonne</td>\n",
       "      <td>31</td>\n",
       "      <td>occitanie</td>\n",
       "      <td>Occitanie</td>\n",
       "    </tr>\n",
       "    <tr>\n",
       "      <th>31860</th>\n",
       "      <td>31248</td>\n",
       "      <td>labarthe sur leze</td>\n",
       "      <td>labarthe sur leze</td>\n",
       "      <td>43.458728</td>\n",
       "      <td>1.400759</td>\n",
       "      <td>haute-garonne</td>\n",
       "      <td>31</td>\n",
       "      <td>occitanie</td>\n",
       "      <td>Occitanie</td>\n",
       "    </tr>\n",
       "    <tr>\n",
       "      <th>31870</th>\n",
       "      <td>31052</td>\n",
       "      <td>beaumont sur leze</td>\n",
       "      <td>beaumont sur leze</td>\n",
       "      <td>43.379717</td>\n",
       "      <td>1.356257</td>\n",
       "      <td>haute-garonne</td>\n",
       "      <td>31</td>\n",
       "      <td>occitanie</td>\n",
       "      <td>Occitanie</td>\n",
       "    </tr>\n",
       "    <tr>\n",
       "      <th>31870</th>\n",
       "      <td>31263</td>\n",
       "      <td>lagardelle sur leze</td>\n",
       "      <td>lagardelle sur leze</td>\n",
       "      <td>43.414242</td>\n",
       "      <td>1.393269</td>\n",
       "      <td>haute-garonne</td>\n",
       "      <td>31</td>\n",
       "      <td>occitanie</td>\n",
       "      <td>Occitanie</td>\n",
       "    </tr>\n",
       "    <tr>\n",
       "      <th>31880</th>\n",
       "      <td>31526</td>\n",
       "      <td>la salvetat st gilles</td>\n",
       "      <td>la salvetat st gilles</td>\n",
       "      <td>43.575444</td>\n",
       "      <td>1.266213</td>\n",
       "      <td>haute-garonne</td>\n",
       "      <td>31</td>\n",
       "      <td>occitanie</td>\n",
       "      <td>Occitanie</td>\n",
       "    </tr>\n",
       "  </tbody>\n",
       "</table>\n",
       "<p>600 rows × 9 columns</p>\n",
       "</div>"
      ],
      "text/plain": [
       "         insee_code              city_code                  label   latitude  \\\n",
       "zip_code                                                                       \n",
       "31000         31555               toulouse               toulouse  43.596038   \n",
       "31100         31555               toulouse               toulouse  43.596038   \n",
       "31110         31068               billiere               billiere  42.815901   \n",
       "31110         31221     gouaux de larboust     gouaux de larboust  42.780795   \n",
       "31110         31019                artigue                artigue  42.826174   \n",
       "...             ...                    ...                    ...        ...   \n",
       "31860         31421          pins justaret          pins justaret  43.482246   \n",
       "31860         31248      labarthe sur leze      labarthe sur leze  43.458728   \n",
       "31870         31052      beaumont sur leze      beaumont sur leze  43.379717   \n",
       "31870         31263    lagardelle sur leze    lagardelle sur leze  43.414242   \n",
       "31880         31526  la salvetat st gilles  la salvetat st gilles  43.575444   \n",
       "\n",
       "          longitude department_name department_number region_name  \\\n",
       "zip_code                                                            \n",
       "31000      1.432095   haute-garonne                31   occitanie   \n",
       "31100      1.432095   haute-garonne                31   occitanie   \n",
       "31110      0.529154   haute-garonne                31   occitanie   \n",
       "31110      0.477314   haute-garonne                31   occitanie   \n",
       "31110      0.640069   haute-garonne                31   occitanie   \n",
       "...             ...             ...               ...         ...   \n",
       "31860      1.391018   haute-garonne                31   occitanie   \n",
       "31860      1.400759   haute-garonne                31   occitanie   \n",
       "31870      1.356257   haute-garonne                31   occitanie   \n",
       "31870      1.393269   haute-garonne                31   occitanie   \n",
       "31880      1.266213   haute-garonne                31   occitanie   \n",
       "\n",
       "         region_geojson_name  \n",
       "zip_code                      \n",
       "31000              Occitanie  \n",
       "31100              Occitanie  \n",
       "31110              Occitanie  \n",
       "31110              Occitanie  \n",
       "31110              Occitanie  \n",
       "...                      ...  \n",
       "31860              Occitanie  \n",
       "31860              Occitanie  \n",
       "31870              Occitanie  \n",
       "31870              Occitanie  \n",
       "31880              Occitanie  \n",
       "\n",
       "[600 rows x 9 columns]"
      ]
     },
     "execution_count": 157,
     "metadata": {},
     "output_type": "execute_result"
    }
   ],
   "source": [
    "dfCitiesFrZipcode.loc[31000:31999]"
   ]
  },
  {
   "cell_type": "markdown",
   "id": "2a6e654f-0659-4847-8722-5c1cb4f3dc00",
   "metadata": {
    "tags": []
   },
   "source": [
    "### Atelier carré magique\n",
    "see notebook magicsquare and project squareproject"
   ]
  }
 ],
 "metadata": {
  "kernelspec": {
   "display_name": "k312",
   "language": "python",
   "name": "k312"
  },
  "language_info": {
   "codemirror_mode": {
    "name": "ipython",
    "version": 3
   },
   "file_extension": ".py",
   "mimetype": "text/x-python",
   "name": "python",
   "nbconvert_exporter": "python",
   "pygments_lexer": "ipython3",
   "version": "3.12.0"
  }
 },
 "nbformat": 4,
 "nbformat_minor": 5
}
