{
 "cells": [
  {
   "cell_type": "markdown",
   "id": "c32f29b0-a875-4ff1-8038-c8aeaf8e8574",
   "metadata": {},
   "source": [
    "# Python perfectionnement"
   ]
  },
  {
   "cell_type": "code",
   "execution_count": 1,
   "id": "d7bfb50b-a229-4d7e-b129-975fcdba20d5",
   "metadata": {},
   "outputs": [],
   "source": [
    "# inclus dans python)\n",
    "import decimal, fractions\n",
    "import re\n",
    "import statistics \n",
    "# scientific python\n",
    "import pandas as pd\n",
    "import numpy as np\n",
    "import matplotlib.pyplot as plt\n"
   ]
  },
  {
   "cell_type": "code",
   "execution_count": 2,
   "id": "63343dcb-9b2d-424b-a1da-6c515bab7f53",
   "metadata": {},
   "outputs": [
    {
     "name": "stdout",
     "output_type": "stream",
     "text": [
      "coucou\n"
     ]
    }
   ],
   "source": [
    "print('coucou')"
   ]
  },
  {
   "cell_type": "markdown",
   "id": "c48878ec-fce7-4e49-98f2-18af1f85d0eb",
   "metadata": {},
   "source": [
    "## Données de Python"
   ]
  },
  {
   "cell_type": "markdown",
   "id": "7a5691aa-c47e-41e4-9f68-4e2495cc96c4",
   "metadata": {},
   "source": [
    "### Valeurs numériques"
   ]
  },
  {
   "cell_type": "markdown",
   "id": "ca8ffbf6-0ec6-4798-94f1-7713a4e030c6",
   "metadata": {},
   "source": [
    "#### Les entiers: int"
   ]
  },
  {
   "cell_type": "code",
   "execution_count": 3,
   "id": "d5cbc8a7-a05c-4e35-bb58-e59af55a1d20",
   "metadata": {},
   "outputs": [
    {
     "data": {
      "text/plain": [
       "5"
      ]
     },
     "execution_count": 3,
     "metadata": {},
     "output_type": "execute_result"
    }
   ],
   "source": [
    "nombrePersonnes = 5 \n",
    "nombrePersonnes"
   ]
  },
  {
   "cell_type": "code",
   "execution_count": 4,
   "id": "435b9d46-bb28-49c3-8c60-b74c6c0780f2",
   "metadata": {},
   "outputs": [
    {
     "data": {
      "text/plain": [
       "int"
      ]
     },
     "execution_count": 4,
     "metadata": {},
     "output_type": "execute_result"
    }
   ],
   "source": [
    "type(nombrePersonnes)"
   ]
  },
  {
   "cell_type": "code",
   "execution_count": 5,
   "id": "9ab187b5-7b93-437a-aad1-b2e5f52af926",
   "metadata": {},
   "outputs": [
    {
     "data": {
      "text/plain": [
       "12300000000000000000000000000000000000000000000000000000000000000000000000000000000000000000000000000000000000000000000000000000000000000000000000000000000000000000000000000000000000000000000000000000000000000000000000000000000000000000000000000000000000000000000000000000000000000000000000000000000000000000000002"
      ]
     },
     "execution_count": 5,
     "metadata": {},
     "output_type": "execute_result"
    }
   ],
   "source": [
    "compteur = 12300000000000000000000000000000000000000000000000000000000000000000000000000000000000000000000000000000000000000000000000000000000000000000000000000000000000000000000000000000000000000000000000000000000000000000000000000000000000000000000000000000000000000000000000000000000000000000000000000000000000000000000001\n",
    "compteur + 1"
   ]
  },
  {
   "cell_type": "markdown",
   "id": "2fa218ef-5589-4ccb-b0ce-9d12512d3ab5",
   "metadata": {},
   "source": [
    "#### Les nombres flottants: float (IEEE754)\n",
    "64 bits (ou 32 si architecture 32 bits)"
   ]
  },
  {
   "cell_type": "code",
   "execution_count": 6,
   "id": "5fe4a9e3-91ff-4186-a940-5261471fdf5f",
   "metadata": {},
   "outputs": [
    {
     "data": {
      "text/plain": [
       "(0.1, 2.5e+300, 1.25e-300)"
      ]
     },
     "execution_count": 6,
     "metadata": {},
     "output_type": "execute_result"
    }
   ],
   "source": [
    "price = 0.1\n",
    "bigDistance = 2.5E300\n",
    "smallDistance = 1.25E-300\n",
    "price, bigDistance, smallDistance"
   ]
  },
  {
   "cell_type": "code",
   "execution_count": 7,
   "id": "3f512ca0-f04e-499d-9c13-4e171051dd73",
   "metadata": {},
   "outputs": [
    {
     "data": {
      "text/plain": [
       "inf"
      ]
     },
     "execution_count": 7,
     "metadata": {},
     "output_type": "execute_result"
    }
   ],
   "source": [
    "# bigDistance**2 # OverflowError\n",
    "infDistance = bigDistance*1E10\n",
    "infDistance"
   ]
  },
  {
   "cell_type": "code",
   "execution_count": 8,
   "id": "7a6ca88d-8571-4c1c-851b-8667e27ce4d1",
   "metadata": {},
   "outputs": [
    {
     "data": {
      "text/plain": [
       "inf"
      ]
     },
     "execution_count": 8,
     "metadata": {},
     "output_type": "execute_result"
    }
   ],
   "source": [
    "infDistance * 3"
   ]
  },
  {
   "cell_type": "code",
   "execution_count": 9,
   "id": "d7bdab36-c115-4388-b2d2-e27944e9ae83",
   "metadata": {},
   "outputs": [
    {
     "data": {
      "text/plain": [
       "-inf"
      ]
     },
     "execution_count": 9,
     "metadata": {},
     "output_type": "execute_result"
    }
   ],
   "source": [
    "infDistance * -1"
   ]
  },
  {
   "cell_type": "code",
   "execution_count": 10,
   "id": "7c8e709e-166f-4883-bdaf-69f6d8a948e7",
   "metadata": {},
   "outputs": [
    {
     "data": {
      "text/plain": [
       "nan"
      ]
     },
     "execution_count": 10,
     "metadata": {},
     "output_type": "execute_result"
    }
   ],
   "source": [
    "infDistance / infDistance"
   ]
  },
  {
   "cell_type": "markdown",
   "id": "ed228190-ba05-4bd9-9d58-556fed8303ce",
   "metadata": {},
   "source": [
    "#### autres types numériques\n",
    "- complex\n",
    "- decimal\n",
    "- fractions"
   ]
  },
  {
   "cell_type": "code",
   "execution_count": 11,
   "id": "2769970d-f2e0-4535-b554-fc0a6df05786",
   "metadata": {},
   "outputs": [
    {
     "name": "stdout",
     "output_type": "stream",
     "text": [
      "(1+3j) <class 'complex'>\n"
     ]
    }
   ],
   "source": [
    "n = 1 + 3j\n",
    "print(n, type(n))"
   ]
  },
  {
   "cell_type": "code",
   "execution_count": 12,
   "id": "5e188968-f204-46f5-8fd1-5da8ba72bfc6",
   "metadata": {},
   "outputs": [
    {
     "data": {
      "text/plain": [
       "(-1+0j)"
      ]
     },
     "execution_count": 12,
     "metadata": {},
     "output_type": "execute_result"
    }
   ],
   "source": [
    "1j**2"
   ]
  },
  {
   "cell_type": "code",
   "execution_count": 13,
   "id": "e64ddd68-89ac-42de-8f32-8216fe6e8f87",
   "metadata": {},
   "outputs": [
    {
     "data": {
      "text/plain": [
       "(0.1, 0.2, 0.30000000000000004)"
      ]
     },
     "execution_count": 13,
     "metadata": {},
     "output_type": "execute_result"
    }
   ],
   "source": [
    "price, 2*price, 3*price"
   ]
  },
  {
   "cell_type": "code",
   "execution_count": 14,
   "id": "ce86818f-12a2-4bef-94f5-20294b91c327",
   "metadata": {},
   "outputs": [
    {
     "data": {
      "text/plain": [
       "(Decimal('0.1'), Decimal('0.2'), Decimal('0.3'))"
      ]
     },
     "execution_count": 14,
     "metadata": {},
     "output_type": "execute_result"
    }
   ],
   "source": [
    "priceD = decimal.Decimal('0.1')\n",
    "priceD, 2*priceD, 3*priceD"
   ]
  },
  {
   "cell_type": "code",
   "execution_count": 15,
   "id": "955f43b7-d3ce-4660-9f3a-2a95b3f3e5fb",
   "metadata": {},
   "outputs": [
    {
     "name": "stdout",
     "output_type": "stream",
     "text": [
      "0.1\n"
     ]
    }
   ],
   "source": [
    "print(priceD)"
   ]
  },
  {
   "cell_type": "code",
   "execution_count": 16,
   "id": "701c1a71-1686-402a-99a3-3b99c37557de",
   "metadata": {},
   "outputs": [
    {
     "data": {
      "text/plain": [
       "(Fraction(1, 3), Fraction(1, 1))"
      ]
     },
     "execution_count": 16,
     "metadata": {},
     "output_type": "execute_result"
    }
   ],
   "source": [
    "f = fractions.Fraction(1, 3)\n",
    "f, 3*f"
   ]
  },
  {
   "cell_type": "markdown",
   "id": "63b83c83-a2c7-4afd-bef9-a6ba87b930b5",
   "metadata": {},
   "source": [
    "### Texte: str (unicode)\n",
    "quotes: ' \" ''' \"\"\" avec despréfixes optionnels: f, r, b, (u)"
   ]
  },
  {
   "cell_type": "code",
   "execution_count": 17,
   "id": "ee110e5d-11ae-422b-a130-23d153204a0f",
   "metadata": {},
   "outputs": [
    {
     "name": "stdout",
     "output_type": "stream",
     "text": [
      "Toulouse Pau aujourd'hui\n"
     ]
    },
    {
     "data": {
      "text/plain": [
       "\"aujourd'hui\""
      ]
     },
     "execution_count": 17,
     "metadata": {},
     "output_type": "execute_result"
    }
   ],
   "source": [
    "city1 = 'Toulouse'\n",
    "city2 = \"Pau\"\n",
    "word = \"aujourd'hui\"\n",
    "print(city1, city2, word)\n",
    "word"
   ]
  },
  {
   "cell_type": "code",
   "execution_count": 18,
   "id": "8c9b3399-bee4-4d71-9951-7fa41391f9a2",
   "metadata": {},
   "outputs": [
    {
     "data": {
      "text/plain": [
       "'Toulouse'"
      ]
     },
     "execution_count": 18,
     "metadata": {},
     "output_type": "execute_result"
    }
   ],
   "source": [
    "city1"
   ]
  },
  {
   "cell_type": "code",
   "execution_count": 19,
   "id": "b49a35bb-5a05-434e-9374-c1692a615e0f",
   "metadata": {},
   "outputs": [
    {
     "name": "stdout",
     "output_type": "stream",
     "text": [
      "il dit: \"aujourd'hui\"\n"
     ]
    },
    {
     "data": {
      "text/plain": [
       "'il dit: \"aujourd\\'hui\"'"
      ]
     },
     "execution_count": 19,
     "metadata": {},
     "output_type": "execute_result"
    }
   ],
   "source": [
    "sentence = \"il dit: \\\"aujourd'hui\\\"\"\n",
    "print(sentence)\n",
    "sentence"
   ]
  },
  {
   "cell_type": "code",
   "execution_count": 20,
   "id": "90dda091-0005-4952-b450-aef8689a98b7",
   "metadata": {},
   "outputs": [],
   "source": [
    "sql = \"\"\"SELECT \n",
    "    year,\n",
    "    count(id) as nb\n",
    "FROM movie\n",
    "WHERE title like ?\n",
    "GROUP BY year\n",
    "ORDER nb desc\n",
    "\"\"\""
   ]
  },
  {
   "cell_type": "code",
   "execution_count": 21,
   "id": "1ae9ee17-ab43-49b5-bc4f-9a64c5b5aed0",
   "metadata": {},
   "outputs": [
    {
     "name": "stdout",
     "output_type": "stream",
     "text": [
      "😛\n"
     ]
    }
   ],
   "source": [
    "emoji = '😛'\n",
    "print(emoji)"
   ]
  },
  {
   "cell_type": "code",
   "execution_count": 22,
   "id": "217ce7a3-f0aa-4da8-aeba-af846653f333",
   "metadata": {},
   "outputs": [
    {
     "name": "stdout",
     "output_type": "stream",
     "text": [
      "東京\n"
     ]
    }
   ],
   "source": [
    "city3 = '東京'\n",
    "print(city3)"
   ]
  },
  {
   "cell_type": "code",
   "execution_count": 23,
   "id": "1fa1274c-365a-4724-adae-6f4f32fb243a",
   "metadata": {},
   "outputs": [
    {
     "data": {
      "text/plain": [
       "b'\\xf0\\x9f\\x98\\x9b'"
      ]
     },
     "execution_count": 23,
     "metadata": {},
     "output_type": "execute_result"
    }
   ],
   "source": [
    "emoji.encode('UTF-8')"
   ]
  },
  {
   "cell_type": "code",
   "execution_count": 24,
   "id": "610246e0-817d-43d1-9be2-e63182af1f6b",
   "metadata": {},
   "outputs": [
    {
     "data": {
      "text/plain": [
       "b'emoji \\xf0\\x9f\\x98\\x9b'"
      ]
     },
     "execution_count": 24,
     "metadata": {},
     "output_type": "execute_result"
    }
   ],
   "source": [
    "'emoji 😛'.encode('UTF-8')"
   ]
  },
  {
   "cell_type": "code",
   "execution_count": 25,
   "id": "9606131b-66c8-485a-a305-55b83dac6359",
   "metadata": {},
   "outputs": [
    {
     "data": {
      "text/plain": [
       "'😜'"
      ]
     },
     "execution_count": 25,
     "metadata": {},
     "output_type": "execute_result"
    }
   ],
   "source": [
    "'\\U0001F61C'"
   ]
  },
  {
   "cell_type": "code",
   "execution_count": 26,
   "id": "642fe20b-eee5-4696-84fb-8fe8e9779f21",
   "metadata": {},
   "outputs": [
    {
     "data": {
      "text/plain": [
       "'😜'"
      ]
     },
     "execution_count": 26,
     "metadata": {},
     "output_type": "execute_result"
    }
   ],
   "source": [
    "'\\N{FACE WITH STUCK-OUT TONGUE AND WINKING EYE}'"
   ]
  },
  {
   "cell_type": "code",
   "execution_count": 27,
   "id": "ebb20c1d-3c71-43a0-8eac-b276f02b6a2a",
   "metadata": {},
   "outputs": [
    {
     "data": {
      "text/plain": [
       "'city = Toulouse'"
      ]
     },
     "execution_count": 27,
     "metadata": {},
     "output_type": "execute_result"
    }
   ],
   "source": [
    "f\"city = {city1}\""
   ]
  },
  {
   "cell_type": "code",
   "execution_count": 28,
   "id": "dca4fbf4-0474-4465-903b-48a06a6311d4",
   "metadata": {},
   "outputs": [
    {
     "data": {
      "text/plain": [
       "'distance Toulouse-Pau: 188.565'"
      ]
     },
     "execution_count": 28,
     "metadata": {},
     "output_type": "execute_result"
    }
   ],
   "source": [
    "distance = 188.5645\n",
    "f\"distance {city1}-{city2}: {distance:0.3f}\""
   ]
  },
  {
   "cell_type": "code",
   "execution_count": 29,
   "id": "a4134370-a50a-4442-8be0-4ae9d044dbae",
   "metadata": {},
   "outputs": [
    {
     "data": {
      "text/plain": [
       "'TOULOUSE'"
      ]
     },
     "execution_count": 29,
     "metadata": {},
     "output_type": "execute_result"
    }
   ],
   "source": [
    "city1.upper()"
   ]
  },
  {
   "cell_type": "markdown",
   "id": "39fa138f-0a0e-4fb6-b26e-1dbeb2066464",
   "metadata": {},
   "source": [
    "### Booléens: bool"
   ]
  },
  {
   "cell_type": "code",
   "execution_count": 30,
   "id": "971962b2-becd-4183-b022-9de077e332de",
   "metadata": {},
   "outputs": [
    {
     "data": {
      "text/plain": [
       "(True, False)"
      ]
     },
     "execution_count": 30,
     "metadata": {},
     "output_type": "execute_result"
    }
   ],
   "source": [
    "True, False"
   ]
  },
  {
   "cell_type": "code",
   "execution_count": 31,
   "id": "338b7297-9b80-4199-ba45-783657281b14",
   "metadata": {},
   "outputs": [
    {
     "data": {
      "text/plain": [
       "(True, True)"
      ]
     },
     "execution_count": 31,
     "metadata": {},
     "output_type": "execute_result"
    }
   ],
   "source": [
    "bool(emoji), bool(12)"
   ]
  },
  {
   "cell_type": "code",
   "execution_count": 32,
   "id": "acb141ef-b56e-4e2f-ba73-50bc015aa7c6",
   "metadata": {},
   "outputs": [
    {
     "data": {
      "text/plain": [
       "(False, False, False)"
      ]
     },
     "execution_count": 32,
     "metadata": {},
     "output_type": "execute_result"
    }
   ],
   "source": [
    "bool(0), bool(''), bool(None)"
   ]
  },
  {
   "cell_type": "markdown",
   "id": "2ad29aa2-b1eb-4fd4-b629-c0524d643f08",
   "metadata": {},
   "source": [
    "### Collections: list, tuple, dict, set"
   ]
  },
  {
   "cell_type": "code",
   "execution_count": 33,
   "id": "fde87fef-6dc8-44e6-8ace-04c59d186ef5",
   "metadata": {},
   "outputs": [
    {
     "data": {
      "text/plain": [
       "['Toulouse', 'Pau', 'Bordeaux', 'Paris', 'Lyon', 'Marseille']"
      ]
     },
     "execution_count": 33,
     "metadata": {},
     "output_type": "execute_result"
    }
   ],
   "source": [
    "# list example\n",
    "cities = [ city1, city2, \"Bordeaux\", \"Paris\", \"Lyon\" ]\n",
    "cities.append('Marseille')\n",
    "cities"
   ]
  },
  {
   "cell_type": "code",
   "execution_count": 34,
   "id": "57527e2a-dc30-48df-912e-10969537f81e",
   "metadata": {},
   "outputs": [
    {
     "data": {
      "text/plain": [
       "('Toulouse', 470000, '31000')"
      ]
     },
     "execution_count": 34,
     "metadata": {},
     "output_type": "execute_result"
    }
   ],
   "source": [
    "# tuple example\n",
    "cityT = (\"Toulouse\", 470_000, \"31000\")\n",
    "cityT"
   ]
  },
  {
   "cell_type": "code",
   "execution_count": 35,
   "id": "632885ac-ece3-43e0-b608-d0d0af255a08",
   "metadata": {},
   "outputs": [
    {
     "data": {
      "text/plain": [
       "{'nom': 'Toulouse', 'population': 470000, 'code_postal': '31000'}"
      ]
     },
     "execution_count": 35,
     "metadata": {},
     "output_type": "execute_result"
    }
   ],
   "source": [
    "# dict example\n",
    "cityD = {\n",
    "    \"nom\": \"Toulouse\", \n",
    "    \"population\": 470_000, \n",
    "    \"code_postal\": \"31000\"\n",
    "}\n",
    "cityD"
   ]
  },
  {
   "cell_type": "code",
   "execution_count": 36,
   "id": "cc7c283a-d7ca-4dea-939b-1c2add7bd3eb",
   "metadata": {},
   "outputs": [
    {
     "data": {
      "text/plain": [
       "{'nom': 'Toulouse',\n",
       " 'population': 470000,\n",
       " 'code_postal': '31000',\n",
       " 'langue': 'Oc'}"
      ]
     },
     "execution_count": 36,
     "metadata": {},
     "output_type": "execute_result"
    }
   ],
   "source": [
    "cityD['langue'] = 'Oc'\n",
    "cityD"
   ]
  },
  {
   "cell_type": "code",
   "execution_count": 37,
   "id": "8541765c-12e1-48a3-bfc6-764268f3dd33",
   "metadata": {},
   "outputs": [
    {
     "data": {
      "text/plain": [
       "{3, 12, 45, 67}"
      ]
     },
     "execution_count": 37,
     "metadata": {},
     "output_type": "execute_result"
    }
   ],
   "source": [
    "numbers = { 12, 3, 45, 3, 67, 3 }\n",
    "numbers"
   ]
  },
  {
   "cell_type": "code",
   "execution_count": 38,
   "id": "0d15c4b8-73f2-4d1c-800c-bd25df0dd62a",
   "metadata": {},
   "outputs": [
    {
     "data": {
      "text/plain": [
       "{3, 12, 13, 45, 67}"
      ]
     },
     "execution_count": 38,
     "metadata": {},
     "output_type": "execute_result"
    }
   ],
   "source": [
    "numbers.add(12)\n",
    "numbers.add(13)\n",
    "numbers"
   ]
  },
  {
   "cell_type": "code",
   "execution_count": 39,
   "id": "108baa2f-f093-41c8-9b46-07552a80c8b0",
   "metadata": {},
   "outputs": [
    {
     "name": "stdout",
     "output_type": "stream",
     "text": [
      "[] 0\n"
     ]
    }
   ],
   "source": [
    "emptyList = [] # or list()\n",
    "print(emptyList, len(emptyList))"
   ]
  },
  {
   "cell_type": "code",
   "execution_count": 40,
   "id": "65584a28-fb4c-4c96-ab3f-6e7e5111cb14",
   "metadata": {},
   "outputs": [
    {
     "name": "stdout",
     "output_type": "stream",
     "text": [
      "() 0\n"
     ]
    }
   ],
   "source": [
    "emptyTuple = () # or tuple()\n",
    "print(emptyTuple, len(emptyTuple))"
   ]
  },
  {
   "cell_type": "code",
   "execution_count": 41,
   "id": "46c0466d-5237-4770-a916-0dc0112991e4",
   "metadata": {},
   "outputs": [
    {
     "name": "stdout",
     "output_type": "stream",
     "text": [
      "{} 0 <class 'dict'>\n"
     ]
    }
   ],
   "source": [
    "emptyDict = {}  # ord dict()\n",
    "print(emptyDict, len(emptyDict), type(emptyDict))"
   ]
  },
  {
   "cell_type": "code",
   "execution_count": 42,
   "id": "55f68f46-d9ac-470b-9f74-0ca0a299cdee",
   "metadata": {},
   "outputs": [
    {
     "name": "stdout",
     "output_type": "stream",
     "text": [
      "set() 0 <class 'set'>\n"
     ]
    }
   ],
   "source": [
    "emptySet = set()\n",
    "print(emptySet, len(emptySet), type(emptySet))"
   ]
  },
  {
   "cell_type": "markdown",
   "id": "fe222fe2-55c9-43ee-9162-b5404bb2fbb3",
   "metadata": {},
   "source": [
    "### Exercice: définir une liste de villes en tant que dictionnaires (nom, population, code_postal)"
   ]
  },
  {
   "cell_type": "code",
   "execution_count": 43,
   "id": "fc104266-6afb-42fc-884e-1a0e1925f373",
   "metadata": {},
   "outputs": [
    {
     "data": {
      "text/plain": [
       "[{'nom': 'Toulouse', 'population': 470000, 'code_postal': '31000'},\n",
       " {'nom': 'Marseille', 'population': 880000, 'code_postal': '13000'},\n",
       " {'nom': 'Pau', 'population': 77000, 'code_postal': '64000'}]"
      ]
     },
     "execution_count": 43,
     "metadata": {},
     "output_type": "execute_result"
    }
   ],
   "source": [
    "cities = [\n",
    "    {\n",
    "        \"nom\": \"Toulouse\", \n",
    "        \"population\": 470_000, \n",
    "        \"code_postal\": \"31000\"\n",
    "    },\n",
    "        {\n",
    "        \"nom\": \"Marseille\", \n",
    "        \"population\": 880_000, \n",
    "        \"code_postal\": \"13000\"\n",
    "    },\n",
    "    {\n",
    "        \"nom\": \"Pau\", \n",
    "        \"population\": 77_000, \n",
    "        \"code_postal\": \"64000\"\n",
    "    },\n",
    "]\n",
    "cities"
   ]
  },
  {
   "cell_type": "code",
   "execution_count": 44,
   "id": "36948dce-e53b-455c-ae64-44691393c8a2",
   "metadata": {},
   "outputs": [
    {
     "data": {
      "text/html": [
       "<div>\n",
       "<style scoped>\n",
       "    .dataframe tbody tr th:only-of-type {\n",
       "        vertical-align: middle;\n",
       "    }\n",
       "\n",
       "    .dataframe tbody tr th {\n",
       "        vertical-align: top;\n",
       "    }\n",
       "\n",
       "    .dataframe thead th {\n",
       "        text-align: right;\n",
       "    }\n",
       "</style>\n",
       "<table border=\"1\" class=\"dataframe\">\n",
       "  <thead>\n",
       "    <tr style=\"text-align: right;\">\n",
       "      <th></th>\n",
       "      <th>nom</th>\n",
       "      <th>population</th>\n",
       "      <th>code_postal</th>\n",
       "    </tr>\n",
       "  </thead>\n",
       "  <tbody>\n",
       "    <tr>\n",
       "      <th>0</th>\n",
       "      <td>Toulouse</td>\n",
       "      <td>470000</td>\n",
       "      <td>31000</td>\n",
       "    </tr>\n",
       "    <tr>\n",
       "      <th>1</th>\n",
       "      <td>Marseille</td>\n",
       "      <td>880000</td>\n",
       "      <td>13000</td>\n",
       "    </tr>\n",
       "    <tr>\n",
       "      <th>2</th>\n",
       "      <td>Pau</td>\n",
       "      <td>77000</td>\n",
       "      <td>64000</td>\n",
       "    </tr>\n",
       "  </tbody>\n",
       "</table>\n",
       "</div>"
      ],
      "text/plain": [
       "         nom  population code_postal\n",
       "0   Toulouse      470000       31000\n",
       "1  Marseille      880000       13000\n",
       "2        Pau       77000       64000"
      ]
     },
     "execution_count": 44,
     "metadata": {},
     "output_type": "execute_result"
    }
   ],
   "source": [
    "dfCities = pd.DataFrame(cities)\n",
    "dfCities"
   ]
  },
  {
   "cell_type": "markdown",
   "id": "7cd34ff8-23db-46f0-92e8-fb77ac6f2a4c",
   "metadata": {},
   "source": [
    "## Opérateurs et fonctions intégrées (builtin)"
   ]
  },
  {
   "cell_type": "markdown",
   "id": "e4a1b0df-eb54-4cf8-b0e2-37b95eb88383",
   "metadata": {},
   "source": [
    "### builtin len"
   ]
  },
  {
   "cell_type": "code",
   "execution_count": 45,
   "id": "4c656d7d-44e7-4252-b1dd-86c6bc71b1c7",
   "metadata": {},
   "outputs": [
    {
     "data": {
      "text/plain": [
       "3"
      ]
     },
     "execution_count": 45,
     "metadata": {},
     "output_type": "execute_result"
    }
   ],
   "source": [
    "len(cities)"
   ]
  },
  {
   "cell_type": "code",
   "execution_count": 46,
   "id": "5064f0aa-9b8b-4d98-9c84-133ebe2b9a77",
   "metadata": {},
   "outputs": [],
   "source": [
    "#TypeError: object of type 'int/bool/...' has no len()\n",
    "\n",
    "# len(True)\n",
    "# len(12)"
   ]
  },
  {
   "cell_type": "code",
   "execution_count": 47,
   "id": "d5c2f64c-9310-4148-9c48-119cfd5291cf",
   "metadata": {},
   "outputs": [
    {
     "data": {
      "text/plain": [
       "3"
      ]
     },
     "execution_count": 47,
     "metadata": {},
     "output_type": "execute_result"
    }
   ],
   "source": [
    "cities.__len__()"
   ]
  },
  {
   "cell_type": "code",
   "execution_count": 48,
   "id": "1aa20fd6-03a3-451b-a2c3-1722f0b26d18",
   "metadata": {},
   "outputs": [
    {
     "data": {
      "text/plain": [
       "['__add__',\n",
       " '__class__',\n",
       " '__class_getitem__',\n",
       " '__contains__',\n",
       " '__delattr__',\n",
       " '__delitem__',\n",
       " '__dir__',\n",
       " '__doc__',\n",
       " '__eq__',\n",
       " '__format__',\n",
       " '__ge__',\n",
       " '__getattribute__',\n",
       " '__getitem__',\n",
       " '__getstate__',\n",
       " '__gt__',\n",
       " '__hash__',\n",
       " '__iadd__',\n",
       " '__imul__',\n",
       " '__init__',\n",
       " '__init_subclass__',\n",
       " '__iter__',\n",
       " '__le__',\n",
       " '__len__',\n",
       " '__lt__',\n",
       " '__mul__',\n",
       " '__ne__',\n",
       " '__new__',\n",
       " '__reduce__',\n",
       " '__reduce_ex__',\n",
       " '__repr__',\n",
       " '__reversed__',\n",
       " '__rmul__',\n",
       " '__setattr__',\n",
       " '__setitem__',\n",
       " '__sizeof__',\n",
       " '__str__',\n",
       " '__subclasshook__',\n",
       " 'append',\n",
       " 'clear',\n",
       " 'copy',\n",
       " 'count',\n",
       " 'extend',\n",
       " 'index',\n",
       " 'insert',\n",
       " 'pop',\n",
       " 'remove',\n",
       " 'reverse',\n",
       " 'sort']"
      ]
     },
     "execution_count": 48,
     "metadata": {},
     "output_type": "execute_result"
    }
   ],
   "source": [
    "dir(cities)"
   ]
  },
  {
   "cell_type": "code",
   "execution_count": 49,
   "id": "0a135ad5-f6f1-4a8b-95f4-be2814ea68fb",
   "metadata": {},
   "outputs": [
    {
     "data": {
      "text/plain": [
       "[1, 2, 3, 4, 5, 6]"
      ]
     },
     "execution_count": 49,
     "metadata": {},
     "output_type": "execute_result"
    }
   ],
   "source": [
    "[1, 2, 3] + [4,5,6] # list.__add__"
   ]
  },
  {
   "cell_type": "code",
   "execution_count": 50,
   "id": "42d37976-838a-4754-b8ec-b703894376ca",
   "metadata": {},
   "outputs": [
    {
     "data": {
      "text/plain": [
       "[1, 2, 3, 1, 2, 3, 1, 2, 3, 1, 2, 3]"
      ]
     },
     "execution_count": 50,
     "metadata": {},
     "output_type": "execute_result"
    }
   ],
   "source": [
    "# [1, 2, 3] * [4,5,6] TypeError: can't multiply sequence by non-int of type 'list'\n",
    "[1, 2, 3] * 4 # list.__mul__"
   ]
  },
  {
   "cell_type": "code",
   "execution_count": 51,
   "id": "28500750-7ce2-4b60-a0fe-a4ee762cb22b",
   "metadata": {},
   "outputs": [
    {
     "data": {
      "text/plain": [
       "[1, 2, 3, 1, 2, 3, 1, 2, 3, 1, 2, 3]"
      ]
     },
     "execution_count": 51,
     "metadata": {},
     "output_type": "execute_result"
    }
   ],
   "source": [
    "4 * [1, 2, 3] # int.__mul__ (NotImplmented) => list.__rmul__"
   ]
  },
  {
   "cell_type": "code",
   "execution_count": 52,
   "id": "67f545df-cf86-4b63-a26c-11117e454469",
   "metadata": {},
   "outputs": [
    {
     "data": {
      "text/plain": [
       "NotImplemented"
      ]
     },
     "execution_count": 52,
     "metadata": {},
     "output_type": "execute_result"
    }
   ],
   "source": [
    "(4).__mul__([1, 2, 3])"
   ]
  },
  {
   "cell_type": "code",
   "execution_count": 53,
   "id": "ac048a5e-cbdc-4387-ba10-75d02ac82fac",
   "metadata": {},
   "outputs": [
    {
     "data": {
      "text/plain": [
       "[1, 2, 3, 1, 2, 3, 1, 2, 3, 1, 2, 3]"
      ]
     },
     "execution_count": 53,
     "metadata": {},
     "output_type": "execute_result"
    }
   ],
   "source": [
    "[1, 2, 3].__rmul__(4)"
   ]
  },
  {
   "cell_type": "code",
   "execution_count": 54,
   "id": "47cd7d20-bf6c-4882-9e19-0b3e1143e0ab",
   "metadata": {},
   "outputs": [],
   "source": [
    "# TypeError: can only concatenate str (not \"int\") to str\n",
    "# 'Toulouse' + 4"
   ]
  },
  {
   "cell_type": "code",
   "execution_count": 55,
   "id": "897b2e6f-d822-4767-b827-0b612bdd0d07",
   "metadata": {},
   "outputs": [
    {
     "data": {
      "text/plain": [
       "['__abs__',\n",
       " '__add__',\n",
       " '__bool__',\n",
       " '__class__',\n",
       " '__complex__',\n",
       " '__delattr__',\n",
       " '__dir__',\n",
       " '__doc__',\n",
       " '__eq__',\n",
       " '__format__',\n",
       " '__ge__',\n",
       " '__getattribute__',\n",
       " '__getnewargs__',\n",
       " '__getstate__',\n",
       " '__gt__',\n",
       " '__hash__',\n",
       " '__init__',\n",
       " '__init_subclass__',\n",
       " '__le__',\n",
       " '__lt__',\n",
       " '__mul__',\n",
       " '__ne__',\n",
       " '__neg__',\n",
       " '__new__',\n",
       " '__pos__',\n",
       " '__pow__',\n",
       " '__radd__',\n",
       " '__reduce__',\n",
       " '__reduce_ex__',\n",
       " '__repr__',\n",
       " '__rmul__',\n",
       " '__rpow__',\n",
       " '__rsub__',\n",
       " '__rtruediv__',\n",
       " '__setattr__',\n",
       " '__sizeof__',\n",
       " '__str__',\n",
       " '__sub__',\n",
       " '__subclasshook__',\n",
       " '__truediv__',\n",
       " 'conjugate',\n",
       " 'imag',\n",
       " 'real']"
      ]
     },
     "execution_count": 55,
     "metadata": {},
     "output_type": "execute_result"
    }
   ],
   "source": [
    "dir(complex)"
   ]
  },
  {
   "cell_type": "markdown",
   "id": "d81793fb-c348-41bb-bb60-9f6ed72333f8",
   "metadata": {},
   "source": [
    "Correspondance opérateur <-> méthode\n",
    "```\n",
    "+ (__add__, __radd__)\n",
    "+= (__iadd__)\n",
    "```"
   ]
  },
  {
   "cell_type": "code",
   "execution_count": 56,
   "id": "049d19ce-fba4-4cd1-8fac-96035141916e",
   "metadata": {},
   "outputs": [
    {
     "name": "stdout",
     "output_type": "stream",
     "text": [
      "2908084528192\n",
      "2908084528192\n"
     ]
    },
    {
     "data": {
      "text/plain": [
       "[12, 15, 17, 999, 888]"
      ]
     },
     "execution_count": 56,
     "metadata": {},
     "output_type": "execute_result"
    }
   ],
   "source": [
    "numbers = [12, 15, 17]\n",
    "print(id(numbers))\n",
    "numbers += [999, 888]  # __iadd__(..) , i.e .extend(..)\n",
    "print(id(numbers))\n",
    "numbers"
   ]
  },
  {
   "cell_type": "code",
   "execution_count": 57,
   "id": "049b5151-57f9-4b5a-b2f9-a724a8e55263",
   "metadata": {
    "tags": []
   },
   "outputs": [
    {
     "data": {
      "text/plain": [
       "['__abs__',\n",
       " '__add__',\n",
       " '__and__',\n",
       " '__bool__',\n",
       " '__ceil__',\n",
       " '__class__',\n",
       " '__delattr__',\n",
       " '__dir__',\n",
       " '__divmod__',\n",
       " '__doc__',\n",
       " '__eq__',\n",
       " '__float__',\n",
       " '__floor__',\n",
       " '__floordiv__',\n",
       " '__format__',\n",
       " '__ge__',\n",
       " '__getattribute__',\n",
       " '__getnewargs__',\n",
       " '__getstate__',\n",
       " '__gt__',\n",
       " '__hash__',\n",
       " '__index__',\n",
       " '__init__',\n",
       " '__init_subclass__',\n",
       " '__int__',\n",
       " '__invert__',\n",
       " '__le__',\n",
       " '__lshift__',\n",
       " '__lt__',\n",
       " '__mod__',\n",
       " '__mul__',\n",
       " '__ne__',\n",
       " '__neg__',\n",
       " '__new__',\n",
       " '__or__',\n",
       " '__pos__',\n",
       " '__pow__',\n",
       " '__radd__',\n",
       " '__rand__',\n",
       " '__rdivmod__',\n",
       " '__reduce__',\n",
       " '__reduce_ex__',\n",
       " '__repr__',\n",
       " '__rfloordiv__',\n",
       " '__rlshift__',\n",
       " '__rmod__',\n",
       " '__rmul__',\n",
       " '__ror__',\n",
       " '__round__',\n",
       " '__rpow__',\n",
       " '__rrshift__',\n",
       " '__rshift__',\n",
       " '__rsub__',\n",
       " '__rtruediv__',\n",
       " '__rxor__',\n",
       " '__setattr__',\n",
       " '__sizeof__',\n",
       " '__str__',\n",
       " '__sub__',\n",
       " '__subclasshook__',\n",
       " '__truediv__',\n",
       " '__trunc__',\n",
       " '__xor__',\n",
       " 'as_integer_ratio',\n",
       " 'bit_count',\n",
       " 'bit_length',\n",
       " 'conjugate',\n",
       " 'denominator',\n",
       " 'from_bytes',\n",
       " 'imag',\n",
       " 'is_integer',\n",
       " 'numerator',\n",
       " 'real',\n",
       " 'to_bytes']"
      ]
     },
     "execution_count": 57,
     "metadata": {},
     "output_type": "execute_result"
    }
   ],
   "source": [
    "dir(int)"
   ]
  },
  {
   "cell_type": "code",
   "execution_count": 58,
   "id": "7f6e2469-7a96-461c-af0f-97a45c737333",
   "metadata": {},
   "outputs": [
    {
     "name": "stdout",
     "output_type": "stream",
     "text": [
      "140711265532696\n",
      "140711265532792\n"
     ]
    },
    {
     "data": {
      "text/plain": [
       "15"
      ]
     },
     "execution_count": 58,
     "metadata": {},
     "output_type": "execute_result"
    }
   ],
   "source": [
    "x = 12\n",
    "print(id(x))\n",
    "x += 3\n",
    "print(id(x))\n",
    "x"
   ]
  },
  {
   "cell_type": "code",
   "execution_count": 59,
   "id": "46ceb84d-9c0c-4127-97b9-f1f67145e49d",
   "metadata": {},
   "outputs": [
    {
     "name": "stdout",
     "output_type": "stream",
     "text": [
      "2908084468208\n",
      "2908084690720\n"
     ]
    },
    {
     "data": {
      "text/plain": [
       "'Marseille, ville portuaire'"
      ]
     },
     "execution_count": 59,
     "metadata": {},
     "output_type": "execute_result"
    }
   ],
   "source": [
    "city = \"Marseille\"\n",
    "print(id(city))\n",
    "city += \", ville portuaire\"\n",
    "print(id(city))\n",
    "city"
   ]
  },
  {
   "cell_type": "code",
   "execution_count": 60,
   "id": "20ec6669-ee3b-42aa-ab63-f2545d1b4935",
   "metadata": {},
   "outputs": [
    {
     "data": {
      "text/html": [
       "<div>\n",
       "<style scoped>\n",
       "    .dataframe tbody tr th:only-of-type {\n",
       "        vertical-align: middle;\n",
       "    }\n",
       "\n",
       "    .dataframe tbody tr th {\n",
       "        vertical-align: top;\n",
       "    }\n",
       "\n",
       "    .dataframe thead th {\n",
       "        text-align: right;\n",
       "    }\n",
       "</style>\n",
       "<table border=\"1\" class=\"dataframe\">\n",
       "  <thead>\n",
       "    <tr style=\"text-align: right;\">\n",
       "      <th></th>\n",
       "      <th>nom</th>\n",
       "      <th>population</th>\n",
       "      <th>code_postal</th>\n",
       "    </tr>\n",
       "  </thead>\n",
       "  <tbody>\n",
       "    <tr>\n",
       "      <th>0</th>\n",
       "      <td>Toulouse</td>\n",
       "      <td>470000</td>\n",
       "      <td>31000</td>\n",
       "    </tr>\n",
       "    <tr>\n",
       "      <th>1</th>\n",
       "      <td>Marseille</td>\n",
       "      <td>880000</td>\n",
       "      <td>13000</td>\n",
       "    </tr>\n",
       "    <tr>\n",
       "      <th>2</th>\n",
       "      <td>Pau</td>\n",
       "      <td>77000</td>\n",
       "      <td>64000</td>\n",
       "    </tr>\n",
       "  </tbody>\n",
       "</table>\n",
       "</div>"
      ],
      "text/plain": [
       "         nom  population code_postal\n",
       "0   Toulouse      470000       31000\n",
       "1  Marseille      880000       13000\n",
       "2        Pau       77000       64000"
      ]
     },
     "execution_count": 60,
     "metadata": {},
     "output_type": "execute_result"
    }
   ],
   "source": [
    "dfCities"
   ]
  },
  {
   "cell_type": "code",
   "execution_count": 61,
   "id": "85e99c2f-501d-40bd-91cf-fe016166821f",
   "metadata": {},
   "outputs": [],
   "source": [
    "dfCities['population'] += 10"
   ]
  },
  {
   "cell_type": "code",
   "execution_count": 62,
   "id": "e4e96425-84d1-4021-b079-0c81fac3160f",
   "metadata": {},
   "outputs": [
    {
     "data": {
      "text/html": [
       "<div>\n",
       "<style scoped>\n",
       "    .dataframe tbody tr th:only-of-type {\n",
       "        vertical-align: middle;\n",
       "    }\n",
       "\n",
       "    .dataframe tbody tr th {\n",
       "        vertical-align: top;\n",
       "    }\n",
       "\n",
       "    .dataframe thead th {\n",
       "        text-align: right;\n",
       "    }\n",
       "</style>\n",
       "<table border=\"1\" class=\"dataframe\">\n",
       "  <thead>\n",
       "    <tr style=\"text-align: right;\">\n",
       "      <th></th>\n",
       "      <th>nom</th>\n",
       "      <th>population</th>\n",
       "      <th>code_postal</th>\n",
       "    </tr>\n",
       "  </thead>\n",
       "  <tbody>\n",
       "    <tr>\n",
       "      <th>0</th>\n",
       "      <td>Toulouse</td>\n",
       "      <td>470010</td>\n",
       "      <td>31000</td>\n",
       "    </tr>\n",
       "    <tr>\n",
       "      <th>1</th>\n",
       "      <td>Marseille</td>\n",
       "      <td>880010</td>\n",
       "      <td>13000</td>\n",
       "    </tr>\n",
       "    <tr>\n",
       "      <th>2</th>\n",
       "      <td>Pau</td>\n",
       "      <td>77010</td>\n",
       "      <td>64000</td>\n",
       "    </tr>\n",
       "  </tbody>\n",
       "</table>\n",
       "</div>"
      ],
      "text/plain": [
       "         nom  population code_postal\n",
       "0   Toulouse      470010       31000\n",
       "1  Marseille      880010       13000\n",
       "2        Pau       77010       64000"
      ]
     },
     "execution_count": 62,
     "metadata": {},
     "output_type": "execute_result"
    }
   ],
   "source": [
    "dfCities"
   ]
  },
  {
   "cell_type": "markdown",
   "id": "d625bbc5-cfc5-401d-9a8e-83085a76e91f",
   "metadata": {},
   "source": [
    "### cas de la division"
   ]
  },
  {
   "cell_type": "code",
   "execution_count": 63,
   "id": "be82d2bd-0c73-4fb8-887d-2d18732b2cb7",
   "metadata": {},
   "outputs": [
    {
     "data": {
      "text/plain": [
       "2.3333333333333335"
      ]
     },
     "execution_count": 63,
     "metadata": {},
     "output_type": "execute_result"
    }
   ],
   "source": [
    "7 / 3  # __truediv__"
   ]
  },
  {
   "cell_type": "code",
   "execution_count": 64,
   "id": "59f35bf7-3788-4975-aa99-1e21d83effe5",
   "metadata": {},
   "outputs": [
    {
     "data": {
      "text/plain": [
       "2"
      ]
     },
     "execution_count": 64,
     "metadata": {},
     "output_type": "execute_result"
    }
   ],
   "source": [
    "7 // 3  # __floordiv__"
   ]
  },
  {
   "cell_type": "code",
   "execution_count": 65,
   "id": "8dd3b5b2-c731-4969-b791-aca63670bb99",
   "metadata": {},
   "outputs": [
    {
     "data": {
      "text/plain": [
       "1"
      ]
     },
     "execution_count": 65,
     "metadata": {},
     "output_type": "execute_result"
    }
   ],
   "source": [
    "7 % 3 # __mod__"
   ]
  },
  {
   "cell_type": "code",
   "execution_count": 66,
   "id": "55fd349d-a238-46f9-969e-c31afdbe80f7",
   "metadata": {},
   "outputs": [
    {
     "data": {
      "text/plain": [
       "(2, 1)"
      ]
     },
     "execution_count": 66,
     "metadata": {},
     "output_type": "execute_result"
    }
   ],
   "source": [
    "divmod(7,3)  # __divmod__"
   ]
  },
  {
   "cell_type": "code",
   "execution_count": 67,
   "id": "d67f2a00-dedb-48c6-822a-546195bd6e8c",
   "metadata": {
    "tags": []
   },
   "outputs": [
    {
     "data": {
      "text/plain": [
       "['__abs__',\n",
       " '__add__',\n",
       " '__and__',\n",
       " '__bool__',\n",
       " '__ceil__',\n",
       " '__class__',\n",
       " '__delattr__',\n",
       " '__dir__',\n",
       " '__divmod__',\n",
       " '__doc__',\n",
       " '__eq__',\n",
       " '__float__',\n",
       " '__floor__',\n",
       " '__floordiv__',\n",
       " '__format__',\n",
       " '__ge__',\n",
       " '__getattribute__',\n",
       " '__getnewargs__',\n",
       " '__getstate__',\n",
       " '__gt__',\n",
       " '__hash__',\n",
       " '__index__',\n",
       " '__init__',\n",
       " '__init_subclass__',\n",
       " '__int__',\n",
       " '__invert__',\n",
       " '__le__',\n",
       " '__lshift__',\n",
       " '__lt__',\n",
       " '__mod__',\n",
       " '__mul__',\n",
       " '__ne__',\n",
       " '__neg__',\n",
       " '__new__',\n",
       " '__or__',\n",
       " '__pos__',\n",
       " '__pow__',\n",
       " '__radd__',\n",
       " '__rand__',\n",
       " '__rdivmod__',\n",
       " '__reduce__',\n",
       " '__reduce_ex__',\n",
       " '__repr__',\n",
       " '__rfloordiv__',\n",
       " '__rlshift__',\n",
       " '__rmod__',\n",
       " '__rmul__',\n",
       " '__ror__',\n",
       " '__round__',\n",
       " '__rpow__',\n",
       " '__rrshift__',\n",
       " '__rshift__',\n",
       " '__rsub__',\n",
       " '__rtruediv__',\n",
       " '__rxor__',\n",
       " '__setattr__',\n",
       " '__sizeof__',\n",
       " '__str__',\n",
       " '__sub__',\n",
       " '__subclasshook__',\n",
       " '__truediv__',\n",
       " '__trunc__',\n",
       " '__xor__',\n",
       " 'as_integer_ratio',\n",
       " 'bit_count',\n",
       " 'bit_length',\n",
       " 'conjugate',\n",
       " 'denominator',\n",
       " 'from_bytes',\n",
       " 'imag',\n",
       " 'is_integer',\n",
       " 'numerator',\n",
       " 'real',\n",
       " 'to_bytes']"
      ]
     },
     "execution_count": 67,
     "metadata": {},
     "output_type": "execute_result"
    }
   ],
   "source": [
    "dir(int) # filter toutes les méthodes __???__ contenant 'div' ou 'mod'"
   ]
  },
  {
   "cell_type": "code",
   "execution_count": 68,
   "id": "2cabb161-208f-43ce-9c45-11336a8a9684",
   "metadata": {},
   "outputs": [
    {
     "data": {
      "text/plain": [
       "['__divmod__',\n",
       " '__floordiv__',\n",
       " '__mod__',\n",
       " '__rdivmod__',\n",
       " '__rfloordiv__',\n",
       " '__rmod__',\n",
       " '__rtruediv__',\n",
       " '__truediv__']"
      ]
     },
     "execution_count": 68,
     "metadata": {},
     "output_type": "execute_result"
    }
   ],
   "source": [
    "# list comprehension\n",
    "[ m for m in dir(int) if re.fullmatch(r'__.*(div|mod).*__', m) ]"
   ]
  },
  {
   "cell_type": "code",
   "execution_count": 69,
   "id": "ce769285-35ac-411c-832a-38cfb5f94836",
   "metadata": {},
   "outputs": [
    {
     "data": {
      "text/plain": [
       "['__divmod__',\n",
       " '__floordiv__',\n",
       " '__mod__',\n",
       " '__rdivmod__',\n",
       " '__rfloordiv__',\n",
       " '__rmod__',\n",
       " '__rtruediv__',\n",
       " '__truediv__']"
      ]
     },
     "execution_count": 69,
     "metadata": {},
     "output_type": "execute_result"
    }
   ],
   "source": [
    "[ m for m in dir(int) if m.startswith('__')  and m.endswith('__') and ('div' in m or 'mod' in m) ]"
   ]
  },
  {
   "cell_type": "code",
   "execution_count": 70,
   "id": "c5e4d67b-80eb-48c8-89a4-08558ed71f44",
   "metadata": {},
   "outputs": [
    {
     "name": "stdout",
     "output_type": "stream",
     "text": [
      "__divmod__\n",
      "__floordiv__\n",
      "__mod__\n",
      "__rdivmod__\n",
      "__rfloordiv__\n",
      "__rmod__\n",
      "__rtruediv__\n",
      "__truediv__\n"
     ]
    }
   ],
   "source": [
    "for m in dir(int):\n",
    "    if ('div' in m or 'mod' in m) and m.startswith('__') and m.endswith('__'):\n",
    "        print(m)"
   ]
  },
  {
   "cell_type": "code",
   "execution_count": 71,
   "id": "1959b3bf-c4de-4141-8846-0f34f22d7e11",
   "metadata": {},
   "outputs": [
    {
     "data": {
      "text/plain": [
       "(True, False)"
      ]
     },
     "execution_count": 71,
     "metadata": {},
     "output_type": "execute_result"
    }
   ],
   "source": [
    "valeurs1 = [1, 2, 3]\n",
    "valeurs2 = [1, 2, 3]\n",
    "valeurs1 == valeurs2, valeurs1 is valeurs2"
   ]
  },
  {
   "cell_type": "markdown",
   "id": "9e193fff-76d5-4b2a-8d73-98491c63eb44",
   "metadata": {},
   "source": [
    "### cas du produit matriciel"
   ]
  },
  {
   "cell_type": "code",
   "execution_count": 72,
   "id": "6f64d7ae-ebb1-4fe0-9db3-aad0f49c1990",
   "metadata": {},
   "outputs": [
    {
     "name": "stdout",
     "output_type": "stream",
     "text": [
      "[[1 2]\n",
      " [3 4]]\n",
      "[[ 2 -1]\n",
      " [-1  3]]\n"
     ]
    }
   ],
   "source": [
    "m1 = np.array(\n",
    "    [[1, 2],\n",
    "     [3, 4]]\n",
    ")\n",
    "m2 = np.array(\n",
    "    [[2, -1],\n",
    "     [-1, 3]]\n",
    ")\n",
    "print(m1)\n",
    "print(m2)"
   ]
  },
  {
   "cell_type": "code",
   "execution_count": 73,
   "id": "f806df82-3f8f-4349-a43d-1f30d4a551a6",
   "metadata": {},
   "outputs": [
    {
     "data": {
      "text/plain": [
       "array([[ 2, -2],\n",
       "       [-3, 12]])"
      ]
     },
     "execution_count": 73,
     "metadata": {},
     "output_type": "execute_result"
    }
   ],
   "source": [
    "m1 * m2"
   ]
  },
  {
   "cell_type": "code",
   "execution_count": 74,
   "id": "557dca08-bea3-4a49-b2d2-7515599c7f86",
   "metadata": {},
   "outputs": [
    {
     "data": {
      "text/plain": [
       "array([[0, 5],\n",
       "       [2, 9]])"
      ]
     },
     "execution_count": 74,
     "metadata": {},
     "output_type": "execute_result"
    }
   ],
   "source": [
    "m1 @ m2"
   ]
  },
  {
   "cell_type": "code",
   "execution_count": 75,
   "id": "8e682d40-bc03-4159-a407-e8e38ea4d144",
   "metadata": {},
   "outputs": [
    {
     "data": {
      "text/plain": [
       "array([[0, 5],\n",
       "       [2, 9]])"
      ]
     },
     "execution_count": 75,
     "metadata": {},
     "output_type": "execute_result"
    }
   ],
   "source": [
    "np.matmul(m1,m2)"
   ]
  },
  {
   "cell_type": "code",
   "execution_count": 76,
   "id": "d2b165b5-15d6-469c-a6de-75c3363c6544",
   "metadata": {},
   "outputs": [
    {
     "data": {
      "text/plain": [
       "array([[0, 5],\n",
       "       [2, 9]])"
      ]
     },
     "execution_count": 76,
     "metadata": {},
     "output_type": "execute_result"
    }
   ],
   "source": [
    "m1.dot(m2)"
   ]
  },
  {
   "cell_type": "markdown",
   "id": "083fab93-52db-4805-85a3-dc224c5256e5",
   "metadata": {},
   "source": [
    "### cas des filtres de pandas (et numpy)\n",
    "bitwise => elementwise pour | (or), & (and), ~ (not), ^ (xor)"
   ]
  },
  {
   "cell_type": "code",
   "execution_count": 77,
   "id": "c064ec71-06ef-40d1-9ab6-575b62a65946",
   "metadata": {},
   "outputs": [
    {
     "name": "stdout",
     "output_type": "stream",
     "text": [
      "<class 'pandas.core.frame.DataFrame'>\n",
      "RangeIndex: 39145 entries, 0 to 39144\n",
      "Data columns (total 10 columns):\n",
      " #   Column               Non-Null Count  Dtype  \n",
      "---  ------               --------------  -----  \n",
      " 0   insee_code           39145 non-null  object \n",
      " 1   city_code            39145 non-null  object \n",
      " 2   zip_code             39145 non-null  int64  \n",
      " 3   label                39145 non-null  object \n",
      " 4   latitude             38934 non-null  float64\n",
      " 5   longitude            38934 non-null  float64\n",
      " 6   department_name      39145 non-null  object \n",
      " 7   department_number    39145 non-null  object \n",
      " 8   region_name          39145 non-null  object \n",
      " 9   region_geojson_name  39145 non-null  object \n",
      "dtypes: float64(2), int64(1), object(7)\n",
      "memory usage: 3.0+ MB\n"
     ]
    }
   ],
   "source": [
    "dfCitiesFr = pd.read_csv('https://www.data.gouv.fr/fr/datasets/r/51606633-fb13-4820-b795-9a2a575a72f1')\n",
    "dfCitiesFr.info()"
   ]
  },
  {
   "cell_type": "code",
   "execution_count": 78,
   "id": "f6208aef-755c-4c41-beec-3c922d40fc7c",
   "metadata": {},
   "outputs": [
    {
     "data": {
      "text/html": [
       "<div>\n",
       "<style scoped>\n",
       "    .dataframe tbody tr th:only-of-type {\n",
       "        vertical-align: middle;\n",
       "    }\n",
       "\n",
       "    .dataframe tbody tr th {\n",
       "        vertical-align: top;\n",
       "    }\n",
       "\n",
       "    .dataframe thead th {\n",
       "        text-align: right;\n",
       "    }\n",
       "</style>\n",
       "<table border=\"1\" class=\"dataframe\">\n",
       "  <thead>\n",
       "    <tr style=\"text-align: right;\">\n",
       "      <th></th>\n",
       "      <th>insee_code</th>\n",
       "      <th>city_code</th>\n",
       "      <th>zip_code</th>\n",
       "      <th>label</th>\n",
       "      <th>latitude</th>\n",
       "      <th>longitude</th>\n",
       "      <th>department_name</th>\n",
       "      <th>department_number</th>\n",
       "      <th>region_name</th>\n",
       "      <th>region_geojson_name</th>\n",
       "    </tr>\n",
       "  </thead>\n",
       "  <tbody>\n",
       "    <tr>\n",
       "      <th>0</th>\n",
       "      <td>25620</td>\n",
       "      <td>ville du pont</td>\n",
       "      <td>25650</td>\n",
       "      <td>ville du pont</td>\n",
       "      <td>46.999873</td>\n",
       "      <td>6.498147</td>\n",
       "      <td>doubs</td>\n",
       "      <td>25</td>\n",
       "      <td>bourgogne-franche-comté</td>\n",
       "      <td>Bourgogne-Franche-Comté</td>\n",
       "    </tr>\n",
       "    <tr>\n",
       "      <th>1</th>\n",
       "      <td>25624</td>\n",
       "      <td>villers grelot</td>\n",
       "      <td>25640</td>\n",
       "      <td>villers grelot</td>\n",
       "      <td>47.361512</td>\n",
       "      <td>6.235167</td>\n",
       "      <td>doubs</td>\n",
       "      <td>25</td>\n",
       "      <td>bourgogne-franche-comté</td>\n",
       "      <td>Bourgogne-Franche-Comté</td>\n",
       "    </tr>\n",
       "    <tr>\n",
       "      <th>2</th>\n",
       "      <td>25615</td>\n",
       "      <td>villars les blamont</td>\n",
       "      <td>25310</td>\n",
       "      <td>villars les blamont</td>\n",
       "      <td>47.368384</td>\n",
       "      <td>6.871415</td>\n",
       "      <td>doubs</td>\n",
       "      <td>25</td>\n",
       "      <td>bourgogne-franche-comté</td>\n",
       "      <td>Bourgogne-Franche-Comté</td>\n",
       "    </tr>\n",
       "    <tr>\n",
       "      <th>3</th>\n",
       "      <td>25619</td>\n",
       "      <td>les villedieu</td>\n",
       "      <td>25240</td>\n",
       "      <td>les villedieu</td>\n",
       "      <td>46.713906</td>\n",
       "      <td>6.265831</td>\n",
       "      <td>doubs</td>\n",
       "      <td>25</td>\n",
       "      <td>bourgogne-franche-comté</td>\n",
       "      <td>Bourgogne-Franche-Comté</td>\n",
       "    </tr>\n",
       "    <tr>\n",
       "      <th>4</th>\n",
       "      <td>25622</td>\n",
       "      <td>villers buzon</td>\n",
       "      <td>25170</td>\n",
       "      <td>villers buzon</td>\n",
       "      <td>47.228558</td>\n",
       "      <td>5.852187</td>\n",
       "      <td>doubs</td>\n",
       "      <td>25</td>\n",
       "      <td>bourgogne-franche-comté</td>\n",
       "      <td>Bourgogne-Franche-Comté</td>\n",
       "    </tr>\n",
       "    <tr>\n",
       "      <th>...</th>\n",
       "      <td>...</td>\n",
       "      <td>...</td>\n",
       "      <td>...</td>\n",
       "      <td>...</td>\n",
       "      <td>...</td>\n",
       "      <td>...</td>\n",
       "      <td>...</td>\n",
       "      <td>...</td>\n",
       "      <td>...</td>\n",
       "      <td>...</td>\n",
       "    </tr>\n",
       "    <tr>\n",
       "      <th>39140</th>\n",
       "      <td>98829</td>\n",
       "      <td>thio</td>\n",
       "      <td>98829</td>\n",
       "      <td>thio</td>\n",
       "      <td>NaN</td>\n",
       "      <td>NaN</td>\n",
       "      <td>nouvelle-calédonie</td>\n",
       "      <td>988</td>\n",
       "      <td>nouvelle-calédonie</td>\n",
       "      <td>Nouvelle Calédonie</td>\n",
       "    </tr>\n",
       "    <tr>\n",
       "      <th>39141</th>\n",
       "      <td>98831</td>\n",
       "      <td>voh</td>\n",
       "      <td>98833</td>\n",
       "      <td>voh</td>\n",
       "      <td>NaN</td>\n",
       "      <td>NaN</td>\n",
       "      <td>nouvelle-calédonie</td>\n",
       "      <td>988</td>\n",
       "      <td>nouvelle-calédonie</td>\n",
       "      <td>Nouvelle Calédonie</td>\n",
       "    </tr>\n",
       "    <tr>\n",
       "      <th>39142</th>\n",
       "      <td>98832</td>\n",
       "      <td>yate</td>\n",
       "      <td>98834</td>\n",
       "      <td>yate</td>\n",
       "      <td>NaN</td>\n",
       "      <td>NaN</td>\n",
       "      <td>nouvelle-calédonie</td>\n",
       "      <td>988</td>\n",
       "      <td>nouvelle-calédonie</td>\n",
       "      <td>Nouvelle Calédonie</td>\n",
       "    </tr>\n",
       "    <tr>\n",
       "      <th>39143</th>\n",
       "      <td>98612</td>\n",
       "      <td>sigave</td>\n",
       "      <td>98620</td>\n",
       "      <td>sigave</td>\n",
       "      <td>-14.270411</td>\n",
       "      <td>-178.155263</td>\n",
       "      <td>wallis-et-futuna</td>\n",
       "      <td>986</td>\n",
       "      <td>wallis-et-futuna</td>\n",
       "      <td>Wallis-et-Futuna</td>\n",
       "    </tr>\n",
       "    <tr>\n",
       "      <th>39144</th>\n",
       "      <td>98613</td>\n",
       "      <td>uvea</td>\n",
       "      <td>98600</td>\n",
       "      <td>uvea</td>\n",
       "      <td>-13.281863</td>\n",
       "      <td>-176.161928</td>\n",
       "      <td>wallis-et-futuna</td>\n",
       "      <td>986</td>\n",
       "      <td>wallis-et-futuna</td>\n",
       "      <td>Wallis-et-Futuna</td>\n",
       "    </tr>\n",
       "  </tbody>\n",
       "</table>\n",
       "<p>39145 rows × 10 columns</p>\n",
       "</div>"
      ],
      "text/plain": [
       "      insee_code            city_code  zip_code                label  \\\n",
       "0          25620        ville du pont     25650        ville du pont   \n",
       "1          25624       villers grelot     25640       villers grelot   \n",
       "2          25615  villars les blamont     25310  villars les blamont   \n",
       "3          25619        les villedieu     25240        les villedieu   \n",
       "4          25622        villers buzon     25170        villers buzon   \n",
       "...          ...                  ...       ...                  ...   \n",
       "39140      98829                 thio     98829                 thio   \n",
       "39141      98831                  voh     98833                  voh   \n",
       "39142      98832                 yate     98834                 yate   \n",
       "39143      98612               sigave     98620               sigave   \n",
       "39144      98613                 uvea     98600                 uvea   \n",
       "\n",
       "        latitude   longitude     department_name department_number  \\\n",
       "0      46.999873    6.498147               doubs                25   \n",
       "1      47.361512    6.235167               doubs                25   \n",
       "2      47.368384    6.871415               doubs                25   \n",
       "3      46.713906    6.265831               doubs                25   \n",
       "4      47.228558    5.852187               doubs                25   \n",
       "...          ...         ...                 ...               ...   \n",
       "39140        NaN         NaN  nouvelle-calédonie               988   \n",
       "39141        NaN         NaN  nouvelle-calédonie               988   \n",
       "39142        NaN         NaN  nouvelle-calédonie               988   \n",
       "39143 -14.270411 -178.155263    wallis-et-futuna               986   \n",
       "39144 -13.281863 -176.161928    wallis-et-futuna               986   \n",
       "\n",
       "                   region_name      region_geojson_name  \n",
       "0      bourgogne-franche-comté  Bourgogne-Franche-Comté  \n",
       "1      bourgogne-franche-comté  Bourgogne-Franche-Comté  \n",
       "2      bourgogne-franche-comté  Bourgogne-Franche-Comté  \n",
       "3      bourgogne-franche-comté  Bourgogne-Franche-Comté  \n",
       "4      bourgogne-franche-comté  Bourgogne-Franche-Comté  \n",
       "...                        ...                      ...  \n",
       "39140       nouvelle-calédonie       Nouvelle Calédonie  \n",
       "39141       nouvelle-calédonie       Nouvelle Calédonie  \n",
       "39142       nouvelle-calédonie       Nouvelle Calédonie  \n",
       "39143         wallis-et-futuna         Wallis-et-Futuna  \n",
       "39144         wallis-et-futuna         Wallis-et-Futuna  \n",
       "\n",
       "[39145 rows x 10 columns]"
      ]
     },
     "execution_count": 78,
     "metadata": {},
     "output_type": "execute_result"
    }
   ],
   "source": [
    "dfCitiesFr"
   ]
  },
  {
   "cell_type": "code",
   "execution_count": 79,
   "id": "d7704526-a18e-4d7a-96f6-416332d05641",
   "metadata": {},
   "outputs": [
    {
     "data": {
      "text/html": [
       "<div>\n",
       "<style scoped>\n",
       "    .dataframe tbody tr th:only-of-type {\n",
       "        vertical-align: middle;\n",
       "    }\n",
       "\n",
       "    .dataframe tbody tr th {\n",
       "        vertical-align: top;\n",
       "    }\n",
       "\n",
       "    .dataframe thead th {\n",
       "        text-align: right;\n",
       "    }\n",
       "</style>\n",
       "<table border=\"1\" class=\"dataframe\">\n",
       "  <thead>\n",
       "    <tr style=\"text-align: right;\">\n",
       "      <th></th>\n",
       "      <th>insee_code</th>\n",
       "      <th>city_code</th>\n",
       "      <th>zip_code</th>\n",
       "      <th>label</th>\n",
       "      <th>latitude</th>\n",
       "      <th>longitude</th>\n",
       "      <th>department_name</th>\n",
       "      <th>department_number</th>\n",
       "      <th>region_name</th>\n",
       "      <th>region_geojson_name</th>\n",
       "    </tr>\n",
       "  </thead>\n",
       "  <tbody>\n",
       "    <tr>\n",
       "      <th>17642</th>\n",
       "      <td>64138</td>\n",
       "      <td>bordes</td>\n",
       "      <td>64510</td>\n",
       "      <td>bordes</td>\n",
       "      <td>43.243525</td>\n",
       "      <td>-0.273609</td>\n",
       "      <td>pyrénées-atlantiques</td>\n",
       "      <td>64</td>\n",
       "      <td>nouvelle-aquitaine</td>\n",
       "      <td>Nouvelle-Aquitaine</td>\n",
       "    </tr>\n",
       "    <tr>\n",
       "      <th>23499</th>\n",
       "      <td>65101</td>\n",
       "      <td>bordes</td>\n",
       "      <td>65190</td>\n",
       "      <td>bordes</td>\n",
       "      <td>43.196985</td>\n",
       "      <td>0.214207</td>\n",
       "      <td>hautes-pyrénées</td>\n",
       "      <td>65</td>\n",
       "      <td>occitanie</td>\n",
       "      <td>Occitanie</td>\n",
       "    </tr>\n",
       "  </tbody>\n",
       "</table>\n",
       "</div>"
      ],
      "text/plain": [
       "      insee_code city_code  zip_code   label   latitude  longitude  \\\n",
       "17642      64138    bordes     64510  bordes  43.243525  -0.273609   \n",
       "23499      65101    bordes     65190  bordes  43.196985   0.214207   \n",
       "\n",
       "            department_name department_number         region_name  \\\n",
       "17642  pyrénées-atlantiques                64  nouvelle-aquitaine   \n",
       "23499       hautes-pyrénées                65           occitanie   \n",
       "\n",
       "      region_geojson_name  \n",
       "17642  Nouvelle-Aquitaine  \n",
       "23499           Occitanie  "
      ]
     },
     "execution_count": 79,
     "metadata": {},
     "output_type": "execute_result"
    }
   ],
   "source": [
    "dfCitiesFr[dfCitiesFr.label == 'bordes']"
   ]
  },
  {
   "cell_type": "code",
   "execution_count": 80,
   "id": "bee45e70-ed1f-46be-9a31-9d15aee3a419",
   "metadata": {},
   "outputs": [
    {
     "data": {
      "text/html": [
       "<div>\n",
       "<style scoped>\n",
       "    .dataframe tbody tr th:only-of-type {\n",
       "        vertical-align: middle;\n",
       "    }\n",
       "\n",
       "    .dataframe tbody tr th {\n",
       "        vertical-align: top;\n",
       "    }\n",
       "\n",
       "    .dataframe thead th {\n",
       "        text-align: right;\n",
       "    }\n",
       "</style>\n",
       "<table border=\"1\" class=\"dataframe\">\n",
       "  <thead>\n",
       "    <tr style=\"text-align: right;\">\n",
       "      <th></th>\n",
       "      <th>insee_code</th>\n",
       "      <th>city_code</th>\n",
       "      <th>zip_code</th>\n",
       "      <th>label</th>\n",
       "      <th>latitude</th>\n",
       "      <th>longitude</th>\n",
       "      <th>department_name</th>\n",
       "      <th>department_number</th>\n",
       "      <th>region_name</th>\n",
       "      <th>region_geojson_name</th>\n",
       "    </tr>\n",
       "  </thead>\n",
       "  <tbody>\n",
       "    <tr>\n",
       "      <th>17642</th>\n",
       "      <td>64138</td>\n",
       "      <td>bordes</td>\n",
       "      <td>64510</td>\n",
       "      <td>bordes</td>\n",
       "      <td>43.243525</td>\n",
       "      <td>-0.273609</td>\n",
       "      <td>pyrénées-atlantiques</td>\n",
       "      <td>64</td>\n",
       "      <td>nouvelle-aquitaine</td>\n",
       "      <td>Nouvelle-Aquitaine</td>\n",
       "    </tr>\n",
       "  </tbody>\n",
       "</table>\n",
       "</div>"
      ],
      "text/plain": [
       "      insee_code city_code  zip_code   label   latitude  longitude  \\\n",
       "17642      64138    bordes     64510  bordes  43.243525  -0.273609   \n",
       "\n",
       "            department_name department_number         region_name  \\\n",
       "17642  pyrénées-atlantiques                64  nouvelle-aquitaine   \n",
       "\n",
       "      region_geojson_name  \n",
       "17642  Nouvelle-Aquitaine  "
      ]
     },
     "execution_count": 80,
     "metadata": {},
     "output_type": "execute_result"
    }
   ],
   "source": [
    "dfCitiesFr[\n",
    "    (dfCitiesFr.label == 'bordes') \n",
    "    & (dfCitiesFr.department_number == '64')\n",
    "]"
   ]
  },
  {
   "cell_type": "code",
   "execution_count": 81,
   "id": "ecd88424-ca48-4a37-b206-537e3764f005",
   "metadata": {},
   "outputs": [
    {
     "data": {
      "text/plain": [
       "0        False\n",
       "1        False\n",
       "2        False\n",
       "3        False\n",
       "4        False\n",
       "         ...  \n",
       "39140    False\n",
       "39141    False\n",
       "39142    False\n",
       "39143    False\n",
       "39144    False\n",
       "Name: label, Length: 39145, dtype: bool"
      ]
     },
     "execution_count": 81,
     "metadata": {},
     "output_type": "execute_result"
    }
   ],
   "source": [
    "dfCitiesFr.label == 'bordes'"
   ]
  },
  {
   "cell_type": "code",
   "execution_count": 82,
   "id": "2c613604-47eb-4cd7-aca9-11d6486714fb",
   "metadata": {},
   "outputs": [
    {
     "data": {
      "text/plain": [
       "0        False\n",
       "1        False\n",
       "2        False\n",
       "3        False\n",
       "4        False\n",
       "         ...  \n",
       "39140    False\n",
       "39141    False\n",
       "39142    False\n",
       "39143    False\n",
       "39144    False\n",
       "Name: department_number, Length: 39145, dtype: bool"
      ]
     },
     "execution_count": 82,
     "metadata": {},
     "output_type": "execute_result"
    }
   ],
   "source": [
    "dfCitiesFr.department_number == '64'"
   ]
  },
  {
   "cell_type": "code",
   "execution_count": 83,
   "id": "b3d76135-ec97-4480-9eaa-5437df9330de",
   "metadata": {},
   "outputs": [
    {
     "data": {
      "text/html": [
       "<div>\n",
       "<style scoped>\n",
       "    .dataframe tbody tr th:only-of-type {\n",
       "        vertical-align: middle;\n",
       "    }\n",
       "\n",
       "    .dataframe tbody tr th {\n",
       "        vertical-align: top;\n",
       "    }\n",
       "\n",
       "    .dataframe thead th {\n",
       "        text-align: right;\n",
       "    }\n",
       "</style>\n",
       "<table border=\"1\" class=\"dataframe\">\n",
       "  <thead>\n",
       "    <tr style=\"text-align: right;\">\n",
       "      <th></th>\n",
       "      <th>insee_code</th>\n",
       "      <th>city_code</th>\n",
       "      <th>zip_code</th>\n",
       "      <th>label</th>\n",
       "      <th>latitude</th>\n",
       "      <th>longitude</th>\n",
       "      <th>department_name</th>\n",
       "      <th>department_number</th>\n",
       "      <th>region_name</th>\n",
       "      <th>region_geojson_name</th>\n",
       "    </tr>\n",
       "  </thead>\n",
       "  <tbody>\n",
       "    <tr>\n",
       "      <th>38931</th>\n",
       "      <td>98711</td>\n",
       "      <td>anaa</td>\n",
       "      <td>98786</td>\n",
       "      <td>hitianau</td>\n",
       "      <td>NaN</td>\n",
       "      <td>NaN</td>\n",
       "      <td>polynésie-française</td>\n",
       "      <td>987</td>\n",
       "      <td>polynésie-française</td>\n",
       "      <td>Polynésie française</td>\n",
       "    </tr>\n",
       "    <tr>\n",
       "      <th>38932</th>\n",
       "      <td>98712</td>\n",
       "      <td>arue</td>\n",
       "      <td>98701</td>\n",
       "      <td>arue</td>\n",
       "      <td>NaN</td>\n",
       "      <td>NaN</td>\n",
       "      <td>polynésie-française</td>\n",
       "      <td>987</td>\n",
       "      <td>polynésie-française</td>\n",
       "      <td>Polynésie française</td>\n",
       "    </tr>\n",
       "    <tr>\n",
       "      <th>38933</th>\n",
       "      <td>98713</td>\n",
       "      <td>arutua</td>\n",
       "      <td>98761</td>\n",
       "      <td>rautini</td>\n",
       "      <td>NaN</td>\n",
       "      <td>NaN</td>\n",
       "      <td>polynésie-française</td>\n",
       "      <td>987</td>\n",
       "      <td>polynésie-française</td>\n",
       "      <td>Polynésie française</td>\n",
       "    </tr>\n",
       "    <tr>\n",
       "      <th>38934</th>\n",
       "      <td>98713</td>\n",
       "      <td>arutua</td>\n",
       "      <td>98762</td>\n",
       "      <td>niutahi</td>\n",
       "      <td>NaN</td>\n",
       "      <td>NaN</td>\n",
       "      <td>polynésie-française</td>\n",
       "      <td>987</td>\n",
       "      <td>polynésie-française</td>\n",
       "      <td>Polynésie française</td>\n",
       "    </tr>\n",
       "    <tr>\n",
       "      <th>38935</th>\n",
       "      <td>98714</td>\n",
       "      <td>bora bora</td>\n",
       "      <td>98730</td>\n",
       "      <td>anau</td>\n",
       "      <td>NaN</td>\n",
       "      <td>NaN</td>\n",
       "      <td>polynésie-française</td>\n",
       "      <td>987</td>\n",
       "      <td>polynésie-française</td>\n",
       "      <td>Polynésie française</td>\n",
       "    </tr>\n",
       "    <tr>\n",
       "      <th>...</th>\n",
       "      <td>...</td>\n",
       "      <td>...</td>\n",
       "      <td>...</td>\n",
       "      <td>...</td>\n",
       "      <td>...</td>\n",
       "      <td>...</td>\n",
       "      <td>...</td>\n",
       "      <td>...</td>\n",
       "      <td>...</td>\n",
       "      <td>...</td>\n",
       "    </tr>\n",
       "    <tr>\n",
       "      <th>39138</th>\n",
       "      <td>98815</td>\n",
       "      <td>mare</td>\n",
       "      <td>98878</td>\n",
       "      <td>la roche</td>\n",
       "      <td>NaN</td>\n",
       "      <td>NaN</td>\n",
       "      <td>nouvelle-calédonie</td>\n",
       "      <td>988</td>\n",
       "      <td>nouvelle-calédonie</td>\n",
       "      <td>Nouvelle Calédonie</td>\n",
       "    </tr>\n",
       "    <tr>\n",
       "      <th>39139</th>\n",
       "      <td>98822</td>\n",
       "      <td>poindimie</td>\n",
       "      <td>98822</td>\n",
       "      <td>poindimie</td>\n",
       "      <td>NaN</td>\n",
       "      <td>NaN</td>\n",
       "      <td>nouvelle-calédonie</td>\n",
       "      <td>988</td>\n",
       "      <td>nouvelle-calédonie</td>\n",
       "      <td>Nouvelle Calédonie</td>\n",
       "    </tr>\n",
       "    <tr>\n",
       "      <th>39140</th>\n",
       "      <td>98829</td>\n",
       "      <td>thio</td>\n",
       "      <td>98829</td>\n",
       "      <td>thio</td>\n",
       "      <td>NaN</td>\n",
       "      <td>NaN</td>\n",
       "      <td>nouvelle-calédonie</td>\n",
       "      <td>988</td>\n",
       "      <td>nouvelle-calédonie</td>\n",
       "      <td>Nouvelle Calédonie</td>\n",
       "    </tr>\n",
       "    <tr>\n",
       "      <th>39141</th>\n",
       "      <td>98831</td>\n",
       "      <td>voh</td>\n",
       "      <td>98833</td>\n",
       "      <td>voh</td>\n",
       "      <td>NaN</td>\n",
       "      <td>NaN</td>\n",
       "      <td>nouvelle-calédonie</td>\n",
       "      <td>988</td>\n",
       "      <td>nouvelle-calédonie</td>\n",
       "      <td>Nouvelle Calédonie</td>\n",
       "    </tr>\n",
       "    <tr>\n",
       "      <th>39142</th>\n",
       "      <td>98832</td>\n",
       "      <td>yate</td>\n",
       "      <td>98834</td>\n",
       "      <td>yate</td>\n",
       "      <td>NaN</td>\n",
       "      <td>NaN</td>\n",
       "      <td>nouvelle-calédonie</td>\n",
       "      <td>988</td>\n",
       "      <td>nouvelle-calédonie</td>\n",
       "      <td>Nouvelle Calédonie</td>\n",
       "    </tr>\n",
       "  </tbody>\n",
       "</table>\n",
       "<p>211 rows × 10 columns</p>\n",
       "</div>"
      ],
      "text/plain": [
       "      insee_code  city_code  zip_code      label  latitude  longitude  \\\n",
       "38931      98711       anaa     98786   hitianau       NaN        NaN   \n",
       "38932      98712       arue     98701       arue       NaN        NaN   \n",
       "38933      98713     arutua     98761    rautini       NaN        NaN   \n",
       "38934      98713     arutua     98762    niutahi       NaN        NaN   \n",
       "38935      98714  bora bora     98730       anau       NaN        NaN   \n",
       "...          ...        ...       ...        ...       ...        ...   \n",
       "39138      98815       mare     98878   la roche       NaN        NaN   \n",
       "39139      98822  poindimie     98822  poindimie       NaN        NaN   \n",
       "39140      98829       thio     98829       thio       NaN        NaN   \n",
       "39141      98831        voh     98833        voh       NaN        NaN   \n",
       "39142      98832       yate     98834       yate       NaN        NaN   \n",
       "\n",
       "           department_name department_number          region_name  \\\n",
       "38931  polynésie-française               987  polynésie-française   \n",
       "38932  polynésie-française               987  polynésie-française   \n",
       "38933  polynésie-française               987  polynésie-française   \n",
       "38934  polynésie-française               987  polynésie-française   \n",
       "38935  polynésie-française               987  polynésie-française   \n",
       "...                    ...               ...                  ...   \n",
       "39138   nouvelle-calédonie               988   nouvelle-calédonie   \n",
       "39139   nouvelle-calédonie               988   nouvelle-calédonie   \n",
       "39140   nouvelle-calédonie               988   nouvelle-calédonie   \n",
       "39141   nouvelle-calédonie               988   nouvelle-calédonie   \n",
       "39142   nouvelle-calédonie               988   nouvelle-calédonie   \n",
       "\n",
       "       region_geojson_name  \n",
       "38931  Polynésie française  \n",
       "38932  Polynésie française  \n",
       "38933  Polynésie française  \n",
       "38934  Polynésie française  \n",
       "38935  Polynésie française  \n",
       "...                    ...  \n",
       "39138   Nouvelle Calédonie  \n",
       "39139   Nouvelle Calédonie  \n",
       "39140   Nouvelle Calédonie  \n",
       "39141   Nouvelle Calédonie  \n",
       "39142   Nouvelle Calédonie  \n",
       "\n",
       "[211 rows x 10 columns]"
      ]
     },
     "execution_count": 83,
     "metadata": {},
     "output_type": "execute_result"
    }
   ],
   "source": [
    "dfCitiesWithoutCoords = dfCitiesFr[dfCitiesFr.latitude.isna()]\n",
    "dfCitiesWithoutCoords"
   ]
  },
  {
   "cell_type": "code",
   "execution_count": 84,
   "id": "ed15e135-6c38-4099-972e-a3555bbc811a",
   "metadata": {},
   "outputs": [
    {
     "data": {
      "text/plain": [
       "array(['polynésie-française', 'nouvelle-calédonie'], dtype=object)"
      ]
     },
     "execution_count": 84,
     "metadata": {},
     "output_type": "execute_result"
    }
   ],
   "source": [
    "dfCitiesWithoutCoords.department_name.unique()"
   ]
  },
  {
   "cell_type": "code",
   "execution_count": 85,
   "id": "72a2a905-378c-4cc3-b324-1ab5e62371d2",
   "metadata": {},
   "outputs": [
    {
     "data": {
      "text/plain": [
       "2"
      ]
     },
     "execution_count": 85,
     "metadata": {},
     "output_type": "execute_result"
    }
   ],
   "source": [
    "dfCitiesWithoutCoords.department_name.nunique()"
   ]
  },
  {
   "cell_type": "code",
   "execution_count": 86,
   "id": "1a9d9e6f-8655-41cd-9c9d-edd8d2d325bd",
   "metadata": {},
   "outputs": [
    {
     "data": {
      "text/html": [
       "<div>\n",
       "<style scoped>\n",
       "    .dataframe tbody tr th:only-of-type {\n",
       "        vertical-align: middle;\n",
       "    }\n",
       "\n",
       "    .dataframe tbody tr th {\n",
       "        vertical-align: top;\n",
       "    }\n",
       "\n",
       "    .dataframe thead th {\n",
       "        text-align: right;\n",
       "    }\n",
       "</style>\n",
       "<table border=\"1\" class=\"dataframe\">\n",
       "  <thead>\n",
       "    <tr style=\"text-align: right;\">\n",
       "      <th></th>\n",
       "      <th>insee_code</th>\n",
       "      <th>city_code</th>\n",
       "      <th>zip_code</th>\n",
       "      <th>label</th>\n",
       "      <th>latitude</th>\n",
       "      <th>longitude</th>\n",
       "      <th>department_name</th>\n",
       "      <th>department_number</th>\n",
       "      <th>region_name</th>\n",
       "      <th>region_geojson_name</th>\n",
       "    </tr>\n",
       "  </thead>\n",
       "  <tbody>\n",
       "    <tr>\n",
       "      <th>0</th>\n",
       "      <td>25620</td>\n",
       "      <td>ville du pont</td>\n",
       "      <td>25650</td>\n",
       "      <td>ville du pont</td>\n",
       "      <td>46.999873</td>\n",
       "      <td>6.498147</td>\n",
       "      <td>doubs</td>\n",
       "      <td>25</td>\n",
       "      <td>bourgogne-franche-comté</td>\n",
       "      <td>Bourgogne-Franche-Comté</td>\n",
       "    </tr>\n",
       "    <tr>\n",
       "      <th>1</th>\n",
       "      <td>25624</td>\n",
       "      <td>villers grelot</td>\n",
       "      <td>25640</td>\n",
       "      <td>villers grelot</td>\n",
       "      <td>47.361512</td>\n",
       "      <td>6.235167</td>\n",
       "      <td>doubs</td>\n",
       "      <td>25</td>\n",
       "      <td>bourgogne-franche-comté</td>\n",
       "      <td>Bourgogne-Franche-Comté</td>\n",
       "    </tr>\n",
       "    <tr>\n",
       "      <th>2</th>\n",
       "      <td>25615</td>\n",
       "      <td>villars les blamont</td>\n",
       "      <td>25310</td>\n",
       "      <td>villars les blamont</td>\n",
       "      <td>47.368384</td>\n",
       "      <td>6.871415</td>\n",
       "      <td>doubs</td>\n",
       "      <td>25</td>\n",
       "      <td>bourgogne-franche-comté</td>\n",
       "      <td>Bourgogne-Franche-Comté</td>\n",
       "    </tr>\n",
       "    <tr>\n",
       "      <th>3</th>\n",
       "      <td>25619</td>\n",
       "      <td>les villedieu</td>\n",
       "      <td>25240</td>\n",
       "      <td>les villedieu</td>\n",
       "      <td>46.713906</td>\n",
       "      <td>6.265831</td>\n",
       "      <td>doubs</td>\n",
       "      <td>25</td>\n",
       "      <td>bourgogne-franche-comté</td>\n",
       "      <td>Bourgogne-Franche-Comté</td>\n",
       "    </tr>\n",
       "    <tr>\n",
       "      <th>4</th>\n",
       "      <td>25622</td>\n",
       "      <td>villers buzon</td>\n",
       "      <td>25170</td>\n",
       "      <td>villers buzon</td>\n",
       "      <td>47.228558</td>\n",
       "      <td>5.852187</td>\n",
       "      <td>doubs</td>\n",
       "      <td>25</td>\n",
       "      <td>bourgogne-franche-comté</td>\n",
       "      <td>Bourgogne-Franche-Comté</td>\n",
       "    </tr>\n",
       "    <tr>\n",
       "      <th>...</th>\n",
       "      <td>...</td>\n",
       "      <td>...</td>\n",
       "      <td>...</td>\n",
       "      <td>...</td>\n",
       "      <td>...</td>\n",
       "      <td>...</td>\n",
       "      <td>...</td>\n",
       "      <td>...</td>\n",
       "      <td>...</td>\n",
       "      <td>...</td>\n",
       "    </tr>\n",
       "    <tr>\n",
       "      <th>38929</th>\n",
       "      <td>97613</td>\n",
       "      <td>m tsangamouji</td>\n",
       "      <td>97650</td>\n",
       "      <td>m tsangamouji</td>\n",
       "      <td>-12.751168</td>\n",
       "      <td>45.086393</td>\n",
       "      <td>mayotte</td>\n",
       "      <td>976</td>\n",
       "      <td>mayotte</td>\n",
       "      <td>Mayotte</td>\n",
       "    </tr>\n",
       "    <tr>\n",
       "      <th>38930</th>\n",
       "      <td>97614</td>\n",
       "      <td>ouangani</td>\n",
       "      <td>97670</td>\n",
       "      <td>ouangani</td>\n",
       "      <td>-12.837567</td>\n",
       "      <td>45.138321</td>\n",
       "      <td>mayotte</td>\n",
       "      <td>976</td>\n",
       "      <td>mayotte</td>\n",
       "      <td>Mayotte</td>\n",
       "    </tr>\n",
       "    <tr>\n",
       "      <th>39104</th>\n",
       "      <td>98901</td>\n",
       "      <td>ile de clipperton</td>\n",
       "      <td>98799</td>\n",
       "      <td>ile de clipperton</td>\n",
       "      <td>10.297389</td>\n",
       "      <td>-109.221264</td>\n",
       "      <td>polynésie-française</td>\n",
       "      <td>987</td>\n",
       "      <td>polynésie-française</td>\n",
       "      <td>Polynésie française</td>\n",
       "    </tr>\n",
       "    <tr>\n",
       "      <th>39143</th>\n",
       "      <td>98612</td>\n",
       "      <td>sigave</td>\n",
       "      <td>98620</td>\n",
       "      <td>sigave</td>\n",
       "      <td>-14.270411</td>\n",
       "      <td>-178.155263</td>\n",
       "      <td>wallis-et-futuna</td>\n",
       "      <td>986</td>\n",
       "      <td>wallis-et-futuna</td>\n",
       "      <td>Wallis-et-Futuna</td>\n",
       "    </tr>\n",
       "    <tr>\n",
       "      <th>39144</th>\n",
       "      <td>98613</td>\n",
       "      <td>uvea</td>\n",
       "      <td>98600</td>\n",
       "      <td>uvea</td>\n",
       "      <td>-13.281863</td>\n",
       "      <td>-176.161928</td>\n",
       "      <td>wallis-et-futuna</td>\n",
       "      <td>986</td>\n",
       "      <td>wallis-et-futuna</td>\n",
       "      <td>Wallis-et-Futuna</td>\n",
       "    </tr>\n",
       "  </tbody>\n",
       "</table>\n",
       "<p>38934 rows × 10 columns</p>\n",
       "</div>"
      ],
      "text/plain": [
       "      insee_code            city_code  zip_code                label  \\\n",
       "0          25620        ville du pont     25650        ville du pont   \n",
       "1          25624       villers grelot     25640       villers grelot   \n",
       "2          25615  villars les blamont     25310  villars les blamont   \n",
       "3          25619        les villedieu     25240        les villedieu   \n",
       "4          25622        villers buzon     25170        villers buzon   \n",
       "...          ...                  ...       ...                  ...   \n",
       "38929      97613        m tsangamouji     97650        m tsangamouji   \n",
       "38930      97614             ouangani     97670             ouangani   \n",
       "39104      98901    ile de clipperton     98799    ile de clipperton   \n",
       "39143      98612               sigave     98620               sigave   \n",
       "39144      98613                 uvea     98600                 uvea   \n",
       "\n",
       "        latitude   longitude      department_name department_number  \\\n",
       "0      46.999873    6.498147                doubs                25   \n",
       "1      47.361512    6.235167                doubs                25   \n",
       "2      47.368384    6.871415                doubs                25   \n",
       "3      46.713906    6.265831                doubs                25   \n",
       "4      47.228558    5.852187                doubs                25   \n",
       "...          ...         ...                  ...               ...   \n",
       "38929 -12.751168   45.086393              mayotte               976   \n",
       "38930 -12.837567   45.138321              mayotte               976   \n",
       "39104  10.297389 -109.221264  polynésie-française               987   \n",
       "39143 -14.270411 -178.155263     wallis-et-futuna               986   \n",
       "39144 -13.281863 -176.161928     wallis-et-futuna               986   \n",
       "\n",
       "                   region_name      region_geojson_name  \n",
       "0      bourgogne-franche-comté  Bourgogne-Franche-Comté  \n",
       "1      bourgogne-franche-comté  Bourgogne-Franche-Comté  \n",
       "2      bourgogne-franche-comté  Bourgogne-Franche-Comté  \n",
       "3      bourgogne-franche-comté  Bourgogne-Franche-Comté  \n",
       "4      bourgogne-franche-comté  Bourgogne-Franche-Comté  \n",
       "...                        ...                      ...  \n",
       "38929                  mayotte                  Mayotte  \n",
       "38930                  mayotte                  Mayotte  \n",
       "39104      polynésie-française      Polynésie française  \n",
       "39143         wallis-et-futuna         Wallis-et-Futuna  \n",
       "39144         wallis-et-futuna         Wallis-et-Futuna  \n",
       "\n",
       "[38934 rows x 10 columns]"
      ]
     },
     "execution_count": 86,
     "metadata": {},
     "output_type": "execute_result"
    }
   ],
   "source": [
    "dfCitiesWithCoords = dfCitiesFr[~dfCitiesFr.latitude.isna()]  # ou directement 'notna'\n",
    "dfCitiesWithCoords"
   ]
  },
  {
   "cell_type": "code",
   "execution_count": 87,
   "id": "35a83230-adba-4885-a806-cc329e982a10",
   "metadata": {},
   "outputs": [
    {
     "data": {
      "text/plain": [
       "46.694541953733136"
      ]
     },
     "execution_count": 87,
     "metadata": {},
     "output_type": "execute_result"
    }
   ],
   "source": [
    "dfCitiesFr.latitude.mean() # Series.mean()"
   ]
  },
  {
   "cell_type": "code",
   "execution_count": 88,
   "id": "71cdf100-e0d3-463e-9313-d3ec7ac91926",
   "metadata": {},
   "outputs": [
    {
     "data": {
      "text/plain": [
       "(46.694541953733136, 46.694541953733136)"
      ]
     },
     "execution_count": 88,
     "metadata": {},
     "output_type": "execute_result"
    }
   ],
   "source": [
    "np.mean(dfCitiesFr.latitude), np.nanmean(dfCitiesFr.latitude) # numpy.mean sur la pandas.Series"
   ]
  },
  {
   "cell_type": "code",
   "execution_count": 89,
   "id": "c9c5f700-fa5f-4ac5-9956-69b0d545d5be",
   "metadata": {},
   "outputs": [
    {
     "data": {
      "text/plain": [
       "(nan, 46.694541953733136)"
      ]
     },
     "execution_count": 89,
     "metadata": {},
     "output_type": "execute_result"
    }
   ],
   "source": [
    "np.mean(dfCitiesFr.latitude.values), np.nanmean(dfCitiesFr.latitude.values) # numpy.mean on raw data (ndarray)"
   ]
  },
  {
   "cell_type": "code",
   "execution_count": 90,
   "id": "e654df02-0e15-4ab5-8253-24c2c8acb66b",
   "metadata": {},
   "outputs": [
    {
     "data": {
      "text/plain": [
       "nan"
      ]
     },
     "execution_count": 90,
     "metadata": {},
     "output_type": "execute_result"
    }
   ],
   "source": [
    "statistics.mean(dfCitiesFr.latitude.values)"
   ]
  },
  {
   "cell_type": "code",
   "execution_count": 91,
   "id": "54ea7a19-4bd8-4ee2-bc0f-211aea8d071a",
   "metadata": {},
   "outputs": [
    {
     "data": {
      "text/plain": [
       "array([ 46.9998734 ,  47.36151209,  47.36838372, ...,          nan,\n",
       "       -14.2704112 , -13.28186254])"
      ]
     },
     "execution_count": 91,
     "metadata": {},
     "output_type": "execute_result"
    }
   ],
   "source": [
    "dfCitiesFr.latitude.values"
   ]
  },
  {
   "cell_type": "code",
   "execution_count": 92,
   "id": "323ddb57-0ce8-4999-8369-09ee3253702f",
   "metadata": {},
   "outputs": [
    {
     "data": {
      "text/plain": [
       "numpy.ndarray"
      ]
     },
     "execution_count": 92,
     "metadata": {},
     "output_type": "execute_result"
    }
   ],
   "source": [
    "type(dfCitiesFr.latitude.values)"
   ]
  },
  {
   "cell_type": "markdown",
   "id": "8d196168-9587-480b-8dcc-48b376f7a576",
   "metadata": {},
   "source": [
    "## getitem, setitem, slice, subscriptable object"
   ]
  },
  {
   "cell_type": "markdown",
   "id": "8a573306-4067-466e-8662-9c3b890b4083",
   "metadata": {},
   "source": [
    "### str"
   ]
  },
  {
   "cell_type": "code",
   "execution_count": 93,
   "id": "cefccd27-5a40-432b-b31c-1e76610658c4",
   "metadata": {},
   "outputs": [
    {
     "data": {
      "text/plain": [
       "('T', 'e', 'e', 'T')"
      ]
     },
     "execution_count": 93,
     "metadata": {},
     "output_type": "execute_result"
    }
   ],
   "source": [
    "city = \"Toulouse\"\n",
    "city[0], city[7], city[-1], city[-8]   #, city[8] => IndexError: string index out of range"
   ]
  },
  {
   "cell_type": "code",
   "execution_count": 94,
   "id": "51ba878a-7ef5-4cd5-9a9b-7ec04525d91f",
   "metadata": {},
   "outputs": [],
   "source": [
    "# TypeError: 'str' object does not support item assignment\n",
    "# city[0] = 'Z'"
   ]
  },
  {
   "cell_type": "markdown",
   "id": "d0da66bc-a36b-4cd9-9021-2773ca2d059f",
   "metadata": {},
   "source": [
    "### list"
   ]
  },
  {
   "cell_type": "code",
   "execution_count": 95,
   "id": "9069df75-8442-4ef6-bed0-b405ff1ae26a",
   "metadata": {},
   "outputs": [
    {
     "data": {
      "text/plain": [
       "[44, 22, 33]"
      ]
     },
     "execution_count": 95,
     "metadata": {},
     "output_type": "execute_result"
    }
   ],
   "source": [
    "numbers = [11, 22, 33]\n",
    "numbers[0] = 44\n",
    "numbers"
   ]
  },
  {
   "cell_type": "markdown",
   "id": "89a80eab-ffbe-4f35-95f2-373afac5ebf2",
   "metadata": {},
   "source": [
    "### dict"
   ]
  },
  {
   "cell_type": "code",
   "execution_count": 96,
   "id": "1bf3066d-49e1-4b9a-ab5b-e21cb7e3a8fd",
   "metadata": {},
   "outputs": [
    {
     "data": {
      "text/plain": [
       "'T'"
      ]
     },
     "execution_count": 96,
     "metadata": {},
     "output_type": "execute_result"
    }
   ],
   "source": [
    "cityT = (\"Toulouse\", 470_000, \"31000\")\n",
    "city[0]"
   ]
  },
  {
   "cell_type": "code",
   "execution_count": 97,
   "id": "21317e91-6550-4820-af5d-1ee3ab473e53",
   "metadata": {},
   "outputs": [
    {
     "name": "stdout",
     "output_type": "stream",
     "text": [
      "Toulouse 470000 31000\n"
     ]
    }
   ],
   "source": [
    "name, pop, zipcode = cityT\n",
    "print(name, pop, zipcode)"
   ]
  },
  {
   "cell_type": "code",
   "execution_count": 98,
   "id": "08743e04-054a-4ccf-b68e-d837b59f410f",
   "metadata": {},
   "outputs": [],
   "source": [
    "name, pop,_ = cityT"
   ]
  },
  {
   "cell_type": "code",
   "execution_count": 99,
   "id": "ecf4cadd-705e-4a93-8044-698564a9db8c",
   "metadata": {},
   "outputs": [
    {
     "data": {
      "text/plain": [
       "(10.007183257910748, 2.9982078850233753, (1000000,))"
      ]
     },
     "execution_count": 99,
     "metadata": {},
     "output_type": "execute_result"
    }
   ],
   "source": [
    "data = np.random.normal(10, 3, 1_000_000)\n",
    "data.mean(), data.std(), data.shape"
   ]
  },
  {
   "cell_type": "code",
   "execution_count": 100,
   "id": "77a3c56f-a105-488d-a929-2dacfa3f340b",
   "metadata": {},
   "outputs": [
    {
     "data": {
      "text/plain": [
       "(7.590005155834616, 9.209066285254696, 13.13523555871456)"
      ]
     },
     "execution_count": 100,
     "metadata": {},
     "output_type": "execute_result"
    }
   ],
   "source": [
    "data[0], data[500_000], data[-1]"
   ]
  },
  {
   "cell_type": "code",
   "execution_count": 101,
   "id": "92a534e1-ef3a-4c10-8d2b-6fbccc51f5b3",
   "metadata": {},
   "outputs": [
    {
     "data": {
      "text/plain": [
       "'Toulouse'"
      ]
     },
     "execution_count": 101,
     "metadata": {},
     "output_type": "execute_result"
    }
   ],
   "source": [
    "cityD = {\n",
    "    \"nom\": \"Toulouse\", \n",
    "    \"population\": 470_000, \n",
    "    \"code_postal\": \"31000\"\n",
    "}\n",
    "cityD[\"nom\"]"
   ]
  },
  {
   "cell_type": "code",
   "execution_count": 114,
   "id": "03155352-69ea-4d65-bc18-aad3fdad4c40",
   "metadata": {},
   "outputs": [
    {
     "data": {
      "text/plain": [
       "False"
      ]
     },
     "execution_count": 114,
     "metadata": {},
     "output_type": "execute_result"
    }
   ],
   "source": [
    "'name' in cityD"
   ]
  },
  {
   "cell_type": "code",
   "execution_count": 116,
   "id": "0091326e-4f93-4672-a6e8-63bdd82122b0",
   "metadata": {},
   "outputs": [],
   "source": [
    "try:\n",
    "    cityD[\"name\"]\n",
    "except: # all exceptions\n",
    "    pass"
   ]
  },
  {
   "cell_type": "code",
   "execution_count": 122,
   "id": "0aeeefad-acc1-4731-942e-a89d6bbb0998",
   "metadata": {},
   "outputs": [
    {
     "name": "stdout",
     "output_type": "stream",
     "text": [
      "KeyError exception happend: 'name'\n"
     ]
    }
   ],
   "source": [
    "try:\n",
    "    cityD[\"name\"]\n",
    "except KeyError as e: # one precise exception\n",
    "    print(\"KeyError exception happend:\", e)\n",
    "    # print(dir(e))"
   ]
  },
  {
   "cell_type": "code",
   "execution_count": null,
   "id": "ff1e19b8-53e3-46a4-a998-d6114c937322",
   "metadata": {},
   "outputs": [],
   "source": [
    "try:\n",
    "    cityD[\"name\"]\n",
    "except KeyError: # one precise exception\n",
    "    pass"
   ]
  },
  {
   "cell_type": "markdown",
   "id": "65d92322-a3c2-4756-bd16-13ab83ecc34c",
   "metadata": {},
   "source": [
    "### DataFrame"
   ]
  },
  {
   "cell_type": "code",
   "execution_count": 103,
   "id": "61a392d2-496d-493a-8ddd-05cb59e034ee",
   "metadata": {},
   "outputs": [
    {
     "data": {
      "text/plain": [
       "0              ville du pont\n",
       "1             villers grelot\n",
       "2        villars les blamont\n",
       "3              les villedieu\n",
       "4              villers buzon\n",
       "                ...         \n",
       "39140                   thio\n",
       "39141                    voh\n",
       "39142                   yate\n",
       "39143                 sigave\n",
       "39144                   uvea\n",
       "Name: label, Length: 39145, dtype: object"
      ]
     },
     "execution_count": 103,
     "metadata": {},
     "output_type": "execute_result"
    }
   ],
   "source": [
    "# colonne\n",
    "dfCitiesFr['label']"
   ]
  },
  {
   "cell_type": "code",
   "execution_count": 104,
   "id": "0ece2415-f2ab-48ec-a86e-dadb7ab3d2bf",
   "metadata": {},
   "outputs": [
    {
     "data": {
      "text/plain": [
       "insee_code                               25615\n",
       "city_code                  villars les blamont\n",
       "zip_code                                 25310\n",
       "label                      villars les blamont\n",
       "latitude                             47.368384\n",
       "longitude                             6.871415\n",
       "department_name                          doubs\n",
       "department_number                           25\n",
       "region_name            bourgogne-franche-comté\n",
       "region_geojson_name    Bourgogne-Franche-Comté\n",
       "Name: 2, dtype: object"
      ]
     },
     "execution_count": 104,
     "metadata": {},
     "output_type": "execute_result"
    }
   ],
   "source": [
    "dfCitiesFr.loc[2]"
   ]
  },
  {
   "cell_type": "code",
   "execution_count": 105,
   "id": "e5ab55af-082c-4c40-9b71-bb4721888071",
   "metadata": {},
   "outputs": [
    {
     "data": {
      "text/plain": [
       "insee_code                               25615\n",
       "city_code                  villars les blamont\n",
       "zip_code                                 25310\n",
       "label                      villars les blamont\n",
       "latitude                             47.368384\n",
       "longitude                             6.871415\n",
       "department_name                          doubs\n",
       "department_number                           25\n",
       "region_name            bourgogne-franche-comté\n",
       "region_geojson_name    Bourgogne-Franche-Comté\n",
       "Name: 2, dtype: object"
      ]
     },
     "execution_count": 105,
     "metadata": {},
     "output_type": "execute_result"
    }
   ],
   "source": [
    "dfCitiesFr.iloc[2]"
   ]
  },
  {
   "cell_type": "code",
   "execution_count": 106,
   "id": "16f5ff88-4901-4e06-b6e5-472220f8ef69",
   "metadata": {},
   "outputs": [
    {
     "data": {
      "text/html": [
       "<div>\n",
       "<style scoped>\n",
       "    .dataframe tbody tr th:only-of-type {\n",
       "        vertical-align: middle;\n",
       "    }\n",
       "\n",
       "    .dataframe tbody tr th {\n",
       "        vertical-align: top;\n",
       "    }\n",
       "\n",
       "    .dataframe thead th {\n",
       "        text-align: right;\n",
       "    }\n",
       "</style>\n",
       "<table border=\"1\" class=\"dataframe\">\n",
       "  <thead>\n",
       "    <tr style=\"text-align: right;\">\n",
       "      <th></th>\n",
       "      <th>insee_code</th>\n",
       "      <th>city_code</th>\n",
       "      <th>zip_code</th>\n",
       "      <th>label</th>\n",
       "      <th>latitude</th>\n",
       "      <th>longitude</th>\n",
       "      <th>department_name</th>\n",
       "      <th>department_number</th>\n",
       "      <th>region_name</th>\n",
       "      <th>region_geojson_name</th>\n",
       "    </tr>\n",
       "  </thead>\n",
       "  <tbody>\n",
       "    <tr>\n",
       "      <th>5528</th>\n",
       "      <td>01004</td>\n",
       "      <td>amberieu en bugey</td>\n",
       "      <td>1500</td>\n",
       "      <td>amberieu en bugey</td>\n",
       "      <td>45.961049</td>\n",
       "      <td>5.372275</td>\n",
       "      <td>ain</td>\n",
       "      <td>01</td>\n",
       "      <td>auvergne-rhône-alpes</td>\n",
       "      <td>Auvergne-Rhône-Alpes</td>\n",
       "    </tr>\n",
       "    <tr>\n",
       "      <th>20381</th>\n",
       "      <td>01005</td>\n",
       "      <td>amberieux en dombes</td>\n",
       "      <td>1330</td>\n",
       "      <td>amberieux en dombes</td>\n",
       "      <td>45.996164</td>\n",
       "      <td>4.911967</td>\n",
       "      <td>ain</td>\n",
       "      <td>01</td>\n",
       "      <td>auvergne-rhône-alpes</td>\n",
       "      <td>Auvergne-Rhône-Alpes</td>\n",
       "    </tr>\n",
       "    <tr>\n",
       "      <th>20382</th>\n",
       "      <td>01006</td>\n",
       "      <td>ambleon</td>\n",
       "      <td>1300</td>\n",
       "      <td>ambleon</td>\n",
       "      <td>45.749886</td>\n",
       "      <td>5.594585</td>\n",
       "      <td>ain</td>\n",
       "      <td>01</td>\n",
       "      <td>auvergne-rhône-alpes</td>\n",
       "      <td>Auvergne-Rhône-Alpes</td>\n",
       "    </tr>\n",
       "    <tr>\n",
       "      <th>4640</th>\n",
       "      <td>01007</td>\n",
       "      <td>ambronay</td>\n",
       "      <td>1500</td>\n",
       "      <td>ambronay</td>\n",
       "      <td>46.005691</td>\n",
       "      <td>5.357749</td>\n",
       "      <td>ain</td>\n",
       "      <td>01</td>\n",
       "      <td>auvergne-rhône-alpes</td>\n",
       "      <td>Auvergne-Rhône-Alpes</td>\n",
       "    </tr>\n",
       "    <tr>\n",
       "      <th>4605</th>\n",
       "      <td>01008</td>\n",
       "      <td>ambutrix</td>\n",
       "      <td>1500</td>\n",
       "      <td>ambutrix</td>\n",
       "      <td>45.936683</td>\n",
       "      <td>5.332447</td>\n",
       "      <td>ain</td>\n",
       "      <td>01</td>\n",
       "      <td>auvergne-rhône-alpes</td>\n",
       "      <td>Auvergne-Rhône-Alpes</td>\n",
       "    </tr>\n",
       "    <tr>\n",
       "      <th>...</th>\n",
       "      <td>...</td>\n",
       "      <td>...</td>\n",
       "      <td>...</td>\n",
       "      <td>...</td>\n",
       "      <td>...</td>\n",
       "      <td>...</td>\n",
       "      <td>...</td>\n",
       "      <td>...</td>\n",
       "      <td>...</td>\n",
       "      <td>...</td>\n",
       "    </tr>\n",
       "    <tr>\n",
       "      <th>39123</th>\n",
       "      <td>98830</td>\n",
       "      <td>touho</td>\n",
       "      <td>98831</td>\n",
       "      <td>touho</td>\n",
       "      <td>NaN</td>\n",
       "      <td>NaN</td>\n",
       "      <td>nouvelle-calédonie</td>\n",
       "      <td>988</td>\n",
       "      <td>nouvelle-calédonie</td>\n",
       "      <td>Nouvelle Calédonie</td>\n",
       "    </tr>\n",
       "    <tr>\n",
       "      <th>39118</th>\n",
       "      <td>98809</td>\n",
       "      <td>l ile des pins</td>\n",
       "      <td>98832</td>\n",
       "      <td>vao</td>\n",
       "      <td>NaN</td>\n",
       "      <td>NaN</td>\n",
       "      <td>nouvelle-calédonie</td>\n",
       "      <td>988</td>\n",
       "      <td>nouvelle-calédonie</td>\n",
       "      <td>Nouvelle Calédonie</td>\n",
       "    </tr>\n",
       "    <tr>\n",
       "      <th>39141</th>\n",
       "      <td>98831</td>\n",
       "      <td>voh</td>\n",
       "      <td>98833</td>\n",
       "      <td>voh</td>\n",
       "      <td>NaN</td>\n",
       "      <td>NaN</td>\n",
       "      <td>nouvelle-calédonie</td>\n",
       "      <td>988</td>\n",
       "      <td>nouvelle-calédonie</td>\n",
       "      <td>Nouvelle Calédonie</td>\n",
       "    </tr>\n",
       "    <tr>\n",
       "      <th>39107</th>\n",
       "      <td>98814</td>\n",
       "      <td>lifou</td>\n",
       "      <td>98820</td>\n",
       "      <td>we</td>\n",
       "      <td>NaN</td>\n",
       "      <td>NaN</td>\n",
       "      <td>nouvelle-calédonie</td>\n",
       "      <td>988</td>\n",
       "      <td>nouvelle-calédonie</td>\n",
       "      <td>Nouvelle Calédonie</td>\n",
       "    </tr>\n",
       "    <tr>\n",
       "      <th>39142</th>\n",
       "      <td>98832</td>\n",
       "      <td>yate</td>\n",
       "      <td>98834</td>\n",
       "      <td>yate</td>\n",
       "      <td>NaN</td>\n",
       "      <td>NaN</td>\n",
       "      <td>nouvelle-calédonie</td>\n",
       "      <td>988</td>\n",
       "      <td>nouvelle-calédonie</td>\n",
       "      <td>Nouvelle Calédonie</td>\n",
       "    </tr>\n",
       "  </tbody>\n",
       "</table>\n",
       "<p>39145 rows × 10 columns</p>\n",
       "</div>"
      ],
      "text/plain": [
       "      insee_code            city_code  zip_code                label  \\\n",
       "5528       01004    amberieu en bugey      1500    amberieu en bugey   \n",
       "20381      01005  amberieux en dombes      1330  amberieux en dombes   \n",
       "20382      01006              ambleon      1300              ambleon   \n",
       "4640       01007             ambronay      1500             ambronay   \n",
       "4605       01008             ambutrix      1500             ambutrix   \n",
       "...          ...                  ...       ...                  ...   \n",
       "39123      98830                touho     98831                touho   \n",
       "39118      98809       l ile des pins     98832                  vao   \n",
       "39141      98831                  voh     98833                  voh   \n",
       "39107      98814                lifou     98820                   we   \n",
       "39142      98832                 yate     98834                 yate   \n",
       "\n",
       "        latitude  longitude     department_name department_number  \\\n",
       "5528   45.961049   5.372275                 ain                01   \n",
       "20381  45.996164   4.911967                 ain                01   \n",
       "20382  45.749886   5.594585                 ain                01   \n",
       "4640   46.005691   5.357749                 ain                01   \n",
       "4605   45.936683   5.332447                 ain                01   \n",
       "...          ...        ...                 ...               ...   \n",
       "39123        NaN        NaN  nouvelle-calédonie               988   \n",
       "39118        NaN        NaN  nouvelle-calédonie               988   \n",
       "39141        NaN        NaN  nouvelle-calédonie               988   \n",
       "39107        NaN        NaN  nouvelle-calédonie               988   \n",
       "39142        NaN        NaN  nouvelle-calédonie               988   \n",
       "\n",
       "                region_name   region_geojson_name  \n",
       "5528   auvergne-rhône-alpes  Auvergne-Rhône-Alpes  \n",
       "20381  auvergne-rhône-alpes  Auvergne-Rhône-Alpes  \n",
       "20382  auvergne-rhône-alpes  Auvergne-Rhône-Alpes  \n",
       "4640   auvergne-rhône-alpes  Auvergne-Rhône-Alpes  \n",
       "4605   auvergne-rhône-alpes  Auvergne-Rhône-Alpes  \n",
       "...                     ...                   ...  \n",
       "39123    nouvelle-calédonie    Nouvelle Calédonie  \n",
       "39118    nouvelle-calédonie    Nouvelle Calédonie  \n",
       "39141    nouvelle-calédonie    Nouvelle Calédonie  \n",
       "39107    nouvelle-calédonie    Nouvelle Calédonie  \n",
       "39142    nouvelle-calédonie    Nouvelle Calédonie  \n",
       "\n",
       "[39145 rows x 10 columns]"
      ]
     },
     "execution_count": 106,
     "metadata": {},
     "output_type": "execute_result"
    }
   ],
   "source": [
    "dfCitiesFrSorted = dfCitiesFr.sort_values(['department_number', 'label'])\n",
    "dfCitiesFrSorted"
   ]
  },
  {
   "cell_type": "code",
   "execution_count": 107,
   "id": "19c3e46b-a484-4386-ad56-3567724c73f4",
   "metadata": {},
   "outputs": [
    {
     "data": {
      "text/plain": [
       "insee_code                               25615\n",
       "city_code                  villars les blamont\n",
       "zip_code                                 25310\n",
       "label                      villars les blamont\n",
       "latitude                             47.368384\n",
       "longitude                             6.871415\n",
       "department_name                          doubs\n",
       "department_number                           25\n",
       "region_name            bourgogne-franche-comté\n",
       "region_geojson_name    Bourgogne-Franche-Comté\n",
       "Name: 2, dtype: object"
      ]
     },
     "execution_count": 107,
     "metadata": {},
     "output_type": "execute_result"
    }
   ],
   "source": [
    "dfCitiesFrSorted.loc[2]"
   ]
  },
  {
   "cell_type": "code",
   "execution_count": 108,
   "id": "339f91b9-a357-4139-a157-fbbf51e08ef9",
   "metadata": {},
   "outputs": [
    {
     "data": {
      "text/plain": [
       "insee_code                            01006\n",
       "city_code                           ambleon\n",
       "zip_code                               1300\n",
       "label                               ambleon\n",
       "latitude                          45.749886\n",
       "longitude                          5.594585\n",
       "department_name                         ain\n",
       "department_number                        01\n",
       "region_name            auvergne-rhône-alpes\n",
       "region_geojson_name    Auvergne-Rhône-Alpes\n",
       "Name: 20382, dtype: object"
      ]
     },
     "execution_count": 108,
     "metadata": {},
     "output_type": "execute_result"
    }
   ],
   "source": [
    "dfCitiesFrSorted.iloc[2]"
   ]
  },
  {
   "cell_type": "code",
   "execution_count": 109,
   "id": "e22e72d1-c55d-4cef-a328-0a66c7db5fe5",
   "metadata": {},
   "outputs": [
    {
     "data": {
      "text/plain": [
       "insee_code                        98613\n",
       "city_code                          uvea\n",
       "zip_code                          98600\n",
       "label                              uvea\n",
       "latitude                     -13.281863\n",
       "longitude                   -176.161928\n",
       "department_name        wallis-et-futuna\n",
       "department_number                   986\n",
       "region_name            wallis-et-futuna\n",
       "region_geojson_name    Wallis-et-Futuna\n",
       "Name: 39144, dtype: object"
      ]
     },
     "execution_count": 109,
     "metadata": {},
     "output_type": "execute_result"
    }
   ],
   "source": [
    "dfCitiesFr.iloc[-1]"
   ]
  },
  {
   "cell_type": "code",
   "execution_count": 110,
   "id": "4c55d449-6512-4f24-a3b6-61df55358e7e",
   "metadata": {},
   "outputs": [
    {
     "data": {
      "text/plain": [
       "insee_code                          98832\n",
       "city_code                            yate\n",
       "zip_code                            98834\n",
       "label                                yate\n",
       "latitude                              NaN\n",
       "longitude                             NaN\n",
       "department_name        nouvelle-calédonie\n",
       "department_number                     988\n",
       "region_name            nouvelle-calédonie\n",
       "region_geojson_name    Nouvelle Calédonie\n",
       "Name: 39142, dtype: object"
      ]
     },
     "execution_count": 110,
     "metadata": {},
     "output_type": "execute_result"
    }
   ],
   "source": [
    "dfCitiesFrSorted.iloc[-1]"
   ]
  },
  {
   "cell_type": "markdown",
   "id": "6896c5c3-339f-40da-8dec-c5a43e695f4e",
   "metadata": {},
   "source": [
    "### ndarray"
   ]
  },
  {
   "cell_type": "code",
   "execution_count": 111,
   "id": "da55ffcd-9ce5-4780-96f8-a2fc718a9384",
   "metadata": {},
   "outputs": [
    {
     "data": {
      "text/plain": [
       "<BarContainer object of 1000 artists>"
      ]
     },
     "execution_count": 111,
     "metadata": {},
     "output_type": "execute_result"
    },
    {
     "data": {
      "image/png": "[encoded data removed]",
      "text/plain": [
       "<Figure size 640x480 with 1 Axes>"
      ]
     },
     "metadata": {},
     "output_type": "display_data"
    }
   ],
   "source": [
    "_,_,g = plt.hist(data, bins=1000)\n",
    "g"
   ]
  },
  {
   "cell_type": "markdown",
   "id": "2538968b-f710-4c53-aef5-cee7da9099b1",
   "metadata": {},
   "source": [
    "### Slices"
   ]
  },
  {
   "cell_type": "code",
   "execution_count": 125,
   "id": "3dd3ddf1-cc55-42a1-8543-c0421b2f5203",
   "metadata": {},
   "outputs": [
    {
     "name": "stdout",
     "output_type": "stream",
     "text": [
      "Tou\n",
      "Tou\n"
     ]
    }
   ],
   "source": [
    "# 3 premières lettres\n",
    "print(city[0:3])\n",
    "print(city[:3])"
   ]
  },
  {
   "cell_type": "code",
   "execution_count": 128,
   "id": "5cf40ce8-e8a3-4b2f-b115-5a4350f4df93",
   "metadata": {},
   "outputs": [
    {
     "name": "stdout",
     "output_type": "stream",
     "text": [
      "lou\n",
      "se\n",
      "Toulouse\n"
     ]
    }
   ],
   "source": [
    "# autres slices\n",
    "print(city[3:6])\n",
    "print(city[6:])\n",
    "print(city[:])"
   ]
  },
  {
   "cell_type": "code",
   "execution_count": 129,
   "id": "05864abf-aba3-4556-ae92-75e13991c0cd",
   "metadata": {},
   "outputs": [
    {
     "data": {
      "text/plain": [
       "'use'"
      ]
     },
     "execution_count": 129,
     "metadata": {},
     "output_type": "execute_result"
    }
   ],
   "source": [
    "# 3 dernières lettres\n",
    "city[-3:]"
   ]
  },
  {
   "cell_type": "code",
   "execution_count": 130,
   "id": "14713cfb-e6d9-4c81-a553-4d2aa8031966",
   "metadata": {},
   "outputs": [
    {
     "data": {
      "text/plain": [
       "'esuoluoT'"
      ]
     },
     "execution_count": 130,
     "metadata": {},
     "output_type": "execute_result"
    }
   ],
   "source": [
    "# mot à l'envers\n",
    "city[::-1]"
   ]
  },
  {
   "cell_type": "markdown",
   "id": "6796169c-b80c-477e-9483-248c66a38775",
   "metadata": {},
   "source": [
    "### ndarray from numpy"
   ]
  },
  {
   "cell_type": "code",
   "execution_count": 131,
   "id": "a91fe527-4497-47eb-874c-bd5872d3fdc5",
   "metadata": {},
   "outputs": [
    {
     "data": {
      "text/plain": [
       "array([ 7.59000516,  8.65398846,  5.88961687, ...,  5.65367248,\n",
       "        6.84730724, 13.13523556])"
      ]
     },
     "execution_count": 131,
     "metadata": {},
     "output_type": "execute_result"
    }
   ],
   "source": [
    "data"
   ]
  },
  {
   "cell_type": "code",
   "execution_count": 132,
   "id": "4da655c9-fa48-47e8-9206-bcaf60d4e13a",
   "metadata": {},
   "outputs": [
    {
     "data": {
      "text/plain": [
       "numpy.ndarray"
      ]
     },
     "execution_count": 132,
     "metadata": {},
     "output_type": "execute_result"
    }
   ],
   "source": [
    "type(data)"
   ]
  },
  {
   "cell_type": "code",
   "execution_count": 133,
   "id": "3f92763d-e703-4a2d-9215-9a04f1aa87ab",
   "metadata": {},
   "outputs": [
    {
     "data": {
      "text/plain": [
       "array([ 7.59000516,  8.65398846,  5.88961687, 10.34751502,  8.23757392,\n",
       "        8.12797394,  9.6508103 , 11.38337211,  8.11377451,  5.38620603,\n",
       "       10.9188959 , 13.82944664,  9.73177591,  5.65801666, 10.12819926,\n",
       "        8.7888822 ,  7.64845407,  9.56355555,  4.06621481,  9.86050525])"
      ]
     },
     "execution_count": 133,
     "metadata": {},
     "output_type": "execute_result"
    }
   ],
   "source": [
    "data[:20]"
   ]
  },
  {
   "cell_type": "code",
   "execution_count": 134,
   "id": "b2cb5520-546f-4ebc-a5d5-7ce48b201b64",
   "metadata": {},
   "outputs": [],
   "source": [
    "# prendre un échantillon tous les 10 valeurs et tracer l'histogramme"
   ]
  },
  {
   "cell_type": "code",
   "execution_count": 135,
   "id": "d36d4a77-6705-4884-a9ca-70c372536b75",
   "metadata": {},
   "outputs": [
    {
     "name": "stdout",
     "output_type": "stream",
     "text": [
      "100000\n",
      "(100000,)\n"
     ]
    }
   ],
   "source": [
    "echantillon = data[::10]\n",
    "print(len(echantillon))\n",
    "print(echantillon.shape)"
   ]
  },
  {
   "cell_type": "code",
   "execution_count": 137,
   "id": "6ef51db3-d8d3-461d-a38f-f8554a6230af",
   "metadata": {},
   "outputs": [
    {
     "data": {
      "image/png": "[encoded data removed]",
      "text/plain": [
       "<Figure size 640x480 with 1 Axes>"
      ]
     },
     "metadata": {},
     "output_type": "display_data"
    }
   ],
   "source": [
    "_ = plt.hist(echantillon, bins=300)"
   ]
  },
  {
   "cell_type": "code",
   "execution_count": 139,
   "id": "5bf25f80-3f86-43ec-8d68-7357cb1f8c96",
   "metadata": {},
   "outputs": [
    {
     "data": {
      "text/plain": [
       "  C_CONTIGUOUS : False\n",
       "  F_CONTIGUOUS : False\n",
       "  OWNDATA : False\n",
       "  WRITEABLE : True\n",
       "  ALIGNED : True\n",
       "  WRITEBACKIFCOPY : False"
      ]
     },
     "execution_count": 139,
     "metadata": {},
     "output_type": "execute_result"
    }
   ],
   "source": [
    "echantillon.flags # echantillon n'est pas une copie, c'est une vue"
   ]
  },
  {
   "cell_type": "code",
   "execution_count": 141,
   "id": "85a1f24f-b8f1-4c38-8cb7-d558040468f9",
   "metadata": {},
   "outputs": [
    {
     "data": {
      "text/plain": [
       "array([ 7.59000516,  9.9       , 12.38210241, ...,  5.34686472,\n",
       "        5.24720897,  9.98029069])"
      ]
     },
     "execution_count": 141,
     "metadata": {},
     "output_type": "execute_result"
    }
   ],
   "source": [
    "echantillon[1] = 9.9\n",
    "echantillon"
   ]
  },
  {
   "cell_type": "code",
   "execution_count": 142,
   "id": "b0e4fff5-9be0-4690-810c-5d51d429b732",
   "metadata": {},
   "outputs": [
    {
     "data": {
      "text/plain": [
       "array([ 7.59000516,  8.65398846,  5.88961687, 10.34751502,  8.23757392,\n",
       "        8.12797394,  9.6508103 , 11.38337211,  8.11377451,  5.38620603,\n",
       "        9.9       ])"
      ]
     },
     "execution_count": 142,
     "metadata": {},
     "output_type": "execute_result"
    }
   ],
   "source": [
    "data[:11]"
   ]
  },
  {
   "cell_type": "code",
   "execution_count": 144,
   "id": "72ca3364-74ee-4478-8d82-498026b0f422",
   "metadata": {},
   "outputs": [
    {
     "name": "stdout",
     "output_type": "stream",
     "text": [
      "(1000, 1000)\n",
      "  C_CONTIGUOUS : True\n",
      "  F_CONTIGUOUS : False\n",
      "  OWNDATA : False\n",
      "  WRITEABLE : True\n",
      "  ALIGNED : True\n",
      "  WRITEBACKIFCOPY : False\n",
      "\n"
     ]
    }
   ],
   "source": [
    "data2d = data.reshape((1000,1000))\n",
    "print(data2d.shape)\n",
    "print(data2d.flags)"
   ]
  },
  {
   "cell_type": "code",
   "execution_count": 145,
   "id": "3e76e951-d9b3-400e-acc2-6f719165d76e",
   "metadata": {},
   "outputs": [
    {
     "data": {
      "text/plain": [
       "4.098208336139707"
      ]
     },
     "execution_count": 145,
     "metadata": {},
     "output_type": "execute_result"
    }
   ],
   "source": [
    "data2d[3,4]"
   ]
  },
  {
   "cell_type": "code",
   "execution_count": 148,
   "id": "0b0e4d9f-a826-4a0a-a84d-ec56f04115ed",
   "metadata": {},
   "outputs": [],
   "source": [
    "assert data2d[3,4] == data2d[3][4]"
   ]
  },
  {
   "cell_type": "code",
   "execution_count": 150,
   "id": "3a87d764-1b51-4323-b950-08a544b37a44",
   "metadata": {
    "collapsed": true,
    "jupyter": {
     "outputs_hidden": true
    },
    "tags": []
   },
   "outputs": [
    {
     "data": {
      "text/plain": [
       "array([ 7.64526407,  8.71269688,  6.78012881, 12.15504753,  4.09820834,\n",
       "       12.25699597, 10.73416028, 11.50068381,  8.10874651,  7.55482324,\n",
       "       11.1091981 ,  9.02642582, 10.41151859, 10.6925263 ,  8.420619  ,\n",
       "        9.95649353, 10.86091533,  8.52806377,  8.84518386,  9.12629719,\n",
       "        8.44561239,  2.49427489,  8.75843214,  5.8948912 , 16.17729859,\n",
       "       13.97796177, 13.49183428, 14.89601138,  9.55453366,  5.16596488,\n",
       "       10.79338998, 10.51152974,  7.9786027 ,  5.79051405,  9.01430376,\n",
       "        8.46953888, 11.01164322,  9.49599575, 11.93072979, 14.56418953,\n",
       "       10.85052479,  7.16884889, 11.30930365, 10.35429784,  7.7928999 ,\n",
       "        8.62022071,  9.75063422,  6.06353623, 12.69163161,  7.47571464,\n",
       "        9.03098659, 12.5143702 , 12.43785109,  4.79792705,  6.86093557,\n",
       "       12.42646199,  8.5223821 ,  4.71112989,  5.42515383, 10.70667521,\n",
       "       11.4839479 ,  6.15248549, 15.0243717 ,  5.92294396, 13.15593071,\n",
       "       12.43916737, 10.27209665,  7.46591695, 10.86425605, 11.82912309,\n",
       "        6.55671037,  6.77179649,  8.53033421, 10.49283333, 11.93023399,\n",
       "       12.53738733,  7.50852952,  7.39298207, 17.02813241, 11.26136894,\n",
       "       10.98777323, 12.1504481 , 10.23587784, 10.56769131,  7.89909064,\n",
       "       11.06510329,  7.13769837,  9.68397038,  9.34374173,  7.86762636,\n",
       "        6.60012807, 12.15620725,  8.32766232, 11.3235706 ,  9.74101601,\n",
       "        9.4696968 ,  7.19652917, 10.11274408,  2.79438772, 16.30078517,\n",
       "        6.26287311,  8.41036073, 11.10327669,  8.5903051 ,  7.45205862,\n",
       "        8.55675918, 10.52788298,  5.3105032 ,  7.28497817,  9.5870331 ,\n",
       "       11.91613038,  5.79583755, 16.42060479,  9.19470599, 12.92690031,\n",
       "        8.91371355,  9.94589414, 11.12895452,  7.95915856, 11.19978243,\n",
       "        9.35048572,  8.55650942, 10.36043994, 11.79367799, 11.11083531,\n",
       "       13.96603246,  8.29295799,  9.37099565, 10.15794919, 13.14260806,\n",
       "       10.22777048, 18.04011192,  5.0763574 , 13.15138909,  8.20359654,\n",
       "        8.64994392, 17.33537214, 12.48546736,  8.31864116, 13.7168278 ,\n",
       "        8.83175941, 10.90201516,  8.18410325,  8.38161399, 10.03124073,\n",
       "        5.97226565, 12.5876925 ,  9.83664126,  8.59917885,  8.44696728,\n",
       "       13.60557865, 12.64219309,  4.02880958,  7.13682257, 10.80247321,\n",
       "        9.23996615, 10.7525453 , 12.98601953,  7.83118628,  8.44718802,\n",
       "       14.96419115, 12.53044894, 12.86324099,  8.69197526, 19.2977663 ,\n",
       "        8.30153602, 18.49184955,  8.02367558,  9.94969359,  7.89589673,\n",
       "       10.95041142, 12.10023072, 13.333853  , 11.36723427,  1.87249804,\n",
       "       10.06737319,  6.42699613,  7.95785446, 12.71687312, 12.08139335,\n",
       "        9.14835658, 12.52216195, 11.62488304,  3.47440618,  8.47870417,\n",
       "        5.67196293,  7.18968269, 12.49435943,  9.9424785 , 11.60332466,\n",
       "        9.76198518,  9.27447065, 10.05193223, 12.01086224, 13.49476699,\n",
       "        9.91462929,  6.11599661, 10.33217602, 12.19512089, 12.69696046,\n",
       "        5.45474068, 12.26057085,  4.20135923, 13.76277277,  9.29604717,\n",
       "       12.16303653,  7.23607871,  8.88774159,  8.22292778,  7.79681186,\n",
       "       12.87364883,  6.03065143,  8.72697335,  9.20231359,  6.36908843,\n",
       "       11.16629867, 14.04969874, 10.23202725,  8.12221947,  9.93413919,\n",
       "       14.38682269, 10.86354746, 11.26976841, 12.13594379,  7.13153227,\n",
       "        5.26732505, 14.92187911, 10.89055617,  6.72254991,  8.02558807,\n",
       "        9.66035858, 12.00564173, 10.58774001, 13.54035572, 10.12383176,\n",
       "        4.69563574, 15.33080941, 12.93837863,  9.35771416,  7.42493142,\n",
       "       12.27096976,  9.88729924,  6.76329461,  9.71985217, 11.96608079,\n",
       "       10.44232195, 13.36802716, 13.32602889,  9.07584066, 15.07623337,\n",
       "       10.46496127,  5.67646466, 12.19568692, 12.46895965, 10.07065491,\n",
       "       11.02674122,  5.7309339 ,  9.90155324, 12.97315365, 10.12572244,\n",
       "       15.97348318, 12.33850884, 11.38879443,  9.00689695, 11.15617757,\n",
       "       14.9011671 , 13.44139774,  6.54346704, 12.00271978, 10.50019707,\n",
       "        9.81007841,  5.83933295, 10.57044958, 10.3249651 , 11.73051445,\n",
       "        5.35937521,  9.75938296, 10.01922948,  9.13746025, 11.99607074,\n",
       "       11.41424976,  6.46530712,  7.79703679,  8.59116455, 13.43404023,\n",
       "       11.71036643,  4.90037337,  7.87083205,  6.81293594,  7.63757608,\n",
       "       11.37751027,  5.65041555, 12.13846509, 11.58288167, 10.7504395 ,\n",
       "        4.40730044, 13.34181653, 10.52342201,  6.49700817, 13.66411787,\n",
       "       12.77117809, 11.32267556,  8.30232413, 11.17819049, 12.32685742,\n",
       "       12.73630818, 10.77564976,  9.93792067, 12.82419894, 13.25398569,\n",
       "        7.9951095 , 17.2239091 ,  9.55990398,  9.23053032, 16.06407673,\n",
       "        8.46885845, 14.29323896,  8.91686007, 10.09958877, 11.96394767,\n",
       "       10.43675331,  5.69614001,  4.9753279 , 11.42486078, 10.32646196,\n",
       "        6.38611619, 12.85916761, 13.01297483,  8.71468404,  9.5578299 ,\n",
       "        8.17012077,  5.87263475, 11.29188682, 12.63076619, 12.23085595,\n",
       "        6.44637207,  9.99573995, 10.31259098, 15.61741749, 13.80591672,\n",
       "        8.54906104,  9.43182094,  8.25349286, 11.17650838,  5.42496609,\n",
       "        6.74086804,  6.13869637, 11.59793162,  9.08034377, 13.61473123,\n",
       "       13.6933986 , 14.06613166, 12.30195614,  9.20529307, 10.68766367,\n",
       "       12.23736186,  7.7357629 , 10.02799231, 12.59022408,  9.38656071,\n",
       "       14.72880267, 10.29614247, 10.45892811,  8.44645375, 11.12730674,\n",
       "       10.09292313, 12.43702991, 10.10411342, 13.16257738, 16.71981347,\n",
       "       14.11665766, 10.84931568, 10.69050223, 13.29561726, 11.57288739,\n",
       "       13.7653151 , 11.10185228, 16.59794446, 11.94217365,  5.35845421,\n",
       "        8.45955645,  7.17975167,  9.85028918, 14.9098319 ,  7.61386219,\n",
       "       12.22948239, 11.48681477, 14.53781011,  7.07382258,  9.40145136,\n",
       "        6.37917597, 12.44319827, 12.03009937,  6.3398    , 16.73608063,\n",
       "       16.13751726, 14.70951424, 15.05132236,  9.17838593, 12.20397484,\n",
       "        7.98803701, 11.32499733, 13.36083512,  8.51320555,  8.03338432,\n",
       "        8.47792266,  7.39860883, 13.7202908 , 11.70377353, 10.74423025,\n",
       "       13.45509993,  8.5259684 , 10.28083942, 14.65384165,  9.42923585,\n",
       "        6.14200991, 13.09479236,  2.38263953, 12.69795424, 16.81788737,\n",
       "       12.16234354,  8.52984581,  7.58439925, 14.44975795, 12.48288081,\n",
       "       10.74168174,  5.05578279, 15.92153001, 19.24994528, 10.39388722,\n",
       "       11.33286178,  9.87628924,  8.51169725, 10.79667289,  3.879113  ,\n",
       "       11.91451963,  9.98554477,  7.86495759, 13.50086552, 11.76607006,\n",
       "       14.76485336,  4.61778095,  7.34384064, 10.39376073, 12.04304896,\n",
       "       17.28943056, 11.54579791,  4.78883692,  3.49553645, 11.599561  ,\n",
       "       15.27344139,  7.29412519,  8.40962747,  9.67288861,  7.41501067,\n",
       "        2.16348482,  3.48537381,  7.18213153,  8.61287807,  3.94299266,\n",
       "        8.65768371, 11.64152771, 11.73317145, 13.7899554 ,  6.45171613,\n",
       "        7.95781243,  9.9556918 , 13.77314459, 12.7516077 , 12.68152227,\n",
       "        6.48928462,  4.38049458, 12.38553907, 13.55871764,  8.79393524,\n",
       "        7.37261154, 14.59876532,  6.91715465, 17.67855795,  9.78860379,\n",
       "       10.70955597,  7.12412613,  9.08554068, 13.85263052,  7.68289985,\n",
       "       15.07563461,  9.6164808 ,  7.67578897, 11.87296739,  7.8565023 ,\n",
       "       10.00390701, 10.28438769, 15.19579098,  7.60747742,  7.76325959,\n",
       "        5.32877932, 12.10267367, 10.49168985, 16.71653836, 10.97187696,\n",
       "       10.18391671,  8.03140316,  6.74940731, 10.13776846, 12.4853149 ,\n",
       "       15.237117  , 10.23795134,  9.38183893,  5.14412625,  9.46824814,\n",
       "       10.85137927, 13.1769331 , 12.13916269,  8.97579924, 12.95568119,\n",
       "       15.25151629, 15.65738434,  7.31141749, 14.876408  , 10.58649014,\n",
       "       13.15551778, 11.87662   ,  7.42640678,  7.91914537, 12.28680035,\n",
       "       10.95768048,  9.98775087, 10.10242306, 15.26995174, 10.10313658,\n",
       "       11.35418339,  8.16742657, 10.89358662,  5.2865825 , 12.52191801,\n",
       "        6.1161671 , 12.57338402, 14.32298556, 11.89553951, 11.91260455,\n",
       "       10.80366455, 11.52976581,  6.98123023, 10.08206977,  6.06508893,\n",
       "       10.14962586, 10.99335729,  8.11578219,  9.32600392, 10.10877104,\n",
       "       12.85307169, 10.96605917,  5.60562982,  7.26923967,  6.8322474 ,\n",
       "       10.80148489,  7.25488376, 10.0131772 ,  9.63208564, 14.15402322,\n",
       "        7.9280679 , 13.41782092, 11.71152949,  4.56722726,  5.50106986,\n",
       "        7.18377982,  7.33635082,  6.20455229,  8.8140989 ,  6.95284074,\n",
       "       11.96530181, 11.33366056,  9.76035525,  9.67965347,  9.14800939,\n",
       "       13.74090943,  7.94995875, 11.35757017, 11.3770637 , 10.64742412,\n",
       "       11.3238874 ,  7.01880316, 11.9545535 ,  9.18453092,  9.59524318,\n",
       "        7.05110772, 10.88336223,  7.53471644,  9.8199053 ,  7.23782758,\n",
       "       12.99502626, 11.42412131, 13.32280319,  9.84065699,  7.44435398,\n",
       "        7.76915399, 12.70471602,  8.46809593, 10.09751521,  8.81897665,\n",
       "       12.71662981,  7.97747602,  9.71784902, 13.62194716,  8.57681713,\n",
       "       12.356808  ,  7.99071316, 10.7663972 , 10.50025874,  8.91430914,\n",
       "       10.64746852, 12.41006238,  8.06786062, 10.51635099, 10.80309413,\n",
       "        8.60173618, 12.10114627,  8.19808078,  5.34950825, 11.25467554,\n",
       "       13.21955279,  9.70633444, 10.05750127, 16.83716624,  8.26928625,\n",
       "       11.45300443, 15.20184432, 14.13977721,  2.69593605, 16.02473323,\n",
       "        5.54744864, 16.93664877, 13.24207132,  4.93037786, 11.12092716,\n",
       "       12.19754268,  4.79019943,  7.32607798, 11.14450892, 14.59749224,\n",
       "        8.8067833 , 13.25718917, 18.05904711, 11.49409777, 10.60040408,\n",
       "        9.20576625,  6.92003035, 10.89000752, 12.59294122, 13.29997934,\n",
       "        5.64151766, 12.95543293,  6.11221352,  8.80517993, 13.61660999,\n",
       "       11.40656761,  9.73956671, 10.60801353,  8.51366693,  8.09935272,\n",
       "       14.10609604,  3.88931639, 10.51806   , 11.00941367, 10.37564297,\n",
       "       13.97473042,  8.92299517,  9.41333394, 12.60799464,  7.84709009,\n",
       "        7.49992649, 13.41923583, 12.52515798,  6.83329761,  5.5727656 ,\n",
       "       11.24601907,  7.67051167,  6.30455613, 10.65249096,  9.22489591,\n",
       "        8.82485038,  8.98083616,  9.11342339,  8.55727052,  9.27803448,\n",
       "       11.44965296, 11.74668044, 10.04330046,  9.78863049, 10.15494672,\n",
       "       11.052023  , 15.05499201,  7.65000886, 11.84602557,  4.68464353,\n",
       "        5.77163205, 14.30987446,  9.27416083, 10.96351816, 16.04299661,\n",
       "        8.8162258 ,  6.81547661, 10.57258898, 12.47558322, 10.15106098,\n",
       "       14.13053509, 11.20196653,  9.62163339, 13.3463625 ,  7.29591683,\n",
       "       11.26484818, 10.11813857,  8.22663932,  8.61418918,  8.65828571,\n",
       "       11.65181225,  8.53857564,  8.50365716,  8.73747321, 15.62690507,\n",
       "       10.77286607,  8.50740476, 15.40006722,  9.34833417,  8.89068628,\n",
       "        8.21880545, 11.86713112, 14.13817736,  6.24057053,  9.79070918,\n",
       "       14.72101658,  6.69425429,  4.72842409, 10.4748884 , 11.29563468,\n",
       "        9.21113928,  8.51723793,  8.33150314, 11.0426889 , 12.04891969,\n",
       "        8.67013002, 11.06759225, 15.0496558 ,  9.1524284 ,  4.83481061,\n",
       "        8.18953782, 10.6949429 ,  7.32675511,  5.38243977, 11.44671743,\n",
       "        7.1812483 ,  5.75780074,  7.58808532, 13.89105484,  9.34034371,\n",
       "        9.00726106,  9.91080682, 13.3267428 ,  9.29829039,  9.91469421,\n",
       "        8.87140682,  8.62189752,  8.54771713, 14.57055085, 10.06562448,\n",
       "       11.58758921,  9.70846177, 12.16346428, 10.75148975, 10.70988832,\n",
       "        2.14705274,  8.02239981,  9.39433207,  9.32883292, 13.41931818,\n",
       "       13.25538681,  8.58244775, 10.2049024 , 10.56643891,  3.72917044,\n",
       "        7.24525776,  7.4093401 , 13.75270175,  9.23708469,  5.9304744 ,\n",
       "        6.80464597,  8.0051681 ,  5.26782857,  9.75166148,  9.49459106,\n",
       "       12.33960147,  6.84672156,  9.50705624,  8.85092059, 14.3792438 ,\n",
       "        9.40286361,  8.96561792, 12.70840345, 14.10948162,  6.46077026,\n",
       "       13.06666332,  9.95395466,  8.28981621, 13.04334625, 12.81045918,\n",
       "        8.04572492,  7.42220476, 19.52591546,  6.31024799,  9.11717807,\n",
       "        6.70401057, 12.99979439,  9.88814304,  5.63594627,  8.75766967,\n",
       "        9.7638206 , 10.73021955, 14.35932044,  7.95541923, 10.7997743 ,\n",
       "        8.39154752, 11.54321623, 14.35814006, 12.68415285,  8.95311702,\n",
       "        9.02274615, 11.38963118,  8.94388616,  5.11912579,  3.55771805,\n",
       "        9.88861281,  7.75409889, 10.26935396, 10.2798837 , 10.39769372,\n",
       "        9.02356521, 10.39519876, 14.38079173, 11.16901847, 16.61786254,\n",
       "       13.51773575,  9.55533906,  7.17554354, 13.25052089, 13.80087059,\n",
       "       11.96554134,  7.35850419, 11.00037691, 11.99925724, 11.69749386,\n",
       "        8.46850314, 12.61648782,  8.91090672, 13.40178858, 11.15435204,\n",
       "       15.00362286,  8.22117528, 11.76427311, 10.99861592,  6.12890704,\n",
       "       11.22367627, 11.37388435, 11.5017407 ,  9.24205174,  9.11911841,\n",
       "        9.04442316, 12.80277027, 10.4429348 ,  3.43438513, 12.88084178,\n",
       "        9.32021352,  8.15275448,  6.22648015,  5.04320712, 11.43283099,\n",
       "       10.14869682,  4.92455363, 10.88201493, 10.52406023,  9.48480138,\n",
       "        6.91006191,  8.58052738,  8.83066609, 11.54563228,  7.70472426,\n",
       "       10.1522492 ,  9.50327955,  5.64531215,  8.70727771, 10.37043944,\n",
       "        4.8702685 , 11.33528977, 11.24270397,  7.36466395, 14.62889896,\n",
       "        9.74907294,  8.32847036, 10.6173777 ,  9.72406018, 11.56182487,\n",
       "       14.78439866, 13.92497783,  7.0142054 , 15.41432455,  4.86090989,\n",
       "        6.00824154, 12.98061507,  4.79604618, 12.67621321,  7.2791706 ,\n",
       "        7.5558792 ,  7.31712355, 12.09329634, 10.26115101, 10.7483406 ,\n",
       "       10.42754633, 10.32462975, 17.07615426, 13.03134433,  9.40592646,\n",
       "        7.91009184, 13.29814822, 17.21744709,  8.09755865, 13.73413453,\n",
       "       18.06308486, 11.50660155, 14.59206493, 13.08472798,  4.70872762,\n",
       "        9.06268674, 10.54672064, 14.80285243, 10.37850855,  7.99715058,\n",
       "        7.41832815,  7.76127082,  1.93556747,  9.61331081, 13.27805473,\n",
       "       12.07890114, 10.57162598, 12.3030565 , 11.5181813 , 15.1993412 ,\n",
       "       11.68754578,  8.31760829,  7.67216531, 11.63117296,  6.4233226 ,\n",
       "       11.91519647, -0.81453175,  9.36477514,  7.20157492, 11.55056057,\n",
       "        9.32638636,  8.60786871, 10.67766837,  8.43988441, 11.71760878,\n",
       "       10.83318723,  8.96452111, 10.86367229,  7.0657502 ,  9.48163596,\n",
       "       11.73513789, 15.8356469 ,  5.70196182, 12.68844976, 12.12462381,\n",
       "       12.71892526, 10.67194118, 13.87523389,  8.47496697, 13.15834293,\n",
       "       10.05728601, 12.87316972, 11.65566476,  5.97964886, 11.22210248,\n",
       "       14.87978204,  8.72384343, 11.96778812, 14.16035132, 10.79342428,\n",
       "        9.43382296, 13.23687592,  9.04619378,  8.79689989,  7.09667055,\n",
       "        6.08850528, 10.16936517, 10.31741265, 12.35061716,  8.77028647,\n",
       "       10.67536253, 10.38851758,  7.77834035, 13.20431704,  6.54794129])"
      ]
     },
     "execution_count": 150,
     "metadata": {},
     "output_type": "execute_result"
    }
   ],
   "source": [
    "# row #3\n",
    "data2d[3]"
   ]
  },
  {
   "cell_type": "code",
   "execution_count": 151,
   "id": "2fb1c810-03f8-453e-ba7d-35086a45a54a",
   "metadata": {
    "collapsed": true,
    "jupyter": {
     "outputs_hidden": true
    },
    "tags": []
   },
   "outputs": [
    {
     "data": {
      "text/plain": [
       "array([10.34751502, 12.59790077, 10.04297043, 12.15504753, 11.84682361,\n",
       "       11.30445768, 16.0644186 ,  8.53483531,  9.88911591, 15.37802983,\n",
       "       11.24439964, 14.86121807, 11.10906084, 11.02798683, 11.69849423,\n",
       "       15.11578734, 11.94296673,  6.03792492, 11.79351481, 10.17342702,\n",
       "       11.03662964,  9.15566445, 10.21323737, 11.50633583,  7.64461619,\n",
       "        6.88323562, 12.50213927,  9.48066394, 14.49495977, 12.50349876,\n",
       "        5.65356097, 10.85652755, 12.84365362, 13.26350059, 10.96628817,\n",
       "       11.10540228, 10.24099189,  5.82407385, 10.43719513,  6.07912904,\n",
       "       15.01594539, 10.07278538,  7.01897085, 12.14856137, 10.90026687,\n",
       "       15.81245147,  4.34839655, 15.92355086,  9.41354402, 10.13161525,\n",
       "       11.65102867,  9.25045794, 10.22715602,  9.00811809,  6.0817025 ,\n",
       "       10.70691855,  8.79484414, 12.58421633, 12.9042207 ,  6.27025579,\n",
       "        7.44390871,  9.90704656,  8.91858254, 12.41020228, 10.12168923,\n",
       "        7.56434838,  5.24103371,  4.21545853,  7.28452194, 12.17361735,\n",
       "        5.78721013, 13.4204785 , 11.61870222, 12.96381515, 11.84707268,\n",
       "        8.71406676,  6.03888953,  8.08413595,  5.0443102 , 11.19633449,\n",
       "       11.74211198, 12.97659067,  8.89460202, 13.09931906,  9.53194071,\n",
       "       13.11836646, 12.57164908,  6.86373967, 12.60261604, 14.86994389,\n",
       "        8.36066841, 15.71457087, 10.62339468,  9.14081035,  9.95023835,\n",
       "        2.261828  , 11.36421407, 10.86049975, 11.31465225, 13.17303905,\n",
       "        8.38403181,  6.93335003, 14.80817624,  7.34409078, 14.55527127,\n",
       "        5.93001965, 11.47289359,  9.75621617,  7.8489297 ,  8.53760727,\n",
       "        7.05374928, 11.28017813, 12.20053856,  6.20543863, 12.70372307,\n",
       "       11.88789403, 13.8071143 , 12.28935455,  4.70360495,  8.6527803 ,\n",
       "       10.21841383, 13.63340045, 13.17112921,  7.64547665,  9.50196809,\n",
       "       13.29394181,  9.66750611,  4.3909087 ,  9.96637466,  7.60929624,\n",
       "        5.986431  ,  9.76264336,  8.00585117,  4.87542521, 10.47054096,\n",
       "       14.13775668,  9.83844552, 11.31897417, 12.03924725, 10.29865314,\n",
       "       14.17635466, 10.50991626, 11.71560274, 14.17574431,  8.40964087,\n",
       "       13.23173747, 13.8951429 ,  8.19964543, 10.85195735, 11.27132689,\n",
       "       11.6670377 ,  8.45841534, 10.36934244,  6.0949267 , 10.29781409,\n",
       "       13.82818017, 10.8476074 , 14.2001533 ,  5.89976007, 13.04859568,\n",
       "       12.59260649,  7.04999264, 14.77666123,  6.25503173, 10.18772023,\n",
       "       10.05134022,  8.40988944,  4.46909536, 10.68157328,  9.65189357,\n",
       "        8.34561749, 12.52585863,  7.33143102,  8.55933935, 13.34938808,\n",
       "       12.58665067, 11.10645308,  8.6149226 , 10.30311173, 15.52343601,\n",
       "       12.7498999 ,  6.61439805, 12.0535961 ,  8.44580681,  7.14045614,\n",
       "       12.65345772, 10.22841944, 14.58969457, 14.45374294, 13.37630501,\n",
       "        9.74036305, 17.40087764, 15.22774991,  9.67022299,  2.34929169,\n",
       "       10.48004553,  8.61909512, 12.26482027, 16.15238588,  6.45288721,\n",
       "        8.85128236, 13.16181399,  8.22539616, 11.91187596,  3.87214294,\n",
       "        2.335287  ,  9.68831919,  5.04366695,  9.72806308, 13.05491745,\n",
       "       11.08464104,  6.98234568,  9.44050093,  9.88918465, 18.0533166 ,\n",
       "       10.14778227,  8.30482273, 15.33221725, 14.61381003,  7.75207413,\n",
       "        6.89505041, 11.57255125, 11.90788462, 11.0698741 , 11.9136371 ,\n",
       "        6.67910451, 13.1176081 , 10.67000121,  9.75587611, 12.34195775,\n",
       "       11.54627074,  8.99065072, 12.8250466 , 16.17852667, 13.17882413,\n",
       "        9.85758131,  8.3388716 ,  8.20422297,  7.8740376 ,  9.32449855,\n",
       "       14.149961  ,  9.6702497 ,  7.22059962,  9.12028163,  8.96668082,\n",
       "       11.41411636, 10.12105377, 17.92682232,  4.6921578 , 10.59099574,\n",
       "       12.29869778,  9.73767012,  7.68814705, 11.4309381 ,  6.94577359,\n",
       "       11.94866234,  2.04817183, 11.81655784,  9.53239487, 11.7262385 ,\n",
       "       11.65880768,  9.32299031, 12.50788112,  6.26950165,  7.39508922,\n",
       "       10.5703357 ,  8.53062799,  8.64366085,  7.54992113,  4.25941577,\n",
       "       11.8064567 ,  4.69839546, 13.86673592, 10.90117926,  6.10689862,\n",
       "        7.47981691,  8.43766004,  9.9152166 ,  6.29103933,  5.0698609 ,\n",
       "       12.35585151,  6.66405476,  6.50403801,  6.35329688,  9.34111441,\n",
       "       12.7938043 , 13.92242158, 15.71648517,  7.59269572,  8.93285532,\n",
       "       10.01903262,  5.08615785, 11.17180652, 12.16352249,  9.58119358,\n",
       "       14.4966003 ,  3.40923261,  8.94141224,  7.97468975, 14.59041505,\n",
       "        7.2709919 ,  7.76909757,  8.58764497, 12.93666323, 14.24149714,\n",
       "       12.18145541, 11.33928613, 16.24064568, 12.12147328, 10.42474986,\n",
       "        4.98350377,  4.24369318,  9.09685738,  8.19492088,  8.65321067,\n",
       "       11.2565134 , 12.90464088, 12.68749472,  6.96358668, 10.0377803 ,\n",
       "       11.44256513, 12.04722433, 12.41119855,  7.8826906 ,  7.67720536,\n",
       "       13.98622303, 11.89370133,  9.70965454, 13.65507318,  7.89983122,\n",
       "       10.77254115,  8.45309254,  8.31097425,  7.68689544,  7.70492025,\n",
       "       13.4609834 ,  7.51083678, 16.0278229 ,  8.50955243,  9.55172326,\n",
       "       13.70055304, 14.41643005, 13.88305391,  0.0966816 ,  8.16306661,\n",
       "       14.60275863, 14.27654634,  8.97314746, 15.15921989,  6.59418106,\n",
       "        9.51881803,  7.99559518,  3.30230761,  9.74871866, 13.06436349,\n",
       "        8.17731473, 13.91621594, 16.65999271,  9.39605539,  7.98335307,\n",
       "       10.92070846, 11.83742512, 12.53915819, 11.6628728 ,  9.94047309,\n",
       "        6.3084929 ,  8.89690506,  7.9256516 , 12.56284379, 11.78793982,\n",
       "       10.26827407,  9.85398623, 13.9428132 ,  8.11716603, 11.22871238,\n",
       "       11.32429956,  7.03946096, 13.0279734 , 12.21231258,  9.82260693,\n",
       "       12.20876107,  8.68326751,  6.04506029,  5.02933226,  9.41755654,\n",
       "       11.27146188,  7.63667916,  5.60350753,  8.99587941, 15.12704843,\n",
       "       11.89126021, 10.7089945 , 12.8266032 , 13.5089504 ,  5.59104469,\n",
       "        9.16336539,  5.00119385,  9.40274852,  8.67927583, 12.59196364,\n",
       "       11.78696879,  8.22931877, 13.59260185, 10.52556965,  8.9897724 ,\n",
       "        4.67520966,  5.875054  ,  7.07630567,  8.8284501 , 11.04323906,\n",
       "        8.77668109,  7.22042282, 12.60874185, 11.03146961,  8.18784013,\n",
       "       15.12722425, 10.20752302,  4.28301801, 14.59560987,  7.07440284,\n",
       "       13.06227918, 11.24233729, 14.35039158,  9.12935173, 10.2311893 ,\n",
       "       10.13290673, 14.69566031,  9.4423991 , 10.72420186,  8.14890048,\n",
       "        9.21088509,  6.12837262, 18.45624534, 13.6900053 , 11.51230458,\n",
       "        8.77269985,  8.85023156,  7.48992766,  3.83808444,  7.1542263 ,\n",
       "        9.21625669, 11.5762047 , 11.41981616,  9.97426715, 14.279296  ,\n",
       "       15.10619721,  2.84984255,  7.68688364,  4.32723093,  8.61736749,\n",
       "        7.50700048,  5.34291782, 13.07915157,  9.88034977,  9.07495942,\n",
       "       10.92806226, 10.64438923,  6.08458391, 12.90263181, 12.21812534,\n",
       "       16.24241161,  5.42429495, 15.03964913, 14.7062385 ,  5.53605359,\n",
       "       10.66521003,  2.13279325, 14.49509296,  4.17328709,  7.69590154,\n",
       "        7.81186643, 11.14885484,  8.08736868, 14.26727029,  8.6170267 ,\n",
       "       10.26620932,  8.15637798,  7.2017854 , 13.42356731, 10.38815058,\n",
       "       11.77650225,  9.71481361, 13.58664679, 11.0450875 , 11.19241933,\n",
       "       13.3527463 ,  6.5198311 ,  9.20230951,  9.71157207, 13.19309621,\n",
       "        3.4207262 ,  7.56520429, 10.3167983 , 10.21798849, 10.4685908 ,\n",
       "       10.81717429, 11.552083  ,  9.82256142, 14.67629361,  8.07309791,\n",
       "       14.11972442, 10.13399168, 11.82318905,  9.14040808, 11.50293925,\n",
       "       10.02353574,  9.91652987, 10.41386031, 12.84520389,  8.75967827,\n",
       "       13.69299711, 16.83224119,  8.1105598 , 11.98448368, 10.09033849,\n",
       "       13.21403656,  8.46184014, 10.5754692 , 10.03668703, 12.81080038,\n",
       "        8.33433687, 12.58127412,  5.18504072, 14.81519141, 11.52958905,\n",
       "        7.00659878, 11.10516546,  9.37068311,  9.42627104, 12.0390588 ,\n",
       "        8.7303797 ,  7.82219966, 14.8000181 , 13.1060076 ,  7.70726257,\n",
       "       10.60007523,  9.85625651, 11.2950608 ,  9.87697731, 10.47744734,\n",
       "       10.06729351, 11.81915376, 10.95366656,  8.91561175, 11.29528015,\n",
       "        7.67692611, 10.29303808,  7.21234658,  5.83902092,  8.08445782,\n",
       "       11.48343207, 10.98912217,  9.84076527, 12.08363533,  9.47915864,\n",
       "        3.55687007,  5.03523124, 12.96390544,  6.27772345, 10.67616654,\n",
       "       12.18962266,  9.12562739, 12.52127478, 15.09972869, 11.82110898,\n",
       "        8.43544044, 12.75084274, 11.3368007 , 11.12538127,  6.33144017,\n",
       "        7.58491131,  9.48473602, 11.69260012, 11.79969309,  7.81264057,\n",
       "       13.34265897,  8.72873296, 13.70863409,  3.55371378, 11.5296263 ,\n",
       "       10.08719895, 12.53920741, 10.10903325, 11.23349913,  1.86259031,\n",
       "       13.96272118, 12.57833757, 11.55327687, 11.22642958, 12.88127977,\n",
       "        5.11639748, 10.8934048 , 10.07973   ,  8.7564925 ,  7.18259222,\n",
       "       12.43103977,  4.57307936, 10.32225226, 17.87412177, 12.13629434,\n",
       "        7.14994432, 12.34901884,  8.11842652,  7.22137056, 12.00909883,\n",
       "       12.02298582,  3.07916988, 13.59031016, 10.63213906, 16.18758101,\n",
       "        7.75592285,  3.99101331,  8.04439529,  8.86369355, 12.7071359 ,\n",
       "       12.45140603, 12.16244313, 11.48022964,  9.78264263, 11.08588586,\n",
       "       16.1405194 ,  5.34008081, 13.79475181, 14.51554349,  5.76110527,\n",
       "       11.55231417, 10.33050793,  4.63285853,  8.62894252, 11.6972225 ,\n",
       "       12.3826808 ,  7.74675044, 13.14071585, 11.01054419,  9.64842515,\n",
       "        9.4813053 , 11.14960334, 12.25569002,  9.71347839, 11.04088628,\n",
       "        7.78890411,  9.463185  ,  8.30446951,  9.6973797 ,  6.07607065,\n",
       "        9.21763541, 16.90771665,  5.72466578, 10.35078072, 15.22774744,\n",
       "        6.30153274, 10.68963777,  8.23523054, 14.12472558, 10.19355064,\n",
       "       12.43981839, 16.48510131,  7.31330151,  8.69204902, 10.00217719,\n",
       "       14.30693921,  8.65569617, 16.25484225, 12.69327224,  5.18345079,\n",
       "       14.78855323,  9.85645265,  9.89087899, 16.32131344,  7.73352912,\n",
       "        8.52119895,  9.83078539,  9.51448597,  8.61134068, 11.30281324,\n",
       "        4.76562419,  7.41352454, 12.49470075, 12.22759507,  9.04892844,\n",
       "        8.06428159, 10.54509701, 10.81522421, 12.35351028,  9.11249873,\n",
       "       12.38214885, 10.54791227, 10.84098055, 13.72842173,  8.78983522,\n",
       "       11.29349861, 10.34734207, 10.49243497, 14.48988675, 11.0267088 ,\n",
       "        9.52540165, 11.22165009, 10.10943347, 13.78599686,  9.96470854,\n",
       "       12.47259111,  6.21538874,  9.60596956, 15.5622315 , 10.82604614,\n",
       "       12.11503572,  9.94997718, 10.7250346 , 11.1023652 ,  6.79124926,\n",
       "        8.89240276,  4.88897661, 10.67262006,  9.99195774,  8.61747604,\n",
       "       13.3142792 , 15.68224989, 12.29519009, 14.81917593, 12.36511132,\n",
       "        9.93956469, 10.33673483,  7.64725898, 11.06850522,  7.22888105,\n",
       "        8.23243213,  8.13576178,  8.73425994, 16.91940473,  8.25399122,\n",
       "       12.30653066,  6.03945882,  5.02649134,  9.32474123, 11.39112359,\n",
       "        8.09977717,  5.50595621, 11.30485717,  5.81504235, 10.28418374,\n",
       "        7.5216257 , 11.10247599, 11.68952476, 12.75725016, 10.22003127,\n",
       "       10.69049249, 12.12366273, 11.52038999,  9.69951437, 10.43263744,\n",
       "       12.85248509,  9.63707695, 11.86398607,  6.86275091, 11.7116738 ,\n",
       "        5.8314219 ,  3.0897828 ,  2.89874151, 11.75342995, 14.28341016,\n",
       "       15.32188662, 12.27260236,  4.61166807, 13.55301606,  4.76742549,\n",
       "        9.76648357,  6.39735196, 11.33445706, 18.58544836, 11.81426789,\n",
       "        8.65843417,  9.28683981, 10.4754102 ,  8.5080166 ,  6.9212803 ,\n",
       "        9.97703134, 15.30089874, 10.0544223 ,  9.36854243,  9.55784879,\n",
       "       15.509231  , 13.37541419,  4.5903596 ,  7.90840732, 11.49710808,\n",
       "        6.52312882, 10.42950076, 12.56599978, 14.02149845,  6.21933964,\n",
       "       13.02506219,  2.52025844,  8.66540255,  7.226446  ,  8.37009686,\n",
       "        2.28535759, 14.13671621, 15.92323606,  6.93384923, 13.00451588,\n",
       "        9.53273633, 10.70616424,  9.65215709,  9.11232427, 10.70232891,\n",
       "        7.08661136,  5.25588263, 12.82170398, 10.66721057, 12.72126073,\n",
       "        6.89765345, 12.47460868,  8.25607675, 10.57309882,  4.89409303,\n",
       "        8.31314929, 10.89969648,  7.08480155,  8.18405987, 10.58989493,\n",
       "        8.88608144, 10.02964014,  8.19633135,  9.6375074 , 10.79499731,\n",
       "        8.54276347,  6.91541812, 15.34103708, 11.46367116,  8.20264458,\n",
       "       10.06707328,  8.76525336,  8.90409034,  7.56231319,  9.52741254,\n",
       "        5.44108678,  3.31386892,  7.67748472,  9.70738769, 16.57545987,\n",
       "       13.81717259,  8.26997105, 10.93959557,  9.356452  , 12.65658771,\n",
       "       12.9353432 , 11.6655335 , 10.20074601,  9.58319538, 10.14659318,\n",
       "       13.28960779, 11.00901948,  7.23997275,  8.47697312, 13.67217176,\n",
       "        8.76033492,  9.0436928 ,  7.77179987,  9.56324861,  9.71327516,\n",
       "       14.65464705,  3.03496386,  7.35745281,  7.83198145, 13.18848537,\n",
       "        7.2293276 ,  9.95136315, 12.77811531, 21.01749253, 14.63270968,\n",
       "       10.33706828, 11.70288   ,  8.03095341, 10.40526542,  5.12847537,\n",
       "       13.53328205,  9.98827022,  6.24932496, 10.84205879,  5.42202108,\n",
       "        7.29427486, 14.91002777,  8.94054802, 10.55430184,  5.02525666,\n",
       "        9.51172563, 14.18885972,  8.53947852,  6.04028279,  3.77436993,\n",
       "        8.46528042, 14.62967789,  9.54693184,  9.14831228, 11.2423883 ,\n",
       "       11.63815687, 12.28812869, 12.4417455 ,  6.79881585, 10.97354151,\n",
       "        4.49915789, 10.17819419,  7.04227611, 11.9438309 ,  7.98416354,\n",
       "        8.23416823, 10.0175104 , 13.30889931, 10.862482  , 11.81741383,\n",
       "        9.01908528,  7.10888011, 16.81215921,  6.59058152, 10.66634691,\n",
       "       12.9557047 , 14.62192109, 11.35921253, 10.77607438,  9.08145115,\n",
       "        8.69474634, 11.24280185,  8.61100981, 10.29631056, 10.93389076,\n",
       "        6.66234437,  6.88284459,  9.73556575,  6.76520399,  8.21758741,\n",
       "       13.53191465, 10.43756183,  5.19578317,  8.21570822, 11.14109333,\n",
       "       12.07701136,  9.86600704,  3.57422012, 12.96950368,  5.09035184,\n",
       "        7.82751755,  6.99384227,  6.31405727, 12.90182413, 14.04527504,\n",
       "       13.62092043,  7.82853563,  9.3710185 , 10.7048538 , 10.02275509,\n",
       "        5.62152179, 14.48691798,  2.96413037,  6.9837774 , 11.30831213,\n",
       "       11.1293351 , 14.47693062,  9.05583565, 11.18076012,  8.43322853,\n",
       "        7.78115663,  8.29113249,  5.36156692, 13.71273686,  9.99134391,\n",
       "        7.85935819, 18.07085806,  9.63253144, 11.82110033, 13.76094086,\n",
       "       11.55936698, 10.91596786, 12.59982291, 11.65105429, 13.15179369,\n",
       "        7.61937401, 13.47507169,  9.79730935,  8.71754084, 11.95943056,\n",
       "        8.29337613, 11.48081026,  7.93898683,  9.93782674, 10.93347498,\n",
       "       14.14656453,  5.78059276,  6.36940144, 10.68558294,  7.59737831,\n",
       "        8.98773347, 10.48405512,  4.96924172, 10.12650254, 15.89346272,\n",
       "        7.26522707, 11.34599231, 11.58355392,  8.72133082, 12.38237531])"
      ]
     },
     "execution_count": 151,
     "metadata": {},
     "output_type": "execute_result"
    }
   ],
   "source": [
    "# column #3\n",
    "data2d[:,3]"
   ]
  },
  {
   "cell_type": "code",
   "execution_count": 152,
   "id": "f62bce81-5fe6-4b6d-87a9-98aa8fc43036",
   "metadata": {
    "collapsed": true,
    "jupyter": {
     "outputs_hidden": true
    },
    "tags": []
   },
   "outputs": [
    {
     "data": {
      "text/plain": [
       "array([10.34751502, 12.59790077, 10.04297043, 12.15504753, 11.84682361,\n",
       "       11.30445768, 16.0644186 ,  8.53483531,  9.88911591, 15.37802983,\n",
       "       11.24439964, 14.86121807, 11.10906084, 11.02798683, 11.69849423,\n",
       "       15.11578734, 11.94296673,  6.03792492, 11.79351481, 10.17342702,\n",
       "       11.03662964,  9.15566445, 10.21323737, 11.50633583,  7.64461619,\n",
       "        6.88323562, 12.50213927,  9.48066394, 14.49495977, 12.50349876,\n",
       "        5.65356097, 10.85652755, 12.84365362, 13.26350059, 10.96628817,\n",
       "       11.10540228, 10.24099189,  5.82407385, 10.43719513,  6.07912904,\n",
       "       15.01594539, 10.07278538,  7.01897085, 12.14856137, 10.90026687,\n",
       "       15.81245147,  4.34839655, 15.92355086,  9.41354402, 10.13161525,\n",
       "       11.65102867,  9.25045794, 10.22715602,  9.00811809,  6.0817025 ,\n",
       "       10.70691855,  8.79484414, 12.58421633, 12.9042207 ,  6.27025579,\n",
       "        7.44390871,  9.90704656,  8.91858254, 12.41020228, 10.12168923,\n",
       "        7.56434838,  5.24103371,  4.21545853,  7.28452194, 12.17361735,\n",
       "        5.78721013, 13.4204785 , 11.61870222, 12.96381515, 11.84707268,\n",
       "        8.71406676,  6.03888953,  8.08413595,  5.0443102 , 11.19633449,\n",
       "       11.74211198, 12.97659067,  8.89460202, 13.09931906,  9.53194071,\n",
       "       13.11836646, 12.57164908,  6.86373967, 12.60261604, 14.86994389,\n",
       "        8.36066841, 15.71457087, 10.62339468,  9.14081035,  9.95023835,\n",
       "        2.261828  , 11.36421407, 10.86049975, 11.31465225, 13.17303905,\n",
       "        8.38403181,  6.93335003, 14.80817624,  7.34409078, 14.55527127,\n",
       "        5.93001965, 11.47289359,  9.75621617,  7.8489297 ,  8.53760727,\n",
       "        7.05374928, 11.28017813, 12.20053856,  6.20543863, 12.70372307,\n",
       "       11.88789403, 13.8071143 , 12.28935455,  4.70360495,  8.6527803 ,\n",
       "       10.21841383, 13.63340045, 13.17112921,  7.64547665,  9.50196809,\n",
       "       13.29394181,  9.66750611,  4.3909087 ,  9.96637466,  7.60929624,\n",
       "        5.986431  ,  9.76264336,  8.00585117,  4.87542521, 10.47054096,\n",
       "       14.13775668,  9.83844552, 11.31897417, 12.03924725, 10.29865314,\n",
       "       14.17635466, 10.50991626, 11.71560274, 14.17574431,  8.40964087,\n",
       "       13.23173747, 13.8951429 ,  8.19964543, 10.85195735, 11.27132689,\n",
       "       11.6670377 ,  8.45841534, 10.36934244,  6.0949267 , 10.29781409,\n",
       "       13.82818017, 10.8476074 , 14.2001533 ,  5.89976007, 13.04859568,\n",
       "       12.59260649,  7.04999264, 14.77666123,  6.25503173, 10.18772023,\n",
       "       10.05134022,  8.40988944,  4.46909536, 10.68157328,  9.65189357,\n",
       "        8.34561749, 12.52585863,  7.33143102,  8.55933935, 13.34938808,\n",
       "       12.58665067, 11.10645308,  8.6149226 , 10.30311173, 15.52343601,\n",
       "       12.7498999 ,  6.61439805, 12.0535961 ,  8.44580681,  7.14045614,\n",
       "       12.65345772, 10.22841944, 14.58969457, 14.45374294, 13.37630501,\n",
       "        9.74036305, 17.40087764, 15.22774991,  9.67022299,  2.34929169,\n",
       "       10.48004553,  8.61909512, 12.26482027, 16.15238588,  6.45288721,\n",
       "        8.85128236, 13.16181399,  8.22539616, 11.91187596,  3.87214294,\n",
       "        2.335287  ,  9.68831919,  5.04366695,  9.72806308, 13.05491745,\n",
       "       11.08464104,  6.98234568,  9.44050093,  9.88918465, 18.0533166 ,\n",
       "       10.14778227,  8.30482273, 15.33221725, 14.61381003,  7.75207413,\n",
       "        6.89505041, 11.57255125, 11.90788462, 11.0698741 , 11.9136371 ,\n",
       "        6.67910451, 13.1176081 , 10.67000121,  9.75587611, 12.34195775,\n",
       "       11.54627074,  8.99065072, 12.8250466 , 16.17852667, 13.17882413,\n",
       "        9.85758131,  8.3388716 ,  8.20422297,  7.8740376 ,  9.32449855,\n",
       "       14.149961  ,  9.6702497 ,  7.22059962,  9.12028163,  8.96668082,\n",
       "       11.41411636, 10.12105377, 17.92682232,  4.6921578 , 10.59099574,\n",
       "       12.29869778,  9.73767012,  7.68814705, 11.4309381 ,  6.94577359,\n",
       "       11.94866234,  2.04817183, 11.81655784,  9.53239487, 11.7262385 ,\n",
       "       11.65880768,  9.32299031, 12.50788112,  6.26950165,  7.39508922,\n",
       "       10.5703357 ,  8.53062799,  8.64366085,  7.54992113,  4.25941577,\n",
       "       11.8064567 ,  4.69839546, 13.86673592, 10.90117926,  6.10689862,\n",
       "        7.47981691,  8.43766004,  9.9152166 ,  6.29103933,  5.0698609 ,\n",
       "       12.35585151,  6.66405476,  6.50403801,  6.35329688,  9.34111441,\n",
       "       12.7938043 , 13.92242158, 15.71648517,  7.59269572,  8.93285532,\n",
       "       10.01903262,  5.08615785, 11.17180652, 12.16352249,  9.58119358,\n",
       "       14.4966003 ,  3.40923261,  8.94141224,  7.97468975, 14.59041505,\n",
       "        7.2709919 ,  7.76909757,  8.58764497, 12.93666323, 14.24149714,\n",
       "       12.18145541, 11.33928613, 16.24064568, 12.12147328, 10.42474986,\n",
       "        4.98350377,  4.24369318,  9.09685738,  8.19492088,  8.65321067,\n",
       "       11.2565134 , 12.90464088, 12.68749472,  6.96358668, 10.0377803 ,\n",
       "       11.44256513, 12.04722433, 12.41119855,  7.8826906 ,  7.67720536,\n",
       "       13.98622303, 11.89370133,  9.70965454, 13.65507318,  7.89983122,\n",
       "       10.77254115,  8.45309254,  8.31097425,  7.68689544,  7.70492025,\n",
       "       13.4609834 ,  7.51083678, 16.0278229 ,  8.50955243,  9.55172326,\n",
       "       13.70055304, 14.41643005, 13.88305391,  0.0966816 ,  8.16306661,\n",
       "       14.60275863, 14.27654634,  8.97314746, 15.15921989,  6.59418106,\n",
       "        9.51881803,  7.99559518,  3.30230761,  9.74871866, 13.06436349,\n",
       "        8.17731473, 13.91621594, 16.65999271,  9.39605539,  7.98335307,\n",
       "       10.92070846, 11.83742512, 12.53915819, 11.6628728 ,  9.94047309,\n",
       "        6.3084929 ,  8.89690506,  7.9256516 , 12.56284379, 11.78793982,\n",
       "       10.26827407,  9.85398623, 13.9428132 ,  8.11716603, 11.22871238,\n",
       "       11.32429956,  7.03946096, 13.0279734 , 12.21231258,  9.82260693,\n",
       "       12.20876107,  8.68326751,  6.04506029,  5.02933226,  9.41755654,\n",
       "       11.27146188,  7.63667916,  5.60350753,  8.99587941, 15.12704843,\n",
       "       11.89126021, 10.7089945 , 12.8266032 , 13.5089504 ,  5.59104469,\n",
       "        9.16336539,  5.00119385,  9.40274852,  8.67927583, 12.59196364,\n",
       "       11.78696879,  8.22931877, 13.59260185, 10.52556965,  8.9897724 ,\n",
       "        4.67520966,  5.875054  ,  7.07630567,  8.8284501 , 11.04323906,\n",
       "        8.77668109,  7.22042282, 12.60874185, 11.03146961,  8.18784013,\n",
       "       15.12722425, 10.20752302,  4.28301801, 14.59560987,  7.07440284,\n",
       "       13.06227918, 11.24233729, 14.35039158,  9.12935173, 10.2311893 ,\n",
       "       10.13290673, 14.69566031,  9.4423991 , 10.72420186,  8.14890048,\n",
       "        9.21088509,  6.12837262, 18.45624534, 13.6900053 , 11.51230458,\n",
       "        8.77269985,  8.85023156,  7.48992766,  3.83808444,  7.1542263 ,\n",
       "        9.21625669, 11.5762047 , 11.41981616,  9.97426715, 14.279296  ,\n",
       "       15.10619721,  2.84984255,  7.68688364,  4.32723093,  8.61736749,\n",
       "        7.50700048,  5.34291782, 13.07915157,  9.88034977,  9.07495942,\n",
       "       10.92806226, 10.64438923,  6.08458391, 12.90263181, 12.21812534,\n",
       "       16.24241161,  5.42429495, 15.03964913, 14.7062385 ,  5.53605359,\n",
       "       10.66521003,  2.13279325, 14.49509296,  4.17328709,  7.69590154,\n",
       "        7.81186643, 11.14885484,  8.08736868, 14.26727029,  8.6170267 ,\n",
       "       10.26620932,  8.15637798,  7.2017854 , 13.42356731, 10.38815058,\n",
       "       11.77650225,  9.71481361, 13.58664679, 11.0450875 , 11.19241933,\n",
       "       13.3527463 ,  6.5198311 ,  9.20230951,  9.71157207, 13.19309621,\n",
       "        3.4207262 ,  7.56520429, 10.3167983 , 10.21798849, 10.4685908 ,\n",
       "       10.81717429, 11.552083  ,  9.82256142, 14.67629361,  8.07309791,\n",
       "       14.11972442, 10.13399168, 11.82318905,  9.14040808, 11.50293925,\n",
       "       10.02353574,  9.91652987, 10.41386031, 12.84520389,  8.75967827,\n",
       "       13.69299711, 16.83224119,  8.1105598 , 11.98448368, 10.09033849,\n",
       "       13.21403656,  8.46184014, 10.5754692 , 10.03668703, 12.81080038,\n",
       "        8.33433687, 12.58127412,  5.18504072, 14.81519141, 11.52958905,\n",
       "        7.00659878, 11.10516546,  9.37068311,  9.42627104, 12.0390588 ,\n",
       "        8.7303797 ,  7.82219966, 14.8000181 , 13.1060076 ,  7.70726257,\n",
       "       10.60007523,  9.85625651, 11.2950608 ,  9.87697731, 10.47744734,\n",
       "       10.06729351, 11.81915376, 10.95366656,  8.91561175, 11.29528015,\n",
       "        7.67692611, 10.29303808,  7.21234658,  5.83902092,  8.08445782,\n",
       "       11.48343207, 10.98912217,  9.84076527, 12.08363533,  9.47915864,\n",
       "        3.55687007,  5.03523124, 12.96390544,  6.27772345, 10.67616654,\n",
       "       12.18962266,  9.12562739, 12.52127478, 15.09972869, 11.82110898,\n",
       "        8.43544044, 12.75084274, 11.3368007 , 11.12538127,  6.33144017,\n",
       "        7.58491131,  9.48473602, 11.69260012, 11.79969309,  7.81264057,\n",
       "       13.34265897,  8.72873296, 13.70863409,  3.55371378, 11.5296263 ,\n",
       "       10.08719895, 12.53920741, 10.10903325, 11.23349913,  1.86259031,\n",
       "       13.96272118, 12.57833757, 11.55327687, 11.22642958, 12.88127977,\n",
       "        5.11639748, 10.8934048 , 10.07973   ,  8.7564925 ,  7.18259222,\n",
       "       12.43103977,  4.57307936, 10.32225226, 17.87412177, 12.13629434,\n",
       "        7.14994432, 12.34901884,  8.11842652,  7.22137056, 12.00909883,\n",
       "       12.02298582,  3.07916988, 13.59031016, 10.63213906, 16.18758101,\n",
       "        7.75592285,  3.99101331,  8.04439529,  8.86369355, 12.7071359 ,\n",
       "       12.45140603, 12.16244313, 11.48022964,  9.78264263, 11.08588586,\n",
       "       16.1405194 ,  5.34008081, 13.79475181, 14.51554349,  5.76110527,\n",
       "       11.55231417, 10.33050793,  4.63285853,  8.62894252, 11.6972225 ,\n",
       "       12.3826808 ,  7.74675044, 13.14071585, 11.01054419,  9.64842515,\n",
       "        9.4813053 , 11.14960334, 12.25569002,  9.71347839, 11.04088628,\n",
       "        7.78890411,  9.463185  ,  8.30446951,  9.6973797 ,  6.07607065,\n",
       "        9.21763541, 16.90771665,  5.72466578, 10.35078072, 15.22774744,\n",
       "        6.30153274, 10.68963777,  8.23523054, 14.12472558, 10.19355064,\n",
       "       12.43981839, 16.48510131,  7.31330151,  8.69204902, 10.00217719,\n",
       "       14.30693921,  8.65569617, 16.25484225, 12.69327224,  5.18345079,\n",
       "       14.78855323,  9.85645265,  9.89087899, 16.32131344,  7.73352912,\n",
       "        8.52119895,  9.83078539,  9.51448597,  8.61134068, 11.30281324,\n",
       "        4.76562419,  7.41352454, 12.49470075, 12.22759507,  9.04892844,\n",
       "        8.06428159, 10.54509701, 10.81522421, 12.35351028,  9.11249873,\n",
       "       12.38214885, 10.54791227, 10.84098055, 13.72842173,  8.78983522,\n",
       "       11.29349861, 10.34734207, 10.49243497, 14.48988675, 11.0267088 ,\n",
       "        9.52540165, 11.22165009, 10.10943347, 13.78599686,  9.96470854,\n",
       "       12.47259111,  6.21538874,  9.60596956, 15.5622315 , 10.82604614,\n",
       "       12.11503572,  9.94997718, 10.7250346 , 11.1023652 ,  6.79124926,\n",
       "        8.89240276,  4.88897661, 10.67262006,  9.99195774,  8.61747604,\n",
       "       13.3142792 , 15.68224989, 12.29519009, 14.81917593, 12.36511132,\n",
       "        9.93956469, 10.33673483,  7.64725898, 11.06850522,  7.22888105,\n",
       "        8.23243213,  8.13576178,  8.73425994, 16.91940473,  8.25399122,\n",
       "       12.30653066,  6.03945882,  5.02649134,  9.32474123, 11.39112359,\n",
       "        8.09977717,  5.50595621, 11.30485717,  5.81504235, 10.28418374,\n",
       "        7.5216257 , 11.10247599, 11.68952476, 12.75725016, 10.22003127,\n",
       "       10.69049249, 12.12366273, 11.52038999,  9.69951437, 10.43263744,\n",
       "       12.85248509,  9.63707695, 11.86398607,  6.86275091, 11.7116738 ,\n",
       "        5.8314219 ,  3.0897828 ,  2.89874151, 11.75342995, 14.28341016,\n",
       "       15.32188662, 12.27260236,  4.61166807, 13.55301606,  4.76742549,\n",
       "        9.76648357,  6.39735196, 11.33445706, 18.58544836, 11.81426789,\n",
       "        8.65843417,  9.28683981, 10.4754102 ,  8.5080166 ,  6.9212803 ,\n",
       "        9.97703134, 15.30089874, 10.0544223 ,  9.36854243,  9.55784879,\n",
       "       15.509231  , 13.37541419,  4.5903596 ,  7.90840732, 11.49710808,\n",
       "        6.52312882, 10.42950076, 12.56599978, 14.02149845,  6.21933964,\n",
       "       13.02506219,  2.52025844,  8.66540255,  7.226446  ,  8.37009686,\n",
       "        2.28535759, 14.13671621, 15.92323606,  6.93384923, 13.00451588,\n",
       "        9.53273633, 10.70616424,  9.65215709,  9.11232427, 10.70232891,\n",
       "        7.08661136,  5.25588263, 12.82170398, 10.66721057, 12.72126073,\n",
       "        6.89765345, 12.47460868,  8.25607675, 10.57309882,  4.89409303,\n",
       "        8.31314929, 10.89969648,  7.08480155,  8.18405987, 10.58989493,\n",
       "        8.88608144, 10.02964014,  8.19633135,  9.6375074 , 10.79499731,\n",
       "        8.54276347,  6.91541812, 15.34103708, 11.46367116,  8.20264458,\n",
       "       10.06707328,  8.76525336,  8.90409034,  7.56231319,  9.52741254,\n",
       "        5.44108678,  3.31386892,  7.67748472,  9.70738769, 16.57545987,\n",
       "       13.81717259,  8.26997105, 10.93959557,  9.356452  , 12.65658771,\n",
       "       12.9353432 , 11.6655335 , 10.20074601,  9.58319538, 10.14659318,\n",
       "       13.28960779, 11.00901948,  7.23997275,  8.47697312, 13.67217176,\n",
       "        8.76033492,  9.0436928 ,  7.77179987,  9.56324861,  9.71327516,\n",
       "       14.65464705,  3.03496386,  7.35745281,  7.83198145, 13.18848537,\n",
       "        7.2293276 ,  9.95136315, 12.77811531, 21.01749253, 14.63270968,\n",
       "       10.33706828, 11.70288   ,  8.03095341, 10.40526542,  5.12847537,\n",
       "       13.53328205,  9.98827022,  6.24932496, 10.84205879,  5.42202108,\n",
       "        7.29427486, 14.91002777,  8.94054802, 10.55430184,  5.02525666,\n",
       "        9.51172563, 14.18885972,  8.53947852,  6.04028279,  3.77436993,\n",
       "        8.46528042, 14.62967789,  9.54693184,  9.14831228, 11.2423883 ,\n",
       "       11.63815687, 12.28812869, 12.4417455 ,  6.79881585, 10.97354151,\n",
       "        4.49915789, 10.17819419,  7.04227611, 11.9438309 ,  7.98416354,\n",
       "        8.23416823, 10.0175104 , 13.30889931, 10.862482  , 11.81741383,\n",
       "        9.01908528,  7.10888011, 16.81215921,  6.59058152, 10.66634691,\n",
       "       12.9557047 , 14.62192109, 11.35921253, 10.77607438,  9.08145115,\n",
       "        8.69474634, 11.24280185,  8.61100981, 10.29631056, 10.93389076,\n",
       "        6.66234437,  6.88284459,  9.73556575,  6.76520399,  8.21758741,\n",
       "       13.53191465, 10.43756183,  5.19578317,  8.21570822, 11.14109333,\n",
       "       12.07701136,  9.86600704,  3.57422012, 12.96950368,  5.09035184,\n",
       "        7.82751755,  6.99384227,  6.31405727, 12.90182413, 14.04527504,\n",
       "       13.62092043,  7.82853563,  9.3710185 , 10.7048538 , 10.02275509,\n",
       "        5.62152179, 14.48691798,  2.96413037,  6.9837774 , 11.30831213,\n",
       "       11.1293351 , 14.47693062,  9.05583565, 11.18076012,  8.43322853,\n",
       "        7.78115663,  8.29113249,  5.36156692, 13.71273686,  9.99134391,\n",
       "        7.85935819, 18.07085806,  9.63253144, 11.82110033, 13.76094086,\n",
       "       11.55936698, 10.91596786, 12.59982291, 11.65105429, 13.15179369,\n",
       "        7.61937401, 13.47507169,  9.79730935,  8.71754084, 11.95943056,\n",
       "        8.29337613, 11.48081026,  7.93898683,  9.93782674, 10.93347498,\n",
       "       14.14656453,  5.78059276,  6.36940144, 10.68558294,  7.59737831,\n",
       "        8.98773347, 10.48405512,  4.96924172, 10.12650254, 15.89346272,\n",
       "        7.26522707, 11.34599231, 11.58355392,  8.72133082, 12.38237531])"
      ]
     },
     "execution_count": 152,
     "metadata": {},
     "output_type": "execute_result"
    }
   ],
   "source": [
    "# row #3 of transposed matrix == column #3\n",
    "data2d.T[3]"
   ]
  },
  {
   "cell_type": "code",
   "execution_count": 155,
   "id": "a7716e9f-ee1c-4a02-80db-94eb1f9e9160",
   "metadata": {},
   "outputs": [
    {
     "name": "stdout",
     "output_type": "stream",
     "text": [
      "[[ 7.59000516  8.65398846  5.88961687 10.34751502  8.23757392  8.12797394\n",
      "   9.6508103  11.38337211  8.11377451  5.38620603]\n",
      " [ 6.20666729  8.77736879  6.91333867 12.59790077  9.6500635   6.31050168\n",
      "   8.97620798  9.88810113 10.92406112 13.40124011]\n",
      " [ 8.75493948 14.60688404  8.66982432 10.04297043 10.3085897   7.91065053\n",
      "   7.20386543 13.40701924 14.57950755 11.83518854]\n",
      " [ 7.64526407  8.71269688  6.78012881 12.15504753  4.09820834 12.25699597\n",
      "  10.73416028 11.50068381  8.10874651  7.55482324]\n",
      " [ 8.5300757   8.60202248 12.07530477 11.84682361  6.70987041 13.91959746\n",
      "   4.53791983  8.71721165 11.01246782 14.50782139]\n",
      " [11.15424133  8.22655891 12.42647002 11.30445768  2.41681057 12.14966413\n",
      "  11.08205442  7.78726904 14.1099536  12.48064737]\n",
      " [11.9420828   8.15693583 11.74798719 16.0644186   6.20060809 13.0122616\n",
      "  10.38315884 10.87925985  7.53751656  9.74328563]\n",
      " [ 9.95974895  9.68499213 12.51148641  8.53483531 11.77151626 12.00908689\n",
      "   7.59795455  3.60947563 11.7517466  15.56885464]\n",
      " [ 7.99188049 14.21450908  6.07642554  9.88911591  7.34536473 11.49291223\n",
      "   9.32497098 13.87640424  9.67200208  9.25451175]\n",
      " [10.92760915  7.89082126  5.0421728  15.37802983 11.746428    9.92588011\n",
      "  11.77103709  7.93431521  9.74771524 14.85383285]]\n"
     ]
    }
   ],
   "source": [
    "# echantillon: n=10, n 1ères lignes et colonnes\n",
    "n=10\n",
    "echantillon2d = data2d[:n,:n]\n",
    "print(echantillon2d)"
   ]
  },
  {
   "cell_type": "code",
   "execution_count": 156,
   "id": "d32d03b6-5954-473e-82f7-9e0c6050f5da",
   "metadata": {},
   "outputs": [
    {
     "data": {
      "text/plain": [
       "array([[10.92760915,  7.89082126,  5.0421728 , 15.37802983, 11.746428  ,\n",
       "         9.92588011, 11.77103709,  7.93431521,  9.74771524, 14.85383285],\n",
       "       [ 7.99188049, 14.21450908,  6.07642554,  9.88911591,  7.34536473,\n",
       "        11.49291223,  9.32497098, 13.87640424,  9.67200208,  9.25451175],\n",
       "       [ 9.95974895,  9.68499213, 12.51148641,  8.53483531, 11.77151626,\n",
       "        12.00908689,  7.59795455,  3.60947563, 11.7517466 , 15.56885464],\n",
       "       [11.9420828 ,  8.15693583, 11.74798719, 16.0644186 ,  6.20060809,\n",
       "        13.0122616 , 10.38315884, 10.87925985,  7.53751656,  9.74328563],\n",
       "       [11.15424133,  8.22655891, 12.42647002, 11.30445768,  2.41681057,\n",
       "        12.14966413, 11.08205442,  7.78726904, 14.1099536 , 12.48064737],\n",
       "       [ 8.5300757 ,  8.60202248, 12.07530477, 11.84682361,  6.70987041,\n",
       "        13.91959746,  4.53791983,  8.71721165, 11.01246782, 14.50782139],\n",
       "       [ 7.64526407,  8.71269688,  6.78012881, 12.15504753,  4.09820834,\n",
       "        12.25699597, 10.73416028, 11.50068381,  8.10874651,  7.55482324],\n",
       "       [ 8.75493948, 14.60688404,  8.66982432, 10.04297043, 10.3085897 ,\n",
       "         7.91065053,  7.20386543, 13.40701924, 14.57950755, 11.83518854],\n",
       "       [ 6.20666729,  8.77736879,  6.91333867, 12.59790077,  9.6500635 ,\n",
       "         6.31050168,  8.97620798,  9.88810113, 10.92406112, 13.40124011],\n",
       "       [ 7.59000516,  8.65398846,  5.88961687, 10.34751502,  8.23757392,\n",
       "         8.12797394,  9.6508103 , 11.38337211,  8.11377451,  5.38620603]])"
      ]
     },
     "execution_count": 156,
     "metadata": {},
     "output_type": "execute_result"
    }
   ],
   "source": [
    "# symétrique horizontale\n",
    "echantillon2d[::-1]"
   ]
  },
  {
   "cell_type": "code",
   "execution_count": 158,
   "id": "4610aacf-b303-41c2-99fb-a0514d43de23",
   "metadata": {},
   "outputs": [
    {
     "data": {
      "text/plain": [
       "array([[ 5.38620603,  8.11377451, 11.38337211,  9.6508103 ,  8.12797394,\n",
       "         8.23757392, 10.34751502,  5.88961687,  8.65398846,  7.59000516],\n",
       "       [13.40124011, 10.92406112,  9.88810113,  8.97620798,  6.31050168,\n",
       "         9.6500635 , 12.59790077,  6.91333867,  8.77736879,  6.20666729],\n",
       "       [11.83518854, 14.57950755, 13.40701924,  7.20386543,  7.91065053,\n",
       "        10.3085897 , 10.04297043,  8.66982432, 14.60688404,  8.75493948],\n",
       "       [ 7.55482324,  8.10874651, 11.50068381, 10.73416028, 12.25699597,\n",
       "         4.09820834, 12.15504753,  6.78012881,  8.71269688,  7.64526407],\n",
       "       [14.50782139, 11.01246782,  8.71721165,  4.53791983, 13.91959746,\n",
       "         6.70987041, 11.84682361, 12.07530477,  8.60202248,  8.5300757 ],\n",
       "       [12.48064737, 14.1099536 ,  7.78726904, 11.08205442, 12.14966413,\n",
       "         2.41681057, 11.30445768, 12.42647002,  8.22655891, 11.15424133],\n",
       "       [ 9.74328563,  7.53751656, 10.87925985, 10.38315884, 13.0122616 ,\n",
       "         6.20060809, 16.0644186 , 11.74798719,  8.15693583, 11.9420828 ],\n",
       "       [15.56885464, 11.7517466 ,  3.60947563,  7.59795455, 12.00908689,\n",
       "        11.77151626,  8.53483531, 12.51148641,  9.68499213,  9.95974895],\n",
       "       [ 9.25451175,  9.67200208, 13.87640424,  9.32497098, 11.49291223,\n",
       "         7.34536473,  9.88911591,  6.07642554, 14.21450908,  7.99188049],\n",
       "       [14.85383285,  9.74771524,  7.93431521, 11.77103709,  9.92588011,\n",
       "        11.746428  , 15.37802983,  5.0421728 ,  7.89082126, 10.92760915]])"
      ]
     },
     "execution_count": 158,
     "metadata": {},
     "output_type": "execute_result"
    }
   ],
   "source": [
    "# symétrique verticale\n",
    "echantillon2d[:,::-1]"
   ]
  },
  {
   "cell_type": "markdown",
   "id": "50fe6b91-f48c-4d60-a9c7-28ce26364a02",
   "metadata": {},
   "source": [
    "### Atelier carré magique"
   ]
  }
 ],
 "metadata": {
  "kernelspec": {
   "display_name": "k312",
   "language": "python",
   "name": "k312"
  },
  "language_info": {
   "codemirror_mode": {
    "name": "ipython",
    "version": 3
   },
   "file_extension": ".py",
   "mimetype": "text/x-python",
   "name": "python",
   "nbconvert_exporter": "python",
   "pygments_lexer": "ipython3",
   "version": "3.12.0"
  }
 },
 "nbformat": 4,
 "nbformat_minor": 5
}
