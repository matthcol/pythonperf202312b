{
 "cells": [
  {
   "cell_type": "markdown",
   "id": "5b659662-4ada-43a5-8a0d-b53bc3b13a47",
   "metadata": {},
   "source": [
    "# Magic Square\n",
    "https://fr.wikipedia.org/wiki/Carr%C3%A9_magique_(math%C3%A9matiques)"
   ]
  },
  {
   "cell_type": "code",
   "execution_count": 4,
   "id": "629b4f94-1afc-4e10-848b-9275a21017d5",
   "metadata": {},
   "outputs": [],
   "source": [
    "from squaredata import *\n",
    "import numpy as np"
   ]
  },
  {
   "cell_type": "code",
   "execution_count": 3,
   "id": "a185dbb0-408d-42dc-b028-1d8e0edb71b4",
   "metadata": {},
   "outputs": [
    {
     "data": {
      "text/plain": [
       "[[138, 8, 17, 127, 114, 32, 41, 103, 90, 56, 65, 79],\n",
       " [19, 125, 140, 6, 43, 101, 116, 30, 67, 77, 92, 54],\n",
       " [128, 18, 7, 137, 104, 42, 31, 113, 80, 66, 55, 89],\n",
       " [5, 139, 126, 20, 29, 115, 102, 44, 53, 91, 78, 68],\n",
       " [136, 10, 15, 129, 112, 34, 39, 105, 88, 58, 63, 81],\n",
       " [21, 123, 142, 4, 45, 99, 118, 28, 69, 75, 94, 52],\n",
       " [130, 16, 9, 135, 106, 40, 33, 111, 82, 64, 57, 87],\n",
       " [3, 141, 124, 22, 27, 117, 100, 46, 51, 93, 76, 70],\n",
       " [134, 12, 13, 131, 110, 36, 37, 107, 86, 60, 61, 83],\n",
       " [23, 121, 144, 2, 47, 97, 120, 26, 71, 73, 96, 50],\n",
       " [132, 14, 11, 133, 108, 38, 35, 109, 84, 62, 59, 85],\n",
       " [1, 143, 122, 24, 25, 119, 98, 48, 49, 95, 74, 72]]"
      ]
     },
     "execution_count": 3,
     "metadata": {},
     "output_type": "execute_result"
    }
   ],
   "source": [
    "square_ok_12"
   ]
  },
  {
   "cell_type": "code",
   "execution_count": 5,
   "id": "b2755c26-3685-437e-8e34-6c08137cab9d",
   "metadata": {},
   "outputs": [
    {
     "data": {
      "text/plain": [
       "array([[8, 1, 6],\n",
       "       [3, 5, 7],\n",
       "       [4, 9, 2]])"
      ]
     },
     "execution_count": 5,
     "metadata": {},
     "output_type": "execute_result"
    }
   ],
   "source": [
    "np_square_ok_3 = np.array(square_ok_3)\n",
    "np_square_ok_3"
   ]
  },
  {
   "cell_type": "code",
   "execution_count": 6,
   "id": "d890478d-6e60-491e-b1da-a52d38f0228b",
   "metadata": {},
   "outputs": [
    {
     "name": "stdout",
     "output_type": "stream",
     "text": [
      "(3, 3)\n",
      "  C_CONTIGUOUS : True\n",
      "  F_CONTIGUOUS : False\n",
      "  OWNDATA : True\n",
      "  WRITEABLE : True\n",
      "  ALIGNED : True\n",
      "  WRITEBACKIFCOPY : False\n",
      "\n",
      "int32\n"
     ]
    }
   ],
   "source": [
    "print(np_square_ok_3.shape)\n",
    "print(np_square_ok_3.flags)\n",
    "print(np_square_ok_3.dtype)"
   ]
  },
  {
   "cell_type": "code",
   "execution_count": 7,
   "id": "70438faf-499e-41ff-84e2-474163714606",
   "metadata": {},
   "outputs": [
    {
     "data": {
      "text/plain": [
       "144"
      ]
     },
     "execution_count": 7,
     "metadata": {},
     "output_type": "execute_result"
    }
   ],
   "source": [
    "12**2"
   ]
  },
  {
   "cell_type": "markdown",
   "id": "cb604053-af6e-4a94-ad78-18cd502c755b",
   "metadata": {},
   "source": [
    "## Vérifier que le carré np_square_ok_3 est magique:\n",
    "- somme des lignes\n",
    "- somme des colonnes\n",
    "- somme des \"diagonales\"\n",
    "- bonus: en utilisant les nombres (1 seule fois) entre 1 et n**2"
   ]
  },
  {
   "cell_type": "code",
   "execution_count": 16,
   "id": "3b05e7a1-8956-499a-a02e-138aa277cdbe",
   "metadata": {},
   "outputs": [
    {
     "data": {
      "text/plain": [
       "array([[8, 1, 6],\n",
       "       [3, 5, 7],\n",
       "       [4, 9, 2]])"
      ]
     },
     "execution_count": 16,
     "metadata": {},
     "output_type": "execute_result"
    }
   ],
   "source": [
    "square = np_square_ok_3\n",
    "square"
   ]
  },
  {
   "cell_type": "code",
   "execution_count": 13,
   "id": "44dd397d-6074-4434-b91f-c33678cc8f13",
   "metadata": {},
   "outputs": [
    {
     "data": {
      "text/plain": [
       "3"
      ]
     },
     "execution_count": 13,
     "metadata": {},
     "output_type": "execute_result"
    }
   ],
   "source": [
    "n = len(square)\n",
    "n"
   ]
  },
  {
   "cell_type": "code",
   "execution_count": 14,
   "id": "d612f90c-9be7-4e08-a5ac-9c85a1c4821c",
   "metadata": {},
   "outputs": [
    {
     "data": {
      "text/plain": [
       "3"
      ]
     },
     "execution_count": 14,
     "metadata": {},
     "output_type": "execute_result"
    }
   ],
   "source": [
    "n, m = square.shape\n",
    "assert n == m\n",
    "n"
   ]
  },
  {
   "cell_type": "code",
   "execution_count": 17,
   "id": "b4d257d8-f423-4b07-9949-357d407190eb",
   "metadata": {},
   "outputs": [
    {
     "data": {
      "text/plain": [
       "15"
      ]
     },
     "execution_count": 17,
     "metadata": {},
     "output_type": "execute_result"
    }
   ],
   "source": [
    "# magic sum\n",
    "ms = n*(n**2+1)//2\n",
    "ms"
   ]
  },
  {
   "cell_type": "code",
   "execution_count": 23,
   "id": "47afad8e-1522-41c9-b78e-29a5be5c1e1d",
   "metadata": {},
   "outputs": [
    {
     "data": {
      "text/plain": [
       "<function numpy.sum(a, axis=None, dtype=None, out=None, keepdims=<no value>, initial=<no value>, where=<no value>)>"
      ]
     },
     "execution_count": 23,
     "metadata": {},
     "output_type": "execute_result"
    }
   ],
   "source": [
    "np.sum"
   ]
  },
  {
   "cell_type": "code",
   "execution_count": 24,
   "id": "995b33f0-b9d6-4d1b-96fb-a48886573b63",
   "metadata": {},
   "outputs": [
    {
     "data": {
      "text/plain": [
       "<function ndarray.sum>"
      ]
     },
     "execution_count": 24,
     "metadata": {},
     "output_type": "execute_result"
    }
   ],
   "source": [
    "square.sum"
   ]
  },
  {
   "cell_type": "code",
   "execution_count": 25,
   "id": "20a95bc5-9513-4aac-867d-677dbc8d7d34",
   "metadata": {},
   "outputs": [
    {
     "data": {
      "text/plain": [
       "array([15, 15, 15])"
      ]
     },
     "execution_count": 25,
     "metadata": {},
     "output_type": "execute_result"
    }
   ],
   "source": [
    "square.sum(axis=1)"
   ]
  },
  {
   "cell_type": "code",
   "execution_count": 26,
   "id": "551bce7a-9812-4b5c-a413-22580c87507b",
   "metadata": {},
   "outputs": [
    {
     "data": {
      "text/plain": [
       "array([ True,  True,  True])"
      ]
     },
     "execution_count": 26,
     "metadata": {},
     "output_type": "execute_result"
    }
   ],
   "source": [
    "square.sum(axis=1) == ms"
   ]
  },
  {
   "cell_type": "code",
   "execution_count": 27,
   "id": "d2fd148d-5b32-40b1-ba78-5e1f41fef621",
   "metadata": {},
   "outputs": [
    {
     "data": {
      "text/plain": [
       "True"
      ]
     },
     "execution_count": 27,
     "metadata": {},
     "output_type": "execute_result"
    }
   ],
   "source": [
    "# NB: all (equivalent and for n elements)\n",
    "# NB: any (equivalent or for n elements)\n",
    "np.all(square.sum(axis=1) == ms)"
   ]
  }
 ],
 "metadata": {
  "kernelspec": {
   "display_name": "k311",
   "language": "python",
   "name": "k311"
  },
  "language_info": {
   "codemirror_mode": {
    "name": "ipython",
    "version": 3
   },
   "file_extension": ".py",
   "mimetype": "text/x-python",
   "name": "python",
   "nbconvert_exporter": "python",
   "pygments_lexer": "ipython3",
   "version": "3.11.0"
  }
 },
 "nbformat": 4,
 "nbformat_minor": 5
}
